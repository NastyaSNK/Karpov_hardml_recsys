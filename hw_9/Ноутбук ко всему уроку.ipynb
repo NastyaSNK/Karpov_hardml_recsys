{
 "cells": [
  {
   "cell_type": "code",
   "execution_count": null,
   "id": "fb5170bd-2721-4191-ba90-9c1e9511847c",
   "metadata": {
    "tags": []
   },
   "outputs": [],
   "source": [
    "pip install optuna"
   ]
  },
  {
   "cell_type": "code",
   "execution_count": null,
   "id": "a99e2674-758a-40ce-9524-8d375cecb75a",
   "metadata": {
    "tags": []
   },
   "outputs": [],
   "source": [
    "pip install implicit"
   ]
  },
  {
   "cell_type": "code",
   "execution_count": null,
   "id": "4d7f7762-b7d1-4ff0-9efb-96364635859f",
   "metadata": {
    "tags": []
   },
   "outputs": [],
   "source": [
    "pip install gensim"
   ]
  },
  {
   "cell_type": "code",
   "execution_count": null,
   "id": "e37be8d3-8c1f-4543-bf56-72ba5bfc9660",
   "metadata": {
    "tags": []
   },
   "outputs": [],
   "source": [
    "pip install catboost"
   ]
  },
  {
   "cell_type": "code",
   "execution_count": null,
   "id": "c8255e3e-ddcc-408a-93f3-640255662d11",
   "metadata": {
    "tags": []
   },
   "outputs": [],
   "source": [
    "pip install faiss"
   ]
  },
  {
   "cell_type": "code",
   "execution_count": 17,
   "id": "56a6c7c7-8f6b-4b17-9ba8-20f9a86582eb",
   "metadata": {
    "execution": {
     "iopub.execute_input": "2024-09-01T19:35:50.092646Z",
     "iopub.status.busy": "2024-09-01T19:35:50.091477Z",
     "iopub.status.idle": "2024-09-01T19:40:42.350617Z",
     "shell.execute_reply": "2024-09-01T19:40:42.348601Z",
     "shell.execute_reply.started": "2024-09-01T19:35:50.092604Z"
    },
    "tags": []
   },
   "outputs": [],
   "source": [
    "# раскоментируйте код ниже, чтобы скачать данные\n",
    "!wget -q https://files.grouplens.org/datasets/movielens/ml-1m.zip\n",
    "!unzip -q ml-1m.zip"
   ]
  },
  {
   "cell_type": "code",
   "execution_count": 18,
   "id": "9a69451c",
   "metadata": {
    "execution": {
     "iopub.execute_input": "2024-09-01T19:40:59.094516Z",
     "iopub.status.busy": "2024-09-01T19:40:59.093499Z",
     "iopub.status.idle": "2024-09-01T19:40:59.100382Z",
     "shell.execute_reply": "2024-09-01T19:40:59.099683Z",
     "shell.execute_reply.started": "2024-09-01T19:40:59.094478Z"
    },
    "tags": []
   },
   "outputs": [],
   "source": [
    "import optuna\n",
    "import random\n",
    "\n",
    "import polars as pl\n",
    "import pandas as pd\n",
    "import numpy as np\n",
    "\n",
    "from typing import List, Any\n",
    "import scipy.sparse as sp\n",
    "from tqdm import tqdm\n",
    "\n",
    "import implicit\n",
    "import faiss\n",
    "from gensim.models import Word2Vec\n",
    "\n",
    "from catboost import Pool, CatBoost, CatBoostClassifier, CatBoostRanker\n",
    "from sklearn.model_selection import train_test_split"
   ]
  },
  {
   "cell_type": "code",
   "execution_count": 19,
   "id": "4356d062",
   "metadata": {
    "execution": {
     "iopub.execute_input": "2024-09-01T19:41:00.824892Z",
     "iopub.status.busy": "2024-09-01T19:41:00.823970Z",
     "iopub.status.idle": "2024-09-01T19:41:06.647764Z",
     "shell.execute_reply": "2024-09-01T19:41:06.646607Z",
     "shell.execute_reply.started": "2024-09-01T19:41:00.824854Z"
    },
    "scrolled": true,
    "tags": []
   },
   "outputs": [
    {
     "data": {
      "text/html": [
       "<div><style>\n",
       ".dataframe > thead > tr,\n",
       ".dataframe > tbody > tr {\n",
       "  text-align: right;\n",
       "  white-space: pre-wrap;\n",
       "}\n",
       "</style>\n",
       "<small>shape: (575_281, 4)</small><table border=\"1\" class=\"dataframe\"><thead><tr><th>user_id</th><th>item_id</th><th>rating</th><th>timestamp</th></tr><tr><td>i64</td><td>i64</td><td>i64</td><td>i64</td></tr></thead><tbody><tr><td>1</td><td>1193</td><td>5</td><td>978300760</td></tr><tr><td>1</td><td>3408</td><td>4</td><td>978300275</td></tr><tr><td>1</td><td>2355</td><td>5</td><td>978824291</td></tr><tr><td>1</td><td>1287</td><td>5</td><td>978302039</td></tr><tr><td>1</td><td>2804</td><td>5</td><td>978300719</td></tr><tr><td>&hellip;</td><td>&hellip;</td><td>&hellip;</td><td>&hellip;</td></tr><tr><td>6040</td><td>1089</td><td>4</td><td>956704996</td></tr><tr><td>6040</td><td>1094</td><td>5</td><td>956704887</td></tr><tr><td>6040</td><td>562</td><td>5</td><td>956704746</td></tr><tr><td>6040</td><td>1096</td><td>4</td><td>956715648</td></tr><tr><td>6040</td><td>1097</td><td>4</td><td>956715569</td></tr></tbody></table></div>"
      ],
      "text/plain": [
       "shape: (575_281, 4)\n",
       "┌─────────┬─────────┬────────┬───────────┐\n",
       "│ user_id ┆ item_id ┆ rating ┆ timestamp │\n",
       "│ ---     ┆ ---     ┆ ---    ┆ ---       │\n",
       "│ i64     ┆ i64     ┆ i64    ┆ i64       │\n",
       "╞═════════╪═════════╪════════╪═══════════╡\n",
       "│ 1       ┆ 1193    ┆ 5      ┆ 978300760 │\n",
       "│ 1       ┆ 3408    ┆ 4      ┆ 978300275 │\n",
       "│ 1       ┆ 2355    ┆ 5      ┆ 978824291 │\n",
       "│ 1       ┆ 1287    ┆ 5      ┆ 978302039 │\n",
       "│ 1       ┆ 2804    ┆ 5      ┆ 978300719 │\n",
       "│ …       ┆ …       ┆ …      ┆ …         │\n",
       "│ 6040    ┆ 1089    ┆ 4      ┆ 956704996 │\n",
       "│ 6040    ┆ 1094    ┆ 5      ┆ 956704887 │\n",
       "│ 6040    ┆ 562     ┆ 5      ┆ 956704746 │\n",
       "│ 6040    ┆ 1096    ┆ 4      ┆ 956715648 │\n",
       "│ 6040    ┆ 1097    ┆ 4      ┆ 956715569 │\n",
       "└─────────┴─────────┴────────┴───────────┘"
      ]
     },
     "execution_count": 19,
     "metadata": {},
     "output_type": "execute_result"
    }
   ],
   "source": [
    "ratings = pd.read_csv(\n",
    "    'ml-1m/ratings.dat', delimiter='::', header=None, \n",
    "    names=['user_id', 'item_id', 'rating', 'timestamp'], \n",
    "    engine='python'\n",
    ")\n",
    "ratings = pl.from_pandas(ratings).filter(pl.col('rating') >= 4)\n",
    "ratings"
   ]
  },
  {
   "cell_type": "code",
   "execution_count": 22,
   "id": "dc78e603",
   "metadata": {
    "execution": {
     "iopub.execute_input": "2024-09-01T19:41:55.708742Z",
     "iopub.status.busy": "2024-09-01T19:41:55.707756Z",
     "iopub.status.idle": "2024-09-01T19:41:55.896434Z",
     "shell.execute_reply": "2024-09-01T19:41:55.895495Z",
     "shell.execute_reply.started": "2024-09-01T19:41:55.708702Z"
    },
    "scrolled": true,
    "tags": []
   },
   "outputs": [
    {
     "name": "stderr",
     "output_type": "stream",
     "text": [
      "sys:1: MapWithoutReturnDtypeWarning: Calling `map_elements` without specifying `return_dtype` can lead to unpredictable results. Specify `return_dtype` to silence this warning.\n",
      "sys:1: MapWithoutReturnDtypeWarning: Calling `map_elements` without specifying `return_dtype` can lead to unpredictable results. Specify `return_dtype` to silence this warning.\n",
      "sys:1: MapWithoutReturnDtypeWarning: Calling `map_elements` without specifying `return_dtype` can lead to unpredictable results. Specify `return_dtype` to silence this warning.\n",
      "sys:1: MapWithoutReturnDtypeWarning: Calling `map_elements` without specifying `return_dtype` can lead to unpredictable results. Specify `return_dtype` to silence this warning.\n"
     ]
    },
    {
     "data": {
      "text/html": [
       "<div><style>\n",
       ".dataframe > thead > tr,\n",
       ".dataframe > tbody > tr {\n",
       "  text-align: right;\n",
       "  white-space: pre-wrap;\n",
       "}\n",
       "</style>\n",
       "<small>shape: (6_038, 5)</small><table border=\"1\" class=\"dataframe\"><thead><tr><th>user_id</th><th>train_item_ids</th><th>train_ratings</th><th>test_item_ids</th><th>test_ratings</th></tr><tr><td>i64</td><td>list[i64]</td><td>list[i64]</td><td>list[i64]</td><td>list[i64]</td></tr></thead><tbody><tr><td>4073</td><td>[1250, 1272, … 1222]</td><td>[4, 4, … 4]</td><td>[2028, 1090, 1242]</td><td>[5, 4, 4]</td></tr><tr><td>2236</td><td>[3793, 720, … 3916]</td><td>[4, 4, … 4]</td><td>[1241, 3784, 3785]</td><td>[4, 4, 4]</td></tr><tr><td>2370</td><td>[1250, 589, … 1234]</td><td>[4, 4, … 5]</td><td>[1090, 1094, 1247]</td><td>[5, 4, 5]</td></tr><tr><td>268</td><td>[2987, 647, … 2115]</td><td>[4, 4, … 4]</td><td>[1242, 3784, 1246]</td><td>[4, 4, 4]</td></tr><tr><td>6</td><td>[2406, 1101, … 1674]</td><td>[5, 4, … 4]</td><td>[3565, 1028, 34]</td><td>[4, 4, 4]</td></tr><tr><td>&hellip;</td><td>&hellip;</td><td>&hellip;</td><td>&hellip;</td><td>&hellip;</td></tr><tr><td>4710</td><td>[3044, 969, … 2762]</td><td>[4, 5, … 4]</td><td>[529, 2022, 1086]</td><td>[5, 5, 4]</td></tr><tr><td>5627</td><td>[588, 589, … 1090]</td><td>[4, 4, … 4]</td><td>[1093, 1095, 562]</td><td>[4, 4, 4]</td></tr><tr><td>4454</td><td>[589, 1415, … 3751]</td><td>[5, 5, … 4]</td><td>[555, 1089, 1095]</td><td>[4, 5, 5]</td></tr><tr><td>1170</td><td>[1248, 1252, … 1237]</td><td>[4, 5, … 5]</td><td>[1094, 1244, 1247]</td><td>[4, 5, 5]</td></tr><tr><td>4847</td><td>[1, 593, … 2726]</td><td>[5, 4, … 4]</td><td>[2762, 541, 1080]</td><td>[4, 5, 4]</td></tr></tbody></table></div>"
      ],
      "text/plain": [
       "shape: (6_038, 5)\n",
       "┌─────────┬──────────────────────┬───────────────┬────────────────────┬──────────────┐\n",
       "│ user_id ┆ train_item_ids       ┆ train_ratings ┆ test_item_ids      ┆ test_ratings │\n",
       "│ ---     ┆ ---                  ┆ ---           ┆ ---                ┆ ---          │\n",
       "│ i64     ┆ list[i64]            ┆ list[i64]     ┆ list[i64]          ┆ list[i64]    │\n",
       "╞═════════╪══════════════════════╪═══════════════╪════════════════════╪══════════════╡\n",
       "│ 4073    ┆ [1250, 1272, … 1222] ┆ [4, 4, … 4]   ┆ [2028, 1090, 1242] ┆ [5, 4, 4]    │\n",
       "│ 2236    ┆ [3793, 720, … 3916]  ┆ [4, 4, … 4]   ┆ [1241, 3784, 3785] ┆ [4, 4, 4]    │\n",
       "│ 2370    ┆ [1250, 589, … 1234]  ┆ [4, 4, … 5]   ┆ [1090, 1094, 1247] ┆ [5, 4, 5]    │\n",
       "│ 268     ┆ [2987, 647, … 2115]  ┆ [4, 4, … 4]   ┆ [1242, 3784, 1246] ┆ [4, 4, 4]    │\n",
       "│ 6       ┆ [2406, 1101, … 1674] ┆ [5, 4, … 4]   ┆ [3565, 1028, 34]   ┆ [4, 4, 4]    │\n",
       "│ …       ┆ …                    ┆ …             ┆ …                  ┆ …            │\n",
       "│ 4710    ┆ [3044, 969, … 2762]  ┆ [4, 5, … 4]   ┆ [529, 2022, 1086]  ┆ [5, 5, 4]    │\n",
       "│ 5627    ┆ [588, 589, … 1090]   ┆ [4, 4, … 4]   ┆ [1093, 1095, 562]  ┆ [4, 4, 4]    │\n",
       "│ 4454    ┆ [589, 1415, … 3751]  ┆ [5, 5, … 4]   ┆ [555, 1089, 1095]  ┆ [4, 5, 5]    │\n",
       "│ 1170    ┆ [1248, 1252, … 1237] ┆ [4, 5, … 5]   ┆ [1094, 1244, 1247] ┆ [4, 5, 5]    │\n",
       "│ 4847    ┆ [1, 593, … 2726]     ┆ [5, 4, … 4]   ┆ [2762, 541, 1080]  ┆ [4, 5, 4]    │\n",
       "└─────────┴──────────────────────┴───────────────┴────────────────────┴──────────────┘"
      ]
     },
     "execution_count": 22,
     "metadata": {},
     "output_type": "execute_result"
    }
   ],
   "source": [
    "grouped_df = (\n",
    "    ratings\n",
    "    .group_by('user_id')\n",
    "    .agg([\n",
    "        pl.col('item_id').map_elements(lambda x: x[:-3]).alias('train_item_ids'),\n",
    "        pl.col('rating').map_elements(lambda x: x[:-3]).alias('train_ratings'),\n",
    "        pl.col('item_id').map_elements(lambda x: x[-3:]).alias('test_item_ids'),\n",
    "        pl.col('rating').map_elements(lambda x: x[-3:]).alias('test_ratings'),\n",
    "    ])\n",
    ")\n",
    "grouped_df"
   ]
  },
  {
   "cell_type": "code",
   "execution_count": 24,
   "id": "a7ff3103",
   "metadata": {
    "execution": {
     "iopub.execute_input": "2024-09-01T19:42:10.523975Z",
     "iopub.status.busy": "2024-09-01T19:42:10.522755Z",
     "iopub.status.idle": "2024-09-01T19:42:10.537855Z",
     "shell.execute_reply": "2024-09-01T19:42:10.537006Z",
     "shell.execute_reply.started": "2024-09-01T19:42:10.523938Z"
    },
    "tags": []
   },
   "outputs": [
    {
     "name": "stdout",
     "output_type": "stream",
     "text": [
      "средняя длина сессии 55\n"
     ]
    },
    {
     "name": "stderr",
     "output_type": "stream",
     "text": [
      "/tmp/ipykernel_3342/731958120.py:1: MapWithoutReturnDtypeWarning: Calling `map_elements` without specifying `return_dtype` can lead to unpredictable results. Specify `return_dtype` to silence this warning.\n",
      "  median_seq_len = int(grouped_df['train_item_ids'].map_elements(len).median())\n"
     ]
    }
   ],
   "source": [
    "median_seq_len = int(grouped_df['train_item_ids'].map_elements(len).median())\n",
    "print(f\"средняя длина сессии {median_seq_len}\")"
   ]
  },
  {
   "cell_type": "code",
   "execution_count": 25,
   "id": "dba2d51c",
   "metadata": {
    "execution": {
     "iopub.execute_input": "2024-09-01T19:42:16.095891Z",
     "iopub.status.busy": "2024-09-01T19:42:16.094688Z",
     "iopub.status.idle": "2024-09-01T19:42:16.531745Z",
     "shell.execute_reply": "2024-09-01T19:42:16.530770Z",
     "shell.execute_reply.started": "2024-09-01T19:42:16.095854Z"
    },
    "tags": []
   },
   "outputs": [
    {
     "data": {
      "text/plain": [
       "<6041x3953 sparse matrix of type '<class 'numpy.float32'>'\n",
       "\twith 557171 stored elements in Compressed Sparse Row format>"
      ]
     },
     "execution_count": 25,
     "metadata": {},
     "output_type": "execute_result"
    }
   ],
   "source": [
    "# соберем строчки для разреженной матрицы\n",
    "rows = []\n",
    "cols = []\n",
    "values = []\n",
    "\n",
    "for user_id, train_item_ids, train_ratings in grouped_df.select('user_id', 'train_item_ids', 'train_ratings').rows():\n",
    "    rows.extend([user_id] * len(train_item_ids))\n",
    "    cols.extend(train_item_ids)\n",
    "    values.extend(train_ratings)\n",
    "\n",
    "user_item_data = sp.csr_matrix((values, (rows, cols)), dtype=np.float32)\n",
    "user_item_data"
   ]
  },
  {
   "cell_type": "code",
   "execution_count": 26,
   "id": "fb6832e3",
   "metadata": {
    "execution": {
     "iopub.execute_input": "2024-09-01T19:42:21.810980Z",
     "iopub.status.busy": "2024-09-01T19:42:21.810062Z",
     "iopub.status.idle": "2024-09-01T19:42:21.817808Z",
     "shell.execute_reply": "2024-09-01T19:42:21.816983Z",
     "shell.execute_reply.started": "2024-09-01T19:42:21.810944Z"
    },
    "tags": []
   },
   "outputs": [],
   "source": [
    "TOP_K = 20\n",
    "\n",
    "\n",
    "def user_hitrate(y_relevant: List[str], y_preds: List[str], k: int = TOP_K) -> int:\n",
    "    \"\"\"\n",
    "    :param y_rel: relevant items\n",
    "    :param y_rec: recommended items\n",
    "    :param k: number of top recommended items\n",
    "    :return: 1 if top-k recommendations contains at lease one relevant item\n",
    "    \"\"\"\n",
    "    return int(len(set(y_relevant).intersection(y_preds[:k])) > 0)\n",
    "\n",
    "\n",
    "def user_ndcg(y_rel: List[Any], y_rec: List[Any], k: int = TOP_K) -> float:\n",
    "    \"\"\"\n",
    "    :param y_rel: relevant items\n",
    "    :param y_rec: recommended items\n",
    "    :param k: number of top recommended items\n",
    "    :return: ndcg metric for user recommendations\n",
    "    \"\"\"\n",
    "    dcg = sum([1. / np.log2(idx + 2) for idx, item in enumerate(y_rec[:k]) if item in y_rel])\n",
    "    idcg = sum([1. / np.log2(idx + 2) for idx, _ in enumerate(zip(y_rel, np.arange(k)))])\n",
    "    return dcg / idcg"
   ]
  },
  {
   "cell_type": "code",
   "execution_count": 27,
   "id": "dc1ebc2b",
   "metadata": {
    "execution": {
     "iopub.execute_input": "2024-09-01T19:42:24.129839Z",
     "iopub.status.busy": "2024-09-01T19:42:24.128724Z",
     "iopub.status.idle": "2024-09-01T19:42:24.134857Z",
     "shell.execute_reply": "2024-09-01T19:42:24.134049Z",
     "shell.execute_reply.started": "2024-09-01T19:42:24.129805Z"
    },
    "tags": []
   },
   "outputs": [],
   "source": [
    "RANDOM_STATE = 42\n",
    "\n",
    "def set_seed():\n",
    "    random.seed(RANDOM_STATE)\n",
    "    np.random.seed(RANDOM_STATE)\n",
    "    \n",
    "    \n",
    "def get_recommendations(user_embs: np.array, item_embs: np.array, k: int = TOP_K):\n",
    "    # строим индекс объектов\n",
    "    index = faiss.IndexFlatIP(item_embs.shape[1])\n",
    "    index.add(item_embs)\n",
    "\n",
    "    # строим рекомендации с помощью dot-product расстояния\n",
    "    # с запасом, чтобы после фильтрации просмотренных осталось хотя бы TOP_K\n",
    "    return index.search(user_embs, k)"
   ]
  },
  {
   "cell_type": "markdown",
   "id": "e0c973ec",
   "metadata": {},
   "source": [
    "## ALS"
   ]
  },
  {
   "cell_type": "markdown",
   "id": "34d6568f",
   "metadata": {},
   "source": [
    "В качестве первой модели возьмем ALS факторизацию и подберем оптимальные гиперпараметры с помощью библиотеки `optuna`"
   ]
  },
  {
   "cell_type": "code",
   "execution_count": 32,
   "id": "2abef5d6-6c2e-41e5-81aa-3e914b495618",
   "metadata": {
    "execution": {
     "iopub.execute_input": "2024-09-01T19:44:39.857917Z",
     "iopub.status.busy": "2024-09-01T19:44:39.856867Z",
     "iopub.status.idle": "2024-09-01T19:44:39.925808Z",
     "shell.execute_reply": "2024-09-01T19:44:39.925074Z",
     "shell.execute_reply.started": "2024-09-01T19:44:39.857880Z"
    },
    "tags": []
   },
   "outputs": [
    {
     "data": {
      "application/vnd.jupyter.widget-view+json": {
       "model_id": "79ff535a4f704fa0a1edb66d33fd207a",
       "version_major": 2,
       "version_minor": 0
      },
      "text/plain": [
       "  0%|          | 0/5 [00:00<?, ?it/s]"
      ]
     },
     "metadata": {},
     "output_type": "display_data"
    }
   ],
   "source": [
    "als_model = implicit.als.AlternatingLeastSquares(\n",
    "        factors=8,\n",
    "        iterations=5,\n",
    "        random_state=1,\n",
    "        alpha=0.1,\n",
    "        regularization=1e-3\n",
    "    )\n",
    "als_model.fit(user_item_data)"
   ]
  },
  {
   "cell_type": "code",
   "execution_count": 52,
   "id": "12db87c9",
   "metadata": {
    "execution": {
     "iopub.execute_input": "2024-09-01T19:52:45.757412Z",
     "iopub.status.busy": "2024-09-01T19:52:45.756661Z",
     "iopub.status.idle": "2024-09-01T19:53:19.765616Z",
     "shell.execute_reply": "2024-09-01T19:53:19.764873Z",
     "shell.execute_reply.started": "2024-09-01T19:52:45.757378Z"
    },
    "scrolled": true,
    "tags": []
   },
   "outputs": [
    {
     "name": "stderr",
     "output_type": "stream",
     "text": [
      "[I 2024-09-01 22:52:45,764] A new study created in memory with name: no-name-1cdcc679-ed3b-4392-b88c-821d4a104d6c\n"
     ]
    },
    {
     "name": "stdout",
     "output_type": "stream",
     "text": [
      "{'factors': 116, 'iterations': 10, 'alpha': 0.7938338954232596, 'regularization': 0.5373180605268009}\n"
     ]
    },
    {
     "data": {
      "application/vnd.jupyter.widget-view+json": {
       "model_id": "a981ef60becc4f008a9d3712d2f1b6d8",
       "version_major": 2,
       "version_minor": 0
      },
      "text/plain": [
       "  0%|          | 0/10 [00:00<?, ?it/s]"
      ]
     },
     "metadata": {},
     "output_type": "display_data"
    },
    {
     "name": "stderr",
     "output_type": "stream",
     "text": [
      "[I 2024-09-01 22:52:47,595] Trial 0 finished with value: 0.07276115022641552 and parameters: {'factors': 116, 'iterations': 10, 'alpha': 0.7938338954232596, 'regularization': 0.5373180605268009}. Best is trial 0 with value: 0.07276115022641552.\n"
     ]
    },
    {
     "name": "stdout",
     "output_type": "stream",
     "text": [
      "NDCG@20 = 0.07276115022641552\n",
      "{'factors': 121, 'iterations': 12, 'alpha': 4.625421771769431, 'regularization': 0.5806367277385549}\n"
     ]
    },
    {
     "data": {
      "application/vnd.jupyter.widget-view+json": {
       "model_id": "c0cb4a4ed3344908b9444d4baf814930",
       "version_major": 2,
       "version_minor": 0
      },
      "text/plain": [
       "  0%|          | 0/12 [00:00<?, ?it/s]"
      ]
     },
     "metadata": {},
     "output_type": "display_data"
    },
    {
     "name": "stderr",
     "output_type": "stream",
     "text": [
      "[I 2024-09-01 22:52:49,345] Trial 1 finished with value: 0.07103272938082096 and parameters: {'factors': 121, 'iterations': 12, 'alpha': 4.625421771769431, 'regularization': 0.5806367277385549}. Best is trial 0 with value: 0.07276115022641552.\n"
     ]
    },
    {
     "name": "stdout",
     "output_type": "stream",
     "text": [
      "NDCG@20 = 0.07103272938082096\n",
      "{'factors': 71, 'iterations': 20, 'alpha': 2.3956767036658255, 'regularization': 0.40983640823220635}\n"
     ]
    },
    {
     "data": {
      "application/vnd.jupyter.widget-view+json": {
       "model_id": "1f98d952c94a4f41b2a5fca65a7966c7",
       "version_major": 2,
       "version_minor": 0
      },
      "text/plain": [
       "  0%|          | 0/20 [00:00<?, ?it/s]"
      ]
     },
     "metadata": {},
     "output_type": "display_data"
    },
    {
     "name": "stderr",
     "output_type": "stream",
     "text": [
      "[I 2024-09-01 22:52:51,078] Trial 2 finished with value: 0.07478491658006602 and parameters: {'factors': 71, 'iterations': 20, 'alpha': 2.3956767036658255, 'regularization': 0.40983640823220635}. Best is trial 2 with value: 0.07478491658006602.\n"
     ]
    },
    {
     "name": "stdout",
     "output_type": "stream",
     "text": [
      "NDCG@20 = 0.07478491658006602\n",
      "{'factors': 30, 'iterations': 11, 'alpha': 2.930701707185796, 'regularization': 0.9375817890631041}\n"
     ]
    },
    {
     "data": {
      "application/vnd.jupyter.widget-view+json": {
       "model_id": "dc0f33ad28e44e39b5c5083c0dd2cb7c",
       "version_major": 2,
       "version_minor": 0
      },
      "text/plain": [
       "  0%|          | 0/11 [00:00<?, ?it/s]"
      ]
     },
     "metadata": {},
     "output_type": "display_data"
    },
    {
     "name": "stderr",
     "output_type": "stream",
     "text": [
      "[I 2024-09-01 22:52:52,595] Trial 3 finished with value: 0.06993801993136935 and parameters: {'factors': 30, 'iterations': 11, 'alpha': 2.930701707185796, 'regularization': 0.9375817890631041}. Best is trial 2 with value: 0.07478491658006602.\n"
     ]
    },
    {
     "name": "stdout",
     "output_type": "stream",
     "text": [
      "NDCG@20 = 0.06993801993136935\n",
      "{'factors': 54, 'iterations': 6, 'alpha': 4.172322114503123, 'regularization': 0.7461032789778412}\n"
     ]
    },
    {
     "data": {
      "application/vnd.jupyter.widget-view+json": {
       "model_id": "b77a2570d3d5420686a5494716ea1175",
       "version_major": 2,
       "version_minor": 0
      },
      "text/plain": [
       "  0%|          | 0/6 [00:00<?, ?it/s]"
      ]
     },
     "metadata": {},
     "output_type": "display_data"
    },
    {
     "name": "stderr",
     "output_type": "stream",
     "text": [
      "[I 2024-09-01 22:52:54,182] Trial 4 finished with value: 0.07316168427564372 and parameters: {'factors': 54, 'iterations': 6, 'alpha': 4.172322114503123, 'regularization': 0.7461032789778412}. Best is trial 2 with value: 0.07478491658006602.\n"
     ]
    },
    {
     "name": "stdout",
     "output_type": "stream",
     "text": [
      "NDCG@20 = 0.07316168427564372\n",
      "{'factors': 109, 'iterations': 7, 'alpha': 1.2771124943347483, 'regularization': 0.34161562263702966}\n"
     ]
    },
    {
     "data": {
      "application/vnd.jupyter.widget-view+json": {
       "model_id": "fbba255983a74b21a4225b106caa82e8",
       "version_major": 2,
       "version_minor": 0
      },
      "text/plain": [
       "  0%|          | 0/7 [00:00<?, ?it/s]"
      ]
     },
     "metadata": {},
     "output_type": "display_data"
    },
    {
     "name": "stderr",
     "output_type": "stream",
     "text": [
      "[I 2024-09-01 22:52:55,895] Trial 5 finished with value: 0.07300273652434505 and parameters: {'factors': 109, 'iterations': 7, 'alpha': 1.2771124943347483, 'regularization': 0.34161562263702966}. Best is trial 2 with value: 0.07478491658006602.\n"
     ]
    },
    {
     "name": "stdout",
     "output_type": "stream",
     "text": [
      "NDCG@20 = 0.07300273652434505\n",
      "{'factors': 22, 'iterations': 30, 'alpha': 2.9105112861437665, 'regularization': 0.263418426872155}\n"
     ]
    },
    {
     "data": {
      "application/vnd.jupyter.widget-view+json": {
       "model_id": "bdebe65d296f4758a97a67017be187c6",
       "version_major": 2,
       "version_minor": 0
      },
      "text/plain": [
       "  0%|          | 0/30 [00:00<?, ?it/s]"
      ]
     },
     "metadata": {},
     "output_type": "display_data"
    },
    {
     "name": "stderr",
     "output_type": "stream",
     "text": [
      "[I 2024-09-01 22:52:57,635] Trial 6 finished with value: 0.06951598208718568 and parameters: {'factors': 22, 'iterations': 30, 'alpha': 2.9105112861437665, 'regularization': 0.263418426872155}. Best is trial 2 with value: 0.07478491658006602.\n"
     ]
    },
    {
     "name": "stdout",
     "output_type": "stream",
     "text": [
      "NDCG@20 = 0.06951598208718568\n",
      "{'factors': 61, 'iterations': 12, 'alpha': 4.791224451496947, 'regularization': 0.5665328769656973}\n"
     ]
    },
    {
     "data": {
      "application/vnd.jupyter.widget-view+json": {
       "model_id": "692fff83ef1a4a8faaf0f04f2c8d5fb5",
       "version_major": 2,
       "version_minor": 0
      },
      "text/plain": [
       "  0%|          | 0/12 [00:00<?, ?it/s]"
      ]
     },
     "metadata": {},
     "output_type": "display_data"
    },
    {
     "name": "stderr",
     "output_type": "stream",
     "text": [
      "[I 2024-09-01 22:52:59,192] Trial 7 finished with value: 0.07432069178909803 and parameters: {'factors': 61, 'iterations': 12, 'alpha': 4.791224451496947, 'regularization': 0.5665328769656973}. Best is trial 2 with value: 0.07478491658006602.\n"
     ]
    },
    {
     "name": "stdout",
     "output_type": "stream",
     "text": [
      "NDCG@20 = 0.07432069178909803\n",
      "{'factors': 36, 'iterations': 8, 'alpha': 0.13637184147932718, 'regularization': 0.9057522871221995}\n"
     ]
    },
    {
     "data": {
      "application/vnd.jupyter.widget-view+json": {
       "model_id": "8497c790173d4de0b6a9225076b25384",
       "version_major": 2,
       "version_minor": 0
      },
      "text/plain": [
       "  0%|          | 0/8 [00:00<?, ?it/s]"
      ]
     },
     "metadata": {},
     "output_type": "display_data"
    },
    {
     "name": "stderr",
     "output_type": "stream",
     "text": [
      "[I 2024-09-01 22:53:00,890] Trial 8 finished with value: 0.0730733211580251 and parameters: {'factors': 36, 'iterations': 8, 'alpha': 0.13637184147932718, 'regularization': 0.9057522871221995}. Best is trial 2 with value: 0.07478491658006602.\n"
     ]
    },
    {
     "name": "stdout",
     "output_type": "stream",
     "text": [
      "NDCG@20 = 0.0730733211580251\n",
      "{'factors': 57, 'iterations': 13, 'alpha': 4.5389947726131785, 'regularization': 0.7286356798871904}\n"
     ]
    },
    {
     "data": {
      "application/vnd.jupyter.widget-view+json": {
       "model_id": "bad69869e09d4c648cd8c1219261a554",
       "version_major": 2,
       "version_minor": 0
      },
      "text/plain": [
       "  0%|          | 0/13 [00:00<?, ?it/s]"
      ]
     },
     "metadata": {},
     "output_type": "display_data"
    },
    {
     "name": "stderr",
     "output_type": "stream",
     "text": [
      "[I 2024-09-01 22:53:02,470] Trial 9 finished with value: 0.07286572277337486 and parameters: {'factors': 57, 'iterations': 13, 'alpha': 4.5389947726131785, 'regularization': 0.7286356798871904}. Best is trial 2 with value: 0.07478491658006602.\n"
     ]
    },
    {
     "name": "stdout",
     "output_type": "stream",
     "text": [
      "NDCG@20 = 0.07286572277337486\n",
      "{'factors': 89, 'iterations': 23, 'alpha': 2.0352859434818193, 'regularization': 0.019141424962364595}\n"
     ]
    },
    {
     "data": {
      "application/vnd.jupyter.widget-view+json": {
       "model_id": "ca8312f3dd644edebb81ba7b0bbe5cd6",
       "version_major": 2,
       "version_minor": 0
      },
      "text/plain": [
       "  0%|          | 0/23 [00:00<?, ?it/s]"
      ]
     },
     "metadata": {},
     "output_type": "display_data"
    },
    {
     "name": "stderr",
     "output_type": "stream",
     "text": [
      "[I 2024-09-01 22:53:04,231] Trial 10 finished with value: 0.07344935960453579 and parameters: {'factors': 89, 'iterations': 23, 'alpha': 2.0352859434818193, 'regularization': 0.019141424962364595}. Best is trial 2 with value: 0.07478491658006602.\n"
     ]
    },
    {
     "name": "stdout",
     "output_type": "stream",
     "text": [
      "NDCG@20 = 0.07344935960453579\n",
      "{'factors': 80, 'iterations': 17, 'alpha': 3.778988654711237, 'regularization': 0.32376294854374055}\n"
     ]
    },
    {
     "data": {
      "application/vnd.jupyter.widget-view+json": {
       "model_id": "b60a7e0f67e84d5c828420fd08e4fe12",
       "version_major": 2,
       "version_minor": 0
      },
      "text/plain": [
       "  0%|          | 0/17 [00:00<?, ?it/s]"
      ]
     },
     "metadata": {},
     "output_type": "display_data"
    },
    {
     "name": "stderr",
     "output_type": "stream",
     "text": [
      "[I 2024-09-01 22:53:06,090] Trial 11 finished with value: 0.07400799365406008 and parameters: {'factors': 80, 'iterations': 17, 'alpha': 3.778988654711237, 'regularization': 0.32376294854374055}. Best is trial 2 with value: 0.07478491658006602.\n"
     ]
    },
    {
     "name": "stdout",
     "output_type": "stream",
     "text": [
      "NDCG@20 = 0.07400799365406008\n",
      "{'factors': 75, 'iterations': 20, 'alpha': 2.062292927041175, 'regularization': 0.4681709076099508}\n"
     ]
    },
    {
     "data": {
      "application/vnd.jupyter.widget-view+json": {
       "model_id": "cc18c6fb312f4ee4912c547a13c73859",
       "version_major": 2,
       "version_minor": 0
      },
      "text/plain": [
       "  0%|          | 0/20 [00:00<?, ?it/s]"
      ]
     },
     "metadata": {},
     "output_type": "display_data"
    },
    {
     "name": "stderr",
     "output_type": "stream",
     "text": [
      "[I 2024-09-01 22:53:07,734] Trial 12 finished with value: 0.0741914650258135 and parameters: {'factors': 75, 'iterations': 20, 'alpha': 2.062292927041175, 'regularization': 0.4681709076099508}. Best is trial 2 with value: 0.07478491658006602.\n"
     ]
    },
    {
     "name": "stdout",
     "output_type": "stream",
     "text": [
      "NDCG@20 = 0.0741914650258135\n",
      "{'factors': 52, 'iterations': 17, 'alpha': 3.4870129521658924, 'regularization': 0.15029962211074915}\n"
     ]
    },
    {
     "data": {
      "application/vnd.jupyter.widget-view+json": {
       "model_id": "465fcec60e69455c9cf7db62b072bdea",
       "version_major": 2,
       "version_minor": 0
      },
      "text/plain": [
       "  0%|          | 0/17 [00:00<?, ?it/s]"
      ]
     },
     "metadata": {},
     "output_type": "display_data"
    },
    {
     "name": "stderr",
     "output_type": "stream",
     "text": [
      "[I 2024-09-01 22:53:09,361] Trial 13 finished with value: 0.07365690574095905 and parameters: {'factors': 52, 'iterations': 17, 'alpha': 3.4870129521658924, 'regularization': 0.15029962211074915}. Best is trial 2 with value: 0.07478491658006602.\n"
     ]
    },
    {
     "name": "stdout",
     "output_type": "stream",
     "text": [
      "NDCG@20 = 0.07365690574095905\n",
      "{'factors': 97, 'iterations': 25, 'alpha': 2.2708954899034923, 'regularization': 0.6743995351743721}\n"
     ]
    },
    {
     "data": {
      "application/vnd.jupyter.widget-view+json": {
       "model_id": "2ded7a4f56214e8dbfccc23432894c15",
       "version_major": 2,
       "version_minor": 0
      },
      "text/plain": [
       "  0%|          | 0/25 [00:00<?, ?it/s]"
      ]
     },
     "metadata": {},
     "output_type": "display_data"
    },
    {
     "name": "stderr",
     "output_type": "stream",
     "text": [
      "[I 2024-09-01 22:53:11,134] Trial 14 finished with value: 0.07237783644766518 and parameters: {'factors': 97, 'iterations': 25, 'alpha': 2.2708954899034923, 'regularization': 0.6743995351743721}. Best is trial 2 with value: 0.07478491658006602.\n"
     ]
    },
    {
     "name": "stdout",
     "output_type": "stream",
     "text": [
      "NDCG@20 = 0.07237783644766518\n",
      "{'factors': 66, 'iterations': 15, 'alpha': 1.4709050518016538, 'regularization': 0.42808961018734026}\n"
     ]
    },
    {
     "data": {
      "application/vnd.jupyter.widget-view+json": {
       "model_id": "d6d4c968923a4582862f8dbc3b342b62",
       "version_major": 2,
       "version_minor": 0
      },
      "text/plain": [
       "  0%|          | 0/15 [00:00<?, ?it/s]"
      ]
     },
     "metadata": {},
     "output_type": "display_data"
    },
    {
     "name": "stderr",
     "output_type": "stream",
     "text": [
      "[I 2024-09-01 22:53:12,724] Trial 15 finished with value: 0.07394721867486774 and parameters: {'factors': 66, 'iterations': 15, 'alpha': 1.4709050518016538, 'regularization': 0.42808961018734026}. Best is trial 2 with value: 0.07478491658006602.\n"
     ]
    },
    {
     "name": "stdout",
     "output_type": "stream",
     "text": [
      "NDCG@20 = 0.07394721867486774\n",
      "{'factors': 95, 'iterations': 21, 'alpha': 4.924378980388504, 'regularization': 0.6189914236865027}\n"
     ]
    },
    {
     "data": {
      "application/vnd.jupyter.widget-view+json": {
       "model_id": "42236550a078453cb7b20ecae55c1431",
       "version_major": 2,
       "version_minor": 0
      },
      "text/plain": [
       "  0%|          | 0/21 [00:00<?, ?it/s]"
      ]
     },
     "metadata": {},
     "output_type": "display_data"
    },
    {
     "name": "stderr",
     "output_type": "stream",
     "text": [
      "[I 2024-09-01 22:53:14,484] Trial 16 finished with value: 0.07302147376695213 and parameters: {'factors': 95, 'iterations': 21, 'alpha': 4.924378980388504, 'regularization': 0.6189914236865027}. Best is trial 2 with value: 0.07478491658006602.\n"
     ]
    },
    {
     "name": "stdout",
     "output_type": "stream",
     "text": [
      "NDCG@20 = 0.07302147376695213\n",
      "{'factors': 38, 'iterations': 27, 'alpha': 3.4218144497594514, 'regularization': 0.8312827256074535}\n"
     ]
    },
    {
     "data": {
      "application/vnd.jupyter.widget-view+json": {
       "model_id": "9b57fdfb1b454c1081c05877e826943c",
       "version_major": 2,
       "version_minor": 0
      },
      "text/plain": [
       "  0%|          | 0/27 [00:00<?, ?it/s]"
      ]
     },
     "metadata": {},
     "output_type": "display_data"
    },
    {
     "name": "stderr",
     "output_type": "stream",
     "text": [
      "[I 2024-09-01 22:53:16,285] Trial 17 finished with value: 0.07116182374604124 and parameters: {'factors': 38, 'iterations': 27, 'alpha': 3.4218144497594514, 'regularization': 0.8312827256074535}. Best is trial 2 with value: 0.07478491658006602.\n"
     ]
    },
    {
     "name": "stdout",
     "output_type": "stream",
     "text": [
      "NDCG@20 = 0.07116182374604124\n",
      "{'factors': 67, 'iterations': 20, 'alpha': 2.7193844756118124, 'regularization': 0.14308771653929853}\n"
     ]
    },
    {
     "data": {
      "application/vnd.jupyter.widget-view+json": {
       "model_id": "657c9d5162c44d8587015b73f854c4e1",
       "version_major": 2,
       "version_minor": 0
      },
      "text/plain": [
       "  0%|          | 0/20 [00:00<?, ?it/s]"
      ]
     },
     "metadata": {},
     "output_type": "display_data"
    },
    {
     "name": "stderr",
     "output_type": "stream",
     "text": [
      "[I 2024-09-01 22:53:17,948] Trial 18 finished with value: 0.07373530820780608 and parameters: {'factors': 67, 'iterations': 20, 'alpha': 2.7193844756118124, 'regularization': 0.14308771653929853}. Best is trial 2 with value: 0.07478491658006602.\n"
     ]
    },
    {
     "name": "stdout",
     "output_type": "stream",
     "text": [
      "NDCG@20 = 0.07373530820780608\n",
      "{'factors': 10, 'iterations': 15, 'alpha': 3.768542142292657, 'regularization': 0.3878788464927199}\n"
     ]
    },
    {
     "data": {
      "application/vnd.jupyter.widget-view+json": {
       "model_id": "997deb85fa2e46738052ec24b59c02b8",
       "version_major": 2,
       "version_minor": 0
      },
      "text/plain": [
       "  0%|          | 0/15 [00:00<?, ?it/s]"
      ]
     },
     "metadata": {},
     "output_type": "display_data"
    },
    {
     "name": "stderr",
     "output_type": "stream",
     "text": [
      "[I 2024-09-01 22:53:19,758] Trial 19 finished with value: 0.059346099102068 and parameters: {'factors': 10, 'iterations': 15, 'alpha': 3.768542142292657, 'regularization': 0.3878788464927199}. Best is trial 2 with value: 0.07478491658006602.\n"
     ]
    },
    {
     "name": "stdout",
     "output_type": "stream",
     "text": [
      "NDCG@20 = 0.059346099102068\n"
     ]
    },
    {
     "data": {
      "text/plain": [
       "{'factors': 71,\n",
       " 'iterations': 20,\n",
       " 'alpha': 2.3956767036658255,\n",
       " 'regularization': 0.40983640823220635}"
      ]
     },
     "execution_count": 52,
     "metadata": {},
     "output_type": "execute_result"
    }
   ],
   "source": [
    "def objective(trial):\n",
    "    factors = trial.suggest_int('factors', 8, 128)\n",
    "    iterations = trial.suggest_int('iterations', 5, 30)\n",
    "    alpha = trial.suggest_float('alpha', 0.1, 5.0)\n",
    "    regularization = trial.suggest_float('regularization', 1e-3, 1.0)\n",
    "        \n",
    "    print({\n",
    "        'factors': factors,\n",
    "        'iterations': iterations,\n",
    "        'alpha': alpha,\n",
    "        'regularization': regularization,\n",
    "    })\n",
    "    \n",
    "    set_seed()\n",
    "    als_model = implicit.als.AlternatingLeastSquares(\n",
    "        factors=factors,\n",
    "        iterations=iterations,\n",
    "        random_state=RANDOM_STATE,\n",
    "        alpha=alpha,\n",
    "        regularization=regularization\n",
    "    )\n",
    "    als_model.fit(user_item_data)\n",
    "    \n",
    "    _, recs = get_recommendations(\n",
    "        als_model.user_factors.to_numpy(),\n",
    "        als_model.item_factors.to_numpy(),\n",
    "        TOP_K + median_seq_len\n",
    "    )\n",
    "    \n",
    "    ndcg_list = []\n",
    "    for user_id, user_history, y_rel in grouped_df.select('user_id', 'train_item_ids', 'test_item_ids').rows():\n",
    "        y_rec = [item_id for item_id in recs[user_id] if item_id not in user_history]\n",
    "        ndcg_list.append(user_ndcg(y_rel, y_rec))\n",
    "    mean_ndcg = np.mean(ndcg_list)\n",
    "    print(f'NDCG@{TOP_K} = {mean_ndcg}')\n",
    "    return mean_ndcg\n",
    "    \n",
    "    \n",
    "study = optuna.create_study(directions=('maximize',))\n",
    "study.optimize(objective, n_trials=20)\n",
    "\n",
    "study.best_params"
   ]
  },
  {
   "cell_type": "code",
   "execution_count": 53,
   "id": "9efe0800",
   "metadata": {
    "execution": {
     "iopub.execute_input": "2024-09-01T19:53:19.929104Z",
     "iopub.status.busy": "2024-09-01T19:53:19.928854Z",
     "iopub.status.idle": "2024-09-01T19:53:21.975043Z",
     "shell.execute_reply": "2024-09-01T19:53:21.974012Z",
     "shell.execute_reply.started": "2024-09-01T19:53:19.929079Z"
    },
    "tags": []
   },
   "outputs": [
    {
     "data": {
      "application/vnd.jupyter.widget-view+json": {
       "model_id": "5fb07595b48e4939ac07a0328da827ad",
       "version_major": 2,
       "version_minor": 0
      },
      "text/plain": [
       "  0%|          | 0/50 [00:00<?, ?it/s]"
      ]
     },
     "metadata": {},
     "output_type": "display_data"
    },
    {
     "name": "stdout",
     "output_type": "stream",
     "text": [
      "NDCG@20 = 0.0730, Hitrate@20 = 0.3185\n"
     ]
    }
   ],
   "source": [
    "set_seed()\n",
    "als_model = implicit.als.AlternatingLeastSquares(\n",
    "    factors=70,\n",
    "    iterations=50,\n",
    "    random_state=RANDOM_STATE,\n",
    "    regularization=0.5,\n",
    "    alpha=0.7,\n",
    ")\n",
    "als_model.fit(user_item_data)\n",
    "\n",
    "_, als_recs = get_recommendations(\n",
    "    als_model.user_factors.to_numpy(),\n",
    "    als_model.item_factors.to_numpy(),\n",
    "    TOP_K + median_seq_len\n",
    ")\n",
    "\n",
    "ndcg_list = []\n",
    "hitrate_list = []\n",
    "for user_id, user_history, y_rel in grouped_df.select('user_id', 'train_item_ids', 'test_item_ids').rows():\n",
    "    y_rec = [item_id for item_id in als_recs[user_id] if item_id not in user_history]\n",
    "    ndcg_list.append(user_ndcg(y_rel, y_rec))\n",
    "    hitrate_list.append(user_hitrate(y_rel, y_rec))\n",
    "print(f'NDCG@{TOP_K} = {np.mean(ndcg_list):.4f}, Hitrate@{TOP_K} = {np.mean(hitrate_list):.4f}')"
   ]
  },
  {
   "cell_type": "markdown",
   "id": "e9fbe423",
   "metadata": {},
   "source": [
    "## Word2Vec"
   ]
  },
  {
   "cell_type": "markdown",
   "id": "0f25c4e1",
   "metadata": {},
   "source": [
    "В качестве второго подхода попробуем использовать сессионные рекомендации и модель w2v, для нее так же подберем оптимальные гиперпараметры с помощью библиотеки `optuna`"
   ]
  },
  {
   "cell_type": "code",
   "execution_count": 54,
   "id": "64e32962",
   "metadata": {
    "execution": {
     "iopub.execute_input": "2024-09-01T19:53:30.747773Z",
     "iopub.status.busy": "2024-09-01T19:53:30.746769Z",
     "iopub.status.idle": "2024-09-01T19:59:07.067133Z",
     "shell.execute_reply": "2024-09-01T19:59:07.066304Z",
     "shell.execute_reply.started": "2024-09-01T19:53:30.747737Z"
    },
    "scrolled": true,
    "tags": []
   },
   "outputs": [
    {
     "name": "stderr",
     "output_type": "stream",
     "text": [
      "[I 2024-09-01 22:53:30,756] A new study created in memory with name: no-name-539b77e9-6cad-4de3-85e9-3c3a910ec92d\n"
     ]
    },
    {
     "name": "stdout",
     "output_type": "stream",
     "text": [
      "{'sg': 1, 'window_len': 9, 'ns_exponent': 0.02499797691326755, 'negative': 16, 'min_count': 11, 'vector_size': 64}\n"
     ]
    },
    {
     "name": "stderr",
     "output_type": "stream",
     "text": [
      "[I 2024-09-01 22:54:57,113] Trial 0 finished with value: 0.03406977374488073 and parameters: {'sg': 1, 'window': 9, 'ns_exponent': 0.02499797691326755, 'negative': 16, 'min_count': 11, 'vector_size': 64}. Best is trial 0 with value: 0.03406977374488073.\n"
     ]
    },
    {
     "name": "stdout",
     "output_type": "stream",
     "text": [
      "NDCG@20 = 0.0341, Hitrate@20 = 0.2047\n",
      "{'sg': 0, 'window_len': 5, 'ns_exponent': -1.9580627741581444, 'negative': 11, 'min_count': 13, 'vector_size': 16}\n"
     ]
    },
    {
     "name": "stderr",
     "output_type": "stream",
     "text": [
      "[I 2024-09-01 22:55:05,860] Trial 1 finished with value: 0.10291239680353295 and parameters: {'sg': 0, 'window': 5, 'ns_exponent': -1.9580627741581444, 'negative': 11, 'min_count': 13, 'vector_size': 16}. Best is trial 1 with value: 0.10291239680353295.\n"
     ]
    },
    {
     "name": "stdout",
     "output_type": "stream",
     "text": [
      "NDCG@20 = 0.1029, Hitrate@20 = 0.3756\n",
      "{'sg': 1, 'window_len': 4, 'ns_exponent': -2.1558299873916362, 'negative': 4, 'min_count': 13, 'vector_size': 64}\n"
     ]
    },
    {
     "name": "stderr",
     "output_type": "stream",
     "text": [
      "[I 2024-09-01 22:55:21,746] Trial 2 finished with value: 0.07788980135356381 and parameters: {'sg': 1, 'window': 4, 'ns_exponent': -2.1558299873916362, 'negative': 4, 'min_count': 13, 'vector_size': 64}. Best is trial 1 with value: 0.10291239680353295.\n"
     ]
    },
    {
     "name": "stdout",
     "output_type": "stream",
     "text": [
      "NDCG@20 = 0.0779, Hitrate@20 = 0.2931\n",
      "{'sg': 0, 'window_len': 1, 'ns_exponent': 2.0263659327684227, 'negative': 9, 'min_count': 10, 'vector_size': 16}\n"
     ]
    },
    {
     "name": "stderr",
     "output_type": "stream",
     "text": [
      "[I 2024-09-01 22:55:28,251] Trial 3 finished with value: 0.029284339025503564 and parameters: {'sg': 0, 'window': 1, 'ns_exponent': 2.0263659327684227, 'negative': 9, 'min_count': 10, 'vector_size': 16}. Best is trial 1 with value: 0.10291239680353295.\n"
     ]
    },
    {
     "name": "stdout",
     "output_type": "stream",
     "text": [
      "NDCG@20 = 0.0293, Hitrate@20 = 0.1714\n",
      "{'sg': 0, 'window_len': 3, 'ns_exponent': -1.531425500975288, 'negative': 16, 'min_count': 6, 'vector_size': 32}\n"
     ]
    },
    {
     "name": "stderr",
     "output_type": "stream",
     "text": [
      "[I 2024-09-01 22:55:39,330] Trial 4 finished with value: 0.09409749190071076 and parameters: {'sg': 0, 'window': 3, 'ns_exponent': -1.531425500975288, 'negative': 16, 'min_count': 6, 'vector_size': 32}. Best is trial 1 with value: 0.10291239680353295.\n"
     ]
    },
    {
     "name": "stdout",
     "output_type": "stream",
     "text": [
      "NDCG@20 = 0.0941, Hitrate@20 = 0.3844\n",
      "{'sg': 1, 'window_len': 1, 'ns_exponent': 1.9753023088541335, 'negative': 7, 'min_count': 7, 'vector_size': 32}\n"
     ]
    },
    {
     "name": "stderr",
     "output_type": "stream",
     "text": [
      "[I 2024-09-01 22:55:48,366] Trial 5 finished with value: 0.08014084549707323 and parameters: {'sg': 1, 'window': 1, 'ns_exponent': 1.9753023088541335, 'negative': 7, 'min_count': 7, 'vector_size': 32}. Best is trial 1 with value: 0.10291239680353295.\n"
     ]
    },
    {
     "name": "stdout",
     "output_type": "stream",
     "text": [
      "NDCG@20 = 0.0801, Hitrate@20 = 0.3735\n",
      "{'sg': 1, 'window_len': 4, 'ns_exponent': -0.2091976087459808, 'negative': 18, 'min_count': 15, 'vector_size': 64}\n"
     ]
    },
    {
     "name": "stderr",
     "output_type": "stream",
     "text": [
      "[I 2024-09-01 22:56:28,727] Trial 6 finished with value: 0.08269408494465277 and parameters: {'sg': 1, 'window': 4, 'ns_exponent': -0.2091976087459808, 'negative': 18, 'min_count': 15, 'vector_size': 64}. Best is trial 1 with value: 0.10291239680353295.\n"
     ]
    },
    {
     "name": "stdout",
     "output_type": "stream",
     "text": [
      "NDCG@20 = 0.0827, Hitrate@20 = 0.3660\n",
      "{'sg': 0, 'window_len': 4, 'ns_exponent': -1.178691191036925, 'negative': 20, 'min_count': 0, 'vector_size': 32}\n"
     ]
    },
    {
     "name": "stderr",
     "output_type": "stream",
     "text": [
      "[I 2024-09-01 22:56:41,056] Trial 7 finished with value: 0.08420317126810369 and parameters: {'sg': 0, 'window': 4, 'ns_exponent': -1.178691191036925, 'negative': 20, 'min_count': 0, 'vector_size': 32}. Best is trial 1 with value: 0.10291239680353295.\n"
     ]
    },
    {
     "name": "stdout",
     "output_type": "stream",
     "text": [
      "NDCG@20 = 0.0842, Hitrate@20 = 0.3637\n",
      "{'sg': 0, 'window_len': 9, 'ns_exponent': 1.7806908617739676, 'negative': 5, 'min_count': 7, 'vector_size': 64}\n"
     ]
    },
    {
     "name": "stderr",
     "output_type": "stream",
     "text": [
      "[I 2024-09-01 22:56:52,611] Trial 8 finished with value: 0.036355825433832895 and parameters: {'sg': 0, 'window': 9, 'ns_exponent': 1.7806908617739676, 'negative': 5, 'min_count': 7, 'vector_size': 64}. Best is trial 1 with value: 0.10291239680353295.\n"
     ]
    },
    {
     "name": "stdout",
     "output_type": "stream",
     "text": [
      "NDCG@20 = 0.0364, Hitrate@20 = 0.1709\n",
      "{'sg': 0, 'window_len': 2, 'ns_exponent': -2.969259376747566, 'negative': 15, 'min_count': 14, 'vector_size': 16}\n"
     ]
    },
    {
     "name": "stderr",
     "output_type": "stream",
     "text": [
      "[I 2024-09-01 22:57:00,765] Trial 9 finished with value: 0.08420379106932491 and parameters: {'sg': 0, 'window': 2, 'ns_exponent': -2.969259376747566, 'negative': 15, 'min_count': 14, 'vector_size': 16}. Best is trial 1 with value: 0.10291239680353295.\n"
     ]
    },
    {
     "name": "stdout",
     "output_type": "stream",
     "text": [
      "NDCG@20 = 0.0842, Hitrate@20 = 0.3523\n",
      "{'sg': 0, 'window_len': 7, 'ns_exponent': 0.3934115394531681, 'negative': 12, 'min_count': 20, 'vector_size': 128}\n"
     ]
    },
    {
     "name": "stderr",
     "output_type": "stream",
     "text": [
      "[I 2024-09-01 22:57:27,428] Trial 10 finished with value: 0.050881724472260755 and parameters: {'sg': 0, 'window': 7, 'ns_exponent': 0.3934115394531681, 'negative': 12, 'min_count': 20, 'vector_size': 128}. Best is trial 1 with value: 0.10291239680353295.\n"
     ]
    },
    {
     "name": "stdout",
     "output_type": "stream",
     "text": [
      "NDCG@20 = 0.0509, Hitrate@20 = 0.2527\n",
      "{'sg': 0, 'window_len': 6, 'ns_exponent': -1.7362860582601238, 'negative': 13, 'min_count': 2, 'vector_size': 16}\n"
     ]
    },
    {
     "name": "stderr",
     "output_type": "stream",
     "text": [
      "[I 2024-09-01 22:57:35,441] Trial 11 finished with value: 0.06570881957051887 and parameters: {'sg': 0, 'window': 6, 'ns_exponent': -1.7362860582601238, 'negative': 13, 'min_count': 2, 'vector_size': 16}. Best is trial 1 with value: 0.10291239680353295.\n"
     ]
    },
    {
     "name": "stdout",
     "output_type": "stream",
     "text": [
      "NDCG@20 = 0.0657, Hitrate@20 = 0.2585\n",
      "{'sg': 0, 'window_len': 3, 'ns_exponent': -0.9656330503503104, 'negative': 9, 'min_count': 6, 'vector_size': 32}\n"
     ]
    },
    {
     "name": "stderr",
     "output_type": "stream",
     "text": [
      "[I 2024-09-01 22:57:42,760] Trial 12 finished with value: 0.1112619233440495 and parameters: {'sg': 0, 'window': 3, 'ns_exponent': -0.9656330503503104, 'negative': 9, 'min_count': 6, 'vector_size': 32}. Best is trial 12 with value: 0.1112619233440495.\n"
     ]
    },
    {
     "name": "stdout",
     "output_type": "stream",
     "text": [
      "NDCG@20 = 0.1113, Hitrate@20 = 0.4243\n",
      "{'sg': 0, 'window_len': 6, 'ns_exponent': -0.8364871077274892, 'negative': 9, 'min_count': 18, 'vector_size': 128}\n"
     ]
    },
    {
     "name": "stderr",
     "output_type": "stream",
     "text": [
      "[I 2024-09-01 22:58:10,913] Trial 13 finished with value: 0.07594103160633482 and parameters: {'sg': 0, 'window': 6, 'ns_exponent': -0.8364871077274892, 'negative': 9, 'min_count': 18, 'vector_size': 128}. Best is trial 12 with value: 0.1112619233440495.\n"
     ]
    },
    {
     "name": "stdout",
     "output_type": "stream",
     "text": [
      "NDCG@20 = 0.0759, Hitrate@20 = 0.3258\n",
      "{'sg': 0, 'window_len': 7, 'ns_exponent': -2.673174450605165, 'negative': 10, 'min_count': 4, 'vector_size': 16}\n"
     ]
    },
    {
     "name": "stderr",
     "output_type": "stream",
     "text": [
      "[I 2024-09-01 22:58:19,295] Trial 14 finished with value: 0.0493590282200693 and parameters: {'sg': 0, 'window': 7, 'ns_exponent': -2.673174450605165, 'negative': 10, 'min_count': 4, 'vector_size': 16}. Best is trial 12 with value: 0.1112619233440495.\n"
     ]
    },
    {
     "name": "stdout",
     "output_type": "stream",
     "text": [
      "NDCG@20 = 0.0494, Hitrate@20 = 0.2021\n",
      "{'sg': 0, 'window_len': 5, 'ns_exponent': 0.999245737590735, 'negative': 7, 'min_count': 9, 'vector_size': 32}\n"
     ]
    },
    {
     "name": "stderr",
     "output_type": "stream",
     "text": [
      "[I 2024-09-01 22:58:26,276] Trial 15 finished with value: 0.04421517257661466 and parameters: {'sg': 0, 'window': 5, 'ns_exponent': 0.999245737590735, 'negative': 7, 'min_count': 9, 'vector_size': 32}. Best is trial 12 with value: 0.1112619233440495.\n"
     ]
    },
    {
     "name": "stdout",
     "output_type": "stream",
     "text": [
      "NDCG@20 = 0.0442, Hitrate@20 = 0.2216\n",
      "{'sg': 0, 'window_len': 3, 'ns_exponent': -0.7374307397084723, 'negative': 13, 'min_count': 16, 'vector_size': 32}\n"
     ]
    },
    {
     "name": "stderr",
     "output_type": "stream",
     "text": [
      "[I 2024-09-01 22:58:36,177] Trial 16 finished with value: 0.10547884536669312 and parameters: {'sg': 0, 'window': 3, 'ns_exponent': -0.7374307397084723, 'negative': 13, 'min_count': 16, 'vector_size': 32}. Best is trial 12 with value: 0.1112619233440495.\n"
     ]
    },
    {
     "name": "stdout",
     "output_type": "stream",
     "text": [
      "NDCG@20 = 0.1055, Hitrate@20 = 0.4195\n",
      "{'sg': 0, 'window_len': 2, 'ns_exponent': -0.5263680208795772, 'negative': 14, 'min_count': 19, 'vector_size': 32}\n"
     ]
    },
    {
     "name": "stderr",
     "output_type": "stream",
     "text": [
      "[I 2024-09-01 22:58:46,639] Trial 17 finished with value: 0.1370429749989143 and parameters: {'sg': 0, 'window': 2, 'ns_exponent': -0.5263680208795772, 'negative': 14, 'min_count': 19, 'vector_size': 32}. Best is trial 17 with value: 0.1370429749989143.\n"
     ]
    },
    {
     "name": "stdout",
     "output_type": "stream",
     "text": [
      "NDCG@20 = 0.1370, Hitrate@20 = 0.4783\n",
      "{'sg': 1, 'window_len': 2, 'ns_exponent': 1.0122831051570036, 'negative': 7, 'min_count': 4, 'vector_size': 32}\n"
     ]
    },
    {
     "name": "stderr",
     "output_type": "stream",
     "text": [
      "[I 2024-09-01 22:58:58,988] Trial 18 finished with value: 0.07485692379822896 and parameters: {'sg': 1, 'window': 2, 'ns_exponent': 1.0122831051570036, 'negative': 7, 'min_count': 4, 'vector_size': 32}. Best is trial 17 with value: 0.1370429749989143.\n"
     ]
    },
    {
     "name": "stdout",
     "output_type": "stream",
     "text": [
      "NDCG@20 = 0.0749, Hitrate@20 = 0.3175\n",
      "{'sg': 0, 'window_len': 2, 'ns_exponent': 2.8218508958476636, 'negative': 14, 'min_count': 18, 'vector_size': 32}\n"
     ]
    },
    {
     "name": "stderr",
     "output_type": "stream",
     "text": [
      "[I 2024-09-01 22:59:07,058] Trial 19 finished with value: 0.08302210204162766 and parameters: {'sg': 0, 'window': 2, 'ns_exponent': 2.8218508958476636, 'negative': 14, 'min_count': 18, 'vector_size': 32}. Best is trial 17 with value: 0.1370429749989143.\n"
     ]
    },
    {
     "name": "stdout",
     "output_type": "stream",
     "text": [
      "NDCG@20 = 0.0830, Hitrate@20 = 0.3133\n"
     ]
    },
    {
     "data": {
      "text/plain": [
       "{'sg': 0,\n",
       " 'window': 2,\n",
       " 'ns_exponent': -0.5263680208795772,\n",
       " 'negative': 14,\n",
       " 'min_count': 19,\n",
       " 'vector_size': 32}"
      ]
     },
     "execution_count": 54,
     "metadata": {},
     "output_type": "execute_result"
    }
   ],
   "source": [
    "def evaluate_model(model):\n",
    "    ndcg_list = []\n",
    "    hitrate_list = []\n",
    "    for train_ids, y_rel in grouped_df.select('train_item_ids', 'test_item_ids').rows():\n",
    "        model_preds = model.predict_output_word(train_ids[-model.window:], topn=(TOP_K + len(train_ids)))\n",
    "        if model_preds is None:\n",
    "            ndcg_list.append(0)\n",
    "            hitrate_list.append(0)\n",
    "            continue\n",
    "\n",
    "        y_rec = [pred[0] for pred in model_preds if pred[0] not in train_ids]\n",
    "        ndcg_list.append(user_ndcg(y_rel, y_rec))\n",
    "        hitrate_list.append(user_hitrate(y_rel, y_rec))\n",
    "    return np.mean(ndcg_list), np.mean(hitrate_list)\n",
    "\n",
    "\n",
    "def objective(trial):\n",
    "    sg = trial.suggest_categorical('sg', [0, 1])\n",
    "    window = trial.suggest_int('window', 1, 10)\n",
    "    ns_exponent = trial.suggest_float('ns_exponent', -3, 3)\n",
    "    negative = trial.suggest_int('negative', 3, 20)\n",
    "    min_count = trial.suggest_int('min_count', 0, 20)\n",
    "    vector_size = trial.suggest_categorical('vector_size', [16, 32, 64, 128])\n",
    "    \n",
    "    print({\n",
    "        'sg': sg,\n",
    "        'window_len': window,\n",
    "        'ns_exponent': ns_exponent,\n",
    "        'negative': negative,\n",
    "        'min_count': min_count,\n",
    "        'vector_size': vector_size,\n",
    "    })\n",
    "    \n",
    "    set_seed()\n",
    "    model = Word2Vec(\n",
    "        grouped_df['train_item_ids'].to_list(),\n",
    "        window=window,\n",
    "        sg=sg,\n",
    "        hs=0,\n",
    "        min_count=min_count,\n",
    "        vector_size=vector_size,\n",
    "        negative=negative,\n",
    "        ns_exponent=ns_exponent,\n",
    "        seed=RANDOM_STATE,\n",
    "        epochs=10,\n",
    "    )\n",
    "    \n",
    "    mean_ndcg, mean_hitrate = evaluate_model(model)\n",
    "    print(f'NDCG@{TOP_K} = {mean_ndcg:.4f}, Hitrate@{TOP_K} = {mean_hitrate:.4f}')\n",
    "    return mean_ndcg\n",
    "    \n",
    "    \n",
    "study = optuna.create_study(directions=('maximize',))\n",
    "study.optimize(objective, n_trials=20)\n",
    "\n",
    "study.best_params"
   ]
  },
  {
   "cell_type": "markdown",
   "id": "4eccbdfc-b071-40e8-9274-b42706000891",
   "metadata": {},
   "source": []
  },
  {
   "cell_type": "code",
   "execution_count": 55,
   "id": "3e2493e5",
   "metadata": {
    "execution": {
     "iopub.execute_input": "2024-09-01T19:59:07.265064Z",
     "iopub.status.busy": "2024-09-01T19:59:07.264102Z",
     "iopub.status.idle": "2024-09-01T19:59:32.663865Z",
     "shell.execute_reply": "2024-09-01T19:59:32.662892Z",
     "shell.execute_reply.started": "2024-09-01T19:59:07.265033Z"
    },
    "scrolled": true
   },
   "outputs": [
    {
     "name": "stdout",
     "output_type": "stream",
     "text": [
      "NDCG@20 = 0.1621, Hitrate@20 = 0.5152\n"
     ]
    }
   ],
   "source": [
    "set_seed()\n",
    "w2v_model = Word2Vec(\n",
    "    grouped_df['train_item_ids'].to_list(),\n",
    "    hs=0,\n",
    "    seed=RANDOM_STATE,\n",
    "    epochs=30,\n",
    "    sg=0,\n",
    "    window=1,\n",
    "    ns_exponent=0.2,\n",
    "    negative=20,\n",
    "    min_count=3,\n",
    "    vector_size=16,\n",
    ")\n",
    "\n",
    "mean_ndcg, mean_hitrate = evaluate_model(w2v_model)\n",
    "print(f'NDCG@{TOP_K} = {mean_ndcg:.4f}, Hitrate@{TOP_K} = {mean_hitrate:.4f}')"
   ]
  },
  {
   "cell_type": "markdown",
   "id": "7bd8786d",
   "metadata": {},
   "source": [
    "## Ранжирующая модель"
   ]
  },
  {
   "cell_type": "markdown",
   "id": "aab3deed",
   "metadata": {},
   "source": [
    "Для ранжирования нам хотелось бы учитывать больше признаков для пользователей и объектов, в датасете movielens-1M, к счастью, все это имеется из коробки\n",
    "\n",
    "Для _пользователей_ есть следующие признаки:\n",
    "- gender (пол пользователя, категориальный признак)\n",
    "- age (возраст пользователя, численный признак)\n",
    "- occupation (род дейтельности, категориальный признак)\n",
    "- zip_code (почтовый индекс пользователя, категориальный признак)"
   ]
  },
  {
   "cell_type": "code",
   "execution_count": 56,
   "id": "7ac34a32",
   "metadata": {
    "execution": {
     "iopub.execute_input": "2024-09-01T19:59:32.666361Z",
     "iopub.status.busy": "2024-09-01T19:59:32.665840Z",
     "iopub.status.idle": "2024-09-01T19:59:32.703049Z",
     "shell.execute_reply": "2024-09-01T19:59:32.702336Z",
     "shell.execute_reply.started": "2024-09-01T19:59:32.666330Z"
    },
    "scrolled": true
   },
   "outputs": [
    {
     "data": {
      "text/html": [
       "<div><style>\n",
       ".dataframe > thead > tr,\n",
       ".dataframe > tbody > tr {\n",
       "  text-align: right;\n",
       "  white-space: pre-wrap;\n",
       "}\n",
       "</style>\n",
       "<small>shape: (6_040, 5)</small><table border=\"1\" class=\"dataframe\"><thead><tr><th>user_id</th><th>gender</th><th>age</th><th>occupation</th><th>zip_code</th></tr><tr><td>i64</td><td>str</td><td>i64</td><td>i64</td><td>str</td></tr></thead><tbody><tr><td>1</td><td>&quot;F&quot;</td><td>1</td><td>10</td><td>&quot;48067&quot;</td></tr><tr><td>2</td><td>&quot;M&quot;</td><td>56</td><td>16</td><td>&quot;70072&quot;</td></tr><tr><td>3</td><td>&quot;M&quot;</td><td>25</td><td>15</td><td>&quot;55117&quot;</td></tr><tr><td>4</td><td>&quot;M&quot;</td><td>45</td><td>7</td><td>&quot;02460&quot;</td></tr><tr><td>5</td><td>&quot;M&quot;</td><td>25</td><td>20</td><td>&quot;55455&quot;</td></tr><tr><td>&hellip;</td><td>&hellip;</td><td>&hellip;</td><td>&hellip;</td><td>&hellip;</td></tr><tr><td>6036</td><td>&quot;F&quot;</td><td>25</td><td>15</td><td>&quot;32603&quot;</td></tr><tr><td>6037</td><td>&quot;F&quot;</td><td>45</td><td>1</td><td>&quot;76006&quot;</td></tr><tr><td>6038</td><td>&quot;F&quot;</td><td>56</td><td>1</td><td>&quot;14706&quot;</td></tr><tr><td>6039</td><td>&quot;F&quot;</td><td>45</td><td>0</td><td>&quot;01060&quot;</td></tr><tr><td>6040</td><td>&quot;M&quot;</td><td>25</td><td>6</td><td>&quot;11106&quot;</td></tr></tbody></table></div>"
      ],
      "text/plain": [
       "shape: (6_040, 5)\n",
       "┌─────────┬────────┬─────┬────────────┬──────────┐\n",
       "│ user_id ┆ gender ┆ age ┆ occupation ┆ zip_code │\n",
       "│ ---     ┆ ---    ┆ --- ┆ ---        ┆ ---      │\n",
       "│ i64     ┆ str    ┆ i64 ┆ i64        ┆ str      │\n",
       "╞═════════╪════════╪═════╪════════════╪══════════╡\n",
       "│ 1       ┆ F      ┆ 1   ┆ 10         ┆ 48067    │\n",
       "│ 2       ┆ M      ┆ 56  ┆ 16         ┆ 70072    │\n",
       "│ 3       ┆ M      ┆ 25  ┆ 15         ┆ 55117    │\n",
       "│ 4       ┆ M      ┆ 45  ┆ 7          ┆ 02460    │\n",
       "│ 5       ┆ M      ┆ 25  ┆ 20         ┆ 55455    │\n",
       "│ …       ┆ …      ┆ …   ┆ …          ┆ …        │\n",
       "│ 6036    ┆ F      ┆ 25  ┆ 15         ┆ 32603    │\n",
       "│ 6037    ┆ F      ┆ 45  ┆ 1          ┆ 76006    │\n",
       "│ 6038    ┆ F      ┆ 56  ┆ 1          ┆ 14706    │\n",
       "│ 6039    ┆ F      ┆ 45  ┆ 0          ┆ 01060    │\n",
       "│ 6040    ┆ M      ┆ 25  ┆ 6          ┆ 11106    │\n",
       "└─────────┴────────┴─────┴────────────┴──────────┘"
      ]
     },
     "execution_count": 56,
     "metadata": {},
     "output_type": "execute_result"
    }
   ],
   "source": [
    "user_features = pd.read_csv(\n",
    "    'ml-1m/users.dat', delimiter='::', header=None, \n",
    "    names=['user_id', 'gender', 'age', 'occupation', 'zip_code'], \n",
    "    engine='python'\n",
    ")\n",
    "user_features = pl.from_pandas(user_features)\n",
    "user_features"
   ]
  },
  {
   "cell_type": "markdown",
   "id": "4d014aa1",
   "metadata": {},
   "source": [
    "Для _объектов_ есть следующие признаки:\n",
    "- title (название тайтла, строка)\n",
    "- genres (жанр тайтла, список категориальных признаков)"
   ]
  },
  {
   "cell_type": "code",
   "execution_count": 58,
   "id": "bd5512e9",
   "metadata": {
    "execution": {
     "iopub.execute_input": "2024-09-01T20:00:54.219670Z",
     "iopub.status.busy": "2024-09-01T20:00:54.218138Z",
     "iopub.status.idle": "2024-09-01T20:00:54.275679Z",
     "shell.execute_reply": "2024-09-01T20:00:54.274833Z",
     "shell.execute_reply.started": "2024-09-01T20:00:54.219628Z"
    },
    "scrolled": true,
    "tags": []
   },
   "outputs": [
    {
     "name": "stderr",
     "output_type": "stream",
     "text": [
      "/tmp/ipykernel_3342/2173930359.py:7: MapWithoutReturnDtypeWarning: Calling `map_elements` without specifying `return_dtype` can lead to unpredictable results. Specify `return_dtype` to silence this warning.\n",
      "  item_features = item_features.with_columns(pl.col('genres').map_elements(lambda x: x.split('|')))\n"
     ]
    },
    {
     "data": {
      "text/html": [
       "<div><style>\n",
       ".dataframe > thead > tr,\n",
       ".dataframe > tbody > tr {\n",
       "  text-align: right;\n",
       "  white-space: pre-wrap;\n",
       "}\n",
       "</style>\n",
       "<small>shape: (3_883, 3)</small><table border=\"1\" class=\"dataframe\"><thead><tr><th>item_id</th><th>title</th><th>genres</th></tr><tr><td>i64</td><td>str</td><td>list[str]</td></tr></thead><tbody><tr><td>1</td><td>&quot;Toy Story (1995)&quot;</td><td>[&quot;Animation&quot;, &quot;Children&#x27;s&quot;, &quot;Comedy&quot;]</td></tr><tr><td>2</td><td>&quot;Jumanji (1995)&quot;</td><td>[&quot;Adventure&quot;, &quot;Children&#x27;s&quot;, &quot;Fantasy&quot;]</td></tr><tr><td>3</td><td>&quot;Grumpier Old Men (1995)&quot;</td><td>[&quot;Comedy&quot;, &quot;Romance&quot;]</td></tr><tr><td>4</td><td>&quot;Waiting to Exhale (1995)&quot;</td><td>[&quot;Comedy&quot;, &quot;Drama&quot;]</td></tr><tr><td>5</td><td>&quot;Father of the Bride Part II (1…</td><td>[&quot;Comedy&quot;]</td></tr><tr><td>&hellip;</td><td>&hellip;</td><td>&hellip;</td></tr><tr><td>3948</td><td>&quot;Meet the Parents (2000)&quot;</td><td>[&quot;Comedy&quot;]</td></tr><tr><td>3949</td><td>&quot;Requiem for a Dream (2000)&quot;</td><td>[&quot;Drama&quot;]</td></tr><tr><td>3950</td><td>&quot;Tigerland (2000)&quot;</td><td>[&quot;Drama&quot;]</td></tr><tr><td>3951</td><td>&quot;Two Family House (2000)&quot;</td><td>[&quot;Drama&quot;]</td></tr><tr><td>3952</td><td>&quot;Contender, The (2000)&quot;</td><td>[&quot;Drama&quot;, &quot;Thriller&quot;]</td></tr></tbody></table></div>"
      ],
      "text/plain": [
       "shape: (3_883, 3)\n",
       "┌─────────┬─────────────────────────────────┬─────────────────────────────────┐\n",
       "│ item_id ┆ title                           ┆ genres                          │\n",
       "│ ---     ┆ ---                             ┆ ---                             │\n",
       "│ i64     ┆ str                             ┆ list[str]                       │\n",
       "╞═════════╪═════════════════════════════════╪═════════════════════════════════╡\n",
       "│ 1       ┆ Toy Story (1995)                ┆ [\"Animation\", \"Children's\", \"C… │\n",
       "│ 2       ┆ Jumanji (1995)                  ┆ [\"Adventure\", \"Children's\", \"F… │\n",
       "│ 3       ┆ Grumpier Old Men (1995)         ┆ [\"Comedy\", \"Romance\"]           │\n",
       "│ 4       ┆ Waiting to Exhale (1995)        ┆ [\"Comedy\", \"Drama\"]             │\n",
       "│ 5       ┆ Father of the Bride Part II (1… ┆ [\"Comedy\"]                      │\n",
       "│ …       ┆ …                               ┆ …                               │\n",
       "│ 3948    ┆ Meet the Parents (2000)         ┆ [\"Comedy\"]                      │\n",
       "│ 3949    ┆ Requiem for a Dream (2000)      ┆ [\"Drama\"]                       │\n",
       "│ 3950    ┆ Tigerland (2000)                ┆ [\"Drama\"]                       │\n",
       "│ 3951    ┆ Two Family House (2000)         ┆ [\"Drama\"]                       │\n",
       "│ 3952    ┆ Contender, The (2000)           ┆ [\"Drama\", \"Thriller\"]           │\n",
       "└─────────┴─────────────────────────────────┴─────────────────────────────────┘"
      ]
     },
     "execution_count": 58,
     "metadata": {},
     "output_type": "execute_result"
    }
   ],
   "source": [
    "item_features = pd.read_csv(\n",
    "    'ml-1m/movies.dat', delimiter='::', header=None, \n",
    "    names=['item_id', 'title', 'genres'],\n",
    "    engine='python', encoding='latin-1'\n",
    ")\n",
    "item_features = pl.from_pandas(item_features)\n",
    "item_features = item_features.with_columns(pl.col('genres').map_elements(lambda x: x.split('|')))\n",
    "item_features"
   ]
  },
  {
   "cell_type": "markdown",
   "id": "369cf216",
   "metadata": {},
   "source": [
    "## Соберем датасет для ранжирования\n",
    "\n",
    "В качестве **позитивных** объектов мы будем использовать те взаимодействия, где оценка >= 4\n",
    "\n",
    "В качестве **негативных** объектов мы можем использовать те взаимодействия, где оценка < 4, однако для implicit реакции этот подход не всегда подходит и для простоты мы будем сэмплировать негативные примеры на примере сессионных рекомендаций"
   ]
  },
  {
   "cell_type": "code",
   "execution_count": 65,
   "id": "fbc90da2",
   "metadata": {
    "execution": {
     "iopub.execute_input": "2024-09-01T20:02:51.117717Z",
     "iopub.status.busy": "2024-09-01T20:02:51.116373Z",
     "iopub.status.idle": "2024-09-01T20:02:51.144992Z",
     "shell.execute_reply": "2024-09-01T20:02:51.144048Z",
     "shell.execute_reply.started": "2024-09-01T20:02:51.117680Z"
    },
    "tags": []
   },
   "outputs": [
    {
     "name": "stderr",
     "output_type": "stream",
     "text": [
      "/tmp/ipykernel_3342/167987760.py:6: DeprecationWarning: `GroupBy.count` is deprecated. It has been renamed to `len`.\n",
      "  for item_id, count in ratings.group_by('item_id').count().rows():\n"
     ]
    }
   ],
   "source": [
    "ns_exponent = 0.75  # степень популярности объекта\n",
    "items_set = ratings['item_id'].unique()\n",
    "\n",
    "# предподсчитаем вероятности в сэмплировании негативных примеров\n",
    "item_probs = dict()\n",
    "for item_id, count in ratings.group_by('item_id').count().rows():\n",
    "    item_probs[item_id] = count / len(ratings)\n",
    "\n",
    "item_probs = np.array([\n",
    "    item_probs.get(item_id, 0.)\n",
    "    for item_id in items_set\n",
    "])**ns_exponent\n",
    "item_probs /= np.sum(item_probs)  # normalize so that it's probabilities"
   ]
  },
  {
   "cell_type": "code",
   "execution_count": 67,
   "id": "d9625d05",
   "metadata": {
    "execution": {
     "iopub.execute_input": "2024-09-01T20:04:54.242722Z",
     "iopub.status.busy": "2024-09-01T20:04:54.242011Z",
     "iopub.status.idle": "2024-09-01T20:05:02.136140Z",
     "shell.execute_reply": "2024-09-01T20:05:02.135128Z",
     "shell.execute_reply.started": "2024-09-01T20:04:54.242684Z"
    },
    "scrolled": true,
    "tags": []
   },
   "outputs": [
    {
     "name": "stderr",
     "output_type": "stream",
     "text": [
      "/home/appuser/.conda/envs/pytorch/lib/python3.9/functools.py:888: DataOrientationWarning: Row orientation inferred during DataFrame construction. Explicitly specify the orientation by passing `orient=\"row\"` to silence this warning.\n",
      "  return dispatch(args[0].__class__)(*args, **kw)\n"
     ]
    },
    {
     "data": {
      "text/html": [
       "<div><style>\n",
       ".dataframe > thead > tr,\n",
       ".dataframe > tbody > tr {\n",
       "  text-align: right;\n",
       "  white-space: pre-wrap;\n",
       "}\n",
       "</style>\n",
       "<small>shape: (2_585_555, 3)</small><table border=\"1\" class=\"dataframe\"><thead><tr><th>user_id</th><th>item_id</th><th>target</th></tr><tr><td>i64</td><td>i64</td><td>i64</td></tr></thead><tbody><tr><td>1980</td><td>1</td><td>1</td></tr><tr><td>1980</td><td>2059</td><td>1</td></tr><tr><td>1980</td><td>11</td><td>1</td></tr><tr><td>1980</td><td>2064</td><td>1</td></tr><tr><td>1980</td><td>2065</td><td>1</td></tr><tr><td>&hellip;</td><td>&hellip;</td><td>&hellip;</td></tr><tr><td>6026</td><td>935</td><td>0</td></tr><tr><td>6026</td><td>2005</td><td>0</td></tr><tr><td>6026</td><td>1035</td><td>0</td></tr><tr><td>6026</td><td>3039</td><td>0</td></tr><tr><td>6026</td><td>3000</td><td>0</td></tr></tbody></table></div>"
      ],
      "text/plain": [
       "shape: (2_585_555, 3)\n",
       "┌─────────┬─────────┬────────┐\n",
       "│ user_id ┆ item_id ┆ target │\n",
       "│ ---     ┆ ---     ┆ ---    │\n",
       "│ i64     ┆ i64     ┆ i64    │\n",
       "╞═════════╪═════════╪════════╡\n",
       "│ 1980    ┆ 1       ┆ 1      │\n",
       "│ 1980    ┆ 2059    ┆ 1      │\n",
       "│ 1980    ┆ 11      ┆ 1      │\n",
       "│ 1980    ┆ 2064    ┆ 1      │\n",
       "│ 1980    ┆ 2065    ┆ 1      │\n",
       "│ …       ┆ …       ┆ …      │\n",
       "│ 6026    ┆ 935     ┆ 0      │\n",
       "│ 6026    ┆ 2005    ┆ 0      │\n",
       "│ 6026    ┆ 1035    ┆ 0      │\n",
       "│ 6026    ┆ 3039    ┆ 0      │\n",
       "│ 6026    ┆ 3000    ┆ 0      │\n",
       "└─────────┴─────────┴────────┘"
      ]
     },
     "execution_count": 67,
     "metadata": {},
     "output_type": "execute_result"
    }
   ],
   "source": [
    "set_seed()\n",
    "\n",
    "n_negatives = 3  # кол-во негативных примеров на один позитивный\n",
    "\n",
    "ranking_dataset = []\n",
    "for user_id, pos_ids in ratings.group_by('user_id').agg(pl.col('item_id').alias('item_ids')).rows():\n",
    "    pos_ids = set(pos_ids)\n",
    "    # на каждый позитивный объект (len(pos_ids)) сэмплируем n_negatives негативных\n",
    "    # и еще len(pos_ids) для фильтрации\n",
    "    n_items_to_sample = min(\n",
    "        len(item_probs),\n",
    "        len(pos_ids) * (n_negatives + 1)\n",
    "    )\n",
    "    \n",
    "    neg_ids = [\n",
    "        item_id\n",
    "        for item_id in np.random.choice(\n",
    "            items_set,\n",
    "            n_items_to_sample,\n",
    "            replace=False,  # сэмплируем только уникальные объекты\n",
    "            p=item_probs  # сэмплируем чаще популярные объекты для негативов\n",
    "        )\n",
    "        if item_id not in pos_ids\n",
    "    ]\n",
    "    \n",
    "    for item_id in pos_ids:\n",
    "        ranking_dataset.append([user_id, item_id, 1])\n",
    "    for item_id in neg_ids:\n",
    "        ranking_dataset.append([user_id, item_id, 0])\n",
    "    \n",
    "ranking_dataset = pl.DataFrame(ranking_dataset, schema=['user_id', 'item_id', 'target'])\n",
    "ranking_dataset"
   ]
  },
  {
   "cell_type": "code",
   "execution_count": 68,
   "id": "9c7089ca",
   "metadata": {
    "execution": {
     "iopub.execute_input": "2024-09-01T20:05:11.399662Z",
     "iopub.status.busy": "2024-09-01T20:05:11.398516Z",
     "iopub.status.idle": "2024-09-01T20:05:12.430995Z",
     "shell.execute_reply": "2024-09-01T20:05:12.430223Z",
     "shell.execute_reply.started": "2024-09-01T20:05:11.399612Z"
    },
    "scrolled": true
   },
   "outputs": [
    {
     "data": {
      "text/html": [
       "<div><style>\n",
       ".dataframe > thead > tr,\n",
       ".dataframe > tbody > tr {\n",
       "  text-align: right;\n",
       "  white-space: pre-wrap;\n",
       "}\n",
       "</style>\n",
       "<small>shape: (2_585_555, 7)</small><table border=\"1\" class=\"dataframe\"><thead><tr><th>user_id</th><th>item_id</th><th>target</th><th>gender</th><th>age</th><th>occupation</th><th>zip_code</th></tr><tr><td>i64</td><td>i64</td><td>i64</td><td>str</td><td>i64</td><td>i64</td><td>str</td></tr></thead><tbody><tr><td>1980</td><td>1</td><td>1</td><td>&quot;M&quot;</td><td>35</td><td>7</td><td>&quot;06460&quot;</td></tr><tr><td>1980</td><td>2059</td><td>1</td><td>&quot;M&quot;</td><td>35</td><td>7</td><td>&quot;06460&quot;</td></tr><tr><td>1980</td><td>11</td><td>1</td><td>&quot;M&quot;</td><td>35</td><td>7</td><td>&quot;06460&quot;</td></tr><tr><td>1980</td><td>2064</td><td>1</td><td>&quot;M&quot;</td><td>35</td><td>7</td><td>&quot;06460&quot;</td></tr><tr><td>1980</td><td>2065</td><td>1</td><td>&quot;M&quot;</td><td>35</td><td>7</td><td>&quot;06460&quot;</td></tr><tr><td>&hellip;</td><td>&hellip;</td><td>&hellip;</td><td>&hellip;</td><td>&hellip;</td><td>&hellip;</td><td>&hellip;</td></tr><tr><td>6026</td><td>935</td><td>0</td><td>&quot;M&quot;</td><td>35</td><td>6</td><td>&quot;11210&quot;</td></tr><tr><td>6026</td><td>2005</td><td>0</td><td>&quot;M&quot;</td><td>35</td><td>6</td><td>&quot;11210&quot;</td></tr><tr><td>6026</td><td>1035</td><td>0</td><td>&quot;M&quot;</td><td>35</td><td>6</td><td>&quot;11210&quot;</td></tr><tr><td>6026</td><td>3039</td><td>0</td><td>&quot;M&quot;</td><td>35</td><td>6</td><td>&quot;11210&quot;</td></tr><tr><td>6026</td><td>3000</td><td>0</td><td>&quot;M&quot;</td><td>35</td><td>6</td><td>&quot;11210&quot;</td></tr></tbody></table></div>"
      ],
      "text/plain": [
       "shape: (2_585_555, 7)\n",
       "┌─────────┬─────────┬────────┬────────┬─────┬────────────┬──────────┐\n",
       "│ user_id ┆ item_id ┆ target ┆ gender ┆ age ┆ occupation ┆ zip_code │\n",
       "│ ---     ┆ ---     ┆ ---    ┆ ---    ┆ --- ┆ ---        ┆ ---      │\n",
       "│ i64     ┆ i64     ┆ i64    ┆ str    ┆ i64 ┆ i64        ┆ str      │\n",
       "╞═════════╪═════════╪════════╪════════╪═════╪════════════╪══════════╡\n",
       "│ 1980    ┆ 1       ┆ 1      ┆ M      ┆ 35  ┆ 7          ┆ 06460    │\n",
       "│ 1980    ┆ 2059    ┆ 1      ┆ M      ┆ 35  ┆ 7          ┆ 06460    │\n",
       "│ 1980    ┆ 11      ┆ 1      ┆ M      ┆ 35  ┆ 7          ┆ 06460    │\n",
       "│ 1980    ┆ 2064    ┆ 1      ┆ M      ┆ 35  ┆ 7          ┆ 06460    │\n",
       "│ 1980    ┆ 2065    ┆ 1      ┆ M      ┆ 35  ┆ 7          ┆ 06460    │\n",
       "│ …       ┆ …       ┆ …      ┆ …      ┆ …   ┆ …          ┆ …        │\n",
       "│ 6026    ┆ 935     ┆ 0      ┆ M      ┆ 35  ┆ 6          ┆ 11210    │\n",
       "│ 6026    ┆ 2005    ┆ 0      ┆ M      ┆ 35  ┆ 6          ┆ 11210    │\n",
       "│ 6026    ┆ 1035    ┆ 0      ┆ M      ┆ 35  ┆ 6          ┆ 11210    │\n",
       "│ 6026    ┆ 3039    ┆ 0      ┆ M      ┆ 35  ┆ 6          ┆ 11210    │\n",
       "│ 6026    ┆ 3000    ┆ 0      ┆ M      ┆ 35  ┆ 6          ┆ 11210    │\n",
       "└─────────┴─────────┴────────┴────────┴─────┴────────────┴──────────┘"
      ]
     },
     "execution_count": 68,
     "metadata": {},
     "output_type": "execute_result"
    }
   ],
   "source": [
    "# соединим датасет с признаками пользователей и объектов\n",
    "ranking_dataset_with_features = (\n",
    "    ranking_dataset\n",
    "    .join(user_features, 'user_id')\n",
    "    .join(item_features, 'item_id')\n",
    ").drop(['title', 'genres'])  # пока что мы не будем использовать признаки для объектов, вам предлагается попробовать\n",
    "# вам предлагается попробовать эффективно закодировать эти признаки и еще улучшить метрики\n",
    "\n",
    "ranking_dataset_with_features"
   ]
  },
  {
   "cell_type": "markdown",
   "id": "65399389",
   "metadata": {},
   "source": [
    "## Обучаем catboost\n",
    "\n",
    "Большая часть признаков получилась категориальными, чтобы не думать над эффективным кодированием этих признаков мы воспользуемся библиотекой `catboost`\n",
    "\n",
    "Класс Pool позволяет обернуть наши данные с возможностью указать группу для group-wise ранжирования"
   ]
  },
  {
   "cell_type": "code",
   "execution_count": 69,
   "id": "fa7ee05f",
   "metadata": {
    "execution": {
     "iopub.execute_input": "2024-09-01T20:05:37.670449Z",
     "iopub.status.busy": "2024-09-01T20:05:37.669202Z",
     "iopub.status.idle": "2024-09-01T20:08:54.721545Z",
     "shell.execute_reply": "2024-09-01T20:08:54.720297Z",
     "shell.execute_reply.started": "2024-09-01T20:05:37.670412Z"
    },
    "scrolled": true
   },
   "outputs": [
    {
     "data": {
      "application/vnd.jupyter.widget-view+json": {
       "model_id": "e6453d3ca2c94d0cbb08fd0c205f0783",
       "version_major": 2,
       "version_minor": 0
      },
      "text/plain": [
       "MetricVisualizer(layout=Layout(align_self='stretch', height='500px'))"
      ]
     },
     "metadata": {},
     "output_type": "display_data"
    },
    {
     "data": {
      "text/plain": [
       "<catboost.core.CatBoostClassifier at 0x7ff8aa7b7370>"
      ]
     },
     "execution_count": 69,
     "metadata": {},
     "output_type": "execute_result"
    }
   ],
   "source": [
    "train_dataset, test_dataset = train_test_split(\n",
    "    ranking_dataset_with_features, test_size=0.1, random_state=RANDOM_STATE\n",
    ")\n",
    "# отсортируем, чтобы использовать group_id в классе Pool\n",
    "train_dataset = train_dataset.sort('user_id')\n",
    "test_dataset = test_dataset.sort('user_id')\n",
    "\n",
    "cat_features=['user_id', 'item_id', 'gender', 'zip_code', 'occupation']\n",
    "\n",
    "train_pool = Pool(\n",
    "    train_dataset.drop(['target']).to_pandas(),\n",
    "    train_dataset['target'].to_list(),\n",
    "    # используется для подсчета groupwise метрик, например NDCG\n",
    "    group_id=train_dataset['user_id'].to_list(),\n",
    "    cat_features=cat_features\n",
    ")\n",
    "\n",
    "test_pool = Pool(\n",
    "    test_dataset.drop(['target']).to_pandas(),\n",
    "    test_dataset['target'].to_list(),\n",
    "    group_id=test_dataset['user_id'].to_list(),\n",
    "    cat_features=cat_features\n",
    ")\n",
    "\n",
    "# обучаем модель классификации, так как она работает сильно быстрее, чем модель ранжирования\n",
    "# в качестве метрик можно смотреть на NDCG, MAP и AUC\n",
    "ranking_model = CatBoostClassifier(**{\n",
    "    'iterations': 300,\n",
    "    'verbose': False,\n",
    "    'random_state': RANDOM_STATE,\n",
    "    'use_best_model': True,\n",
    "    'custom_metric': [f'NDCG:top={TOP_K}', f'MAP:top={TOP_K}', 'AUC']\n",
    "})\n",
    "ranking_model.fit(train_pool, plot=True, eval_set=test_pool)"
   ]
  },
  {
   "cell_type": "markdown",
   "id": "169faa39",
   "metadata": {},
   "source": [
    "## Оценим результаты ранжирования"
   ]
  },
  {
   "cell_type": "markdown",
   "id": "ed1ce57b",
   "metadata": {},
   "source": [
    "подготовим наши кандидаты в виде списков для каждого пользователя"
   ]
  },
  {
   "cell_type": "code",
   "execution_count": 70,
   "id": "84380c24",
   "metadata": {
    "execution": {
     "iopub.execute_input": "2024-09-01T20:08:54.906499Z",
     "iopub.status.busy": "2024-09-01T20:08:54.906250Z",
     "iopub.status.idle": "2024-09-01T20:08:56.004363Z",
     "shell.execute_reply": "2024-09-01T20:08:56.003625Z",
     "shell.execute_reply.started": "2024-09-01T20:08:54.906476Z"
    },
    "scrolled": true
   },
   "outputs": [
    {
     "data": {
      "text/html": [
       "<div><style>\n",
       ".dataframe > thead > tr,\n",
       ".dataframe > tbody > tr {\n",
       "  text-align: right;\n",
       "  white-space: pre-wrap;\n",
       "}\n",
       "</style>\n",
       "<small>shape: (6_038, 2)</small><table border=\"1\" class=\"dataframe\"><thead><tr><th>user_id</th><th>candidates</th></tr><tr><td>i64</td><td>list[i64]</td></tr></thead><tbody><tr><td>4073</td><td>[1263, 260, … 1408]</td></tr><tr><td>2236</td><td>[3578, 3555, … 3745]</td></tr><tr><td>2370</td><td>[527, 1208, … 2762]</td></tr><tr><td>268</td><td>[1569, 356, … 524]</td></tr><tr><td>6</td><td>[899, 919, … 3555]</td></tr><tr><td>&hellip;</td><td>&hellip;</td></tr><tr><td>4710</td><td>[1197, 2858, … 1210]</td></tr><tr><td>5627</td><td>[246, 919, … 1201]</td></tr><tr><td>4454</td><td>[1617, 293, … 480]</td></tr><tr><td>1170</td><td>[3504, 1997, … 356]</td></tr><tr><td>4847</td><td>[2804, 111, … 2762]</td></tr></tbody></table></div>"
      ],
      "text/plain": [
       "shape: (6_038, 2)\n",
       "┌─────────┬──────────────────────┐\n",
       "│ user_id ┆ candidates           │\n",
       "│ ---     ┆ ---                  │\n",
       "│ i64     ┆ list[i64]            │\n",
       "╞═════════╪══════════════════════╡\n",
       "│ 4073    ┆ [1263, 260, … 1408]  │\n",
       "│ 2236    ┆ [3578, 3555, … 3745] │\n",
       "│ 2370    ┆ [527, 1208, … 2762]  │\n",
       "│ 268     ┆ [1569, 356, … 524]   │\n",
       "│ 6       ┆ [899, 919, … 3555]   │\n",
       "│ …       ┆ …                    │\n",
       "│ 4710    ┆ [1197, 2858, … 1210] │\n",
       "│ 5627    ┆ [246, 919, … 1201]   │\n",
       "│ 4454    ┆ [1617, 293, … 480]   │\n",
       "│ 1170    ┆ [3504, 1997, … 356]  │\n",
       "│ 4847    ┆ [2804, 111, … 2762]  │\n",
       "└─────────┴──────────────────────┘"
      ]
     },
     "execution_count": 70,
     "metadata": {},
     "output_type": "execute_result"
    }
   ],
   "source": [
    "# сформируем датафрейм с кандидатами из модели als\n",
    "als_candidates = pl.DataFrame({\n",
    "    'user_id': grouped_df['user_id'],\n",
    "    'candidates': [\n",
    "        [item_id for item_id in als_recs[user_id] if item_id not in user_history][:TOP_K]\n",
    "        for user_id, user_history in grouped_df.select('user_id', 'train_item_ids').rows()\n",
    "    ]\n",
    "})\n",
    "als_candidates"
   ]
  },
  {
   "cell_type": "code",
   "execution_count": 71,
   "id": "153a8ef0",
   "metadata": {
    "execution": {
     "iopub.execute_input": "2024-09-01T20:08:56.006977Z",
     "iopub.status.busy": "2024-09-01T20:08:56.006143Z",
     "iopub.status.idle": "2024-09-01T20:08:57.976785Z",
     "shell.execute_reply": "2024-09-01T20:08:57.976023Z",
     "shell.execute_reply.started": "2024-09-01T20:08:56.006945Z"
    },
    "scrolled": true
   },
   "outputs": [
    {
     "data": {
      "text/html": [
       "<div><style>\n",
       ".dataframe > thead > tr,\n",
       ".dataframe > tbody > tr {\n",
       "  text-align: right;\n",
       "  white-space: pre-wrap;\n",
       "}\n",
       "</style>\n",
       "<small>shape: (6_038, 2)</small><table border=\"1\" class=\"dataframe\"><thead><tr><th>user_id</th><th>candidates</th></tr><tr><td>i64</td><td>list[i64]</td></tr></thead><tbody><tr><td>4073</td><td>[1221, 2028, … 2959]</td></tr><tr><td>2236</td><td>[94, 1089, … 1088]</td></tr><tr><td>2370</td><td>[1235, 1231, … 1307]</td></tr><tr><td>268</td><td>[2116, 2114, … 1179]</td></tr><tr><td>6</td><td>[1678, 1673, … 3424]</td></tr><tr><td>&hellip;</td><td>&hellip;</td></tr><tr><td>4710</td><td>[2763, 1022, … 3565]</td></tr><tr><td>5627</td><td>[1092, 1238, … 2037]</td></tr><tr><td>4454</td><td>[2011, 2012, … 534]</td></tr><tr><td>1170</td><td>[1238, 1240, … 1231]</td></tr><tr><td>4847</td><td>[164, 3521, … 161]</td></tr></tbody></table></div>"
      ],
      "text/plain": [
       "shape: (6_038, 2)\n",
       "┌─────────┬──────────────────────┐\n",
       "│ user_id ┆ candidates           │\n",
       "│ ---     ┆ ---                  │\n",
       "│ i64     ┆ list[i64]            │\n",
       "╞═════════╪══════════════════════╡\n",
       "│ 4073    ┆ [1221, 2028, … 2959] │\n",
       "│ 2236    ┆ [94, 1089, … 1088]   │\n",
       "│ 2370    ┆ [1235, 1231, … 1307] │\n",
       "│ 268     ┆ [2116, 2114, … 1179] │\n",
       "│ 6       ┆ [1678, 1673, … 3424] │\n",
       "│ …       ┆ …                    │\n",
       "│ 4710    ┆ [2763, 1022, … 3565] │\n",
       "│ 5627    ┆ [1092, 1238, … 2037] │\n",
       "│ 4454    ┆ [2011, 2012, … 534]  │\n",
       "│ 1170    ┆ [1238, 1240, … 1231] │\n",
       "│ 4847    ┆ [164, 3521, … 161]   │\n",
       "└─────────┴──────────────────────┘"
      ]
     },
     "execution_count": 71,
     "metadata": {},
     "output_type": "execute_result"
    }
   ],
   "source": [
    "def get_w2v_candidates(w2v_model, train_ids):\n",
    "    model_preds = w2v_model.predict_output_word(\n",
    "        train_ids[-w2v_model.window:], topn=(TOP_K + len(train_ids))\n",
    "    )\n",
    "    if model_preds is None:\n",
    "        return []\n",
    "    \n",
    "    return [pred[0] for pred in model_preds if pred[0] not in train_ids][:TOP_K]\n",
    "    \n",
    "# сформируем датафрейм с кандидатами из модели w2v\n",
    "w2v_candidates = pl.DataFrame({\n",
    "    'user_id': grouped_df['user_id'],\n",
    "    'candidates': [\n",
    "        get_w2v_candidates(w2v_model, train_ids)\n",
    "        for train_ids in grouped_df['train_item_ids'].to_list()\n",
    "    ]\n",
    "})\n",
    "w2v_candidates"
   ]
  },
  {
   "cell_type": "code",
   "execution_count": 72,
   "id": "540abe5e",
   "metadata": {
    "execution": {
     "iopub.execute_input": "2024-09-01T20:08:57.978020Z",
     "iopub.status.busy": "2024-09-01T20:08:57.977764Z",
     "iopub.status.idle": "2024-09-01T20:08:58.395785Z",
     "shell.execute_reply": "2024-09-01T20:08:58.394646Z",
     "shell.execute_reply.started": "2024-09-01T20:08:57.977998Z"
    },
    "scrolled": true
   },
   "outputs": [
    {
     "data": {
      "text/html": [
       "<div><style>\n",
       ".dataframe > thead > tr,\n",
       ".dataframe > tbody > tr {\n",
       "  text-align: right;\n",
       "  white-space: pre-wrap;\n",
       "}\n",
       "</style>\n",
       "<small>shape: (227_640, 7)</small><table border=\"1\" class=\"dataframe\"><thead><tr><th>user_id</th><th>item_id</th><th>gender</th><th>age</th><th>occupation</th><th>zip_code</th><th>rank</th></tr><tr><td>i64</td><td>i64</td><td>str</td><td>i64</td><td>i64</td><td>str</td><td>f64</td></tr></thead><tbody><tr><td>2811</td><td>1081</td><td>&quot;M&quot;</td><td>25</td><td>19</td><td>&quot;94122&quot;</td><td>0.108003</td></tr><tr><td>1555</td><td>2967</td><td>&quot;F&quot;</td><td>18</td><td>0</td><td>&quot;20008&quot;</td><td>0.084012</td></tr><tr><td>2572</td><td>1193</td><td>&quot;M&quot;</td><td>35</td><td>14</td><td>&quot;75005&quot;</td><td>0.494878</td></tr><tr><td>1796</td><td>708</td><td>&quot;M&quot;</td><td>50</td><td>11</td><td>&quot;20852&quot;</td><td>0.15889</td></tr><tr><td>278</td><td>1243</td><td>&quot;M&quot;</td><td>45</td><td>18</td><td>&quot;60482&quot;</td><td>0.094869</td></tr><tr><td>&hellip;</td><td>&hellip;</td><td>&hellip;</td><td>&hellip;</td><td>&hellip;</td><td>&hellip;</td><td>&hellip;</td></tr><tr><td>4487</td><td>2701</td><td>&quot;M&quot;</td><td>25</td><td>7</td><td>&quot;01850&quot;</td><td>0.094917</td></tr><tr><td>602</td><td>1099</td><td>&quot;F&quot;</td><td>56</td><td>6</td><td>&quot;14612&quot;</td><td>0.220101</td></tr><tr><td>1411</td><td>2734</td><td>&quot;M&quot;</td><td>35</td><td>1</td><td>&quot;08107&quot;</td><td>0.191717</td></tr><tr><td>4163</td><td>2571</td><td>&quot;M&quot;</td><td>56</td><td>7</td><td>&quot;08901&quot;</td><td>0.325712</td></tr><tr><td>407</td><td>1252</td><td>&quot;M&quot;</td><td>18</td><td>17</td><td>&quot;89503&quot;</td><td>0.166938</td></tr></tbody></table></div>"
      ],
      "text/plain": [
       "shape: (227_640, 7)\n",
       "┌─────────┬─────────┬────────┬─────┬────────────┬──────────┬──────────┐\n",
       "│ user_id ┆ item_id ┆ gender ┆ age ┆ occupation ┆ zip_code ┆ rank     │\n",
       "│ ---     ┆ ---     ┆ ---    ┆ --- ┆ ---        ┆ ---      ┆ ---      │\n",
       "│ i64     ┆ i64     ┆ str    ┆ i64 ┆ i64        ┆ str      ┆ f64      │\n",
       "╞═════════╪═════════╪════════╪═════╪════════════╪══════════╪══════════╡\n",
       "│ 2811    ┆ 1081    ┆ M      ┆ 25  ┆ 19         ┆ 94122    ┆ 0.108003 │\n",
       "│ 1555    ┆ 2967    ┆ F      ┆ 18  ┆ 0          ┆ 20008    ┆ 0.084012 │\n",
       "│ 2572    ┆ 1193    ┆ M      ┆ 35  ┆ 14         ┆ 75005    ┆ 0.494878 │\n",
       "│ 1796    ┆ 708     ┆ M      ┆ 50  ┆ 11         ┆ 20852    ┆ 0.15889  │\n",
       "│ 278     ┆ 1243    ┆ M      ┆ 45  ┆ 18         ┆ 60482    ┆ 0.094869 │\n",
       "│ …       ┆ …       ┆ …      ┆ …   ┆ …          ┆ …        ┆ …        │\n",
       "│ 4487    ┆ 2701    ┆ M      ┆ 25  ┆ 7          ┆ 01850    ┆ 0.094917 │\n",
       "│ 602     ┆ 1099    ┆ F      ┆ 56  ┆ 6          ┆ 14612    ┆ 0.220101 │\n",
       "│ 1411    ┆ 2734    ┆ M      ┆ 35  ┆ 1          ┆ 08107    ┆ 0.191717 │\n",
       "│ 4163    ┆ 2571    ┆ M      ┆ 56  ┆ 7          ┆ 08901    ┆ 0.325712 │\n",
       "│ 407     ┆ 1252    ┆ M      ┆ 18  ┆ 17         ┆ 89503    ┆ 0.166938 │\n",
       "└─────────┴─────────┴────────┴─────┴────────────┴──────────┴──────────┘"
      ]
     },
     "execution_count": 72,
     "metadata": {},
     "output_type": "execute_result"
    }
   ],
   "source": [
    "def predict_ranks(ranking_model, candidates_with_features):\n",
    "    if isinstance(ranking_model, CatBoostRanker):\n",
    "        return ranking_model.predict(candidates_with_features.to_pandas())\n",
    "    else:\n",
    "        return ranking_model.predict_proba(candidates_with_features.to_pandas())[:, 1]\n",
    "\n",
    "candidates_with_features = (\n",
    "    # объединяем все кандидаты в один список пар (user_id, item_id)\n",
    "    pl.concat([als_candidates, w2v_candidates])\n",
    "    .explode('candidates')\n",
    "    .rename({'candidates': 'item_id'})\n",
    "    .unique()\n",
    "    # добавляем признаки пользователей\n",
    "    .join(user_features, 'user_id')\n",
    "    # добавляем признаки объектов\n",
    "    .join(item_features, 'item_id')\n",
    ").drop(['title', 'genres'])\n",
    "\n",
    "candidates_with_features = candidates_with_features.with_columns([\n",
    "    # взвешиваем с помощью модели ранжирования кандидатов\n",
    "    pl.Series(predict_ranks(ranking_model, candidates_with_features)).alias('rank')\n",
    "])\n",
    "\n",
    "candidates_with_features"
   ]
  },
  {
   "cell_type": "code",
   "execution_count": 74,
   "id": "49ef6270",
   "metadata": {
    "execution": {
     "iopub.execute_input": "2024-09-01T20:10:02.434738Z",
     "iopub.status.busy": "2024-09-01T20:10:02.433698Z",
     "iopub.status.idle": "2024-09-01T20:10:02.627357Z",
     "shell.execute_reply": "2024-09-01T20:10:02.626499Z",
     "shell.execute_reply.started": "2024-09-01T20:10:02.434701Z"
    },
    "scrolled": true,
    "tags": []
   },
   "outputs": [
    {
     "name": "stderr",
     "output_type": "stream",
     "text": [
      "/home/appuser/.conda/envs/pytorch/lib/python3.9/functools.py:888: DataOrientationWarning: Row orientation inferred during DataFrame construction. Explicitly specify the orientation by passing `orient=\"row\"` to silence this warning.\n",
      "  return dispatch(args[0].__class__)(*args, **kw)\n"
     ]
    },
    {
     "data": {
      "text/html": [
       "<div><style>\n",
       ".dataframe > thead > tr,\n",
       ".dataframe > tbody > tr {\n",
       "  text-align: right;\n",
       "  white-space: pre-wrap;\n",
       "}\n",
       "</style>\n",
       "<small>shape: (6_038, 2)</small><table border=\"1\" class=\"dataframe\"><thead><tr><th>user_id</th><th>candidates_item_ids</th></tr><tr><td>i64</td><td>list[i64]</td></tr></thead><tbody><tr><td>1319</td><td>[1197, 318, … 2580]</td></tr><tr><td>2492</td><td>[919, 1230, … 1393]</td></tr><tr><td>9</td><td>[589, 2762, … 3702]</td></tr><tr><td>3</td><td>[1270, 1136, … 3361]</td></tr><tr><td>2897</td><td>[1198, 858, … 3751]</td></tr><tr><td>&hellip;</td><td>&hellip;</td></tr><tr><td>1828</td><td>[1196, 593, … 1639]</td></tr><tr><td>6020</td><td>[260, 1252, … 1200]</td></tr><tr><td>5499</td><td>[2997, 593, … 2763]</td></tr><tr><td>2620</td><td>[1196, 260, … 3555]</td></tr><tr><td>1310</td><td>[260, 1225, … 1228]</td></tr></tbody></table></div>"
      ],
      "text/plain": [
       "shape: (6_038, 2)\n",
       "┌─────────┬──────────────────────┐\n",
       "│ user_id ┆ candidates_item_ids  │\n",
       "│ ---     ┆ ---                  │\n",
       "│ i64     ┆ list[i64]            │\n",
       "╞═════════╪══════════════════════╡\n",
       "│ 1319    ┆ [1197, 318, … 2580]  │\n",
       "│ 2492    ┆ [919, 1230, … 1393]  │\n",
       "│ 9       ┆ [589, 2762, … 3702]  │\n",
       "│ 3       ┆ [1270, 1136, … 3361] │\n",
       "│ 2897    ┆ [1198, 858, … 3751]  │\n",
       "│ …       ┆ …                    │\n",
       "│ 1828    ┆ [1196, 593, … 1639]  │\n",
       "│ 6020    ┆ [260, 1252, … 1200]  │\n",
       "│ 5499    ┆ [2997, 593, … 2763]  │\n",
       "│ 2620    ┆ [1196, 260, … 3555]  │\n",
       "│ 1310    ┆ [260, 1225, … 1228]  │\n",
       "└─────────┴──────────────────────┘"
      ]
     },
     "execution_count": 74,
     "metadata": {},
     "output_type": "execute_result"
    }
   ],
   "source": [
    "grouped_candidates_with_features = (\n",
    "    candidates_with_features\n",
    "    .group_by('user_id')\n",
    "    .agg([\n",
    "        pl.col('item_id'),\n",
    "        pl.col('rank')\n",
    "    ])\n",
    ")\n",
    "\n",
    "reranked_candidates = []\n",
    "for user_id, item_ids, item_ranks in grouped_candidates_with_features.rows():\n",
    "    # для каждого пользователя сортируем оценки модели ранжирования и оставляем top-k объектов\n",
    "    reranked_candidates.append([\n",
    "        user_id,\n",
    "        [\n",
    "            item_ids[ind]\n",
    "            for ind in np.argsort(item_ranks)[::-1][:TOP_K]\n",
    "        ]\n",
    "    ])\n",
    "    \n",
    "reranked_candidates = pl.DataFrame(reranked_candidates, schema=['user_id', 'candidates_item_ids'])\n",
    "reranked_candidates"
   ]
  },
  {
   "cell_type": "markdown",
   "id": "19a0d1b0",
   "metadata": {},
   "source": [
    "оценим метрики для кандидатов по отдельности"
   ]
  },
  {
   "cell_type": "code",
   "execution_count": 75,
   "id": "56995964",
   "metadata": {
    "execution": {
     "iopub.execute_input": "2024-09-01T20:10:07.428675Z",
     "iopub.status.busy": "2024-09-01T20:10:07.427436Z",
     "iopub.status.idle": "2024-09-01T20:10:07.541983Z",
     "shell.execute_reply": "2024-09-01T20:10:07.541063Z",
     "shell.execute_reply.started": "2024-09-01T20:10:07.428639Z"
    },
    "scrolled": true,
    "tags": []
   },
   "outputs": [
    {
     "name": "stdout",
     "output_type": "stream",
     "text": [
      "NDCG@20 = 0.1621, Hitrate@20 = 0.5152\n"
     ]
    }
   ],
   "source": [
    "ndcg_list = []\n",
    "hitrate_list = []\n",
    "\n",
    "for y_rec, y_rel in w2v_candidates.join(grouped_df, 'user_id').select('candidates', 'test_item_ids').rows():\n",
    "    ndcg_list.append(user_ndcg(y_rel, y_rec))\n",
    "    hitrate_list.append(user_hitrate(y_rel, y_rec))\n",
    "print(f'NDCG@{TOP_K} = {np.mean(ndcg_list):.4f}, Hitrate@{TOP_K} = {np.mean(hitrate_list):.4f}')"
   ]
  },
  {
   "cell_type": "code",
   "execution_count": 76,
   "id": "709372a4",
   "metadata": {
    "execution": {
     "iopub.execute_input": "2024-09-01T20:10:30.514836Z",
     "iopub.status.busy": "2024-09-01T20:10:30.513245Z",
     "iopub.status.idle": "2024-09-01T20:10:30.614821Z",
     "shell.execute_reply": "2024-09-01T20:10:30.613991Z",
     "shell.execute_reply.started": "2024-09-01T20:10:30.514796Z"
    },
    "tags": []
   },
   "outputs": [
    {
     "name": "stdout",
     "output_type": "stream",
     "text": [
      "NDCG@20 = 0.0730, Hitrate@20 = 0.3185\n"
     ]
    }
   ],
   "source": [
    "ndcg_list = []\n",
    "hitrate_list = []\n",
    "\n",
    "for y_rec, y_rel in als_candidates.join(grouped_df, 'user_id').select('candidates', 'test_item_ids').rows():\n",
    "    ndcg_list.append(user_ndcg(y_rel, y_rec))\n",
    "    hitrate_list.append(user_hitrate(y_rel, y_rec))\n",
    "print(f'NDCG@{TOP_K} = {np.mean(ndcg_list):.4f}, Hitrate@{TOP_K} = {np.mean(hitrate_list):.4f}')"
   ]
  },
  {
   "cell_type": "markdown",
   "id": "71ec5fb1",
   "metadata": {},
   "source": [
    "и попробуем два подхода объединения кандидатов:\n",
    "1. будем по очереди брать объекты на i-ой категории и соединять в один список\n",
    "2. возьмем сначала n кандидатов из одного списка, затем из другого и так далее"
   ]
  },
  {
   "cell_type": "code",
   "execution_count": 86,
   "id": "55e0fcd6",
   "metadata": {
    "execution": {
     "iopub.execute_input": "2024-09-01T20:12:49.281207Z",
     "iopub.status.busy": "2024-09-01T20:12:49.280123Z",
     "iopub.status.idle": "2024-09-01T20:12:49.514646Z",
     "shell.execute_reply": "2024-09-01T20:12:49.513873Z",
     "shell.execute_reply.started": "2024-09-01T20:12:49.281155Z"
    }
   },
   "outputs": [
    {
     "name": "stdout",
     "output_type": "stream",
     "text": [
      "NDCG@20 = 0.1336, Hitrate@20 = 0.5179\n"
     ]
    }
   ],
   "source": [
    "joined_candidates = (\n",
    "    pl.concat([als_candidates, w2v_candidates])\n",
    "    .group_by('user_id')\n",
    "    .agg(pl.col('candidates'))\n",
    ")\n",
    "\n",
    "ndcg_list = []\n",
    "hitrate_list = []\n",
    "\n",
    "for candidates, y_rel in (\n",
    "    joined_candidates\n",
    "    .join(grouped_df, 'user_id')\n",
    "    .select('candidates', 'test_item_ids')\n",
    "    .rows()\n",
    "):\n",
    "    y_rec = [item_id for item_ids in list(zip(*candidates)) for item_id in item_ids]\n",
    "    \n",
    "    ndcg_list.append(user_ndcg(y_rel, y_rec))\n",
    "    hitrate_list.append(user_hitrate(y_rel, y_rec))\n",
    "print(f'NDCG@{TOP_K} = {np.mean(ndcg_list):.4f}, Hitrate@{TOP_K} = {np.mean(hitrate_list):.4f}')"
   ]
  },
  {
   "cell_type": "code",
   "execution_count": 94,
   "id": "95d6a3d7",
   "metadata": {
    "execution": {
     "iopub.execute_input": "2024-09-01T20:15:36.549133Z",
     "iopub.status.busy": "2024-09-01T20:15:36.547882Z",
     "iopub.status.idle": "2024-09-01T20:15:36.688468Z",
     "shell.execute_reply": "2024-09-01T20:15:36.687516Z",
     "shell.execute_reply.started": "2024-09-01T20:15:36.549099Z"
    },
    "tags": []
   },
   "outputs": [
    {
     "name": "stdout",
     "output_type": "stream",
     "text": [
      "NDCG@20 = 0.1153, Hitrate@20 = 0.5230\n"
     ]
    }
   ],
   "source": [
    "joined_candidates = (\n",
    "    pl.concat([als_candidates, w2v_candidates])\n",
    "    .group_by('user_id')\n",
    "    .agg(pl.col('candidates'))\n",
    ")\n",
    "\n",
    "ndcg_list = []\n",
    "hitrate_list = []\n",
    "\n",
    "for candidates, y_rel in (\n",
    "    joined_candidates\n",
    "    .join(grouped_df, 'user_id')\n",
    "    .select('candidates', 'test_item_ids')\n",
    "    .rows()\n",
    "):\n",
    "    y_rec = [item_id for item_ids in candidates for item_id in item_ids[:TOP_K // len(candidates)]]\n",
    "    \n",
    "    ndcg_list.append(user_ndcg(y_rel, y_rec))\n",
    "    hitrate_list.append(user_hitrate(y_rel, y_rec))\n",
    "print(f'NDCG@{TOP_K} = {np.mean(ndcg_list):.4f}, Hitrate@{TOP_K} = {np.mean(hitrate_list):.4f}')"
   ]
  },
  {
   "cell_type": "markdown",
   "id": "a9800642",
   "metadata": {},
   "source": [
    "ну и наконец оценим метрики для кандидатов после ранжирования"
   ]
  },
  {
   "cell_type": "code",
   "execution_count": 95,
   "id": "d406ae31",
   "metadata": {
    "execution": {
     "iopub.execute_input": "2024-09-01T20:15:41.135168Z",
     "iopub.status.busy": "2024-09-01T20:15:41.134177Z",
     "iopub.status.idle": "2024-09-01T20:15:41.241237Z",
     "shell.execute_reply": "2024-09-01T20:15:41.240417Z",
     "shell.execute_reply.started": "2024-09-01T20:15:41.135105Z"
    },
    "scrolled": true
   },
   "outputs": [
    {
     "name": "stdout",
     "output_type": "stream",
     "text": [
      "NDCG@20 = 0.2361, Hitrate@20 = 0.6712\n"
     ]
    }
   ],
   "source": [
    "ndcg_list = []\n",
    "hitrate_list = []\n",
    "\n",
    "for y_rec, y_rel in (\n",
    "    reranked_candidates\n",
    "    .join(grouped_df, 'user_id')\n",
    "    .select('candidates_item_ids', 'test_item_ids')\n",
    "    .rows()\n",
    "):\n",
    "    ndcg_list.append(user_ndcg(y_rel, y_rec))\n",
    "    hitrate_list.append(user_hitrate(y_rel, y_rec))\n",
    "print(f'NDCG@{TOP_K} = {np.mean(ndcg_list):.4f}, Hitrate@{TOP_K} = {np.mean(hitrate_list):.4f}')"
   ]
  },
  {
   "cell_type": "code",
   "execution_count": 96,
   "id": "0fd08f9d",
   "metadata": {
    "execution": {
     "iopub.execute_input": "2024-09-01T20:16:50.856382Z",
     "iopub.status.busy": "2024-09-01T20:16:50.855353Z",
     "iopub.status.idle": "2024-09-01T20:16:50.861332Z",
     "shell.execute_reply": "2024-09-01T20:16:50.860580Z",
     "shell.execute_reply.started": "2024-09-01T20:16:50.856345Z"
    }
   },
   "outputs": [
    {
     "name": "stdout",
     "output_type": "stream",
     "text": [
      "NDCG@20 +76.72%\n",
      "Hitrate@20 +29.60%\n"
     ]
    }
   ],
   "source": [
    "print(f'NDCG@{TOP_K} +{(0.2361 / 0.1336 - 1)* 100:.2f}%')\n",
    "print(f'Hitrate@{TOP_K} +{(0.6712 / 0.5179 - 1)* 100:.2f}%')"
   ]
  },
  {
   "cell_type": "code",
   "execution_count": null,
   "id": "be8fa0bb-988e-458e-acfb-8f99c3fa5951",
   "metadata": {},
   "outputs": [],
   "source": []
  }
 ],
 "metadata": {
  "kernelspec": {
   "display_name": "Pytorch",
   "language": "python",
   "name": "pytorch_python"
  },
  "language_info": {
   "codemirror_mode": {
    "name": "ipython",
    "version": 3
   },
   "file_extension": ".py",
   "mimetype": "text/x-python",
   "name": "python",
   "nbconvert_exporter": "python",
   "pygments_lexer": "ipython3",
   "version": "3.9.18"
  }
 },
 "nbformat": 4,
 "nbformat_minor": 5
}
