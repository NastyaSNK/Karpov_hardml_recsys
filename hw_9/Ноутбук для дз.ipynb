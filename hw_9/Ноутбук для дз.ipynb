{
 "cells": [
  {
   "cell_type": "code",
   "execution_count": 29,
   "id": "8b14a0e4",
   "metadata": {
    "execution": {
     "iopub.execute_input": "2024-09-05T11:05:20.799407Z",
     "iopub.status.busy": "2024-09-05T11:05:20.798175Z",
     "iopub.status.idle": "2024-09-05T11:05:20.805170Z",
     "shell.execute_reply": "2024-09-05T11:05:20.804260Z",
     "shell.execute_reply.started": "2024-09-05T11:05:20.799352Z"
    },
    "tags": []
   },
   "outputs": [],
   "source": [
    "import os\n",
    "from pathlib import Path\n",
    "import polars as pl\n",
    "import numpy as np\n",
    "import pandas as pd\n",
    "from typing import List, Any\n",
    "from tqdm import tqdm\n",
    "\n",
    "from sklearn.model_selection import train_test_split\n",
    "from catboost import Pool, CatBoost, CatBoostClassifier, CatBoostRanker\n",
    "\n",
    "import torch\n"
   ]
  },
  {
   "cell_type": "code",
   "execution_count": null,
   "id": "5ed7d3f1-92ed-49a5-a0c8-bc3d659be996",
   "metadata": {
    "execution": {
     "iopub.execute_input": "2024-09-05T10:18:54.303155Z",
     "iopub.status.busy": "2024-09-05T10:18:54.302699Z",
     "iopub.status.idle": "2024-09-05T10:18:54.310143Z",
     "shell.execute_reply": "2024-09-05T10:18:54.309376Z",
     "shell.execute_reply.started": "2024-09-05T10:18:54.303129Z"
    },
    "tags": []
   },
   "outputs": [],
   "source": [
    "from lightfm import LightFM"
   ]
  },
  {
   "cell_type": "code",
   "execution_count": null,
   "id": "06a45264-37e1-4c69-858c-dd4b68439ccd",
   "metadata": {
    "execution": {
     "iopub.execute_input": "2024-09-05T10:18:54.311676Z",
     "iopub.status.busy": "2024-09-05T10:18:54.311179Z",
     "iopub.status.idle": "2024-09-05T10:18:54.519134Z",
     "shell.execute_reply": "2024-09-05T10:18:54.518190Z",
     "shell.execute_reply.started": "2024-09-05T10:18:54.311651Z"
    },
    "tags": []
   },
   "outputs": [],
   "source": [
    "import optuna\n",
    "import scipy.sparse as sp\n",
    "import faiss\n",
    "import implicit"
   ]
  },
  {
   "cell_type": "code",
   "execution_count": null,
   "id": "44122034-53b9-4503-b070-ba5f8e65695f",
   "metadata": {
    "execution": {
     "iopub.execute_input": "2024-09-05T10:18:54.524713Z",
     "iopub.status.busy": "2024-09-05T10:18:54.524212Z",
     "iopub.status.idle": "2024-09-05T10:18:54.528228Z",
     "shell.execute_reply": "2024-09-05T10:18:54.527598Z",
     "shell.execute_reply.started": "2024-09-05T10:18:54.524687Z"
    },
    "tags": []
   },
   "outputs": [],
   "source": [
    " # добавление корня проекта\n",
    "root_path = Path().absolute().parent\n",
    "os.chdir(str(root_path))"
   ]
  },
  {
   "cell_type": "code",
   "execution_count": null,
   "id": "f8d5932d-3c0c-460e-8ef0-2d234b3ebb97",
   "metadata": {
    "execution": {
     "iopub.execute_input": "2024-09-05T10:18:54.529480Z",
     "iopub.status.busy": "2024-09-05T10:18:54.529028Z",
     "iopub.status.idle": "2024-09-05T10:18:54.539106Z",
     "shell.execute_reply": "2024-09-05T10:18:54.538493Z",
     "shell.execute_reply.started": "2024-09-05T10:18:54.529456Z"
    },
    "tags": []
   },
   "outputs": [],
   "source": [
    "from src.metrics import user_recall, user_ndcg\n",
    "from src.helper import set_seed, get_recommendations"
   ]
  },
  {
   "cell_type": "code",
   "execution_count": null,
   "id": "8b1e2e88-3d4d-4d67-accc-ebba9f2aa44d",
   "metadata": {
    "execution": {
     "iopub.execute_input": "2024-09-05T10:18:54.540111Z",
     "iopub.status.busy": "2024-09-05T10:18:54.539876Z",
     "iopub.status.idle": "2024-09-05T10:18:54.547272Z",
     "shell.execute_reply": "2024-09-05T10:18:54.546657Z",
     "shell.execute_reply.started": "2024-09-05T10:18:54.540091Z"
    },
    "tags": []
   },
   "outputs": [
    {
     "name": "stdout",
     "output_type": "stream",
     "text": [
      "device: cuda\n"
     ]
    }
   ],
   "source": [
    "# будем использовать cuda, если доступны вычисления на gpu\n",
    "device = 'cuda' if torch.cuda.is_available() else 'cpu'\n",
    "print(f'device: {device}')"
   ]
  },
  {
   "cell_type": "code",
   "execution_count": null,
   "id": "d03eb07b-0ee3-4ae2-8a5e-ce1409f357c8",
   "metadata": {
    "execution": {
     "iopub.execute_input": "2024-09-05T10:18:54.548556Z",
     "iopub.status.busy": "2024-09-05T10:18:54.548031Z",
     "iopub.status.idle": "2024-09-05T10:18:54.554116Z",
     "shell.execute_reply": "2024-09-05T10:18:54.553473Z",
     "shell.execute_reply.started": "2024-09-05T10:18:54.548519Z"
    },
    "tags": []
   },
   "outputs": [],
   "source": [
    "TOP_K = 10\n",
    "RANDOM_STATE = 1\n",
    "N_TRIALS = 20"
   ]
  },
  {
   "cell_type": "code",
   "execution_count": null,
   "id": "fc80774a-7407-447e-be99-ec53bdd5b7f7",
   "metadata": {
    "execution": {
     "iopub.execute_input": "2024-09-05T10:18:54.555322Z",
     "iopub.status.busy": "2024-09-05T10:18:54.554885Z",
     "iopub.status.idle": "2024-09-05T10:18:54.562566Z",
     "shell.execute_reply": "2024-09-05T10:18:54.561866Z",
     "shell.execute_reply.started": "2024-09-05T10:18:54.555300Z"
    },
    "tags": []
   },
   "outputs": [],
   "source": [
    "set_seed(RANDOM_STATE)"
   ]
  },
  {
   "cell_type": "markdown",
   "id": "8fb99632",
   "metadata": {},
   "source": [
    "## Описание данных\n",
    "\n",
    "### ad_features\n",
    "\n",
    "| Поле            | Тип                  | Описание                                 |\n",
    "|---              |---                   |---                                       |\n",
    "| adgroup_id      | int                  | Идентификатор рекламы                    |\n",
    "| cate_id         | int                  | Идентификатор категории                  |\n",
    "| campaign_id     | int                  | Идентификатор рекламной компании         |\n",
    "| customer        | int                  | Идентификатор рекламодателя              |\n",
    "| brand           | str                  | Идентификатор бренда                     |\n",
    "| price           | int                  | Цена товара                              |\n",
    "\n",
    "Рекламное объявление принадлежит одному товару, при этом у товара есть бренд и категория\\\n",
    "\n",
    "\n",
    "### user_features\n",
    "\n",
    "| Поле            | Тип                  | Описание                                 |\n",
    "|---              |---                   |---                                       |\n",
    "| userid          | int                  | Идентификатор пользователя               |\n",
    "| cms_segid       | int                  | Идентификатор сегментированной группы пользователей|\n",
    "| cms_group_id    | int                  | Идентификатор группы пользователей       |\n",
    "| final_gender_code | int                | Пол пользователя (мужской – 1, женский – 2)|\n",
    "| age_level       | int                  | Категория возраста пользователя          |\n",
    "| pvalue_level    | int                  | Уровень потребления                      |\n",
    "| shopping_level  | int                  | Уровень вовлеченности (значения из диапазона 1-3 от слабой до сильной) |\n",
    "| occupation      | int                  | Род занятости (студент или нет)          |\n",
    "| new_user_class_level | int             | Населенность города проживания           |\n",
    "\n",
    "### behavioral_logs\n",
    "\n",
    "| Поле            | Тип                  | Описание                                 |\n",
    "|---              |---                   |---                                       |\n",
    "| user            | int                  | Идентификатор пользователя               |\n",
    "| time_stamp      | int                  | Время                                    |\n",
    "| btag            | str                  | Тип действия (**pv**: просмотр, **cart**: добавление в корзину, **fav**: добавление в избранное, **buy**: покупка) |\n",
    "| cate            | int                  | Идентификатор категории                  |\n",
    "| brand           | str                  | Идентификатор бренда                     |\n",
    "\n",
    "\n",
    "### data\n",
    "\n",
    "| Поле            | Тип                  | Описание                                 |\n",
    "|---              |---                   |---                                       |\n",
    "| user            | int                  | Идентификатор пользователя               |\n",
    "| time_stamp      | int                  | Время                                    |\n",
    "| adgroup_id      | int                  | Идентификатор рекламы                    |\n",
    "| clk             | int                  | Был ли клик?                             |"
   ]
  },
  {
   "cell_type": "markdown",
   "id": "4a323bc6",
   "metadata": {},
   "source": [
    "## Оценивание\n",
    "\n",
    "В качестве метрики качества используется ndcg@10. Чтобы получить максимальный балл, достаточно добиться ndcg@10 = 0.03\n",
    "\n",
    "В качестве `y_relevant` используется те рекламные объявления, по которым были клики после собранной истории взаимодействий"
   ]
  },
  {
   "cell_type": "code",
   "execution_count": 38,
   "id": "7021234e-6673-41ca-9a94-a48b6ecf9661",
   "metadata": {
    "execution": {
     "iopub.execute_input": "2024-09-05T12:45:55.526482Z",
     "iopub.status.busy": "2024-09-05T12:45:55.525574Z",
     "iopub.status.idle": "2024-09-05T12:45:55.532111Z",
     "shell.execute_reply": "2024-09-05T12:45:55.531299Z",
     "shell.execute_reply.started": "2024-09-05T12:45:55.526447Z"
    },
    "tags": []
   },
   "outputs": [],
   "source": [
    "def create_submission(test: pd.DataFrame, recs: np.ndarray, postfix: str):\n",
    "    \"Создать файл для сабмита по матрице рекомендаций\"\n",
    "    submission = [(i, list(j)) for i, j in zip(test['user_id'].to_list(), recs[test['user_id'].to_list()])]\n",
    "    submission = pl.DataFrame(submission, schema=['user_id', 'y_rec'])\n",
    "    submission.write_parquet(f'hw_9/submission_{postfix}.parquet')\n",
    "    return submission"
   ]
  },
  {
   "cell_type": "markdown",
   "id": "5f078e18-4633-47b8-96b6-b12d3873fe8a",
   "metadata": {},
   "source": [
    "# Данные"
   ]
  },
  {
   "cell_type": "code",
   "execution_count": 9,
   "id": "6d88b1cf",
   "metadata": {
    "execution": {
     "iopub.execute_input": "2024-09-05T09:58:58.473077Z",
     "iopub.status.busy": "2024-09-05T09:58:58.472036Z",
     "iopub.status.idle": "2024-09-05T09:59:01.944156Z",
     "shell.execute_reply": "2024-09-05T09:59:01.942289Z",
     "shell.execute_reply.started": "2024-09-05T09:58:58.473042Z"
    },
    "tags": []
   },
   "outputs": [],
   "source": [
    "ad_features = pl.read_parquet('hw_9/ad_features.parquet')\n",
    "user_features = pl.read_parquet('hw_9/user_features.parquet').rename({\"userid\": \"user\"})\n",
    "behavioral_logs = pl.read_parquet('hw_9/behavior_logs.parquet')\n",
    "data = pl.read_parquet('hw_9/train.parquet')\n",
    "test = pl.read_parquet('hw_9/test.parquet')"
   ]
  },
  {
   "cell_type": "code",
   "execution_count": 10,
   "id": "059f45a3-a258-4b15-af28-58e9c1ca4335",
   "metadata": {
    "execution": {
     "iopub.execute_input": "2024-09-05T09:59:02.270348Z",
     "iopub.status.busy": "2024-09-05T09:59:02.269949Z",
     "iopub.status.idle": "2024-09-05T09:59:04.964851Z",
     "shell.execute_reply": "2024-09-05T09:59:04.963917Z",
     "shell.execute_reply.started": "2024-09-05T09:59:02.270309Z"
    },
    "tags": []
   },
   "outputs": [],
   "source": [
    "data = data.sort('time_stamp')\n",
    "timestamp_threshold = data['time_stamp'].quantile(0.9)"
   ]
  },
  {
   "cell_type": "code",
   "execution_count": 11,
   "id": "d5084afc-3802-4c0b-bc56-50ccbadb32d9",
   "metadata": {
    "execution": {
     "iopub.execute_input": "2024-09-05T09:59:12.851382Z",
     "iopub.status.busy": "2024-09-05T09:59:12.850168Z",
     "iopub.status.idle": "2024-09-05T09:59:24.808520Z",
     "shell.execute_reply": "2024-09-05T09:59:24.806894Z",
     "shell.execute_reply.started": "2024-09-05T09:59:12.851320Z"
    },
    "tags": []
   },
   "outputs": [
    {
     "name": "stderr",
     "output_type": "stream",
     "text": [
      "/tmp/ipykernel_34753/1053290861.py:2: DeprecationWarning: `GroupBy.count` is deprecated. It has been renamed to `len`.\n",
      "  behavioral_logs\n"
     ]
    }
   ],
   "source": [
    "behavioral_train_logs = (\n",
    "    behavioral_logs\n",
    "    .group_by('user', 'btag')\n",
    "    .count()\n",
    "    .pivot('btag',index='user',  values='count')\n",
    "    .fill_null(0)\n",
    ")\n",
    "\n",
    "data_reach = (\n",
    "    pl.concat([\n",
    "        data.filter(pl.col('clk')==1),\n",
    "        data.filter(pl.col('clk')==0).sample(1232013*6)\n",
    "    ])\n",
    "    .join(ad_features, on='adgroup_id')\n",
    "    .join(user_features, on='user')\n",
    "    .join(behavioral_train_logs, on='user')\n",
    "    .drop(['time_stamp'])\n",
    "\n",
    ")\n",
    "train_reach_df, test_reach_df = train_test_split(\n",
    "    data_reach, test_size=0.1, random_state=RANDOM_STATE\n",
    ")"
   ]
  },
  {
   "cell_type": "code",
   "execution_count": 12,
   "id": "433d2dd2",
   "metadata": {
    "execution": {
     "iopub.execute_input": "2024-09-05T09:59:24.897369Z",
     "iopub.status.busy": "2024-09-05T09:59:24.896601Z",
     "iopub.status.idle": "2024-09-05T09:59:26.184223Z",
     "shell.execute_reply": "2024-09-05T09:59:26.183039Z",
     "shell.execute_reply.started": "2024-09-05T09:59:24.897342Z"
    },
    "scrolled": true,
    "tags": []
   },
   "outputs": [],
   "source": [
    "\n",
    "train_df = data.filter(pl.col('time_stamp') <= timestamp_threshold)\n",
    "test_df = data.filter(pl.col('time_stamp') > timestamp_threshold)"
   ]
  },
  {
   "cell_type": "code",
   "execution_count": 13,
   "id": "43ea07a9-3c32-477a-a00d-0c43864cc5ae",
   "metadata": {
    "execution": {
     "iopub.execute_input": "2024-09-05T09:59:27.223797Z",
     "iopub.status.busy": "2024-09-05T09:59:27.222599Z",
     "iopub.status.idle": "2024-09-05T09:59:27.365315Z",
     "shell.execute_reply": "2024-09-05T09:59:27.364405Z",
     "shell.execute_reply.started": "2024-09-05T09:59:27.223749Z"
    },
    "tags": []
   },
   "outputs": [
    {
     "name": "stdout",
     "output_type": "stream",
     "text": [
      "(459691, 2)\n"
     ]
    },
    {
     "data": {
      "text/html": [
       "<div><style>\n",
       ".dataframe > thead > tr,\n",
       ".dataframe > tbody > tr {\n",
       "  text-align: right;\n",
       "  white-space: pre-wrap;\n",
       "}\n",
       "</style>\n",
       "<small>shape: (5, 2)</small><table border=\"1\" class=\"dataframe\"><thead><tr><th>user</th><th>y_rel</th></tr><tr><td>i64</td><td>list[i64]</td></tr></thead><tbody><tr><td>285763</td><td>[366821, 635042, … 781111]</td></tr><tr><td>1059265</td><td>[698813, 464812]</td></tr><tr><td>165162</td><td>[679193, 485603]</td></tr><tr><td>546088</td><td>[371582]</td></tr><tr><td>1081416</td><td>[115505]</td></tr></tbody></table></div>"
      ],
      "text/plain": [
       "shape: (5, 2)\n",
       "┌─────────┬────────────────────────────┐\n",
       "│ user    ┆ y_rel                      │\n",
       "│ ---     ┆ ---                        │\n",
       "│ i64     ┆ list[i64]                  │\n",
       "╞═════════╪════════════════════════════╡\n",
       "│ 285763  ┆ [366821, 635042, … 781111] │\n",
       "│ 1059265 ┆ [698813, 464812]           │\n",
       "│ 165162  ┆ [679193, 485603]           │\n",
       "│ 546088  ┆ [371582]                   │\n",
       "│ 1081416 ┆ [115505]                   │\n",
       "└─────────┴────────────────────────────┘"
      ]
     },
     "execution_count": 13,
     "metadata": {},
     "output_type": "execute_result"
    }
   ],
   "source": [
    "grouped_df = (\n",
    "    data\n",
    "    # релевантны только те объекты, для которых был клик\n",
    "    .filter(pl.col('clk') == 1)\n",
    "    .group_by('user')\n",
    "    .agg(pl.col('adgroup_id').alias('y_rel'))\n",
    ")\n",
    "print(grouped_df.shape)\n",
    "grouped_df.head()"
   ]
  },
  {
   "cell_type": "code",
   "execution_count": 14,
   "id": "96accaa5-ab40-441d-95f9-eac53a53e443",
   "metadata": {
    "execution": {
     "iopub.execute_input": "2024-09-05T09:59:27.575008Z",
     "iopub.status.busy": "2024-09-05T09:59:27.573966Z",
     "iopub.status.idle": "2024-09-05T09:59:27.697626Z",
     "shell.execute_reply": "2024-09-05T09:59:27.696660Z",
     "shell.execute_reply.started": "2024-09-05T09:59:27.574973Z"
    },
    "tags": []
   },
   "outputs": [
    {
     "name": "stdout",
     "output_type": "stream",
     "text": [
      "(430253, 2)\n"
     ]
    },
    {
     "data": {
      "text/html": [
       "<div><style>\n",
       ".dataframe > thead > tr,\n",
       ".dataframe > tbody > tr {\n",
       "  text-align: right;\n",
       "  white-space: pre-wrap;\n",
       "}\n",
       "</style>\n",
       "<small>shape: (5, 2)</small><table border=\"1\" class=\"dataframe\"><thead><tr><th>user</th><th>y_rel</th></tr><tr><td>i64</td><td>list[i64]</td></tr></thead><tbody><tr><td>711241</td><td>[272619, 693115, … 647990]</td></tr><tr><td>650692</td><td>[508106, 484809, … 790412]</td></tr><tr><td>465740</td><td>[511123, 688970, 333213]</td></tr><tr><td>401499</td><td>[741585, 601772, 730196]</td></tr><tr><td>676648</td><td>[674268]</td></tr></tbody></table></div>"
      ],
      "text/plain": [
       "shape: (5, 2)\n",
       "┌────────┬────────────────────────────┐\n",
       "│ user   ┆ y_rel                      │\n",
       "│ ---    ┆ ---                        │\n",
       "│ i64    ┆ list[i64]                  │\n",
       "╞════════╪════════════════════════════╡\n",
       "│ 711241 ┆ [272619, 693115, … 647990] │\n",
       "│ 650692 ┆ [508106, 484809, … 790412] │\n",
       "│ 465740 ┆ [511123, 688970, 333213]   │\n",
       "│ 401499 ┆ [741585, 601772, 730196]   │\n",
       "│ 676648 ┆ [674268]                   │\n",
       "└────────┴────────────────────────────┘"
      ]
     },
     "execution_count": 14,
     "metadata": {},
     "output_type": "execute_result"
    }
   ],
   "source": [
    "train_grouped_df = (\n",
    "    train_df\n",
    "    # релевантны только те объекты, для которых был клик\n",
    "    .filter(pl.col('clk') == 1)\n",
    "    .group_by('user')\n",
    "    .agg(pl.col('adgroup_id').alias('y_rel'))\n",
    ")\n",
    "print(train_grouped_df.shape)\n",
    "train_grouped_df.head()"
   ]
  },
  {
   "cell_type": "code",
   "execution_count": 15,
   "id": "6a117076-7f6e-4f9e-9694-b1871214ebec",
   "metadata": {
    "execution": {
     "iopub.execute_input": "2024-09-05T09:59:29.433899Z",
     "iopub.status.busy": "2024-09-05T09:59:29.432962Z",
     "iopub.status.idle": "2024-09-05T09:59:29.629023Z",
     "shell.execute_reply": "2024-09-05T09:59:29.628271Z",
     "shell.execute_reply.started": "2024-09-05T09:59:29.433865Z"
    },
    "tags": []
   },
   "outputs": [
    {
     "name": "stdout",
     "output_type": "stream",
     "text": [
      "(80167, 3)\n",
      "(50729, 3)\n"
     ]
    },
    {
     "data": {
      "text/html": [
       "<div><style>\n",
       ".dataframe > thead > tr,\n",
       ".dataframe > tbody > tr {\n",
       "  text-align: right;\n",
       "  white-space: pre-wrap;\n",
       "}\n",
       "</style>\n",
       "<small>shape: (5, 3)</small><table border=\"1\" class=\"dataframe\"><thead><tr><th>user</th><th>y_rel</th><th>user_history</th></tr><tr><td>i64</td><td>list[i64]</td><td>list[i64]</td></tr></thead><tbody><tr><td>1083509</td><td>[451943, 181000]</td><td>null</td></tr><tr><td>1112609</td><td>[606005]</td><td>[721278, 491523]</td></tr><tr><td>132528</td><td>[744809]</td><td>[598676]</td></tr><tr><td>830264</td><td>[770860]</td><td>null</td></tr><tr><td>5910</td><td>[836114, 448469, 624074]</td><td>[622385, 705171, … 498540]</td></tr></tbody></table></div>"
      ],
      "text/plain": [
       "shape: (5, 3)\n",
       "┌─────────┬──────────────────────────┬────────────────────────────┐\n",
       "│ user    ┆ y_rel                    ┆ user_history               │\n",
       "│ ---     ┆ ---                      ┆ ---                        │\n",
       "│ i64     ┆ list[i64]                ┆ list[i64]                  │\n",
       "╞═════════╪══════════════════════════╪════════════════════════════╡\n",
       "│ 1083509 ┆ [451943, 181000]         ┆ null                       │\n",
       "│ 1112609 ┆ [606005]                 ┆ [721278, 491523]           │\n",
       "│ 132528  ┆ [744809]                 ┆ [598676]                   │\n",
       "│ 830264  ┆ [770860]                 ┆ null                       │\n",
       "│ 5910    ┆ [836114, 448469, 624074] ┆ [622385, 705171, … 498540] │\n",
       "└─────────┴──────────────────────────┴────────────────────────────┘"
      ]
     },
     "execution_count": 15,
     "metadata": {},
     "output_type": "execute_result"
    }
   ],
   "source": [
    "test_grouped_df = (\n",
    "    test_df\n",
    "    .filter(pl.col('clk') == 1)\n",
    "    .group_by('user')\n",
    "    .agg(pl.col('adgroup_id').alias('y_rel'))\n",
    "    .join(\n",
    "        train_df\n",
    "        .filter(pl.col('clk') == 1)\n",
    "        .group_by('user')\n",
    "        .agg(pl.col('adgroup_id').alias('user_history')),\n",
    "        'user',\n",
    "        how='left'\n",
    "    )\n",
    ")\n",
    "print(test_grouped_df.shape)\n",
    "print(test_grouped_df.filter(pl.col('user_history').is_not_null()).shape)\n",
    "# Для теста по кандидаттам только не нулевые значения\n",
    "test_nonull_grouped_df = test_grouped_df.filter(pl.col('user_history').is_not_null())\n",
    "test_grouped_df.head()"
   ]
  },
  {
   "cell_type": "code",
   "execution_count": 16,
   "id": "090f9c21-0c70-46d7-8d44-dfb648e8133f",
   "metadata": {
    "execution": {
     "iopub.execute_input": "2024-09-05T09:59:30.262031Z",
     "iopub.status.busy": "2024-09-05T09:59:30.260861Z",
     "iopub.status.idle": "2024-09-05T09:59:31.448567Z",
     "shell.execute_reply": "2024-09-05T09:59:31.447446Z",
     "shell.execute_reply.started": "2024-09-05T09:59:30.261996Z"
    },
    "tags": []
   },
   "outputs": [
    {
     "name": "stderr",
     "output_type": "stream",
     "text": [
      "/tmp/ipykernel_34753/530598196.py:1: MapWithoutReturnDtypeWarning: Calling `map_elements` without specifying `return_dtype` can lead to unpredictable results. Specify `return_dtype` to silence this warning.\n",
      "  median_seq_len = int(train_grouped_df['y_rel'].map_elements(len).median())\n",
      "/tmp/ipykernel_34753/530598196.py:2: MapWithoutReturnDtypeWarning: Calling `map_elements` without specifying `return_dtype` can lead to unpredictable results. Specify `return_dtype` to silence this warning.\n",
      "  max_seq_len = int(train_grouped_df['y_rel'].map_elements(len).max())\n"
     ]
    },
    {
     "name": "stdout",
     "output_type": "stream",
     "text": [
      "среднее кол-во реклам 1\n",
      "максимальное кол-во реклам 152\n"
     ]
    }
   ],
   "source": [
    "median_seq_len = int(train_grouped_df['y_rel'].map_elements(len).median())\n",
    "max_seq_len = int(train_grouped_df['y_rel'].map_elements(len).max())\n",
    "print(f\"среднее кол-во реклам {median_seq_len}\")\n",
    "print(f\"максимальное кол-во реклам {max_seq_len}\")"
   ]
  },
  {
   "cell_type": "markdown",
   "id": "75bd7a7d",
   "metadata": {
    "jp-MarkdownHeadingCollapsed": true,
    "tags": []
   },
   "source": [
    "## Бейзлайн с использованием behavioral logs\n",
    "\n",
    "В качестве простого бейзлайна для каждого пользователя найдем категорию рекламных объявлений, наиболее интересную ему. Затем для каждой категории найдем самые популярные по метрике `ctr` (Click-through rate)."
   ]
  },
  {
   "cell_type": "code",
   "execution_count": 114,
   "id": "6f438b68-d59d-4100-a9a8-170122a1c9e8",
   "metadata": {
    "execution": {
     "iopub.execute_input": "2024-09-04T09:59:11.299628Z",
     "iopub.status.busy": "2024-09-04T09:59:11.298629Z",
     "iopub.status.idle": "2024-09-04T09:59:11.305339Z",
     "shell.execute_reply": "2024-09-04T09:59:11.304586Z",
     "shell.execute_reply.started": "2024-09-04T09:59:11.299579Z"
    }
   },
   "outputs": [],
   "source": [
    "def get_top_candidates(x: List[dict]) -> List[int]:\n",
    "    \"\"\"\n",
    "    Для списка структур с полями ctr и adgroup_id сортирует его по убыванию ctr и возвращает\n",
    "    TOP_K соответствующих идентификаторов adgroup_id\n",
    "    \"\"\"\n",
    "    x = sorted(x, key=lambda v: -v['ctr'])[:TOP_K]\n",
    "    return list(map(lambda x: x['adgroup_id'], x))\n"
   ]
  },
  {
   "cell_type": "code",
   "execution_count": 108,
   "id": "ac4f8b72",
   "metadata": {
    "collapsed": true,
    "execution": {
     "iopub.execute_input": "2024-09-04T09:58:11.262179Z",
     "iopub.status.busy": "2024-09-04T09:58:11.261169Z",
     "iopub.status.idle": "2024-09-04T09:58:25.536524Z",
     "shell.execute_reply": "2024-09-04T09:58:25.535309Z",
     "shell.execute_reply.started": "2024-09-04T09:58:11.262145Z"
    },
    "jupyter": {
     "outputs_hidden": true
    },
    "scrolled": true,
    "tags": []
   },
   "outputs": [
    {
     "name": "stderr",
     "output_type": "stream",
     "text": [
      "sys:1: MapWithoutReturnDtypeWarning: Calling `map_elements` without specifying `return_dtype` can lead to unpredictable results. Specify `return_dtype` to silence this warning.\n",
      "sys:1: MapWithoutReturnDtypeWarning: Calling `map_elements` without specifying `return_dtype` can lead to unpredictable results. Specify `return_dtype` to silence this warning.\n",
      "sys:1: MapWithoutReturnDtypeWarning: Calling `map_elements` without specifying `return_dtype` can lead to unpredictable results. Specify `return_dtype` to silence this warning.\n",
      "sys:1: MapWithoutReturnDtypeWarning: Calling `map_elements` without specifying `return_dtype` can lead to unpredictable results. Specify `return_dtype` to silence this warning.\n",
      "sys:1: MapWithoutReturnDtypeWarning: Calling `map_elements` without specifying `return_dtype` can lead to unpredictable results. Specify `return_dtype` to silence this warning.\n",
      "sys:1: MapWithoutReturnDtypeWarning: Calling `map_elements` without specifying `return_dtype` can lead to unpredictable results. Specify `return_dtype` to silence this warning.\n",
      "sys:1: MapWithoutReturnDtypeWarning: Calling `map_elements` without specifying `return_dtype` can lead to unpredictable results. Specify `return_dtype` to silence this warning.\n",
      "sys:1: MapWithoutReturnDtypeWarning: Calling `map_elements` without specifying `return_dtype` can lead to unpredictable results. Specify `return_dtype` to silence this warning.\n",
      "sys:1: MapWithoutReturnDtypeWarning: Calling `map_elements` without specifying `return_dtype` can lead to unpredictable results. Specify `return_dtype` to silence this warning.\n",
      "sys:1: MapWithoutReturnDtypeWarning: Calling `map_elements` without specifying `return_dtype` can lead to unpredictable results. Specify `return_dtype` to silence this warning.\n",
      "sys:1: MapWithoutReturnDtypeWarning: Calling `map_elements` without specifying `return_dtype` can lead to unpredictable results. Specify `return_dtype` to silence this warning.\n",
      "sys:1: MapWithoutReturnDtypeWarning: Calling `map_elements` without specifying `return_dtype` can lead to unpredictable results. Specify `return_dtype` to silence this warning.\n",
      "sys:1: MapWithoutReturnDtypeWarning: Calling `map_elements` without specifying `return_dtype` can lead to unpredictable results. Specify `return_dtype` to silence this warning.\n",
      "sys:1: MapWithoutReturnDtypeWarning: Calling `map_elements` without specifying `return_dtype` can lead to unpredictable results. Specify `return_dtype` to silence this warning.\n",
      "sys:1: MapWithoutReturnDtypeWarning: Calling `map_elements` without specifying `return_dtype` can lead to unpredictable results. Specify `return_dtype` to silence this warning.\n",
      "sys:1: MapWithoutReturnDtypeWarning: Calling `map_elements` without specifying `return_dtype` can lead to unpredictable results. Specify `return_dtype` to silence this warning.\n",
      "sys:1: MapWithoutReturnDtypeWarning: Calling `map_elements` without specifying `return_dtype` can lead to unpredictable results. Specify `return_dtype` to silence this warning.\n",
      "sys:1: MapWithoutReturnDtypeWarning: Calling `map_elements` without specifying `return_dtype` can lead to unpredictable results. Specify `return_dtype` to silence this warning.\n",
      "sys:1: MapWithoutReturnDtypeWarning: Calling `map_elements` without specifying `return_dtype` can lead to unpredictable results. Specify `return_dtype` to silence this warning.\n",
      "sys:1: MapWithoutReturnDtypeWarning: Calling `map_elements` without specifying `return_dtype` can lead to unpredictable results. Specify `return_dtype` to silence this warning.\n",
      "sys:1: MapWithoutReturnDtypeWarning: Calling `map_elements` without specifying `return_dtype` can lead to unpredictable results. Specify `return_dtype` to silence this warning.\n",
      "sys:1: MapWithoutReturnDtypeWarning: Calling `map_elements` without specifying `return_dtype` can lead to unpredictable results. Specify `return_dtype` to silence this warning.\n",
      "sys:1: MapWithoutReturnDtypeWarning: Calling `map_elements` without specifying `return_dtype` can lead to unpredictable results. Specify `return_dtype` to silence this warning.\n",
      "sys:1: MapWithoutReturnDtypeWarning: Calling `map_elements` without specifying `return_dtype` can lead to unpredictable results. Specify `return_dtype` to silence this warning.\n",
      "sys:1: MapWithoutReturnDtypeWarning: Calling `map_elements` without specifying `return_dtype` can lead to unpredictable results. Specify `return_dtype` to silence this warning.\n",
      "sys:1: MapWithoutReturnDtypeWarning: Calling `map_elements` without specifying `return_dtype` can lead to unpredictable results. Specify `return_dtype` to silence this warning.\n",
      "sys:1: MapWithoutReturnDtypeWarning: Calling `map_elements` without specifying `return_dtype` can lead to unpredictable results. Specify `return_dtype` to silence this warning.\n",
      "sys:1: MapWithoutReturnDtypeWarning: Calling `map_elements` without specifying `return_dtype` can lead to unpredictable results. Specify `return_dtype` to silence this warning.\n",
      "sys:1: MapWithoutReturnDtypeWarning: Calling `map_elements` without specifying `return_dtype` can lead to unpredictable results. Specify `return_dtype` to silence this warning.\n",
      "sys:1: MapWithoutReturnDtypeWarning: Calling `map_elements` without specifying `return_dtype` can lead to unpredictable results. Specify `return_dtype` to silence this warning.\n",
      "sys:1: MapWithoutReturnDtypeWarning: Calling `map_elements` without specifying `return_dtype` can lead to unpredictable results. Specify `return_dtype` to silence this warning.\n",
      "sys:1: MapWithoutReturnDtypeWarning: Calling `map_elements` without specifying `return_dtype` can lead to unpredictable results. Specify `return_dtype` to silence this warning.\n",
      "sys:1: MapWithoutReturnDtypeWarning: Calling `map_elements` without specifying `return_dtype` can lead to unpredictable results. Specify `return_dtype` to silence this warning.\n",
      "sys:1: MapWithoutReturnDtypeWarning: Calling `map_elements` without specifying `return_dtype` can lead to unpredictable results. Specify `return_dtype` to silence this warning.\n",
      "sys:1: MapWithoutReturnDtypeWarning: Calling `map_elements` without specifying `return_dtype` can lead to unpredictable results. Specify `return_dtype` to silence this warning.\n",
      "sys:1: MapWithoutReturnDtypeWarning: Calling `map_elements` without specifying `return_dtype` can lead to unpredictable results. Specify `return_dtype` to silence this warning.\n",
      "sys:1: MapWithoutReturnDtypeWarning: Calling `map_elements` without specifying `return_dtype` can lead to unpredictable results. Specify `return_dtype` to silence this warning.\n",
      "sys:1: MapWithoutReturnDtypeWarning: Calling `map_elements` without specifying `return_dtype` can lead to unpredictable results. Specify `return_dtype` to silence this warning.\n",
      "sys:1: MapWithoutReturnDtypeWarning: Calling `map_elements` without specifying `return_dtype` can lead to unpredictable results. Specify `return_dtype` to silence this warning.\n",
      "sys:1: MapWithoutReturnDtypeWarning: Calling `map_elements` without specifying `return_dtype` can lead to unpredictable results. Specify `return_dtype` to silence this warning.\n",
      "sys:1: MapWithoutReturnDtypeWarning: Calling `map_elements` without specifying `return_dtype` can lead to unpredictable results. Specify `return_dtype` to silence this warning.\n",
      "sys:1: MapWithoutReturnDtypeWarning: Calling `map_elements` without specifying `return_dtype` can lead to unpredictable results. Specify `return_dtype` to silence this warning.\n",
      "sys:1: MapWithoutReturnDtypeWarning: Calling `map_elements` without specifying `return_dtype` can lead to unpredictable results. Specify `return_dtype` to silence this warning.\n",
      "sys:1: MapWithoutReturnDtypeWarning: Calling `map_elements` without specifying `return_dtype` can lead to unpredictable results. Specify `return_dtype` to silence this warning.\n",
      "sys:1: MapWithoutReturnDtypeWarning: Calling `map_elements` without specifying `return_dtype` can lead to unpredictable results. Specify `return_dtype` to silence this warning.\n",
      "sys:1: MapWithoutReturnDtypeWarning: Calling `map_elements` without specifying `return_dtype` can lead to unpredictable results. Specify `return_dtype` to silence this warning.\n",
      "sys:1: MapWithoutReturnDtypeWarning: Calling `map_elements` without specifying `return_dtype` can lead to unpredictable results. Specify `return_dtype` to silence this warning.\n",
      "sys:1: MapWithoutReturnDtypeWarning: Calling `map_elements` without specifying `return_dtype` can lead to unpredictable results. Specify `return_dtype` to silence this warning.\n",
      "sys:1: MapWithoutReturnDtypeWarning: Calling `map_elements` without specifying `return_dtype` can lead to unpredictable results. Specify `return_dtype` to silence this warning.\n",
      "sys:1: MapWithoutReturnDtypeWarning: Calling `map_elements` without specifying `return_dtype` can lead to unpredictable results. Specify `return_dtype` to silence this warning.\n",
      "sys:1: MapWithoutReturnDtypeWarning: Calling `map_elements` without specifying `return_dtype` can lead to unpredictable results. Specify `return_dtype` to silence this warning.\n",
      "sys:1: MapWithoutReturnDtypeWarning: Calling `map_elements` without specifying `return_dtype` can lead to unpredictable results. Specify `return_dtype` to silence this warning.\n",
      "sys:1: MapWithoutReturnDtypeWarning: Calling `map_elements` without specifying `return_dtype` can lead to unpredictable results. Specify `return_dtype` to silence this warning.\n",
      "sys:1: MapWithoutReturnDtypeWarning: Calling `map_elements` without specifying `return_dtype` can lead to unpredictable results. Specify `return_dtype` to silence this warning.\n",
      "sys:1: MapWithoutReturnDtypeWarning: Calling `map_elements` without specifying `return_dtype` can lead to unpredictable results. Specify `return_dtype` to silence this warning.\n",
      "sys:1: MapWithoutReturnDtypeWarning: Calling `map_elements` without specifying `return_dtype` can lead to unpredictable results. Specify `return_dtype` to silence this warning.\n",
      "sys:1: MapWithoutReturnDtypeWarning: Calling `map_elements` without specifying `return_dtype` can lead to unpredictable results. Specify `return_dtype` to silence this warning.\n",
      "sys:1: MapWithoutReturnDtypeWarning: Calling `map_elements` without specifying `return_dtype` can lead to unpredictable results. Specify `return_dtype` to silence this warning.\n",
      "sys:1: MapWithoutReturnDtypeWarning: Calling `map_elements` without specifying `return_dtype` can lead to unpredictable results. Specify `return_dtype` to silence this warning.\n",
      "sys:1: MapWithoutReturnDtypeWarning: Calling `map_elements` without specifying `return_dtype` can lead to unpredictable results. Specify `return_dtype` to silence this warning.\n",
      "sys:1: MapWithoutReturnDtypeWarning: Calling `map_elements` without specifying `return_dtype` can lead to unpredictable results. Specify `return_dtype` to silence this warning.\n",
      "sys:1: MapWithoutReturnDtypeWarning: Calling `map_elements` without specifying `return_dtype` can lead to unpredictable results. Specify `return_dtype` to silence this warning.\n",
      "sys:1: MapWithoutReturnDtypeWarning: Calling `map_elements` without specifying `return_dtype` can lead to unpredictable results. Specify `return_dtype` to silence this warning.\n",
      "sys:1: MapWithoutReturnDtypeWarning: Calling `map_elements` without specifying `return_dtype` can lead to unpredictable results. Specify `return_dtype` to silence this warning.\n",
      "sys:1: MapWithoutReturnDtypeWarning: Calling `map_elements` without specifying `return_dtype` can lead to unpredictable results. Specify `return_dtype` to silence this warning.\n",
      "sys:1: MapWithoutReturnDtypeWarning: Calling `map_elements` without specifying `return_dtype` can lead to unpredictable results. Specify `return_dtype` to silence this warning.\n",
      "sys:1: MapWithoutReturnDtypeWarning: Calling `map_elements` without specifying `return_dtype` can lead to unpredictable results. Specify `return_dtype` to silence this warning.\n",
      "sys:1: MapWithoutReturnDtypeWarning: Calling `map_elements` without specifying `return_dtype` can lead to unpredictable results. Specify `return_dtype` to silence this warning.\n",
      "sys:1: MapWithoutReturnDtypeWarning: Calling `map_elements` without specifying `return_dtype` can lead to unpredictable results. Specify `return_dtype` to silence this warning.\n",
      "sys:1: MapWithoutReturnDtypeWarning: Calling `map_elements` without specifying `return_dtype` can lead to unpredictable results. Specify `return_dtype` to silence this warning.\n",
      "sys:1: MapWithoutReturnDtypeWarning: Calling `map_elements` without specifying `return_dtype` can lead to unpredictable results. Specify `return_dtype` to silence this warning.\n",
      "sys:1: MapWithoutReturnDtypeWarning: Calling `map_elements` without specifying `return_dtype` can lead to unpredictable results. Specify `return_dtype` to silence this warning.\n",
      "sys:1: MapWithoutReturnDtypeWarning: Calling `map_elements` without specifying `return_dtype` can lead to unpredictable results. Specify `return_dtype` to silence this warning.\n",
      "sys:1: MapWithoutReturnDtypeWarning: Calling `map_elements` without specifying `return_dtype` can lead to unpredictable results. Specify `return_dtype` to silence this warning.\n",
      "sys:1: MapWithoutReturnDtypeWarning: Calling `map_elements` without specifying `return_dtype` can lead to unpredictable results. Specify `return_dtype` to silence this warning.\n",
      "sys:1: MapWithoutReturnDtypeWarning: Calling `map_elements` without specifying `return_dtype` can lead to unpredictable results. Specify `return_dtype` to silence this warning.\n",
      "sys:1: MapWithoutReturnDtypeWarning: Calling `map_elements` without specifying `return_dtype` can lead to unpredictable results. Specify `return_dtype` to silence this warning.\n",
      "sys:1: MapWithoutReturnDtypeWarning: Calling `map_elements` without specifying `return_dtype` can lead to unpredictable results. Specify `return_dtype` to silence this warning.\n",
      "sys:1: MapWithoutReturnDtypeWarning: Calling `map_elements` without specifying `return_dtype` can lead to unpredictable results. Specify `return_dtype` to silence this warning.\n",
      "sys:1: MapWithoutReturnDtypeWarning: Calling `map_elements` without specifying `return_dtype` can lead to unpredictable results. Specify `return_dtype` to silence this warning.\n",
      "sys:1: MapWithoutReturnDtypeWarning: Calling `map_elements` without specifying `return_dtype` can lead to unpredictable results. Specify `return_dtype` to silence this warning.\n",
      "sys:1: MapWithoutReturnDtypeWarning: Calling `map_elements` without specifying `return_dtype` can lead to unpredictable results. Specify `return_dtype` to silence this warning.\n",
      "sys:1: MapWithoutReturnDtypeWarning: Calling `map_elements` without specifying `return_dtype` can lead to unpredictable results. Specify `return_dtype` to silence this warning.\n",
      "sys:1: MapWithoutReturnDtypeWarning: Calling `map_elements` without specifying `return_dtype` can lead to unpredictable results. Specify `return_dtype` to silence this warning.\n",
      "sys:1: MapWithoutReturnDtypeWarning: Calling `map_elements` without specifying `return_dtype` can lead to unpredictable results. Specify `return_dtype` to silence this warning.\n",
      "sys:1: MapWithoutReturnDtypeWarning: Calling `map_elements` without specifying `return_dtype` can lead to unpredictable results. Specify `return_dtype` to silence this warning.\n",
      "sys:1: MapWithoutReturnDtypeWarning: Calling `map_elements` without specifying `return_dtype` can lead to unpredictable results. Specify `return_dtype` to silence this warning.\n",
      "sys:1: MapWithoutReturnDtypeWarning: Calling `map_elements` without specifying `return_dtype` can lead to unpredictable results. Specify `return_dtype` to silence this warning.\n",
      "sys:1: MapWithoutReturnDtypeWarning: Calling `map_elements` without specifying `return_dtype` can lead to unpredictable results. Specify `return_dtype` to silence this warning.\n",
      "sys:1: MapWithoutReturnDtypeWarning: Calling `map_elements` without specifying `return_dtype` can lead to unpredictable results. Specify `return_dtype` to silence this warning.\n",
      "sys:1: MapWithoutReturnDtypeWarning: Calling `map_elements` without specifying `return_dtype` can lead to unpredictable results. Specify `return_dtype` to silence this warning.\n",
      "sys:1: MapWithoutReturnDtypeWarning: Calling `map_elements` without specifying `return_dtype` can lead to unpredictable results. Specify `return_dtype` to silence this warning.\n",
      "sys:1: MapWithoutReturnDtypeWarning: Calling `map_elements` without specifying `return_dtype` can lead to unpredictable results. Specify `return_dtype` to silence this warning.\n",
      "sys:1: MapWithoutReturnDtypeWarning: Calling `map_elements` without specifying `return_dtype` can lead to unpredictable results. Specify `return_dtype` to silence this warning.\n",
      "sys:1: MapWithoutReturnDtypeWarning: Calling `map_elements` without specifying `return_dtype` can lead to unpredictable results. Specify `return_dtype` to silence this warning.\n",
      "sys:1: MapWithoutReturnDtypeWarning: Calling `map_elements` without specifying `return_dtype` can lead to unpredictable results. Specify `return_dtype` to silence this warning.\n",
      "sys:1: MapWithoutReturnDtypeWarning: Calling `map_elements` without specifying `return_dtype` can lead to unpredictable results. Specify `return_dtype` to silence this warning.\n",
      "sys:1: MapWithoutReturnDtypeWarning: Calling `map_elements` without specifying `return_dtype` can lead to unpredictable results. Specify `return_dtype` to silence this warning.\n",
      "sys:1: MapWithoutReturnDtypeWarning: Calling `map_elements` without specifying `return_dtype` can lead to unpredictable results. Specify `return_dtype` to silence this warning.\n",
      "sys:1: MapWithoutReturnDtypeWarning: Calling `map_elements` without specifying `return_dtype` can lead to unpredictable results. Specify `return_dtype` to silence this warning.\n",
      "sys:1: MapWithoutReturnDtypeWarning: Calling `map_elements` without specifying `return_dtype` can lead to unpredictable results. Specify `return_dtype` to silence this warning.\n",
      "sys:1: MapWithoutReturnDtypeWarning: Calling `map_elements` without specifying `return_dtype` can lead to unpredictable results. Specify `return_dtype` to silence this warning.\n",
      "sys:1: MapWithoutReturnDtypeWarning: Calling `map_elements` without specifying `return_dtype` can lead to unpredictable results. Specify `return_dtype` to silence this warning.\n",
      "sys:1: MapWithoutReturnDtypeWarning: Calling `map_elements` without specifying `return_dtype` can lead to unpredictable results. Specify `return_dtype` to silence this warning.\n",
      "sys:1: MapWithoutReturnDtypeWarning: Calling `map_elements` without specifying `return_dtype` can lead to unpredictable results. Specify `return_dtype` to silence this warning.\n",
      "sys:1: MapWithoutReturnDtypeWarning: Calling `map_elements` without specifying `return_dtype` can lead to unpredictable results. Specify `return_dtype` to silence this warning.\n",
      "sys:1: MapWithoutReturnDtypeWarning: Calling `map_elements` without specifying `return_dtype` can lead to unpredictable results. Specify `return_dtype` to silence this warning.\n",
      "sys:1: MapWithoutReturnDtypeWarning: Calling `map_elements` without specifying `return_dtype` can lead to unpredictable results. Specify `return_dtype` to silence this warning.\n",
      "sys:1: MapWithoutReturnDtypeWarning: Calling `map_elements` without specifying `return_dtype` can lead to unpredictable results. Specify `return_dtype` to silence this warning.\n",
      "sys:1: MapWithoutReturnDtypeWarning: Calling `map_elements` without specifying `return_dtype` can lead to unpredictable results. Specify `return_dtype` to silence this warning.\n",
      "sys:1: MapWithoutReturnDtypeWarning: Calling `map_elements` without specifying `return_dtype` can lead to unpredictable results. Specify `return_dtype` to silence this warning.\n",
      "sys:1: MapWithoutReturnDtypeWarning: Calling `map_elements` without specifying `return_dtype` can lead to unpredictable results. Specify `return_dtype` to silence this warning.\n",
      "sys:1: MapWithoutReturnDtypeWarning: Calling `map_elements` without specifying `return_dtype` can lead to unpredictable results. Specify `return_dtype` to silence this warning.\n",
      "sys:1: MapWithoutReturnDtypeWarning: Calling `map_elements` without specifying `return_dtype` can lead to unpredictable results. Specify `return_dtype` to silence this warning.\n",
      "sys:1: MapWithoutReturnDtypeWarning: Calling `map_elements` without specifying `return_dtype` can lead to unpredictable results. Specify `return_dtype` to silence this warning.\n",
      "sys:1: MapWithoutReturnDtypeWarning: Calling `map_elements` without specifying `return_dtype` can lead to unpredictable results. Specify `return_dtype` to silence this warning.\n",
      "sys:1: MapWithoutReturnDtypeWarning: Calling `map_elements` without specifying `return_dtype` can lead to unpredictable results. Specify `return_dtype` to silence this warning.\n",
      "sys:1: MapWithoutReturnDtypeWarning: Calling `map_elements` without specifying `return_dtype` can lead to unpredictable results. Specify `return_dtype` to silence this warning.\n",
      "sys:1: MapWithoutReturnDtypeWarning: Calling `map_elements` without specifying `return_dtype` can lead to unpredictable results. Specify `return_dtype` to silence this warning.\n",
      "sys:1: MapWithoutReturnDtypeWarning: Calling `map_elements` without specifying `return_dtype` can lead to unpredictable results. Specify `return_dtype` to silence this warning.\n",
      "sys:1: MapWithoutReturnDtypeWarning: Calling `map_elements` without specifying `return_dtype` can lead to unpredictable results. Specify `return_dtype` to silence this warning.\n",
      "sys:1: MapWithoutReturnDtypeWarning: Calling `map_elements` without specifying `return_dtype` can lead to unpredictable results. Specify `return_dtype` to silence this warning.\n",
      "sys:1: MapWithoutReturnDtypeWarning: Calling `map_elements` without specifying `return_dtype` can lead to unpredictable results. Specify `return_dtype` to silence this warning.\n",
      "sys:1: MapWithoutReturnDtypeWarning: Calling `map_elements` without specifying `return_dtype` can lead to unpredictable results. Specify `return_dtype` to silence this warning.\n",
      "sys:1: MapWithoutReturnDtypeWarning: Calling `map_elements` without specifying `return_dtype` can lead to unpredictable results. Specify `return_dtype` to silence this warning.\n",
      "sys:1: MapWithoutReturnDtypeWarning: Calling `map_elements` without specifying `return_dtype` can lead to unpredictable results. Specify `return_dtype` to silence this warning.\n",
      "sys:1: MapWithoutReturnDtypeWarning: Calling `map_elements` without specifying `return_dtype` can lead to unpredictable results. Specify `return_dtype` to silence this warning.\n",
      "sys:1: MapWithoutReturnDtypeWarning: Calling `map_elements` without specifying `return_dtype` can lead to unpredictable results. Specify `return_dtype` to silence this warning.\n",
      "sys:1: MapWithoutReturnDtypeWarning: Calling `map_elements` without specifying `return_dtype` can lead to unpredictable results. Specify `return_dtype` to silence this warning.\n",
      "sys:1: MapWithoutReturnDtypeWarning: Calling `map_elements` without specifying `return_dtype` can lead to unpredictable results. Specify `return_dtype` to silence this warning.\n",
      "sys:1: MapWithoutReturnDtypeWarning: Calling `map_elements` without specifying `return_dtype` can lead to unpredictable results. Specify `return_dtype` to silence this warning.\n",
      "sys:1: MapWithoutReturnDtypeWarning: Calling `map_elements` without specifying `return_dtype` can lead to unpredictable results. Specify `return_dtype` to silence this warning.\n",
      "sys:1: MapWithoutReturnDtypeWarning: Calling `map_elements` without specifying `return_dtype` can lead to unpredictable results. Specify `return_dtype` to silence this warning.\n",
      "sys:1: MapWithoutReturnDtypeWarning: Calling `map_elements` without specifying `return_dtype` can lead to unpredictable results. Specify `return_dtype` to silence this warning.\n",
      "sys:1: MapWithoutReturnDtypeWarning: Calling `map_elements` without specifying `return_dtype` can lead to unpredictable results. Specify `return_dtype` to silence this warning.\n",
      "sys:1: MapWithoutReturnDtypeWarning: Calling `map_elements` without specifying `return_dtype` can lead to unpredictable results. Specify `return_dtype` to silence this warning.\n",
      "sys:1: MapWithoutReturnDtypeWarning: Calling `map_elements` without specifying `return_dtype` can lead to unpredictable results. Specify `return_dtype` to silence this warning.\n",
      "sys:1: MapWithoutReturnDtypeWarning: Calling `map_elements` without specifying `return_dtype` can lead to unpredictable results. Specify `return_dtype` to silence this warning.\n",
      "sys:1: MapWithoutReturnDtypeWarning: Calling `map_elements` without specifying `return_dtype` can lead to unpredictable results. Specify `return_dtype` to silence this warning.\n",
      "sys:1: MapWithoutReturnDtypeWarning: Calling `map_elements` without specifying `return_dtype` can lead to unpredictable results. Specify `return_dtype` to silence this warning.\n",
      "sys:1: MapWithoutReturnDtypeWarning: Calling `map_elements` without specifying `return_dtype` can lead to unpredictable results. Specify `return_dtype` to silence this warning.\n",
      "sys:1: MapWithoutReturnDtypeWarning: Calling `map_elements` without specifying `return_dtype` can lead to unpredictable results. Specify `return_dtype` to silence this warning.\n",
      "sys:1: MapWithoutReturnDtypeWarning: Calling `map_elements` without specifying `return_dtype` can lead to unpredictable results. Specify `return_dtype` to silence this warning.\n"
     ]
    },
    {
     "data": {
      "text/html": [
       "<div><style>\n",
       ".dataframe > thead > tr,\n",
       ".dataframe > tbody > tr {\n",
       "  text-align: right;\n",
       "  white-space: pre-wrap;\n",
       "}\n",
       "</style>\n",
       "<small>shape: (957_175, 3)</small><table border=\"1\" class=\"dataframe\"><thead><tr><th>user</th><th>cate</th><th>weight</th></tr><tr><td>i64</td><td>i64</td><td>i64</td></tr></thead><tbody><tr><td>1141729</td><td>4283</td><td>166</td></tr><tr><td>1141726</td><td>4505</td><td>5</td></tr><tr><td>1141725</td><td>10905</td><td>93</td></tr><tr><td>1141724</td><td>4385</td><td>135</td></tr><tr><td>1141723</td><td>6421</td><td>14</td></tr><tr><td>&hellip;</td><td>&hellip;</td><td>&hellip;</td></tr><tr><td>5</td><td>7081</td><td>1</td></tr><tr><td>4</td><td>4281</td><td>4</td></tr><tr><td>3</td><td>6511</td><td>16</td></tr><tr><td>2</td><td>6465</td><td>49</td></tr><tr><td>1</td><td>4278</td><td>44</td></tr></tbody></table></div>"
      ],
      "text/plain": [
       "shape: (957_175, 3)\n",
       "┌─────────┬───────┬────────┐\n",
       "│ user    ┆ cate  ┆ weight │\n",
       "│ ---     ┆ ---   ┆ ---    │\n",
       "│ i64     ┆ i64   ┆ i64    │\n",
       "╞═════════╪═══════╪════════╡\n",
       "│ 1141729 ┆ 4283  ┆ 166    │\n",
       "│ 1141726 ┆ 4505  ┆ 5      │\n",
       "│ 1141725 ┆ 10905 ┆ 93     │\n",
       "│ 1141724 ┆ 4385  ┆ 135    │\n",
       "│ 1141723 ┆ 6421  ┆ 14     │\n",
       "│ …       ┆ …     ┆ …      │\n",
       "│ 5       ┆ 7081  ┆ 1      │\n",
       "│ 4       ┆ 4281  ┆ 4      │\n",
       "│ 3       ┆ 6511  ┆ 16     │\n",
       "│ 2       ┆ 6465  ┆ 49     │\n",
       "│ 1       ┆ 4278  ┆ 44     │\n",
       "└─────────┴───────┴────────┘"
      ]
     },
     "execution_count": 108,
     "metadata": {},
     "output_type": "execute_result"
    }
   ],
   "source": [
    "# веса примерно соответствуют behavioral_logs['btag'].value_counts()\n",
    "weight_dict = {\n",
    "    'pv': 1,\n",
    "    'cart': 40,\n",
    "    'fav': 80,\n",
    "    'buy': 80\n",
    "}\n",
    "\n",
    "behavioral_logs_top_categories = (\n",
    "    behavioral_logs\n",
    "    # для валидации отфильтруем все события как в тренировочной выборке\n",
    "    .filter(pl.col('time_stamp') <= timestamp_threshold)\n",
    "     # каждое событие преобразуем в вес\n",
    "    .with_columns([pl.col('btag').map_elements(weight_dict.get).alias('weight')])\n",
    "    .group_by('user', 'cate')\n",
    "    # итоговый вес для категории – сумма весов событий\n",
    "    .agg(pl.col('weight').sum())\n",
    "    # для каждого пользователя оставим категорию с максимальным весом\n",
    "    .sort(['user', 'weight'], descending=True)\n",
    "    .unique('user', keep='first')\n",
    ")\n",
    "behavioral_logs_top_categories"
   ]
  },
  {
   "cell_type": "code",
   "execution_count": 9,
   "id": "94942869",
   "metadata": {
    "execution": {
     "iopub.execute_input": "2024-09-04T05:47:54.398935Z",
     "iopub.status.busy": "2024-09-04T05:47:54.398063Z",
     "iopub.status.idle": "2024-09-04T05:47:56.836111Z",
     "shell.execute_reply": "2024-09-04T05:47:56.835278Z",
     "shell.execute_reply.started": "2024-09-04T05:47:54.398894Z"
    },
    "scrolled": true,
    "tags": []
   },
   "outputs": [
    {
     "name": "stderr",
     "output_type": "stream",
     "text": [
      "/tmp/ipykernel_911/3087662466.py:16: DeprecationWarning: `pl.count()` is deprecated. Please use `pl.len()` instead.\n",
      "  pl.count().alias('count')\n",
      "sys:1: MapWithoutReturnDtypeWarning: Calling `map_elements` without specifying `return_dtype` can lead to unpredictable results. Specify `return_dtype` to silence this warning.\n"
     ]
    },
    {
     "data": {
      "text/html": [
       "<div><style>\n",
       ".dataframe > thead > tr,\n",
       ".dataframe > tbody > tr {\n",
       "  text-align: right;\n",
       "  white-space: pre-wrap;\n",
       "}\n",
       "</style>\n",
       "<small>shape: (6_074, 2)</small><table border=\"1\" class=\"dataframe\"><thead><tr><th>cate_id</th><th>y_rec</th></tr><tr><td>i64</td><td>list[i64]</td></tr></thead><tbody><tr><td>6</td><td>[2772, 653833, … 560284]</td></tr><tr><td>8926</td><td>[287969]</td></tr><tr><td>8000</td><td>[7518, 49455, … 541926]</td></tr><tr><td>10230</td><td>[211586, 84736]</td></tr><tr><td>4722</td><td>[188871, 150947, … 629129]</td></tr><tr><td>&hellip;</td><td>&hellip;</td></tr><tr><td>250</td><td>[299451]</td></tr><tr><td>4847</td><td>[420825, 260348, … 227571]</td></tr><tr><td>4314</td><td>[493256, 564782, … 737917]</td></tr><tr><td>9298</td><td>[231574, 181737, … 24066]</td></tr><tr><td>8649</td><td>[299100, 272278, … 260731]</td></tr></tbody></table></div>"
      ],
      "text/plain": [
       "shape: (6_074, 2)\n",
       "┌─────────┬────────────────────────────┐\n",
       "│ cate_id ┆ y_rec                      │\n",
       "│ ---     ┆ ---                        │\n",
       "│ i64     ┆ list[i64]                  │\n",
       "╞═════════╪════════════════════════════╡\n",
       "│ 6       ┆ [2772, 653833, … 560284]   │\n",
       "│ 8926    ┆ [287969]                   │\n",
       "│ 8000    ┆ [7518, 49455, … 541926]    │\n",
       "│ 10230   ┆ [211586, 84736]            │\n",
       "│ 4722    ┆ [188871, 150947, … 629129] │\n",
       "│ …       ┆ …                          │\n",
       "│ 250     ┆ [299451]                   │\n",
       "│ 4847    ┆ [420825, 260348, … 227571] │\n",
       "│ 4314    ┆ [493256, 564782, … 737917] │\n",
       "│ 9298    ┆ [231574, 181737, … 24066]  │\n",
       "│ 8649    ┆ [299100, 272278, … 260731] │\n",
       "└─────────┴────────────────────────────┘"
      ]
     },
     "execution_count": 9,
     "metadata": {},
     "output_type": "execute_result"
    }
   ],
   "source": [
    "grouped_tops = (\n",
    "    train_df\n",
    "    .join(ad_features, on='adgroup_id')\n",
    "    # для пары cate_id и adgroup_id вычисляем ctr\n",
    "    .group_by('cate_id', 'adgroup_id')\n",
    "    .agg([\n",
    "        pl.col('clk').mean().alias('ctr'),\n",
    "        pl.count().alias('count')\n",
    "    ])\n",
    "    # уберем те рекламные объявления, которые были показаны всего N раз\n",
    "    .filter(pl.col('count') > 1)\n",
    "    # сгруппируем ctr и adgroup_id в словарь и вызовем функцию get_top_candidates\n",
    "    .with_columns([pl.struct(ctr=pl.col('ctr'), adgroup_id=pl.col('adgroup_id')).alias('struct')])\n",
    "    .group_by('cate_id')\n",
    "    .agg(pl.col('struct').map_elements(get_top_candidates).alias('y_rec'))\n",
    ")\n",
    "grouped_tops"
   ]
  },
  {
   "cell_type": "code",
   "execution_count": 10,
   "id": "643df1af",
   "metadata": {
    "execution": {
     "iopub.execute_input": "2024-09-04T05:47:56.897103Z",
     "iopub.status.busy": "2024-09-04T05:47:56.896873Z",
     "iopub.status.idle": "2024-09-04T05:47:57.014767Z",
     "shell.execute_reply": "2024-09-04T05:47:57.013968Z",
     "shell.execute_reply.started": "2024-09-04T05:47:56.897080Z"
    },
    "scrolled": true,
    "tags": []
   },
   "outputs": [
    {
     "data": {
      "text/html": [
       "<div><style>\n",
       ".dataframe > thead > tr,\n",
       ".dataframe > tbody > tr {\n",
       "  text-align: right;\n",
       "  white-space: pre-wrap;\n",
       "}\n",
       "</style>\n",
       "<small>shape: (251_102, 2)</small><table border=\"1\" class=\"dataframe\"><thead><tr><th>user_id</th><th>y_rec</th></tr><tr><td>i64</td><td>list[i64]</td></tr></thead><tbody><tr><td>1141720</td><td>[692584, 511663, … 348929]</td></tr><tr><td>1141714</td><td>[725297, 98564, … 353779]</td></tr><tr><td>1141710</td><td>[196526, 148340, … 151029]</td></tr><tr><td>1141709</td><td>[518334, 327446, … 520157]</td></tr><tr><td>1141708</td><td>[721068, 700091, … 435257]</td></tr><tr><td>&hellip;</td><td>&hellip;</td></tr><tr><td>16</td><td>[640339, 503386, … 696553]</td></tr><tr><td>15</td><td>[309055, 591788, … 295896]</td></tr><tr><td>7</td><td>[117050, 671331, … 294064]</td></tr><tr><td>6</td><td>[668540, 816762, … 510932]</td></tr><tr><td>4</td><td>[840949, 610058, … 734439]</td></tr></tbody></table></div>"
      ],
      "text/plain": [
       "shape: (251_102, 2)\n",
       "┌─────────┬────────────────────────────┐\n",
       "│ user_id ┆ y_rec                      │\n",
       "│ ---     ┆ ---                        │\n",
       "│ i64     ┆ list[i64]                  │\n",
       "╞═════════╪════════════════════════════╡\n",
       "│ 1141720 ┆ [692584, 511663, … 348929] │\n",
       "│ 1141714 ┆ [725297, 98564, … 353779]  │\n",
       "│ 1141710 ┆ [196526, 148340, … 151029] │\n",
       "│ 1141709 ┆ [518334, 327446, … 520157] │\n",
       "│ 1141708 ┆ [721068, 700091, … 435257] │\n",
       "│ …       ┆ …                          │\n",
       "│ 16      ┆ [640339, 503386, … 696553] │\n",
       "│ 15      ┆ [309055, 591788, … 295896] │\n",
       "│ 7       ┆ [117050, 671331, … 294064] │\n",
       "│ 6       ┆ [668540, 816762, … 510932] │\n",
       "│ 4       ┆ [840949, 610058, … 734439] │\n",
       "└─────────┴────────────────────────────┘"
      ]
     },
     "execution_count": 10,
     "metadata": {},
     "output_type": "execute_result"
    }
   ],
   "source": [
    "recs = (\n",
    "    test\n",
    "    .join(behavioral_logs_top_categories, left_on='user_id', right_on='user')\n",
    "    .join(grouped_tops, left_on='cate', right_on='cate_id')\n",
    "    .select('user_id', 'y_rec')\n",
    ")\n",
    "recs"
   ]
  },
  {
   "cell_type": "code",
   "execution_count": 12,
   "id": "9854132f",
   "metadata": {
    "execution": {
     "iopub.execute_input": "2024-09-04T05:53:10.462229Z",
     "iopub.status.busy": "2024-09-04T05:53:10.461025Z",
     "iopub.status.idle": "2024-09-04T05:53:11.191597Z",
     "shell.execute_reply": "2024-09-04T05:53:11.190814Z",
     "shell.execute_reply.started": "2024-09-04T05:53:10.462189Z"
    },
    "tags": []
   },
   "outputs": [
    {
     "name": "stdout",
     "output_type": "stream",
     "text": [
      "NDCG@10 = 0.0007, Recall@10 = 0.0015\n"
     ]
    }
   ],
   "source": [
    "test_grouped_df = (\n",
    "    test_df\n",
    "    # релевантны только те объекты, для которых был клик\n",
    "    .filter(pl.col('clk') == 1)\n",
    "    .group_by('user')\n",
    "    .agg(pl.col('adgroup_id').alias('y_rel'))\n",
    ")\n",
    "\n",
    "ndcg_list = []\n",
    "recall_list = []\n",
    "for _, y_rel, y_rec in test_grouped_df.join(recs, left_on='user', right_on='user_id').rows():\n",
    "    ndcg_list.append(user_ndcg(y_rel, y_rec))\n",
    "    recall_list.append(user_recall(y_rel, y_rec))\n",
    "    \n",
    "mean_ndcg = np.mean(ndcg_list)\n",
    "mean_recall = np.mean(recall_list)\n",
    "print(f'NDCG@{TOP_K} = {mean_ndcg:.4f}, Recall@{TOP_K} = {mean_recall:.4f}')"
   ]
  },
  {
   "cell_type": "markdown",
   "id": "2753c948",
   "metadata": {},
   "source": [
    "Построим рекомендации по всем данным"
   ]
  },
  {
   "cell_type": "code",
   "execution_count": 109,
   "id": "62757799",
   "metadata": {
    "collapsed": true,
    "execution": {
     "iopub.execute_input": "2024-09-04T09:58:25.622041Z",
     "iopub.status.busy": "2024-09-04T09:58:25.621151Z",
     "iopub.status.idle": "2024-09-04T09:58:30.292511Z",
     "shell.execute_reply": "2024-09-04T09:58:30.291238Z",
     "shell.execute_reply.started": "2024-09-04T09:58:25.622014Z"
    },
    "jupyter": {
     "outputs_hidden": true
    },
    "tags": []
   },
   "outputs": [
    {
     "name": "stderr",
     "output_type": "stream",
     "text": [
      "sys:1: MapWithoutReturnDtypeWarning: Calling `map_elements` without specifying `return_dtype` can lead to unpredictable results. Specify `return_dtype` to silence this warning.\n",
      "sys:1: MapWithoutReturnDtypeWarning: Calling `map_elements` without specifying `return_dtype` can lead to unpredictable results. Specify `return_dtype` to silence this warning.\n",
      "sys:1: MapWithoutReturnDtypeWarning: Calling `map_elements` without specifying `return_dtype` can lead to unpredictable results. Specify `return_dtype` to silence this warning.\n",
      "sys:1: MapWithoutReturnDtypeWarning: Calling `map_elements` without specifying `return_dtype` can lead to unpredictable results. Specify `return_dtype` to silence this warning.\n",
      "sys:1: MapWithoutReturnDtypeWarning: Calling `map_elements` without specifying `return_dtype` can lead to unpredictable results. Specify `return_dtype` to silence this warning.\n",
      "sys:1: MapWithoutReturnDtypeWarning: Calling `map_elements` without specifying `return_dtype` can lead to unpredictable results. Specify `return_dtype` to silence this warning.\n",
      "sys:1: MapWithoutReturnDtypeWarning: Calling `map_elements` without specifying `return_dtype` can lead to unpredictable results. Specify `return_dtype` to silence this warning.\n",
      "sys:1: MapWithoutReturnDtypeWarning: Calling `map_elements` without specifying `return_dtype` can lead to unpredictable results. Specify `return_dtype` to silence this warning.\n",
      "sys:1: MapWithoutReturnDtypeWarning: Calling `map_elements` without specifying `return_dtype` can lead to unpredictable results. Specify `return_dtype` to silence this warning.\n",
      "sys:1: MapWithoutReturnDtypeWarning: Calling `map_elements` without specifying `return_dtype` can lead to unpredictable results. Specify `return_dtype` to silence this warning.\n",
      "sys:1: MapWithoutReturnDtypeWarning: Calling `map_elements` without specifying `return_dtype` can lead to unpredictable results. Specify `return_dtype` to silence this warning.\n",
      "sys:1: MapWithoutReturnDtypeWarning: Calling `map_elements` without specifying `return_dtype` can lead to unpredictable results. Specify `return_dtype` to silence this warning.\n",
      "sys:1: MapWithoutReturnDtypeWarning: Calling `map_elements` without specifying `return_dtype` can lead to unpredictable results. Specify `return_dtype` to silence this warning.\n",
      "sys:1: MapWithoutReturnDtypeWarning: Calling `map_elements` without specifying `return_dtype` can lead to unpredictable results. Specify `return_dtype` to silence this warning.\n",
      "sys:1: MapWithoutReturnDtypeWarning: Calling `map_elements` without specifying `return_dtype` can lead to unpredictable results. Specify `return_dtype` to silence this warning.\n",
      "sys:1: MapWithoutReturnDtypeWarning: Calling `map_elements` without specifying `return_dtype` can lead to unpredictable results. Specify `return_dtype` to silence this warning.\n",
      "sys:1: MapWithoutReturnDtypeWarning: Calling `map_elements` without specifying `return_dtype` can lead to unpredictable results. Specify `return_dtype` to silence this warning.\n",
      "sys:1: MapWithoutReturnDtypeWarning: Calling `map_elements` without specifying `return_dtype` can lead to unpredictable results. Specify `return_dtype` to silence this warning.\n",
      "sys:1: MapWithoutReturnDtypeWarning: Calling `map_elements` without specifying `return_dtype` can lead to unpredictable results. Specify `return_dtype` to silence this warning.\n",
      "sys:1: MapWithoutReturnDtypeWarning: Calling `map_elements` without specifying `return_dtype` can lead to unpredictable results. Specify `return_dtype` to silence this warning.\n",
      "sys:1: MapWithoutReturnDtypeWarning: Calling `map_elements` without specifying `return_dtype` can lead to unpredictable results. Specify `return_dtype` to silence this warning.\n",
      "sys:1: MapWithoutReturnDtypeWarning: Calling `map_elements` without specifying `return_dtype` can lead to unpredictable results. Specify `return_dtype` to silence this warning.\n",
      "sys:1: MapWithoutReturnDtypeWarning: Calling `map_elements` without specifying `return_dtype` can lead to unpredictable results. Specify `return_dtype` to silence this warning.\n",
      "sys:1: MapWithoutReturnDtypeWarning: Calling `map_elements` without specifying `return_dtype` can lead to unpredictable results. Specify `return_dtype` to silence this warning.\n",
      "sys:1: MapWithoutReturnDtypeWarning: Calling `map_elements` without specifying `return_dtype` can lead to unpredictable results. Specify `return_dtype` to silence this warning.\n",
      "sys:1: MapWithoutReturnDtypeWarning: Calling `map_elements` without specifying `return_dtype` can lead to unpredictable results. Specify `return_dtype` to silence this warning.\n",
      "sys:1: MapWithoutReturnDtypeWarning: Calling `map_elements` without specifying `return_dtype` can lead to unpredictable results. Specify `return_dtype` to silence this warning.\n",
      "sys:1: MapWithoutReturnDtypeWarning: Calling `map_elements` without specifying `return_dtype` can lead to unpredictable results. Specify `return_dtype` to silence this warning.\n",
      "sys:1: MapWithoutReturnDtypeWarning: Calling `map_elements` without specifying `return_dtype` can lead to unpredictable results. Specify `return_dtype` to silence this warning.\n",
      "sys:1: MapWithoutReturnDtypeWarning: Calling `map_elements` without specifying `return_dtype` can lead to unpredictable results. Specify `return_dtype` to silence this warning.\n",
      "sys:1: MapWithoutReturnDtypeWarning: Calling `map_elements` without specifying `return_dtype` can lead to unpredictable results. Specify `return_dtype` to silence this warning.\n",
      "sys:1: MapWithoutReturnDtypeWarning: Calling `map_elements` without specifying `return_dtype` can lead to unpredictable results. Specify `return_dtype` to silence this warning.\n",
      "sys:1: MapWithoutReturnDtypeWarning: Calling `map_elements` without specifying `return_dtype` can lead to unpredictable results. Specify `return_dtype` to silence this warning.\n",
      "sys:1: MapWithoutReturnDtypeWarning: Calling `map_elements` without specifying `return_dtype` can lead to unpredictable results. Specify `return_dtype` to silence this warning.\n",
      "sys:1: MapWithoutReturnDtypeWarning: Calling `map_elements` without specifying `return_dtype` can lead to unpredictable results. Specify `return_dtype` to silence this warning.\n",
      "sys:1: MapWithoutReturnDtypeWarning: Calling `map_elements` without specifying `return_dtype` can lead to unpredictable results. Specify `return_dtype` to silence this warning.\n",
      "sys:1: MapWithoutReturnDtypeWarning: Calling `map_elements` without specifying `return_dtype` can lead to unpredictable results. Specify `return_dtype` to silence this warning.\n",
      "sys:1: MapWithoutReturnDtypeWarning: Calling `map_elements` without specifying `return_dtype` can lead to unpredictable results. Specify `return_dtype` to silence this warning.\n",
      "sys:1: MapWithoutReturnDtypeWarning: Calling `map_elements` without specifying `return_dtype` can lead to unpredictable results. Specify `return_dtype` to silence this warning.\n",
      "sys:1: MapWithoutReturnDtypeWarning: Calling `map_elements` without specifying `return_dtype` can lead to unpredictable results. Specify `return_dtype` to silence this warning.\n",
      "sys:1: MapWithoutReturnDtypeWarning: Calling `map_elements` without specifying `return_dtype` can lead to unpredictable results. Specify `return_dtype` to silence this warning.\n",
      "sys:1: MapWithoutReturnDtypeWarning: Calling `map_elements` without specifying `return_dtype` can lead to unpredictable results. Specify `return_dtype` to silence this warning.\n",
      "sys:1: MapWithoutReturnDtypeWarning: Calling `map_elements` without specifying `return_dtype` can lead to unpredictable results. Specify `return_dtype` to silence this warning.\n",
      "sys:1: MapWithoutReturnDtypeWarning: Calling `map_elements` without specifying `return_dtype` can lead to unpredictable results. Specify `return_dtype` to silence this warning.\n",
      "sys:1: MapWithoutReturnDtypeWarning: Calling `map_elements` without specifying `return_dtype` can lead to unpredictable results. Specify `return_dtype` to silence this warning.\n",
      "sys:1: MapWithoutReturnDtypeWarning: Calling `map_elements` without specifying `return_dtype` can lead to unpredictable results. Specify `return_dtype` to silence this warning.\n",
      "sys:1: MapWithoutReturnDtypeWarning: Calling `map_elements` without specifying `return_dtype` can lead to unpredictable results. Specify `return_dtype` to silence this warning.\n",
      "sys:1: MapWithoutReturnDtypeWarning: Calling `map_elements` without specifying `return_dtype` can lead to unpredictable results. Specify `return_dtype` to silence this warning.\n",
      "sys:1: MapWithoutReturnDtypeWarning: Calling `map_elements` without specifying `return_dtype` can lead to unpredictable results. Specify `return_dtype` to silence this warning.\n",
      "sys:1: MapWithoutReturnDtypeWarning: Calling `map_elements` without specifying `return_dtype` can lead to unpredictable results. Specify `return_dtype` to silence this warning.\n",
      "sys:1: MapWithoutReturnDtypeWarning: Calling `map_elements` without specifying `return_dtype` can lead to unpredictable results. Specify `return_dtype` to silence this warning.\n",
      "sys:1: MapWithoutReturnDtypeWarning: Calling `map_elements` without specifying `return_dtype` can lead to unpredictable results. Specify `return_dtype` to silence this warning.\n",
      "sys:1: MapWithoutReturnDtypeWarning: Calling `map_elements` without specifying `return_dtype` can lead to unpredictable results. Specify `return_dtype` to silence this warning.\n",
      "sys:1: MapWithoutReturnDtypeWarning: Calling `map_elements` without specifying `return_dtype` can lead to unpredictable results. Specify `return_dtype` to silence this warning.\n",
      "sys:1: MapWithoutReturnDtypeWarning: Calling `map_elements` without specifying `return_dtype` can lead to unpredictable results. Specify `return_dtype` to silence this warning.\n",
      "sys:1: MapWithoutReturnDtypeWarning: Calling `map_elements` without specifying `return_dtype` can lead to unpredictable results. Specify `return_dtype` to silence this warning.\n",
      "sys:1: MapWithoutReturnDtypeWarning: Calling `map_elements` without specifying `return_dtype` can lead to unpredictable results. Specify `return_dtype` to silence this warning.\n",
      "sys:1: MapWithoutReturnDtypeWarning: Calling `map_elements` without specifying `return_dtype` can lead to unpredictable results. Specify `return_dtype` to silence this warning.\n",
      "sys:1: MapWithoutReturnDtypeWarning: Calling `map_elements` without specifying `return_dtype` can lead to unpredictable results. Specify `return_dtype` to silence this warning.\n",
      "sys:1: MapWithoutReturnDtypeWarning: Calling `map_elements` without specifying `return_dtype` can lead to unpredictable results. Specify `return_dtype` to silence this warning.\n",
      "sys:1: MapWithoutReturnDtypeWarning: Calling `map_elements` without specifying `return_dtype` can lead to unpredictable results. Specify `return_dtype` to silence this warning.\n",
      "sys:1: MapWithoutReturnDtypeWarning: Calling `map_elements` without specifying `return_dtype` can lead to unpredictable results. Specify `return_dtype` to silence this warning.\n",
      "sys:1: MapWithoutReturnDtypeWarning: Calling `map_elements` without specifying `return_dtype` can lead to unpredictable results. Specify `return_dtype` to silence this warning.\n",
      "sys:1: MapWithoutReturnDtypeWarning: Calling `map_elements` without specifying `return_dtype` can lead to unpredictable results. Specify `return_dtype` to silence this warning.\n",
      "sys:1: MapWithoutReturnDtypeWarning: Calling `map_elements` without specifying `return_dtype` can lead to unpredictable results. Specify `return_dtype` to silence this warning.\n",
      "sys:1: MapWithoutReturnDtypeWarning: Calling `map_elements` without specifying `return_dtype` can lead to unpredictable results. Specify `return_dtype` to silence this warning.\n",
      "sys:1: MapWithoutReturnDtypeWarning: Calling `map_elements` without specifying `return_dtype` can lead to unpredictable results. Specify `return_dtype` to silence this warning.\n",
      "sys:1: MapWithoutReturnDtypeWarning: Calling `map_elements` without specifying `return_dtype` can lead to unpredictable results. Specify `return_dtype` to silence this warning.\n",
      "sys:1: MapWithoutReturnDtypeWarning: Calling `map_elements` without specifying `return_dtype` can lead to unpredictable results. Specify `return_dtype` to silence this warning.\n",
      "sys:1: MapWithoutReturnDtypeWarning: Calling `map_elements` without specifying `return_dtype` can lead to unpredictable results. Specify `return_dtype` to silence this warning.\n",
      "sys:1: MapWithoutReturnDtypeWarning: Calling `map_elements` without specifying `return_dtype` can lead to unpredictable results. Specify `return_dtype` to silence this warning.\n",
      "sys:1: MapWithoutReturnDtypeWarning: Calling `map_elements` without specifying `return_dtype` can lead to unpredictable results. Specify `return_dtype` to silence this warning.\n",
      "sys:1: MapWithoutReturnDtypeWarning: Calling `map_elements` without specifying `return_dtype` can lead to unpredictable results. Specify `return_dtype` to silence this warning.\n",
      "sys:1: MapWithoutReturnDtypeWarning: Calling `map_elements` without specifying `return_dtype` can lead to unpredictable results. Specify `return_dtype` to silence this warning.\n",
      "sys:1: MapWithoutReturnDtypeWarning: Calling `map_elements` without specifying `return_dtype` can lead to unpredictable results. Specify `return_dtype` to silence this warning.\n",
      "sys:1: MapWithoutReturnDtypeWarning: Calling `map_elements` without specifying `return_dtype` can lead to unpredictable results. Specify `return_dtype` to silence this warning.\n",
      "sys:1: MapWithoutReturnDtypeWarning: Calling `map_elements` without specifying `return_dtype` can lead to unpredictable results. Specify `return_dtype` to silence this warning.\n",
      "sys:1: MapWithoutReturnDtypeWarning: Calling `map_elements` without specifying `return_dtype` can lead to unpredictable results. Specify `return_dtype` to silence this warning.\n",
      "sys:1: MapWithoutReturnDtypeWarning: Calling `map_elements` without specifying `return_dtype` can lead to unpredictable results. Specify `return_dtype` to silence this warning.\n",
      "sys:1: MapWithoutReturnDtypeWarning: Calling `map_elements` without specifying `return_dtype` can lead to unpredictable results. Specify `return_dtype` to silence this warning.\n",
      "sys:1: MapWithoutReturnDtypeWarning: Calling `map_elements` without specifying `return_dtype` can lead to unpredictable results. Specify `return_dtype` to silence this warning.\n",
      "sys:1: MapWithoutReturnDtypeWarning: Calling `map_elements` without specifying `return_dtype` can lead to unpredictable results. Specify `return_dtype` to silence this warning.\n",
      "sys:1: MapWithoutReturnDtypeWarning: Calling `map_elements` without specifying `return_dtype` can lead to unpredictable results. Specify `return_dtype` to silence this warning.\n",
      "sys:1: MapWithoutReturnDtypeWarning: Calling `map_elements` without specifying `return_dtype` can lead to unpredictable results. Specify `return_dtype` to silence this warning.\n",
      "sys:1: MapWithoutReturnDtypeWarning: Calling `map_elements` without specifying `return_dtype` can lead to unpredictable results. Specify `return_dtype` to silence this warning.\n",
      "sys:1: MapWithoutReturnDtypeWarning: Calling `map_elements` without specifying `return_dtype` can lead to unpredictable results. Specify `return_dtype` to silence this warning.\n",
      "sys:1: MapWithoutReturnDtypeWarning: Calling `map_elements` without specifying `return_dtype` can lead to unpredictable results. Specify `return_dtype` to silence this warning.\n",
      "sys:1: MapWithoutReturnDtypeWarning: Calling `map_elements` without specifying `return_dtype` can lead to unpredictable results. Specify `return_dtype` to silence this warning.\n",
      "sys:1: MapWithoutReturnDtypeWarning: Calling `map_elements` without specifying `return_dtype` can lead to unpredictable results. Specify `return_dtype` to silence this warning.\n",
      "sys:1: MapWithoutReturnDtypeWarning: Calling `map_elements` without specifying `return_dtype` can lead to unpredictable results. Specify `return_dtype` to silence this warning.\n",
      "sys:1: MapWithoutReturnDtypeWarning: Calling `map_elements` without specifying `return_dtype` can lead to unpredictable results. Specify `return_dtype` to silence this warning.\n",
      "sys:1: MapWithoutReturnDtypeWarning: Calling `map_elements` without specifying `return_dtype` can lead to unpredictable results. Specify `return_dtype` to silence this warning.\n",
      "sys:1: MapWithoutReturnDtypeWarning: Calling `map_elements` without specifying `return_dtype` can lead to unpredictable results. Specify `return_dtype` to silence this warning.\n",
      "sys:1: MapWithoutReturnDtypeWarning: Calling `map_elements` without specifying `return_dtype` can lead to unpredictable results. Specify `return_dtype` to silence this warning.\n",
      "sys:1: MapWithoutReturnDtypeWarning: Calling `map_elements` without specifying `return_dtype` can lead to unpredictable results. Specify `return_dtype` to silence this warning.\n",
      "sys:1: MapWithoutReturnDtypeWarning: Calling `map_elements` without specifying `return_dtype` can lead to unpredictable results. Specify `return_dtype` to silence this warning.\n",
      "sys:1: MapWithoutReturnDtypeWarning: Calling `map_elements` without specifying `return_dtype` can lead to unpredictable results. Specify `return_dtype` to silence this warning.\n",
      "sys:1: MapWithoutReturnDtypeWarning: Calling `map_elements` without specifying `return_dtype` can lead to unpredictable results. Specify `return_dtype` to silence this warning.\n",
      "sys:1: MapWithoutReturnDtypeWarning: Calling `map_elements` without specifying `return_dtype` can lead to unpredictable results. Specify `return_dtype` to silence this warning.\n",
      "sys:1: MapWithoutReturnDtypeWarning: Calling `map_elements` without specifying `return_dtype` can lead to unpredictable results. Specify `return_dtype` to silence this warning.\n",
      "sys:1: MapWithoutReturnDtypeWarning: Calling `map_elements` without specifying `return_dtype` can lead to unpredictable results. Specify `return_dtype` to silence this warning.\n",
      "sys:1: MapWithoutReturnDtypeWarning: Calling `map_elements` without specifying `return_dtype` can lead to unpredictable results. Specify `return_dtype` to silence this warning.\n",
      "sys:1: MapWithoutReturnDtypeWarning: Calling `map_elements` without specifying `return_dtype` can lead to unpredictable results. Specify `return_dtype` to silence this warning.\n",
      "sys:1: MapWithoutReturnDtypeWarning: Calling `map_elements` without specifying `return_dtype` can lead to unpredictable results. Specify `return_dtype` to silence this warning.\n",
      "sys:1: MapWithoutReturnDtypeWarning: Calling `map_elements` without specifying `return_dtype` can lead to unpredictable results. Specify `return_dtype` to silence this warning.\n",
      "sys:1: MapWithoutReturnDtypeWarning: Calling `map_elements` without specifying `return_dtype` can lead to unpredictable results. Specify `return_dtype` to silence this warning.\n",
      "sys:1: MapWithoutReturnDtypeWarning: Calling `map_elements` without specifying `return_dtype` can lead to unpredictable results. Specify `return_dtype` to silence this warning.\n",
      "sys:1: MapWithoutReturnDtypeWarning: Calling `map_elements` without specifying `return_dtype` can lead to unpredictable results. Specify `return_dtype` to silence this warning.\n",
      "sys:1: MapWithoutReturnDtypeWarning: Calling `map_elements` without specifying `return_dtype` can lead to unpredictable results. Specify `return_dtype` to silence this warning.\n",
      "sys:1: MapWithoutReturnDtypeWarning: Calling `map_elements` without specifying `return_dtype` can lead to unpredictable results. Specify `return_dtype` to silence this warning.\n",
      "sys:1: MapWithoutReturnDtypeWarning: Calling `map_elements` without specifying `return_dtype` can lead to unpredictable results. Specify `return_dtype` to silence this warning.\n",
      "sys:1: MapWithoutReturnDtypeWarning: Calling `map_elements` without specifying `return_dtype` can lead to unpredictable results. Specify `return_dtype` to silence this warning.\n",
      "sys:1: MapWithoutReturnDtypeWarning: Calling `map_elements` without specifying `return_dtype` can lead to unpredictable results. Specify `return_dtype` to silence this warning.\n",
      "sys:1: MapWithoutReturnDtypeWarning: Calling `map_elements` without specifying `return_dtype` can lead to unpredictable results. Specify `return_dtype` to silence this warning.\n",
      "sys:1: MapWithoutReturnDtypeWarning: Calling `map_elements` without specifying `return_dtype` can lead to unpredictable results. Specify `return_dtype` to silence this warning.\n",
      "sys:1: MapWithoutReturnDtypeWarning: Calling `map_elements` without specifying `return_dtype` can lead to unpredictable results. Specify `return_dtype` to silence this warning.\n",
      "sys:1: MapWithoutReturnDtypeWarning: Calling `map_elements` without specifying `return_dtype` can lead to unpredictable results. Specify `return_dtype` to silence this warning.\n",
      "sys:1: MapWithoutReturnDtypeWarning: Calling `map_elements` without specifying `return_dtype` can lead to unpredictable results. Specify `return_dtype` to silence this warning.\n",
      "sys:1: MapWithoutReturnDtypeWarning: Calling `map_elements` without specifying `return_dtype` can lead to unpredictable results. Specify `return_dtype` to silence this warning.\n",
      "sys:1: MapWithoutReturnDtypeWarning: Calling `map_elements` without specifying `return_dtype` can lead to unpredictable results. Specify `return_dtype` to silence this warning.\n",
      "sys:1: MapWithoutReturnDtypeWarning: Calling `map_elements` without specifying `return_dtype` can lead to unpredictable results. Specify `return_dtype` to silence this warning.\n",
      "sys:1: MapWithoutReturnDtypeWarning: Calling `map_elements` without specifying `return_dtype` can lead to unpredictable results. Specify `return_dtype` to silence this warning.\n",
      "sys:1: MapWithoutReturnDtypeWarning: Calling `map_elements` without specifying `return_dtype` can lead to unpredictable results. Specify `return_dtype` to silence this warning.\n",
      "sys:1: MapWithoutReturnDtypeWarning: Calling `map_elements` without specifying `return_dtype` can lead to unpredictable results. Specify `return_dtype` to silence this warning.\n",
      "sys:1: MapWithoutReturnDtypeWarning: Calling `map_elements` without specifying `return_dtype` can lead to unpredictable results. Specify `return_dtype` to silence this warning.\n",
      "sys:1: MapWithoutReturnDtypeWarning: Calling `map_elements` without specifying `return_dtype` can lead to unpredictable results. Specify `return_dtype` to silence this warning.\n",
      "sys:1: MapWithoutReturnDtypeWarning: Calling `map_elements` without specifying `return_dtype` can lead to unpredictable results. Specify `return_dtype` to silence this warning.\n",
      "sys:1: MapWithoutReturnDtypeWarning: Calling `map_elements` without specifying `return_dtype` can lead to unpredictable results. Specify `return_dtype` to silence this warning.\n",
      "sys:1: MapWithoutReturnDtypeWarning: Calling `map_elements` without specifying `return_dtype` can lead to unpredictable results. Specify `return_dtype` to silence this warning.\n",
      "sys:1: MapWithoutReturnDtypeWarning: Calling `map_elements` without specifying `return_dtype` can lead to unpredictable results. Specify `return_dtype` to silence this warning.\n",
      "sys:1: MapWithoutReturnDtypeWarning: Calling `map_elements` without specifying `return_dtype` can lead to unpredictable results. Specify `return_dtype` to silence this warning.\n",
      "sys:1: MapWithoutReturnDtypeWarning: Calling `map_elements` without specifying `return_dtype` can lead to unpredictable results. Specify `return_dtype` to silence this warning.\n",
      "sys:1: MapWithoutReturnDtypeWarning: Calling `map_elements` without specifying `return_dtype` can lead to unpredictable results. Specify `return_dtype` to silence this warning.\n",
      "sys:1: MapWithoutReturnDtypeWarning: Calling `map_elements` without specifying `return_dtype` can lead to unpredictable results. Specify `return_dtype` to silence this warning.\n",
      "sys:1: MapWithoutReturnDtypeWarning: Calling `map_elements` without specifying `return_dtype` can lead to unpredictable results. Specify `return_dtype` to silence this warning.\n",
      "sys:1: MapWithoutReturnDtypeWarning: Calling `map_elements` without specifying `return_dtype` can lead to unpredictable results. Specify `return_dtype` to silence this warning.\n",
      "sys:1: MapWithoutReturnDtypeWarning: Calling `map_elements` without specifying `return_dtype` can lead to unpredictable results. Specify `return_dtype` to silence this warning.\n",
      "sys:1: MapWithoutReturnDtypeWarning: Calling `map_elements` without specifying `return_dtype` can lead to unpredictable results. Specify `return_dtype` to silence this warning.\n",
      "sys:1: MapWithoutReturnDtypeWarning: Calling `map_elements` without specifying `return_dtype` can lead to unpredictable results. Specify `return_dtype` to silence this warning.\n",
      "sys:1: MapWithoutReturnDtypeWarning: Calling `map_elements` without specifying `return_dtype` can lead to unpredictable results. Specify `return_dtype` to silence this warning.\n",
      "sys:1: MapWithoutReturnDtypeWarning: Calling `map_elements` without specifying `return_dtype` can lead to unpredictable results. Specify `return_dtype` to silence this warning.\n",
      "sys:1: MapWithoutReturnDtypeWarning: Calling `map_elements` without specifying `return_dtype` can lead to unpredictable results. Specify `return_dtype` to silence this warning.\n"
     ]
    },
    {
     "ename": "AttributeError",
     "evalue": "'DataFrame' object has no attribute 'groupby'",
     "output_type": "error",
     "traceback": [
      "\u001b[0;31m---------------------------------------------------------------------------\u001b[0m",
      "\u001b[0;31mAttributeError\u001b[0m                            Traceback (most recent call last)",
      "Cell \u001b[0;32mIn[109], line 2\u001b[0m\n\u001b[1;32m      1\u001b[0m behavioral_logs_top_categories \u001b[38;5;241m=\u001b[39m (\n\u001b[0;32m----> 2\u001b[0m     \u001b[43mbehavioral_logs\u001b[49m\n\u001b[1;32m      3\u001b[0m \u001b[43m     \u001b[49m\u001b[38;5;66;43;03m# каждое событие преобразуем в вес\u001b[39;49;00m\n\u001b[1;32m      4\u001b[0m \u001b[43m    \u001b[49m\u001b[38;5;241;43m.\u001b[39;49m\u001b[43mwith_columns\u001b[49m\u001b[43m(\u001b[49m\u001b[43m[\u001b[49m\u001b[43mpl\u001b[49m\u001b[38;5;241;43m.\u001b[39;49m\u001b[43mcol\u001b[49m\u001b[43m(\u001b[49m\u001b[38;5;124;43m'\u001b[39;49m\u001b[38;5;124;43mbtag\u001b[39;49m\u001b[38;5;124;43m'\u001b[39;49m\u001b[43m)\u001b[49m\u001b[38;5;241;43m.\u001b[39;49m\u001b[43mmap_elements\u001b[49m\u001b[43m(\u001b[49m\u001b[43mweight_dict\u001b[49m\u001b[38;5;241;43m.\u001b[39;49m\u001b[43mget\u001b[49m\u001b[43m)\u001b[49m\u001b[38;5;241;43m.\u001b[39;49m\u001b[43malias\u001b[49m\u001b[43m(\u001b[49m\u001b[38;5;124;43m'\u001b[39;49m\u001b[38;5;124;43mweight\u001b[39;49m\u001b[38;5;124;43m'\u001b[39;49m\u001b[43m)\u001b[49m\u001b[43m]\u001b[49m\u001b[43m)\u001b[49m\n\u001b[1;32m      5\u001b[0m \u001b[43m    \u001b[49m\u001b[38;5;241;43m.\u001b[39;49m\u001b[43mgroupby\u001b[49m(\u001b[38;5;124m'\u001b[39m\u001b[38;5;124muser\u001b[39m\u001b[38;5;124m'\u001b[39m, \u001b[38;5;124m'\u001b[39m\u001b[38;5;124mcate\u001b[39m\u001b[38;5;124m'\u001b[39m)\n\u001b[1;32m      6\u001b[0m     \u001b[38;5;66;03m# итоговый вес для категории – сумма весов событий\u001b[39;00m\n\u001b[1;32m      7\u001b[0m     \u001b[38;5;241m.\u001b[39magg(pl\u001b[38;5;241m.\u001b[39mcol(\u001b[38;5;124m'\u001b[39m\u001b[38;5;124mweight\u001b[39m\u001b[38;5;124m'\u001b[39m)\u001b[38;5;241m.\u001b[39msum())\n\u001b[1;32m      8\u001b[0m     \u001b[38;5;66;03m# для каждого пользователя оставим категорию с максимальным весом\u001b[39;00m\n\u001b[1;32m      9\u001b[0m     \u001b[38;5;241m.\u001b[39msort([\u001b[38;5;124m'\u001b[39m\u001b[38;5;124muser\u001b[39m\u001b[38;5;124m'\u001b[39m, \u001b[38;5;124m'\u001b[39m\u001b[38;5;124mweight\u001b[39m\u001b[38;5;124m'\u001b[39m], descending\u001b[38;5;241m=\u001b[39m\u001b[38;5;28;01mTrue\u001b[39;00m)\n\u001b[1;32m     10\u001b[0m     \u001b[38;5;241m.\u001b[39munique(\u001b[38;5;124m'\u001b[39m\u001b[38;5;124muser\u001b[39m\u001b[38;5;124m'\u001b[39m, keep\u001b[38;5;241m=\u001b[39m\u001b[38;5;124m'\u001b[39m\u001b[38;5;124mfirst\u001b[39m\u001b[38;5;124m'\u001b[39m)\n\u001b[1;32m     11\u001b[0m )\n\u001b[1;32m     12\u001b[0m behavioral_logs_top_categories\n",
      "\u001b[0;31mAttributeError\u001b[0m: 'DataFrame' object has no attribute 'groupby'"
     ]
    }
   ],
   "source": [
    "behavioral_logs_top_categories = (\n",
    "    behavioral_logs\n",
    "     # каждое событие преобразуем в вес\n",
    "    .with_columns([pl.col('btag').map_elements(weight_dict.get).alias('weight')])\n",
    "    .groupby('user', 'cate')\n",
    "    # итоговый вес для категории – сумма весов событий\n",
    "    .agg(pl.col('weight').sum())\n",
    "    # для каждого пользователя оставим категорию с максимальным весом\n",
    "    .sort(['user', 'weight'], descending=True)\n",
    "    .unique('user', keep='first')\n",
    ")\n",
    "behavioral_logs_top_categories"
   ]
  },
  {
   "cell_type": "code",
   "execution_count": 115,
   "id": "be8bb79d",
   "metadata": {
    "execution": {
     "iopub.execute_input": "2024-09-04T09:59:14.431510Z",
     "iopub.status.busy": "2024-09-04T09:59:14.430769Z",
     "iopub.status.idle": "2024-09-04T09:59:16.784840Z",
     "shell.execute_reply": "2024-09-04T09:59:16.784066Z",
     "shell.execute_reply.started": "2024-09-04T09:59:14.431476Z"
    },
    "tags": []
   },
   "outputs": [
    {
     "name": "stderr",
     "output_type": "stream",
     "text": [
      "/tmp/ipykernel_322/2590387304.py:8: DeprecationWarning: `pl.count()` is deprecated. Please use `pl.len()` instead.\n",
      "  pl.count().alias('count')\n",
      "sys:1: MapWithoutReturnDtypeWarning: Calling `map_elements` without specifying `return_dtype` can lead to unpredictable results. Specify `return_dtype` to silence this warning.\n"
     ]
    },
    {
     "data": {
      "text/html": [
       "<div><style>\n",
       ".dataframe > thead > tr,\n",
       ".dataframe > tbody > tr {\n",
       "  text-align: right;\n",
       "  white-space: pre-wrap;\n",
       "}\n",
       "</style>\n",
       "<small>shape: (6_138, 2)</small><table border=\"1\" class=\"dataframe\"><thead><tr><th>cate_id</th><th>y_rec</th></tr><tr><td>i64</td><td>list[i64]</td></tr></thead><tbody><tr><td>5383</td><td>[662209, 581523, … 845753]</td></tr><tr><td>10891</td><td>[73473, 249714, … 205580]</td></tr><tr><td>8131</td><td>[532748, 315409, … 153827]</td></tr><tr><td>4594</td><td>[388624, 558660, … 16980]</td></tr><tr><td>3</td><td>[284364, 117227, … 176766]</td></tr><tr><td>&hellip;</td><td>&hellip;</td></tr><tr><td>6547</td><td>[98025, 228897, … 342134]</td></tr><tr><td>6157</td><td>[531839, 372923, … 299132]</td></tr><tr><td>11790</td><td>[668880, 576879, 820375]</td></tr><tr><td>4975</td><td>[205215, 451658]</td></tr><tr><td>6809</td><td>[162647, 166955, … 180168]</td></tr></tbody></table></div>"
      ],
      "text/plain": [
       "shape: (6_138, 2)\n",
       "┌─────────┬────────────────────────────┐\n",
       "│ cate_id ┆ y_rec                      │\n",
       "│ ---     ┆ ---                        │\n",
       "│ i64     ┆ list[i64]                  │\n",
       "╞═════════╪════════════════════════════╡\n",
       "│ 5383    ┆ [662209, 581523, … 845753] │\n",
       "│ 10891   ┆ [73473, 249714, … 205580]  │\n",
       "│ 8131    ┆ [532748, 315409, … 153827] │\n",
       "│ 4594    ┆ [388624, 558660, … 16980]  │\n",
       "│ 3       ┆ [284364, 117227, … 176766] │\n",
       "│ …       ┆ …                          │\n",
       "│ 6547    ┆ [98025, 228897, … 342134]  │\n",
       "│ 6157    ┆ [531839, 372923, … 299132] │\n",
       "│ 11790   ┆ [668880, 576879, 820375]   │\n",
       "│ 4975    ┆ [205215, 451658]           │\n",
       "│ 6809    ┆ [162647, 166955, … 180168] │\n",
       "└─────────┴────────────────────────────┘"
      ]
     },
     "execution_count": 115,
     "metadata": {},
     "output_type": "execute_result"
    }
   ],
   "source": [
    "grouped_tops = (\n",
    "    data\n",
    "    .join(ad_features, on='adgroup_id')\n",
    "    # для пары cate_id и adgroup_id вычисляем ctr\n",
    "    .group_by('cate_id', 'adgroup_id')\n",
    "    .agg([\n",
    "        pl.col('clk').mean().alias('ctr'),\n",
    "        pl.count().alias('count')\n",
    "    ])\n",
    "    # уберем те рекламные объявления, которые были показаны всего N раз\n",
    "    .filter(pl.col('count') > 1)\n",
    "    # сгруппируем ctr и adgroup_id в словарь и вызовем функцию get_top_candidates\n",
    "    .with_columns([pl.struct(ctr=pl.col('ctr'), adgroup_id=pl.col('adgroup_id')).alias('struct')])\n",
    "    .group_by('cate_id')\n",
    "    .agg(pl.col('struct').map_elements(get_top_candidates).alias('y_rec'))\n",
    ")\n",
    "grouped_tops"
   ]
  },
  {
   "cell_type": "code",
   "execution_count": 116,
   "id": "3eb1b128",
   "metadata": {
    "execution": {
     "iopub.execute_input": "2024-09-04T09:59:19.812350Z",
     "iopub.status.busy": "2024-09-04T09:59:19.811435Z",
     "iopub.status.idle": "2024-09-04T09:59:20.135274Z",
     "shell.execute_reply": "2024-09-04T09:59:20.134181Z",
     "shell.execute_reply.started": "2024-09-04T09:59:19.812316Z"
    },
    "tags": []
   },
   "outputs": [],
   "source": [
    "(\n",
    "    test\n",
    "    .join(behavioral_logs_top_categories, left_on='user_id', right_on='user')\n",
    "    .join(grouped_tops, left_on='cate', right_on='cate_id')\n",
    "    .select('user_id', 'y_rec')\n",
    "    .write_parquet('submission.parquet')\n",
    ")"
   ]
  },
  {
   "cell_type": "markdown",
   "id": "acd814a8-412f-4c31-ad16-dc8377e9f0aa",
   "metadata": {},
   "source": [
    "# Двухуровневая модель"
   ]
  },
  {
   "cell_type": "markdown",
   "id": "2afbf850-6f22-4287-942e-d96957caaca6",
   "metadata": {},
   "source": [
    "## LightFM"
   ]
  },
  {
   "cell_type": "code",
   "execution_count": 17,
   "id": "0a7a0dd2-3be6-4ba0-bed4-ae98f9bbfdff",
   "metadata": {
    "execution": {
     "iopub.execute_input": "2024-09-05T09:59:34.912711Z",
     "iopub.status.busy": "2024-09-05T09:59:34.912109Z",
     "iopub.status.idle": "2024-09-05T09:59:37.629116Z",
     "shell.execute_reply": "2024-09-05T09:59:37.628351Z",
     "shell.execute_reply.started": "2024-09-05T09:59:34.912679Z"
    },
    "tags": []
   },
   "outputs": [
    {
     "data": {
      "text/plain": [
       "<1141730x846798 sparse matrix of type '<class 'numpy.float32'>'\n",
       "\twith 1087513 stored elements in Compressed Sparse Row format>"
      ]
     },
     "execution_count": 17,
     "metadata": {},
     "output_type": "execute_result"
    }
   ],
   "source": [
    "# соберем строчки для разреженной матрицы\n",
    "rows = []\n",
    "cols = []\n",
    "values = []\n",
    "\n",
    "for user_id, train_item_ids in train_grouped_df.select('user', 'y_rel').rows():\n",
    "    rows.extend([user_id] * len(train_item_ids))\n",
    "    cols.extend(train_item_ids)\n",
    "    values.extend([1]*len(train_item_ids))\n",
    "\n",
    "user_item_train = sp.csr_matrix((values, (rows, cols)), dtype=np.float32)\n",
    "user_item_train"
   ]
  },
  {
   "cell_type": "code",
   "execution_count": null,
   "id": "6e4c2ac3-480b-4ae9-ae7c-93dbaacf75c8",
   "metadata": {
    "tags": []
   },
   "outputs": [],
   "source": [
    "def objective(trial):\n",
    "    no_components = trial.suggest_int('no_components', 8, 128)\n",
    "    epochs = trial.suggest_int('epochs', 5, 50)\n",
    "    # loss = trial.suggest_categorical('loss', ['logistic', 'bpr', 'warp', 'warp-kos'])\n",
    "    alpha = trial.suggest_float('alpha', 0., 1e-3)\n",
    "        \n",
    "    print({\n",
    "        'no_components': no_components,\n",
    "        'alpha': alpha,\n",
    "        # 'loss': loss,\n",
    "    })\n",
    "    \n",
    "    try:\n",
    "        # модель может бросить исключение, если регуляризация слишком сильная\n",
    "        lightfm_model = LightFM(\n",
    "            no_components=no_components,\n",
    "            loss='warp',\n",
    "            item_alpha=alpha,\n",
    "            user_alpha=alpha,\n",
    "            k=TOP_K,\n",
    "            random_state=RANDOM_STATE,\n",
    "        )\n",
    "        lightfm_model.fit(user_item_train, epochs=5, verbose=True)\n",
    "    except:\n",
    "        return None\n",
    "    _, recs = get_recommendations(\n",
    "        lightfm_model.user_embeddings,\n",
    "        lightfm_model.item_embeddings,\n",
    "        TOP_K\n",
    "    )\n",
    "\n",
    "\n",
    "    recall_list = []\n",
    "    for user_id, y_rel, user_history in test_nonull_grouped_df.rows():\n",
    "        # y_rec = [item_id for item_id in recs[user_id] if item_id not in user_history]\n",
    "        # если не фильтровать историю, то метрики будут расти\n",
    "        y_rec = recs[user_id]\n",
    "\n",
    "        recall_list.append(user_recall(y_rel, y_rec))\n",
    "    mean_recall = np.mean(recall_list)\n",
    "    print(f'RECALL@{TOP_K} = {mean_recall}')\n",
    "    return mean_recall\n",
    "    \n",
    "\n",
    "study = optuna.create_study(directions=('maximize',))\n",
    "study.optimize(objective, n_trials=25)\n",
    "\n",
    "study.best_params"
   ]
  },
  {
   "cell_type": "code",
   "execution_count": null,
   "id": "c2cc7e41-8fee-4e21-a68f-1bb3aa2b3708",
   "metadata": {
    "execution": {
     "iopub.status.busy": "2024-09-05T10:39:46.857852Z",
     "iopub.status.idle": "2024-09-05T10:39:46.858635Z",
     "shell.execute_reply": "2024-09-05T10:39:46.858455Z",
     "shell.execute_reply.started": "2024-09-05T10:39:46.858440Z"
    },
    "tags": []
   },
   "outputs": [],
   "source": [
    "study.best_params\n"
   ]
  },
  {
   "cell_type": "code",
   "execution_count": 21,
   "id": "2317a53a-59ce-42cd-bd9b-e191acb90d36",
   "metadata": {
    "execution": {
     "iopub.execute_input": "2024-09-05T10:40:18.763514Z",
     "iopub.status.busy": "2024-09-05T10:40:18.762373Z",
     "iopub.status.idle": "2024-09-05T10:48:43.241023Z",
     "shell.execute_reply": "2024-09-05T10:48:43.239162Z",
     "shell.execute_reply.started": "2024-09-05T10:40:18.763422Z"
    },
    "tags": []
   },
   "outputs": [
    {
     "name": "stderr",
     "output_type": "stream",
     "text": [
      "Epoch: 100%|██████████| 30/30 [07:29<00:00, 14.99s/it]\n"
     ]
    }
   ],
   "source": [
    "# Обучение модели на всем наборе данных\n",
    "rows = []\n",
    "cols = []\n",
    "values = []\n",
    "\n",
    "for user_id, train_item_ids in grouped_df.select('user', 'y_rel').rows():\n",
    "    rows.extend([user_id] * len(train_item_ids))\n",
    "    cols.extend(train_item_ids)\n",
    "    values.extend([1]*len(train_item_ids))\n",
    "\n",
    "user_item_data = sp.csr_matrix((values, (rows, cols)), dtype=np.float32)\n",
    "\n",
    "lightfm_model = LightFM(\n",
    "            **{\n",
    "                'no_components': 128,\n",
    "                'loss': 'warp',\n",
    "                'item_alpha': 1.9398897222457625e-05,\n",
    "                'user_alpha': 1.9398897222457625e-05,\n",
    "              },\n",
    "            k=TOP_K,\n",
    "            random_state=RANDOM_STATE,\n",
    "        )\n",
    "lightfm_model.fit(user_item_train, epochs=30, verbose=True)\n",
    "\n",
    "_, final_lfm_recs = get_recommendations(\n",
    "        lightfm_model.user_embeddings,\n",
    "        lightfm_model.item_embeddings,\n",
    "        TOP_K\n",
    "    )"
   ]
  },
  {
   "cell_type": "code",
   "execution_count": 39,
   "id": "358d3eb8-e8b8-4f66-aa6f-c69726cb5d9e",
   "metadata": {
    "execution": {
     "iopub.execute_input": "2024-09-05T12:46:05.296982Z",
     "iopub.status.busy": "2024-09-05T12:46:05.295742Z",
     "iopub.status.idle": "2024-09-05T12:46:11.365060Z",
     "shell.execute_reply": "2024-09-05T12:46:11.364080Z",
     "shell.execute_reply.started": "2024-09-05T12:46:05.296948Z"
    },
    "tags": []
   },
   "outputs": [],
   "source": [
    "submission_lfm = create_submission(test, final_lfm_recs, 'lfm')"
   ]
  },
  {
   "attachments": {
    "1977d884-9608-4583-923c-2710d81e8bf4.png": {
     "image/png": "[encoded data removed]"
    }
   },
   "cell_type": "markdown",
   "id": "c136cd1f-1ae5-4ab2-ae42-51be4da9dfe7",
   "metadata": {},
   "source": [
    "Уже этот подбор выбивает max нужных метрик\\\n",
    "![image.png](attachment:1977d884-9608-4583-923c-2710d81e8bf4.png)"
   ]
  },
  {
   "cell_type": "markdown",
   "id": "152fbcfe-138f-4610-9804-ec58501b9d6d",
   "metadata": {
    "tags": []
   },
   "source": [
    "## ALS"
   ]
  },
  {
   "cell_type": "code",
   "execution_count": 16,
   "id": "d4380158-8b9f-4332-b92a-f3b3f377b8bd",
   "metadata": {
    "execution": {
     "iopub.execute_input": "2024-09-04T06:50:04.006303Z",
     "iopub.status.busy": "2024-09-04T06:50:04.005390Z",
     "iopub.status.idle": "2024-09-04T06:50:06.525632Z",
     "shell.execute_reply": "2024-09-04T06:50:06.524639Z",
     "shell.execute_reply.started": "2024-09-04T06:50:04.006268Z"
    },
    "tags": []
   },
   "outputs": [
    {
     "data": {
      "text/plain": [
       "<1141730x846798 sparse matrix of type '<class 'numpy.float32'>'\n",
       "\twith 1087513 stored elements in Compressed Sparse Row format>"
      ]
     },
     "execution_count": 16,
     "metadata": {},
     "output_type": "execute_result"
    }
   ],
   "source": [
    "# соберем строчки для разреженной матрицы\n",
    "rows = []\n",
    "cols = []\n",
    "values = []\n",
    "\n",
    "for user_id, train_item_ids in train_grouped_df.select('user', 'y_rel').rows():\n",
    "    rows.extend([user_id] * len(train_item_ids))\n",
    "    cols.extend(train_item_ids)\n",
    "    values.extend([1]*len(train_item_ids))\n",
    "\n",
    "user_item_train = sp.csr_matrix((values, (rows, cols)), dtype=np.float32)\n",
    "user_item_train"
   ]
  },
  {
   "cell_type": "code",
   "execution_count": 54,
   "id": "0cf14226-f0c4-4095-aa4a-55871325ecf2",
   "metadata": {
    "collapsed": true,
    "execution": {
     "iopub.execute_input": "2024-09-04T08:43:21.989135Z",
     "iopub.status.busy": "2024-09-04T08:43:21.987843Z",
     "iopub.status.idle": "2024-09-04T08:51:57.587129Z",
     "shell.execute_reply": "2024-09-04T08:51:57.586040Z",
     "shell.execute_reply.started": "2024-09-04T08:43:21.989094Z"
    },
    "jupyter": {
     "outputs_hidden": true
    },
    "tags": []
   },
   "outputs": [
    {
     "name": "stderr",
     "output_type": "stream",
     "text": [
      "[I 2024-09-04 11:43:21,996] A new study created in memory with name: no-name-81114849-3935-46b5-bcbc-3088ba602e1b\n"
     ]
    },
    {
     "name": "stdout",
     "output_type": "stream",
     "text": [
      "{'factors': 45, 'iterations': 7, 'alpha': 0.608821044692731, 'regularization': 0.278987185483607}\n"
     ]
    },
    {
     "data": {
      "application/vnd.jupyter.widget-view+json": {
       "model_id": "ea9e8f8e8e994c348520a0f86a5a31bc",
       "version_major": 2,
       "version_minor": 0
      },
      "text/plain": [
       "  0%|          | 0/7 [00:00<?, ?it/s]"
      ]
     },
     "metadata": {},
     "output_type": "display_data"
    },
    {
     "name": "stderr",
     "output_type": "stream",
     "text": [
      "[I 2024-09-04 11:43:42,431] Trial 0 finished with value: 0.01823933202207956 and parameters: {'factors': 45, 'iterations': 7, 'alpha': 0.608821044692731, 'regularization': 0.278987185483607}. Best is trial 0 with value: 0.01823933202207956.\n"
     ]
    },
    {
     "name": "stdout",
     "output_type": "stream",
     "text": [
      "RECALL@10 = 0.01823933202207956\n",
      "{'factors': 13, 'iterations': 10, 'alpha': 1.9338635003521834, 'regularization': 0.4626156681978764}\n"
     ]
    },
    {
     "data": {
      "application/vnd.jupyter.widget-view+json": {
       "model_id": "49ede5dc6947499187fcfb5650897df9",
       "version_major": 2,
       "version_minor": 0
      },
      "text/plain": [
       "  0%|          | 0/10 [00:00<?, ?it/s]"
      ]
     },
     "metadata": {},
     "output_type": "display_data"
    },
    {
     "name": "stderr",
     "output_type": "stream",
     "text": [
      "[I 2024-09-04 11:43:59,850] Trial 1 finished with value: 0.01721952369321086 and parameters: {'factors': 13, 'iterations': 10, 'alpha': 1.9338635003521834, 'regularization': 0.4626156681978764}. Best is trial 0 with value: 0.01823933202207956.\n"
     ]
    },
    {
     "name": "stdout",
     "output_type": "stream",
     "text": [
      "RECALL@10 = 0.01721952369321086\n",
      "{'factors': 101, 'iterations': 22, 'alpha': 4.013124210872325, 'regularization': 0.23194142776583826}\n"
     ]
    },
    {
     "data": {
      "application/vnd.jupyter.widget-view+json": {
       "model_id": "735bb97c4c7d4a7f92ccfad16aa4485a",
       "version_major": 2,
       "version_minor": 0
      },
      "text/plain": [
       "  0%|          | 0/22 [00:00<?, ?it/s]"
      ]
     },
     "metadata": {},
     "output_type": "display_data"
    },
    {
     "name": "stderr",
     "output_type": "stream",
     "text": [
      "[I 2024-09-04 11:44:27,459] Trial 2 finished with value: 0.019787896912064624 and parameters: {'factors': 101, 'iterations': 22, 'alpha': 4.013124210872325, 'regularization': 0.23194142776583826}. Best is trial 2 with value: 0.019787896912064624.\n"
     ]
    },
    {
     "name": "stdout",
     "output_type": "stream",
     "text": [
      "RECALL@10 = 0.019787896912064624\n",
      "{'factors': 35, 'iterations': 21, 'alpha': 1.0835508031368983, 'regularization': 0.4214241443410679}\n"
     ]
    },
    {
     "data": {
      "application/vnd.jupyter.widget-view+json": {
       "model_id": "e1fdfb2841f84c5d8e71ed3a86aa4ab1",
       "version_major": 2,
       "version_minor": 0
      },
      "text/plain": [
       "  0%|          | 0/21 [00:00<?, ?it/s]"
      ]
     },
     "metadata": {},
     "output_type": "display_data"
    },
    {
     "name": "stderr",
     "output_type": "stream",
     "text": [
      "[I 2024-09-04 11:44:46,849] Trial 3 finished with value: 0.018105343360485162 and parameters: {'factors': 35, 'iterations': 21, 'alpha': 1.0835508031368983, 'regularization': 0.4214241443410679}. Best is trial 2 with value: 0.019787896912064624.\n"
     ]
    },
    {
     "name": "stdout",
     "output_type": "stream",
     "text": [
      "RECALL@10 = 0.018105343360485162\n",
      "{'factors': 27, 'iterations': 18, 'alpha': 0.5458818531491876, 'regularization': 0.1914664568153294}\n"
     ]
    },
    {
     "data": {
      "application/vnd.jupyter.widget-view+json": {
       "model_id": "cfcd2e24b9d441489cd2198869854734",
       "version_major": 2,
       "version_minor": 0
      },
      "text/plain": [
       "  0%|          | 0/18 [00:00<?, ?it/s]"
      ]
     },
     "metadata": {},
     "output_type": "display_data"
    },
    {
     "name": "stderr",
     "output_type": "stream",
     "text": [
      "[I 2024-09-04 11:45:04,484] Trial 4 finished with value: 0.017620086733770985 and parameters: {'factors': 27, 'iterations': 18, 'alpha': 0.5458818531491876, 'regularization': 0.1914664568153294}. Best is trial 2 with value: 0.019787896912064624.\n"
     ]
    },
    {
     "name": "stdout",
     "output_type": "stream",
     "text": [
      "RECALL@10 = 0.017620086733770985\n",
      "{'factors': 106, 'iterations': 28, 'alpha': 1.9386667338014445, 'regularization': 0.7392945607517408}\n"
     ]
    },
    {
     "data": {
      "application/vnd.jupyter.widget-view+json": {
       "model_id": "73975212a7a54f8fbdb4e0cdc7a9aaa8",
       "version_major": 2,
       "version_minor": 0
      },
      "text/plain": [
       "  0%|          | 0/28 [00:00<?, ?it/s]"
      ]
     },
     "metadata": {},
     "output_type": "display_data"
    },
    {
     "name": "stderr",
     "output_type": "stream",
     "text": [
      "[I 2024-09-04 11:45:32,970] Trial 5 finished with value: 0.020493848723399946 and parameters: {'factors': 106, 'iterations': 28, 'alpha': 1.9386667338014445, 'regularization': 0.7392945607517408}. Best is trial 5 with value: 0.020493848723399946.\n"
     ]
    },
    {
     "name": "stdout",
     "output_type": "stream",
     "text": [
      "RECALL@10 = 0.020493848723399946\n",
      "{'factors': 94, 'iterations': 18, 'alpha': 2.0567316484007074, 'regularization': 0.41293260449273406}\n"
     ]
    },
    {
     "data": {
      "application/vnd.jupyter.widget-view+json": {
       "model_id": "18f249c021634b5fb7d016b844cd9c6d",
       "version_major": 2,
       "version_minor": 0
      },
      "text/plain": [
       "  0%|          | 0/18 [00:00<?, ?it/s]"
      ]
     },
     "metadata": {},
     "output_type": "display_data"
    },
    {
     "name": "stderr",
     "output_type": "stream",
     "text": [
      "[I 2024-09-04 11:45:59,574] Trial 6 finished with value: 0.019680097809581697 and parameters: {'factors': 94, 'iterations': 18, 'alpha': 2.0567316484007074, 'regularization': 0.41293260449273406}. Best is trial 5 with value: 0.020493848723399946.\n"
     ]
    },
    {
     "name": "stdout",
     "output_type": "stream",
     "text": [
      "RECALL@10 = 0.019680097809581697\n",
      "{'factors': 53, 'iterations': 20, 'alpha': 0.7868881501919407, 'regularization': 0.4171559075734231}\n"
     ]
    },
    {
     "data": {
      "application/vnd.jupyter.widget-view+json": {
       "model_id": "59c464e489d54e2cb538ad2532f2e0fc",
       "version_major": 2,
       "version_minor": 0
      },
      "text/plain": [
       "  0%|          | 0/20 [00:00<?, ?it/s]"
      ]
     },
     "metadata": {},
     "output_type": "display_data"
    },
    {
     "name": "stderr",
     "output_type": "stream",
     "text": [
      "[I 2024-09-04 11:46:20,521] Trial 7 finished with value: 0.019828580689922326 and parameters: {'factors': 53, 'iterations': 20, 'alpha': 0.7868881501919407, 'regularization': 0.4171559075734231}. Best is trial 5 with value: 0.020493848723399946.\n"
     ]
    },
    {
     "name": "stdout",
     "output_type": "stream",
     "text": [
      "RECALL@10 = 0.019828580689922326\n",
      "{'factors': 66, 'iterations': 14, 'alpha': 3.774496818028264, 'regularization': 0.9132179668448115}\n"
     ]
    },
    {
     "data": {
      "application/vnd.jupyter.widget-view+json": {
       "model_id": "035560bc761542fba74ce905e45b94af",
       "version_major": 2,
       "version_minor": 0
      },
      "text/plain": [
       "  0%|          | 0/14 [00:00<?, ?it/s]"
      ]
     },
     "metadata": {},
     "output_type": "display_data"
    },
    {
     "name": "stderr",
     "output_type": "stream",
     "text": [
      "[I 2024-09-04 11:46:43,849] Trial 8 finished with value: 0.019594998226993735 and parameters: {'factors': 66, 'iterations': 14, 'alpha': 3.774496818028264, 'regularization': 0.9132179668448115}. Best is trial 5 with value: 0.020493848723399946.\n"
     ]
    },
    {
     "name": "stdout",
     "output_type": "stream",
     "text": [
      "RECALL@10 = 0.019594998226993735\n",
      "{'factors': 119, 'iterations': 21, 'alpha': 0.4464176686501199, 'regularization': 0.1180448306737027}\n"
     ]
    },
    {
     "data": {
      "application/vnd.jupyter.widget-view+json": {
       "model_id": "4fe0cc74b64d4e5abd5fd97d87535fe4",
       "version_major": 2,
       "version_minor": 0
      },
      "text/plain": [
       "  0%|          | 0/21 [00:00<?, ?it/s]"
      ]
     },
     "metadata": {},
     "output_type": "display_data"
    },
    {
     "name": "stderr",
     "output_type": "stream",
     "text": [
      "[I 2024-09-04 11:47:14,055] Trial 9 finished with value: 0.021204817180900285 and parameters: {'factors': 119, 'iterations': 21, 'alpha': 0.4464176686501199, 'regularization': 0.1180448306737027}. Best is trial 9 with value: 0.021204817180900285.\n"
     ]
    },
    {
     "name": "stdout",
     "output_type": "stream",
     "text": [
      "RECALL@10 = 0.021204817180900285\n",
      "{'factors': 120, 'iterations': 30, 'alpha': 4.9214552030757215, 'regularization': 0.0499446565056461}\n"
     ]
    },
    {
     "data": {
      "application/vnd.jupyter.widget-view+json": {
       "model_id": "2a3be8a6527c499ea58db4c63929944e",
       "version_major": 2,
       "version_minor": 0
      },
      "text/plain": [
       "  0%|          | 0/30 [00:00<?, ?it/s]"
      ]
     },
     "metadata": {},
     "output_type": "display_data"
    },
    {
     "name": "stderr",
     "output_type": "stream",
     "text": [
      "[I 2024-09-04 11:47:42,977] Trial 10 finished with value: 0.021464918482565588 and parameters: {'factors': 120, 'iterations': 30, 'alpha': 4.9214552030757215, 'regularization': 0.0499446565056461}. Best is trial 10 with value: 0.021464918482565588.\n"
     ]
    },
    {
     "name": "stdout",
     "output_type": "stream",
     "text": [
      "RECALL@10 = 0.021464918482565588\n",
      "{'factors': 127, 'iterations': 29, 'alpha': 3.265026630944163, 'regularization': 0.06495463941010439}\n"
     ]
    },
    {
     "data": {
      "application/vnd.jupyter.widget-view+json": {
       "model_id": "4e91fe2cc04a4d89830af5708f14adff",
       "version_major": 2,
       "version_minor": 0
      },
      "text/plain": [
       "  0%|          | 0/29 [00:00<?, ?it/s]"
      ]
     },
     "metadata": {},
     "output_type": "display_data"
    },
    {
     "name": "stderr",
     "output_type": "stream",
     "text": [
      "[I 2024-09-04 11:48:14,519] Trial 11 finished with value: 0.02154659850290176 and parameters: {'factors': 127, 'iterations': 29, 'alpha': 3.265026630944163, 'regularization': 0.06495463941010439}. Best is trial 11 with value: 0.02154659850290176.\n"
     ]
    },
    {
     "name": "stdout",
     "output_type": "stream",
     "text": [
      "RECALL@10 = 0.02154659850290176\n",
      "{'factors': 124, 'iterations': 30, 'alpha': 4.76327853557861, 'regularization': 0.02784012583118769}\n"
     ]
    },
    {
     "data": {
      "application/vnd.jupyter.widget-view+json": {
       "model_id": "c87e56fc4cec4c19be3bac156dc7d997",
       "version_major": 2,
       "version_minor": 0
      },
      "text/plain": [
       "  0%|          | 0/30 [00:00<?, ?it/s]"
      ]
     },
     "metadata": {},
     "output_type": "display_data"
    },
    {
     "name": "stderr",
     "output_type": "stream",
     "text": [
      "[I 2024-09-04 11:48:46,335] Trial 12 finished with value: 0.02126616376689124 and parameters: {'factors': 124, 'iterations': 30, 'alpha': 4.76327853557861, 'regularization': 0.02784012583118769}. Best is trial 11 with value: 0.02154659850290176.\n"
     ]
    },
    {
     "name": "stdout",
     "output_type": "stream",
     "text": [
      "RECALL@10 = 0.02126616376689124\n",
      "{'factors': 84, 'iterations': 26, 'alpha': 3.246820529208734, 'regularization': 0.0094835704957284}\n"
     ]
    },
    {
     "data": {
      "application/vnd.jupyter.widget-view+json": {
       "model_id": "23dab80b17e54087b332772bc6f8cc9d",
       "version_major": 2,
       "version_minor": 0
      },
      "text/plain": [
       "  0%|          | 0/26 [00:00<?, ?it/s]"
      ]
     },
     "metadata": {},
     "output_type": "display_data"
    },
    {
     "name": "stderr",
     "output_type": "stream",
     "text": [
      "[I 2024-09-04 11:49:11,342] Trial 13 finished with value: 0.019411669246712396 and parameters: {'factors': 84, 'iterations': 26, 'alpha': 3.246820529208734, 'regularization': 0.0094835704957284}. Best is trial 11 with value: 0.02154659850290176.\n"
     ]
    },
    {
     "name": "stdout",
     "output_type": "stream",
     "text": [
      "RECALL@10 = 0.019411669246712396\n",
      "{'factors': 127, 'iterations': 25, 'alpha': 4.851489461612585, 'regularization': 0.6888204655539273}\n"
     ]
    },
    {
     "data": {
      "application/vnd.jupyter.widget-view+json": {
       "model_id": "f9e53015e5a64f02944a254ce5bbe693",
       "version_major": 2,
       "version_minor": 0
      },
      "text/plain": [
       "  0%|          | 0/25 [00:00<?, ?it/s]"
      ]
     },
     "metadata": {},
     "output_type": "display_data"
    },
    {
     "name": "stderr",
     "output_type": "stream",
     "text": [
      "[I 2024-09-04 11:49:43,202] Trial 14 finished with value: 0.021709120741528084 and parameters: {'factors': 127, 'iterations': 25, 'alpha': 4.851489461612585, 'regularization': 0.6888204655539273}. Best is trial 14 with value: 0.021709120741528084.\n"
     ]
    },
    {
     "name": "stdout",
     "output_type": "stream",
     "text": [
      "RECALL@10 = 0.021709120741528084\n",
      "{'factors': 78, 'iterations': 26, 'alpha': 2.8948190277210446, 'regularization': 0.6336342838944586}\n"
     ]
    },
    {
     "data": {
      "application/vnd.jupyter.widget-view+json": {
       "model_id": "9edbd06ddda74e41bbf00149fcdf9527",
       "version_major": 2,
       "version_minor": 0
      },
      "text/plain": [
       "  0%|          | 0/26 [00:00<?, ?it/s]"
      ]
     },
     "metadata": {},
     "output_type": "display_data"
    },
    {
     "name": "stderr",
     "output_type": "stream",
     "text": [
      "[I 2024-09-04 11:50:07,688] Trial 15 finished with value: 0.01955888012997981 and parameters: {'factors': 78, 'iterations': 26, 'alpha': 2.8948190277210446, 'regularization': 0.6336342838944586}. Best is trial 14 with value: 0.021709120741528084.\n"
     ]
    },
    {
     "name": "stdout",
     "output_type": "stream",
     "text": [
      "RECALL@10 = 0.01955888012997981\n",
      "{'factors': 110, 'iterations': 25, 'alpha': 4.144684836165138, 'regularization': 0.6501777558807267}\n"
     ]
    },
    {
     "data": {
      "application/vnd.jupyter.widget-view+json": {
       "model_id": "bbe5d6b1832b42fb8c75475dcf5ef105",
       "version_major": 2,
       "version_minor": 0
      },
      "text/plain": [
       "  0%|          | 0/25 [00:00<?, ?it/s]"
      ]
     },
     "metadata": {},
     "output_type": "display_data"
    },
    {
     "name": "stderr",
     "output_type": "stream",
     "text": [
      "[I 2024-09-04 11:50:36,170] Trial 16 finished with value: 0.02060184833990381 and parameters: {'factors': 110, 'iterations': 25, 'alpha': 4.144684836165138, 'regularization': 0.6501777558807267}. Best is trial 14 with value: 0.021709120741528084.\n"
     ]
    },
    {
     "name": "stdout",
     "output_type": "stream",
     "text": [
      "RECALL@10 = 0.02060184833990381\n",
      "{'factors': 127, 'iterations': 24, 'alpha': 3.3196930014289734, 'regularization': 0.9948517844348412}\n"
     ]
    },
    {
     "data": {
      "application/vnd.jupyter.widget-view+json": {
       "model_id": "0014a409238a4db4880378004a67233d",
       "version_major": 2,
       "version_minor": 0
      },
      "text/plain": [
       "  0%|          | 0/24 [00:00<?, ?it/s]"
      ]
     },
     "metadata": {},
     "output_type": "display_data"
    },
    {
     "name": "stderr",
     "output_type": "stream",
     "text": [
      "[I 2024-09-04 11:51:07,604] Trial 17 finished with value: 0.021640948032952453 and parameters: {'factors': 127, 'iterations': 24, 'alpha': 3.3196930014289734, 'regularization': 0.9948517844348412}. Best is trial 14 with value: 0.021709120741528084.\n"
     ]
    },
    {
     "name": "stdout",
     "output_type": "stream",
     "text": [
      "RECALL@10 = 0.021640948032952453\n",
      "{'factors': 91, 'iterations': 14, 'alpha': 4.44465895210016, 'regularization': 0.9900096998294954}\n"
     ]
    },
    {
     "data": {
      "application/vnd.jupyter.widget-view+json": {
       "model_id": "805cd033540b4dd4b5d7ca604f7ef899",
       "version_major": 2,
       "version_minor": 0
      },
      "text/plain": [
       "  0%|          | 0/14 [00:00<?, ?it/s]"
      ]
     },
     "metadata": {},
     "output_type": "display_data"
    },
    {
     "name": "stderr",
     "output_type": "stream",
     "text": [
      "[I 2024-09-04 11:51:34,013] Trial 18 finished with value: 0.019762184278671966 and parameters: {'factors': 91, 'iterations': 14, 'alpha': 4.44465895210016, 'regularization': 0.9900096998294954}. Best is trial 14 with value: 0.021709120741528084.\n"
     ]
    },
    {
     "name": "stdout",
     "output_type": "stream",
     "text": [
      "RECALL@10 = 0.019762184278671966\n",
      "{'factors': 71, 'iterations': 24, 'alpha': 3.5456753932572695, 'regularization': 0.8194643885735088}\n"
     ]
    },
    {
     "data": {
      "application/vnd.jupyter.widget-view+json": {
       "model_id": "810436affc4a461581b1081d09e45f42",
       "version_major": 2,
       "version_minor": 0
      },
      "text/plain": [
       "  0%|          | 0/24 [00:00<?, ?it/s]"
      ]
     },
     "metadata": {},
     "output_type": "display_data"
    },
    {
     "name": "stderr",
     "output_type": "stream",
     "text": [
      "[I 2024-09-04 11:51:57,579] Trial 19 finished with value: 0.01928518236961139 and parameters: {'factors': 71, 'iterations': 24, 'alpha': 3.5456753932572695, 'regularization': 0.8194643885735088}. Best is trial 14 with value: 0.021709120741528084.\n"
     ]
    },
    {
     "name": "stdout",
     "output_type": "stream",
     "text": [
      "RECALL@10 = 0.01928518236961139\n"
     ]
    },
    {
     "data": {
      "text/plain": [
       "{'factors': 127,\n",
       " 'iterations': 25,\n",
       " 'alpha': 4.851489461612585,\n",
       " 'regularization': 0.6888204655539273}"
      ]
     },
     "execution_count": 54,
     "metadata": {},
     "output_type": "execute_result"
    }
   ],
   "source": [
    "def objective(trial):\n",
    "    factors = trial.suggest_int('factors', 8, 128)\n",
    "    iterations = trial.suggest_int('iterations', 5, 30)\n",
    "    alpha = trial.suggest_float('alpha', 0.1, 5.0)\n",
    "    regularization = trial.suggest_float('regularization', 1e-3, 1.0)\n",
    "        \n",
    "    print({\n",
    "        'factors': factors,\n",
    "        'iterations': iterations,\n",
    "        'alpha': alpha,\n",
    "        'regularization': regularization,\n",
    "    })\n",
    "    \n",
    "    set_seed()\n",
    "    als_model = implicit.als.AlternatingLeastSquares(\n",
    "        factors=factors,\n",
    "        iterations=iterations,\n",
    "        random_state=RANDOM_STATE,\n",
    "        alpha=alpha,\n",
    "        regularization=regularization\n",
    "    )\n",
    "    als_model.fit(user_item_train)\n",
    "    \n",
    "    _, recs = get_recommendations(\n",
    "        als_model.user_factors.to_numpy(),\n",
    "        als_model.item_factors.to_numpy(),\n",
    "        TOP_K + median_seq_len\n",
    "    )\n",
    "    \n",
    "    recall_list = []\n",
    "    for user_id, y_rel, user_history in test_nonull_grouped_df.rows():\n",
    "        # y_rec = [item_id for item_id in recs[user_id] if item_id not in user_history]\n",
    "        # если не фильтровать историю, то метрики будут расти\n",
    "        y_rec = recs[user_id]\n",
    "\n",
    "        recall_list.append(user_recall(y_rel, y_rec))\n",
    "    mean_recall = np.mean(recall_list)\n",
    "    print(f'RECALL@{TOP_K} = {mean_recall}')\n",
    "    return mean_recall\n",
    "    \n",
    "    \n",
    "study = optuna.create_study(directions=('maximize',))\n",
    "study.optimize(objective, n_trials=N_TRIALS)\n",
    "\n",
    "study.best_params"
   ]
  },
  {
   "cell_type": "code",
   "execution_count": 56,
   "id": "cab606e7-9c78-46fa-8a95-5708f8e5f28b",
   "metadata": {
    "execution": {
     "iopub.execute_input": "2024-09-04T08:52:17.643293Z",
     "iopub.status.busy": "2024-09-04T08:52:17.642608Z",
     "iopub.status.idle": "2024-09-04T08:52:17.649772Z",
     "shell.execute_reply": "2024-09-04T08:52:17.648938Z",
     "shell.execute_reply.started": "2024-09-04T08:52:17.643251Z"
    },
    "tags": []
   },
   "outputs": [
    {
     "data": {
      "text/plain": [
       "{'factors': 127,\n",
       " 'iterations': 25,\n",
       " 'alpha': 4.851489461612585,\n",
       " 'regularization': 0.6888204655539273}"
      ]
     },
     "execution_count": 56,
     "metadata": {},
     "output_type": "execute_result"
    }
   ],
   "source": [
    "study.best_params"
   ]
  },
  {
   "cell_type": "code",
   "execution_count": 33,
   "id": "0b0ec998-d4a2-4299-bd33-ade376ff9e9f",
   "metadata": {
    "execution": {
     "iopub.execute_input": "2024-09-05T12:44:17.522649Z",
     "iopub.status.busy": "2024-09-05T12:44:17.521960Z",
     "iopub.status.idle": "2024-09-05T12:44:24.704088Z",
     "shell.execute_reply": "2024-09-05T12:44:24.703299Z",
     "shell.execute_reply.started": "2024-09-05T12:44:17.522613Z"
    },
    "tags": []
   },
   "outputs": [
    {
     "data": {
      "application/vnd.jupyter.widget-view+json": {
       "model_id": "a197c829a36744309567059f83f6c042",
       "version_major": 2,
       "version_minor": 0
      },
      "text/plain": [
       "  0%|          | 0/25 [00:00<?, ?it/s]"
      ]
     },
     "metadata": {},
     "output_type": "display_data"
    }
   ],
   "source": [
    "# Обучение модели на всем наборе данных\n",
    "rows = []\n",
    "cols = []\n",
    "values = []\n",
    "\n",
    "for user_id, train_item_ids in grouped_df.select('user', 'y_rel').rows():\n",
    "    rows.extend([user_id] * len(train_item_ids))\n",
    "    cols.extend(train_item_ids)\n",
    "    values.extend([1]*len(train_item_ids))\n",
    "\n",
    "user_item_data = sp.csr_matrix((values, (rows, cols)), dtype=np.float32)\n",
    "\n",
    "als_model = implicit.als.AlternatingLeastSquares(\n",
    "    **{'factors': 127,\n",
    " 'iterations': 25,\n",
    " 'alpha': 4.851489461612585,\n",
    " 'regularization': 0.6888204655539273},\n",
    "    random_state=RANDOM_STATE,\n",
    ")\n",
    "\n",
    "als_model.fit(user_item_data)"
   ]
  },
  {
   "cell_type": "code",
   "execution_count": 34,
   "id": "f5cea7bc-3ef2-4f5a-b1e1-ab75ed3e60ce",
   "metadata": {
    "execution": {
     "iopub.execute_input": "2024-09-05T12:44:24.773233Z",
     "iopub.status.busy": "2024-09-05T12:44:24.772986Z",
     "iopub.status.idle": "2024-09-05T12:45:21.137865Z",
     "shell.execute_reply": "2024-09-05T12:45:21.136170Z",
     "shell.execute_reply.started": "2024-09-05T12:44:24.773210Z"
    },
    "tags": []
   },
   "outputs": [],
   "source": [
    "_, final_als_recs = get_recommendations(\n",
    "        als_model.user_factors.to_numpy(),\n",
    "        als_model.item_factors.to_numpy(),\n",
    "        TOP_K\n",
    "    )\n",
    "    "
   ]
  },
  {
   "cell_type": "code",
   "execution_count": 41,
   "id": "5bd02c76-f88a-4030-bf40-fa584c9d8abd",
   "metadata": {
    "execution": {
     "iopub.execute_input": "2024-09-05T12:46:26.792003Z",
     "iopub.status.busy": "2024-09-05T12:46:26.791316Z",
     "iopub.status.idle": "2024-09-05T12:46:32.901523Z",
     "shell.execute_reply": "2024-09-05T12:46:32.899904Z",
     "shell.execute_reply.started": "2024-09-05T12:46:26.791964Z"
    },
    "tags": []
   },
   "outputs": [],
   "source": [
    "submission_als = create_submission(test, final_lfm_recs, 'als')"
   ]
  },
  {
   "cell_type": "markdown",
   "id": "feca34d1-22d0-45eb-a3e7-691e6d370308",
   "metadata": {},
   "source": [
    "были попытки с w2v, но оно долго генерит рекомендации, поэтому было решено от него отказаться"
   ]
  },
  {
   "cell_type": "markdown",
   "id": "ce86944f-8f9e-4c5a-96cc-fe744fe1d8d5",
   "metadata": {},
   "source": [
    "# Catboost"
   ]
  },
  {
   "cell_type": "code",
   "execution_count": 50,
   "id": "ecaabf9f-2b06-4ee5-bfc6-928702c8fba0",
   "metadata": {
    "execution": {
     "iopub.execute_input": "2024-09-05T12:50:53.148044Z",
     "iopub.status.busy": "2024-09-05T12:50:53.147352Z",
     "iopub.status.idle": "2024-09-05T12:50:55.307105Z",
     "shell.execute_reply": "2024-09-05T12:50:55.305860Z",
     "shell.execute_reply.started": "2024-09-05T12:50:53.148008Z"
    },
    "tags": []
   },
   "outputs": [],
   "source": [
    "train_reach_df = train_reach_df.fill_null(-9999).sort('user')\n",
    "test_reach_df = test_reach_df.fill_null(-9999).sort('user')"
   ]
  },
  {
   "cell_type": "code",
   "execution_count": 51,
   "id": "6563b0b1-ee58-42ae-8c57-30d30f061ae5",
   "metadata": {
    "execution": {
     "iopub.execute_input": "2024-09-05T12:50:55.504992Z",
     "iopub.status.busy": "2024-09-05T12:50:55.504007Z",
     "iopub.status.idle": "2024-09-05T12:50:55.509659Z",
     "shell.execute_reply": "2024-09-05T12:50:55.508824Z",
     "shell.execute_reply.started": "2024-09-05T12:50:55.504962Z"
    },
    "tags": []
   },
   "outputs": [],
   "source": [
    "cat_features=['user', 'adgroup_id', 'cate_id', 'campaign_id', 'customer', 'brand', 'cms_segid', 'cms_group_id', 'final_gender_code', 'age_level', 'pvalue_level', 'shopping_level', 'occupation']\n"
   ]
  },
  {
   "cell_type": "code",
   "execution_count": 17,
   "id": "5dc32950-4587-4fdc-a69d-a39afcb2a9d9",
   "metadata": {
    "execution": {
     "iopub.execute_input": "2024-09-04T19:46:51.369272Z",
     "iopub.status.busy": "2024-09-04T19:46:51.369046Z",
     "iopub.status.idle": "2024-09-04T19:46:51.386492Z",
     "shell.execute_reply": "2024-09-04T19:46:51.385942Z",
     "shell.execute_reply.started": "2024-09-04T19:46:51.369251Z"
    },
    "tags": []
   },
   "outputs": [
    {
     "data": {
      "text/html": [
       "<div><style>\n",
       ".dataframe > thead > tr,\n",
       ".dataframe > tbody > tr {\n",
       "  text-align: right;\n",
       "  white-space: pre-wrap;\n",
       "}\n",
       "</style>\n",
       "<small>shape: (7_094_151, 20)</small><table border=\"1\" class=\"dataframe\"><thead><tr><th>user</th><th>adgroup_id</th><th>clk</th><th>cate_id</th><th>campaign_id</th><th>customer</th><th>brand</th><th>price</th><th>cms_segid</th><th>cms_group_id</th><th>final_gender_code</th><th>age_level</th><th>pvalue_level</th><th>shopping_level</th><th>occupation</th><th>new_user_class_level </th><th>pv</th><th>cart</th><th>buy</th><th>fav</th></tr><tr><td>i64</td><td>i64</td><td>i64</td><td>i64</td><td>i64</td><td>i64</td><td>i64</td><td>f64</td><td>i64</td><td>i64</td><td>i64</td><td>i64</td><td>i64</td><td>i64</td><td>i64</td><td>i64</td><td>i64</td><td>i64</td><td>i64</td><td>i64</td></tr></thead><tbody><tr><td>1</td><td>769066</td><td>0</td><td>6614</td><td>190882</td><td>182039</td><td>45145</td><td>999.0</td><td>92</td><td>11</td><td>1</td><td>5</td><td>2</td><td>3</td><td>0</td><td>3</td><td>17</td><td>1</td><td>0</td><td>1</td></tr><tr><td>1</td><td>133190</td><td>0</td><td>37</td><td>182799</td><td>167997</td><td>169635</td><td>2560.0</td><td>92</td><td>11</td><td>1</td><td>5</td><td>2</td><td>3</td><td>0</td><td>3</td><td>17</td><td>1</td><td>0</td><td>1</td></tr><tr><td>2</td><td>508794</td><td>1</td><td>6433</td><td>355662</td><td>146049</td><td>117271</td><td>549.0</td><td>0</td><td>10</td><td>1</td><td>4</td><td>-9999</td><td>3</td><td>0</td><td>2</td><td>13</td><td>2</td><td>0</td><td>0</td></tr><tr><td>3</td><td>771933</td><td>0</td><td>1665</td><td>397323</td><td>51896</td><td>-9999</td><td>269.0</td><td>61</td><td>9</td><td>1</td><td>3</td><td>2</td><td>2</td><td>0</td><td>4</td><td>32</td><td>0</td><td>0</td><td>0</td></tr><tr><td>4</td><td>352982</td><td>0</td><td>6286</td><td>211185</td><td>171360</td><td>-9999</td><td>58.0</td><td>0</td><td>11</td><td>1</td><td>5</td><td>-9999</td><td>2</td><td>0</td><td>-9999</td><td>7</td><td>0</td><td>0</td><td>0</td></tr><tr><td>&hellip;</td><td>&hellip;</td><td>&hellip;</td><td>&hellip;</td><td>&hellip;</td><td>&hellip;</td><td>&hellip;</td><td>&hellip;</td><td>&hellip;</td><td>&hellip;</td><td>&hellip;</td><td>&hellip;</td><td>&hellip;</td><td>&hellip;</td><td>&hellip;</td><td>&hellip;</td><td>&hellip;</td><td>&hellip;</td><td>&hellip;</td><td>&hellip;</td></tr><tr><td>1141729</td><td>676927</td><td>0</td><td>6261</td><td>184278</td><td>195962</td><td>-9999</td><td>169.0</td><td>0</td><td>1</td><td>2</td><td>1</td><td>-9999</td><td>3</td><td>0</td><td>-9999</td><td>52</td><td>2</td><td>2</td><td>3</td></tr><tr><td>1141729</td><td>636325</td><td>1</td><td>1665</td><td>147516</td><td>23680</td><td>-9999</td><td>39.9</td><td>0</td><td>1</td><td>2</td><td>1</td><td>-9999</td><td>3</td><td>0</td><td>-9999</td><td>52</td><td>2</td><td>2</td><td>3</td></tr><tr><td>1141729</td><td>656381</td><td>0</td><td>6261</td><td>105282</td><td>18499</td><td>-9999</td><td>145.0</td><td>0</td><td>1</td><td>2</td><td>1</td><td>-9999</td><td>3</td><td>0</td><td>-9999</td><td>52</td><td>2</td><td>2</td><td>3</td></tr><tr><td>1141729</td><td>631594</td><td>1</td><td>1665</td><td>112335</td><td>18499</td><td>66101</td><td>149.0</td><td>0</td><td>1</td><td>2</td><td>1</td><td>-9999</td><td>3</td><td>0</td><td>-9999</td><td>52</td><td>2</td><td>2</td><td>3</td></tr><tr><td>1141729</td><td>502928</td><td>0</td><td>4292</td><td>184516</td><td>171704</td><td>269384</td><td>115.0</td><td>0</td><td>1</td><td>2</td><td>1</td><td>-9999</td><td>3</td><td>0</td><td>-9999</td><td>52</td><td>2</td><td>2</td><td>3</td></tr></tbody></table></div>"
      ],
      "text/plain": [
       "shape: (7_094_151, 20)\n",
       "┌─────────┬────────────┬─────┬─────────┬───┬─────┬──────┬─────┬─────┐\n",
       "│ user    ┆ adgroup_id ┆ clk ┆ cate_id ┆ … ┆ pv  ┆ cart ┆ buy ┆ fav │\n",
       "│ ---     ┆ ---        ┆ --- ┆ ---     ┆   ┆ --- ┆ ---  ┆ --- ┆ --- │\n",
       "│ i64     ┆ i64        ┆ i64 ┆ i64     ┆   ┆ i64 ┆ i64  ┆ i64 ┆ i64 │\n",
       "╞═════════╪════════════╪═════╪═════════╪═══╪═════╪══════╪═════╪═════╡\n",
       "│ 1       ┆ 769066     ┆ 0   ┆ 6614    ┆ … ┆ 17  ┆ 1    ┆ 0   ┆ 1   │\n",
       "│ 1       ┆ 133190     ┆ 0   ┆ 37      ┆ … ┆ 17  ┆ 1    ┆ 0   ┆ 1   │\n",
       "│ 2       ┆ 508794     ┆ 1   ┆ 6433    ┆ … ┆ 13  ┆ 2    ┆ 0   ┆ 0   │\n",
       "│ 3       ┆ 771933     ┆ 0   ┆ 1665    ┆ … ┆ 32  ┆ 0    ┆ 0   ┆ 0   │\n",
       "│ 4       ┆ 352982     ┆ 0   ┆ 6286    ┆ … ┆ 7   ┆ 0    ┆ 0   ┆ 0   │\n",
       "│ …       ┆ …          ┆ …   ┆ …       ┆ … ┆ …   ┆ …    ┆ …   ┆ …   │\n",
       "│ 1141729 ┆ 676927     ┆ 0   ┆ 6261    ┆ … ┆ 52  ┆ 2    ┆ 2   ┆ 3   │\n",
       "│ 1141729 ┆ 636325     ┆ 1   ┆ 1665    ┆ … ┆ 52  ┆ 2    ┆ 2   ┆ 3   │\n",
       "│ 1141729 ┆ 656381     ┆ 0   ┆ 6261    ┆ … ┆ 52  ┆ 2    ┆ 2   ┆ 3   │\n",
       "│ 1141729 ┆ 631594     ┆ 1   ┆ 1665    ┆ … ┆ 52  ┆ 2    ┆ 2   ┆ 3   │\n",
       "│ 1141729 ┆ 502928     ┆ 0   ┆ 4292    ┆ … ┆ 52  ┆ 2    ┆ 2   ┆ 3   │\n",
       "└─────────┴────────────┴─────┴─────────┴───┴─────┴──────┴─────┴─────┘"
      ]
     },
     "execution_count": 17,
     "metadata": {},
     "output_type": "execute_result"
    }
   ],
   "source": [
    "train_reach_df"
   ]
  },
  {
   "cell_type": "code",
   "execution_count": 64,
   "id": "fa3d017f-67dd-4ea8-8e74-8bc8a3dd8e76",
   "metadata": {
    "execution": {
     "iopub.execute_input": "2024-09-04T20:19:40.313354Z",
     "iopub.status.busy": "2024-09-04T20:19:40.311992Z",
     "iopub.status.idle": "2024-09-04T23:22:48.183962Z",
     "shell.execute_reply": "2024-09-04T23:22:48.182556Z",
     "shell.execute_reply.started": "2024-09-04T20:19:40.313316Z"
    },
    "tags": []
   },
   "outputs": [
    {
     "data": {
      "application/vnd.jupyter.widget-view+json": {
       "model_id": "211e38eea4c04a8590da826ad4f68ef7",
       "version_major": 2,
       "version_minor": 0
      },
      "text/plain": [
       "MetricVisualizer(layout=Layout(align_self='stretch', height='500px'))"
      ]
     },
     "metadata": {},
     "output_type": "display_data"
    },
    {
     "name": "stdout",
     "output_type": "stream",
     "text": [
      "Learning rate set to 0.283192\n",
      "0:\tlearn: 0.5442575\ttest: 0.5445201\tbest: 0.5445201 (0)\ttotal: 3.4s\tremaining: 56m 32s\n",
      "100:\tlearn: 0.3890355\ttest: 0.3844256\tbest: 0.3844256 (100)\ttotal: 17m 7s\tremaining: 2h 32m 26s\n",
      "200:\tlearn: 0.3884997\ttest: 0.3839724\tbest: 0.3839724 (200)\ttotal: 35m 28s\tremaining: 2h 21m 1s\n",
      "300:\tlearn: 0.3881705\ttest: 0.3838128\tbest: 0.3838121 (299)\ttotal: 53m 34s\tremaining: 2h 4m 26s\n",
      "400:\tlearn: 0.3879478\ttest: 0.3837288\tbest: 0.3837263 (385)\ttotal: 1h 11m 25s\tremaining: 1h 46m 41s\n",
      "500:\tlearn: 0.3877397\ttest: 0.3836678\tbest: 0.3836678 (500)\ttotal: 1h 30m 6s\tremaining: 1h 29m 45s\n",
      "600:\tlearn: 0.3875376\ttest: 0.3836424\tbest: 0.3836312 (577)\ttotal: 1h 48m 45s\tremaining: 1h 12m 12s\n",
      "700:\tlearn: 0.3873626\ttest: 0.3836318\tbest: 0.3836239 (671)\ttotal: 2h 7m 19s\tremaining: 54m 18s\n",
      "800:\tlearn: 0.3871962\ttest: 0.3836255\tbest: 0.3836114 (765)\ttotal: 2h 24m 51s\tremaining: 35m 59s\n",
      "900:\tlearn: 0.3870247\ttest: 0.3835982\tbest: 0.3835963 (894)\ttotal: 2h 43m 19s\tremaining: 17m 56s\n",
      "999:\tlearn: 0.3868694\ttest: 0.3835821\tbest: 0.3835817 (997)\ttotal: 3h 2m 12s\tremaining: 0us\n",
      "\n",
      "bestTest = 0.3835816677\n",
      "bestIteration = 997\n",
      "\n",
      "Shrink model to first 998 iterations.\n"
     ]
    },
    {
     "data": {
      "text/plain": [
       "<catboost.core.CatBoostClassifier at 0x7f77914d31c0>"
      ]
     },
     "execution_count": 64,
     "metadata": {},
     "output_type": "execute_result"
    }
   ],
   "source": [
    "\n",
    "train_pool = Pool(\n",
    "    train_reach_df.drop(['clk']).to_pandas(),\n",
    "    train_reach_df['clk'].to_list(),\n",
    "    # используется для подсчета groupwise метрик, например NDCG\n",
    "    group_id=train_reach_df['user'].to_list(),\n",
    "    cat_features=cat_features\n",
    ")\n",
    "\n",
    "test_pool = Pool(\n",
    "    test_reach_df.drop(['clk']).to_pandas(),\n",
    "    test_reach_df['clk'].to_list(),\n",
    "    group_id=test_reach_df['user'].to_list(),\n",
    "    cat_features=cat_features\n",
    ")\n",
    "\n",
    "# обучаем модель классификации, так как она работает сильно быстрее, чем модель ранжирования\n",
    "# в качестве метрик можно смотреть на NDCG, MAP и AUC\n",
    "ranking_model = CatBoostClassifier(**{\n",
    "    'iterations': 1000,\n",
    "    'verbose': 100,\n",
    "    'random_state': RANDOM_STATE,\n",
    "    'use_best_model': True,\n",
    "    'custom_metric': [f'NDCG:top={TOP_K}', f'MAP:top={TOP_K}', 'AUC']\n",
    "})\n",
    "ranking_model.fit(train_pool, plot=True, eval_set=test_pool)"
   ]
  },
  {
   "cell_type": "code",
   "execution_count": 110,
   "id": "a85905f2-57c8-4a21-b7f3-7556cae2a6a2",
   "metadata": {
    "execution": {
     "iopub.execute_input": "2024-09-05T06:34:52.747991Z",
     "iopub.status.busy": "2024-09-05T06:34:52.746236Z",
     "iopub.status.idle": "2024-09-05T06:34:52.757504Z",
     "shell.execute_reply": "2024-09-05T06:34:52.756420Z",
     "shell.execute_reply.started": "2024-09-05T06:34:52.747946Z"
    }
   },
   "outputs": [
    {
     "data": {
      "text/plain": [
       "{'learn': {'Logloss': 0.38686944072452484, 'MAP:top=10': 0.21988139956509492},\n",
       " 'validation': {'NDCG:top=10;type=Base': 0.9573475540799605,\n",
       "  'Logloss': 0.38358166769384566,\n",
       "  'MAP:top=10': 0.21129874118840722,\n",
       "  'AUC': 0.6880584450611451}}"
      ]
     },
     "execution_count": 110,
     "metadata": {},
     "output_type": "execute_result"
    }
   ],
   "source": [
    "ranking_model.best_score_"
   ]
  },
  {
   "cell_type": "code",
   "execution_count": 65,
   "id": "b4d2d932-692a-4e3c-8cdb-1f2de112f3e4",
   "metadata": {
    "execution": {
     "iopub.execute_input": "2024-09-04T23:22:48.272895Z",
     "iopub.status.busy": "2024-09-04T23:22:48.272136Z",
     "iopub.status.idle": "2024-09-04T23:23:16.775415Z",
     "shell.execute_reply": "2024-09-04T23:23:16.774207Z",
     "shell.execute_reply.started": "2024-09-04T23:22:48.272865Z"
    }
   },
   "outputs": [],
   "source": [
    "ranking_model.save_model('hw_9/ranking_model')\n"
   ]
  },
  {
   "cell_type": "code",
   "execution_count": 53,
   "id": "0fcb2c79-a78f-412c-995f-0a0e79501818",
   "metadata": {
    "execution": {
     "iopub.execute_input": "2024-09-05T12:52:03.835875Z",
     "iopub.status.busy": "2024-09-05T12:52:03.835105Z",
     "iopub.status.idle": "2024-09-05T12:52:30.976985Z",
     "shell.execute_reply": "2024-09-05T12:52:30.975645Z",
     "shell.execute_reply.started": "2024-09-05T12:52:03.835840Z"
    },
    "tags": []
   },
   "outputs": [
    {
     "data": {
      "text/plain": [
       "<catboost.core.CatBoostClassifier at 0x7fac870d3400>"
      ]
     },
     "execution_count": 53,
     "metadata": {},
     "output_type": "execute_result"
    }
   ],
   "source": [
    "ranking_model = CatBoostClassifier()\n",
    "ranking_model.load_model('hw_9/ranking_model')"
   ]
  },
  {
   "cell_type": "code",
   "execution_count": 55,
   "id": "3669b2ff-2f4e-4e2f-b469-13974e3d9aba",
   "metadata": {
    "execution": {
     "iopub.execute_input": "2024-09-05T12:53:07.978786Z",
     "iopub.status.busy": "2024-09-05T12:53:07.978165Z",
     "iopub.status.idle": "2024-09-05T12:53:08.139256Z",
     "shell.execute_reply": "2024-09-05T12:53:08.138101Z",
     "shell.execute_reply.started": "2024-09-05T12:53:07.978752Z"
    },
    "tags": []
   },
   "outputs": [],
   "source": [
    "feats = test_reach_df.drop(['clk']).to_pandas().columns"
   ]
  },
  {
   "cell_type": "code",
   "execution_count": 48,
   "id": "b1c019c2-5d6a-4c9b-9ac8-7240a1e48ba7",
   "metadata": {
    "execution": {
     "iopub.execute_input": "2024-09-05T12:49:56.892291Z",
     "iopub.status.busy": "2024-09-05T12:49:56.891115Z",
     "iopub.status.idle": "2024-09-05T12:49:57.257028Z",
     "shell.execute_reply": "2024-09-05T12:49:57.255892Z",
     "shell.execute_reply.started": "2024-09-05T12:49:56.892244Z"
    },
    "tags": []
   },
   "outputs": [],
   "source": [
    "candidates = submission_als.join(submission_lfm, on='user_id')\n",
    "candidates = candidates.with_columns(pl.concat_list(\"y_rec\", \"y_rec_right\").alias(\"candidates\"))\n",
    "candidates = candidates.rename({'user_id': 'user'})"
   ]
  },
  {
   "cell_type": "code",
   "execution_count": 58,
   "id": "9e022c63-7b5d-417b-8a4e-65a72b2aca88",
   "metadata": {
    "execution": {
     "iopub.execute_input": "2024-09-05T12:54:26.227477Z",
     "iopub.status.busy": "2024-09-05T12:54:26.226621Z",
     "iopub.status.idle": "2024-09-05T12:54:57.329387Z",
     "shell.execute_reply": "2024-09-05T12:54:57.328213Z",
     "shell.execute_reply.started": "2024-09-05T12:54:26.227448Z"
    },
    "tags": []
   },
   "outputs": [
    {
     "data": {
      "text/html": [
       "<div><style>\n",
       ".dataframe > thead > tr,\n",
       ".dataframe > tbody > tr {\n",
       "  text-align: right;\n",
       "  white-space: pre-wrap;\n",
       "}\n",
       "</style>\n",
       "<small>shape: (2_583_370, 20)</small><table border=\"1\" class=\"dataframe\"><thead><tr><th>user</th><th>adgroup_id</th><th>cate_id</th><th>campaign_id</th><th>customer</th><th>brand</th><th>price</th><th>cms_segid</th><th>cms_group_id</th><th>final_gender_code</th><th>age_level</th><th>pvalue_level</th><th>shopping_level</th><th>occupation</th><th>new_user_class_level </th><th>cart</th><th>pv</th><th>buy</th><th>fav</th><th>rank</th></tr><tr><td>i64</td><td>i64</td><td>i64</td><td>i64</td><td>i64</td><td>i64</td><td>f64</td><td>i64</td><td>i64</td><td>i64</td><td>i64</td><td>i64</td><td>i64</td><td>i64</td><td>i64</td><td>i64</td><td>i64</td><td>i64</td><td>i64</td><td>f64</td></tr></thead><tbody><tr><td>860671</td><td>700237</td><td>6261</td><td>364491</td><td>85694</td><td>327439</td><td>169.0</td><td>33</td><td>4</td><td>2</td><td>4</td><td>2</td><td>3</td><td>0</td><td>2</td><td>0</td><td>81</td><td>0</td><td>0</td><td>0.208061</td></tr><tr><td>600506</td><td>574108</td><td>562</td><td>3212</td><td>80745</td><td>-9999</td><td>14.0</td><td>0</td><td>5</td><td>2</td><td>5</td><td>-9999</td><td>1</td><td>0</td><td>-9999</td><td>2</td><td>21</td><td>1</td><td>0</td><td>0.174954</td></tr><tr><td>683015</td><td>624261</td><td>6261</td><td>153523</td><td>183758</td><td>-9999</td><td>108.0</td><td>5</td><td>2</td><td>2</td><td>2</td><td>2</td><td>3</td><td>1</td><td>2</td><td>1</td><td>141</td><td>0</td><td>3</td><td>0.211831</td></tr><tr><td>1128110</td><td>329006</td><td>4412</td><td>321915</td><td>189166</td><td>23984</td><td>1580.0</td><td>0</td><td>10</td><td>1</td><td>4</td><td>-9999</td><td>3</td><td>0</td><td>3</td><td>0</td><td>19</td><td>0</td><td>2</td><td>0.200633</td></tr><tr><td>1065275</td><td>298958</td><td>4435</td><td>319598</td><td>221646</td><td>339739</td><td>260.0</td><td>0</td><td>11</td><td>1</td><td>5</td><td>-9999</td><td>3</td><td>0</td><td>3</td><td>2</td><td>100</td><td>0</td><td>1</td><td>0.295592</td></tr><tr><td>&hellip;</td><td>&hellip;</td><td>&hellip;</td><td>&hellip;</td><td>&hellip;</td><td>&hellip;</td><td>&hellip;</td><td>&hellip;</td><td>&hellip;</td><td>&hellip;</td><td>&hellip;</td><td>&hellip;</td><td>&hellip;</td><td>&hellip;</td><td>&hellip;</td><td>&hellip;</td><td>&hellip;</td><td>&hellip;</td><td>&hellip;</td><td>&hellip;</td></tr><tr><td>522724</td><td>41300</td><td>4753</td><td>398767</td><td>39064</td><td>116358</td><td>80.0</td><td>22</td><td>3</td><td>2</td><td>3</td><td>3</td><td>3</td><td>0</td><td>4</td><td>0</td><td>261</td><td>1</td><td>3</td><td>0.239445</td></tr><tr><td>47408</td><td>656398</td><td>4520</td><td>275079</td><td>236381</td><td>260362</td><td>128.0</td><td>57</td><td>8</td><td>1</td><td>2</td><td>1</td><td>3</td><td>0</td><td>4</td><td>0</td><td>40</td><td>1</td><td>2</td><td>0.074281</td></tr><tr><td>998769</td><td>659211</td><td>4520</td><td>353477</td><td>13592</td><td>69922</td><td>98.0</td><td>0</td><td>2</td><td>2</td><td>2</td><td>-9999</td><td>3</td><td>0</td><td>4</td><td>6</td><td>117</td><td>2</td><td>0</td><td>0.113294</td></tr><tr><td>141340</td><td>801532</td><td>6261</td><td>366102</td><td>79303</td><td>269229</td><td>163.0</td><td>0</td><td>3</td><td>2</td><td>3</td><td>-9999</td><td>3</td><td>0</td><td>3</td><td>2</td><td>42</td><td>1</td><td>0</td><td>0.124069</td></tr><tr><td>1042041</td><td>709050</td><td>6261</td><td>421094</td><td>4037</td><td>187646</td><td>335.0</td><td>0</td><td>9</td><td>1</td><td>3</td><td>-9999</td><td>3</td><td>0</td><td>2</td><td>3</td><td>209</td><td>0</td><td>0</td><td>0.231391</td></tr></tbody></table></div>"
      ],
      "text/plain": [
       "shape: (2_583_370, 20)\n",
       "┌─────────┬────────────┬─────────┬─────────────┬───┬─────┬─────┬─────┬──────────┐\n",
       "│ user    ┆ adgroup_id ┆ cate_id ┆ campaign_id ┆ … ┆ pv  ┆ buy ┆ fav ┆ rank     │\n",
       "│ ---     ┆ ---        ┆ ---     ┆ ---         ┆   ┆ --- ┆ --- ┆ --- ┆ ---      │\n",
       "│ i64     ┆ i64        ┆ i64     ┆ i64         ┆   ┆ i64 ┆ i64 ┆ i64 ┆ f64      │\n",
       "╞═════════╪════════════╪═════════╪═════════════╪═══╪═════╪═════╪═════╪══════════╡\n",
       "│ 860671  ┆ 700237     ┆ 6261    ┆ 364491      ┆ … ┆ 81  ┆ 0   ┆ 0   ┆ 0.208061 │\n",
       "│ 600506  ┆ 574108     ┆ 562     ┆ 3212        ┆ … ┆ 21  ┆ 1   ┆ 0   ┆ 0.174954 │\n",
       "│ 683015  ┆ 624261     ┆ 6261    ┆ 153523      ┆ … ┆ 141 ┆ 0   ┆ 3   ┆ 0.211831 │\n",
       "│ 1128110 ┆ 329006     ┆ 4412    ┆ 321915      ┆ … ┆ 19  ┆ 0   ┆ 2   ┆ 0.200633 │\n",
       "│ 1065275 ┆ 298958     ┆ 4435    ┆ 319598      ┆ … ┆ 100 ┆ 0   ┆ 1   ┆ 0.295592 │\n",
       "│ …       ┆ …          ┆ …       ┆ …           ┆ … ┆ …   ┆ …   ┆ …   ┆ …        │\n",
       "│ 522724  ┆ 41300      ┆ 4753    ┆ 398767      ┆ … ┆ 261 ┆ 1   ┆ 3   ┆ 0.239445 │\n",
       "│ 47408   ┆ 656398     ┆ 4520    ┆ 275079      ┆ … ┆ 40  ┆ 1   ┆ 2   ┆ 0.074281 │\n",
       "│ 998769  ┆ 659211     ┆ 4520    ┆ 353477      ┆ … ┆ 117 ┆ 2   ┆ 0   ┆ 0.113294 │\n",
       "│ 141340  ┆ 801532     ┆ 6261    ┆ 366102      ┆ … ┆ 42  ┆ 1   ┆ 0   ┆ 0.124069 │\n",
       "│ 1042041 ┆ 709050     ┆ 6261    ┆ 421094      ┆ … ┆ 209 ┆ 0   ┆ 0   ┆ 0.231391 │\n",
       "└─────────┴────────────┴─────────┴─────────────┴───┴─────┴─────┴─────┴──────────┘"
      ]
     },
     "execution_count": 58,
     "metadata": {},
     "output_type": "execute_result"
    }
   ],
   "source": [
    "def predict_ranks(ranking_model, candidates_with_features):\n",
    "    if isinstance(ranking_model, CatBoostRanker):\n",
    "        return ranking_model.predict(candidates_with_features.to_pandas())\n",
    "    else:\n",
    "        return ranking_model.predict_proba(candidates_with_features.to_pandas())[:, 1]\n",
    "\n",
    "candidates_with_features = (\n",
    "    # объединяем все кандидаты в один список пар (user_id, item_id)\n",
    "    candidates\n",
    "    .explode('candidates')\n",
    "    .rename({'candidates': 'adgroup_id'})\n",
    "    .unique()\n",
    "    .select('user', 'adgroup_id')\n",
    "    .join(ad_features, on='adgroup_id')\n",
    "    .join(user_features, on='user')\n",
    "    .join(behavioral_train_logs, on='user')\n",
    "    .select(*feats)\n",
    ")\n",
    "candidates_with_features = candidates_with_features.fill_null(-9999)\n",
    "candidates_with_features = candidates_with_features.with_columns([\n",
    "    # взвешиваем с помощью модели ранжирования кандидатов\n",
    "    pl.Series(predict_ranks(ranking_model, candidates_with_features)).alias('rank')\n",
    "])\n",
    "\n",
    "candidates_with_features"
   ]
  },
  {
   "cell_type": "code",
   "execution_count": 59,
   "id": "1e4dc466-4da9-4308-bee2-30d92c257e81",
   "metadata": {
    "execution": {
     "iopub.execute_input": "2024-09-05T12:54:57.410301Z",
     "iopub.status.busy": "2024-09-05T12:54:57.410059Z",
     "iopub.status.idle": "2024-09-05T12:55:05.087666Z",
     "shell.execute_reply": "2024-09-05T12:55:05.086845Z",
     "shell.execute_reply.started": "2024-09-05T12:54:57.410279Z"
    },
    "tags": []
   },
   "outputs": [
    {
     "name": "stderr",
     "output_type": "stream",
     "text": [
      "/home/appuser/.conda/envs/pytorch/lib/python3.9/functools.py:888: DataOrientationWarning: Row orientation inferred during DataFrame construction. Explicitly specify the orientation by passing `orient=\"row\"` to silence this warning.\n",
      "  return dispatch(args[0].__class__)(*args, **kw)\n"
     ]
    },
    {
     "data": {
      "text/html": [
       "<div><style>\n",
       ".dataframe > thead > tr,\n",
       ".dataframe > tbody > tr {\n",
       "  text-align: right;\n",
       "  white-space: pre-wrap;\n",
       "}\n",
       "</style>\n",
       "<small>shape: (258_337, 2)</small><table border=\"1\" class=\"dataframe\"><thead><tr><th>user</th><th>candidates_item_ids</th></tr><tr><td>i64</td><td>list[i64]</td></tr></thead><tbody><tr><td>392192</td><td>[482986, 621810, … 653308]</td></tr><tr><td>1020069</td><td>[700651, 632432, … 684724]</td></tr><tr><td>597071</td><td>[314531, 255182, … 451874]</td></tr><tr><td>1077084</td><td>[645386, 568074, … 619595]</td></tr><tr><td>74590</td><td>[194085, 118317, … 442175]</td></tr><tr><td>&hellip;</td><td>&hellip;</td></tr><tr><td>173680</td><td>[348979, 541053, … 737085]</td></tr><tr><td>1072749</td><td>[664471, 427681, … 502928]</td></tr><tr><td>337916</td><td>[711852, 625726, … 687212]</td></tr><tr><td>422855</td><td>[611616, 577514, … 794604]</td></tr><tr><td>543185</td><td>[683108, 659211, … 628303]</td></tr></tbody></table></div>"
      ],
      "text/plain": [
       "shape: (258_337, 2)\n",
       "┌─────────┬────────────────────────────┐\n",
       "│ user    ┆ candidates_item_ids        │\n",
       "│ ---     ┆ ---                        │\n",
       "│ i64     ┆ list[i64]                  │\n",
       "╞═════════╪════════════════════════════╡\n",
       "│ 392192  ┆ [482986, 621810, … 653308] │\n",
       "│ 1020069 ┆ [700651, 632432, … 684724] │\n",
       "│ 597071  ┆ [314531, 255182, … 451874] │\n",
       "│ 1077084 ┆ [645386, 568074, … 619595] │\n",
       "│ 74590   ┆ [194085, 118317, … 442175] │\n",
       "│ …       ┆ …                          │\n",
       "│ 173680  ┆ [348979, 541053, … 737085] │\n",
       "│ 1072749 ┆ [664471, 427681, … 502928] │\n",
       "│ 337916  ┆ [711852, 625726, … 687212] │\n",
       "│ 422855  ┆ [611616, 577514, … 794604] │\n",
       "│ 543185  ┆ [683108, 659211, … 628303] │\n",
       "└─────────┴────────────────────────────┘"
      ]
     },
     "execution_count": 59,
     "metadata": {},
     "output_type": "execute_result"
    }
   ],
   "source": [
    "grouped_candidates_with_features = (\n",
    "    candidates_with_features\n",
    "    .group_by('user')\n",
    "    .agg([\n",
    "        pl.col('adgroup_id'),\n",
    "        pl.col('rank')\n",
    "    ])\n",
    ")\n",
    "\n",
    "reranked_candidates = []\n",
    "for user_id, item_ids, item_ranks in grouped_candidates_with_features.rows():\n",
    "    # для каждого пользователя сортируем оценки модели ранжирования и оставляем top-k объектов\n",
    "    reranked_candidates.append([\n",
    "        user_id,\n",
    "        [\n",
    "            item_ids[ind]\n",
    "            for ind in np.argsort(item_ranks)[::-1][:TOP_K]\n",
    "        ]\n",
    "    ])\n",
    "    \n",
    "reranked_candidates = pl.DataFrame(reranked_candidates, schema=['user', 'candidates_item_ids'])\n",
    "reranked_candidates"
   ]
  },
  {
   "cell_type": "code",
   "execution_count": 60,
   "id": "7d7e3b92-c2cb-44ef-8b69-df8212047499",
   "metadata": {
    "execution": {
     "iopub.execute_input": "2024-09-05T12:55:05.089731Z",
     "iopub.status.busy": "2024-09-05T12:55:05.089187Z",
     "iopub.status.idle": "2024-09-05T12:55:05.375820Z",
     "shell.execute_reply": "2024-09-05T12:55:05.373917Z",
     "shell.execute_reply.started": "2024-09-05T12:55:05.089705Z"
    },
    "tags": []
   },
   "outputs": [],
   "source": [
    "reranked_candidates.write_parquet('hw_9/submission_rank.parquet')"
   ]
  }
 ],
 "metadata": {
  "kernelspec": {
   "display_name": "Pytorch",
   "language": "python",
   "name": "pytorch_python"
  },
  "language_info": {
   "codemirror_mode": {
    "name": "ipython",
    "version": 3
   },
   "file_extension": ".py",
   "mimetype": "text/x-python",
   "name": "python",
   "nbconvert_exporter": "python",
   "pygments_lexer": "ipython3",
   "version": "3.9.18"
  }
 },
 "nbformat": 4,
 "nbformat_minor": 5
}
