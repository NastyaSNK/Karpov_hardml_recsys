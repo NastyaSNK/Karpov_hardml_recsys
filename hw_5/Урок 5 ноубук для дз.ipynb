{
 "cells": [
  {
   "cell_type": "code",
   "execution_count": 1,
   "id": "a054832f",
   "metadata": {},
   "outputs": [
    {
     "name": "stderr",
     "output_type": "stream",
     "text": [
      "/opt/conda/lib/python3.8/site-packages/tqdm/auto.py:21: TqdmWarning: IProgress not found. Please update jupyter and ipywidgets. See https://ipywidgets.readthedocs.io/en/stable/user_install.html\n",
      "  from .autonotebook import tqdm as notebook_tqdm\n"
     ]
    }
   ],
   "source": [
    "import pandas as pd\n",
    "import polars as pl\n",
    "import numpy as np\n",
    "import scipy.sparse as sp\n",
    "import implicit\n",
    "import faiss\n",
    "from tqdm import tqdm\n",
    "from typing import List, Any\n",
    "from gensim.models import Word2Vec\n",
    "import optuna\n",
    "import random\n",
    "from tqdm import tqdm\n",
    "from lightfm import LightFM"
   ]
  },
  {
   "cell_type": "markdown",
   "id": "0f86f3a9",
   "metadata": {},
   "source": [
    "## Читаем датасет"
   ]
  },
  {
   "cell_type": "code",
   "execution_count": 2,
   "id": "b3b0fc0f",
   "metadata": {
    "scrolled": true
   },
   "outputs": [
    {
     "data": {
      "text/html": [
       "<div><style>\n",
       ".dataframe > thead > tr > th,\n",
       ".dataframe > tbody > tr > td {\n",
       "  text-align: right;\n",
       "}\n",
       "</style>\n",
       "<small>shape: (2_275_900, 2)</small><table border=\"1\" class=\"dataframe\"><thead><tr><th>user_id</th><th>artist_id</th></tr><tr><td>str</td><td>str</td></tr></thead><tbody><tr><td>&quot;d705b538-1bd8-…</td><td>&quot;69c71d72-7ed8-…</td></tr><tr><td>&quot;d705b538-1bd8-…</td><td>&quot;30bf469f-9abd-…</td></tr><tr><td>&quot;d705b538-1bd8-…</td><td>&quot;a26c9335-2459-…</td></tr><tr><td>&quot;d705b538-1bd8-…</td><td>&quot;69c903b5-dff0-…</td></tr><tr><td>&quot;d705b538-1bd8-…</td><td>&quot;af8eef9d-13aa-…</td></tr><tr><td>&quot;d705b538-1bd8-…</td><td>&quot;293a86ee-6ce7-…</td></tr><tr><td>&quot;d705b538-1bd8-…</td><td>&quot;348f4909-1c48-…</td></tr><tr><td>&quot;d705b538-1bd8-…</td><td>&quot;ad2bf122-726e-…</td></tr><tr><td>&quot;d705b538-1bd8-…</td><td>&quot;cc97fc57-30b5-…</td></tr><tr><td>&quot;d705b538-1bd8-…</td><td>&quot;3000b3a4-7435-…</td></tr><tr><td>&quot;d705b538-1bd8-…</td><td>&quot;3d3535e5-f2cf-…</td></tr><tr><td>&quot;d705b538-1bd8-…</td><td>&quot;b4d4af2b-f7a9-…</td></tr><tr><td>&hellip;</td><td>&hellip;</td></tr><tr><td>&quot;fde30130-2882-…</td><td>&quot;b21ad2da-5a3b-…</td></tr><tr><td>&quot;fde30130-2882-…</td><td>&quot;69c71d72-7ed8-…</td></tr><tr><td>&quot;fde30130-2882-…</td><td>&quot;a26c9335-2459-…</td></tr><tr><td>&quot;fde30130-2882-…</td><td>&quot;bf1f82b0-709a-…</td></tr><tr><td>&quot;fde30130-2882-…</td><td>&quot;1279ad53-a053-…</td></tr><tr><td>&quot;fde30130-2882-…</td><td>&quot;ee0f3f04-8fa0-…</td></tr><tr><td>&quot;fde30130-2882-…</td><td>&quot;7de0cc8f-f42d-…</td></tr><tr><td>&quot;fde30130-2882-…</td><td>&quot;79973184-b4f0-…</td></tr><tr><td>&quot;fde30130-2882-…</td><td>&quot;ed437fe5-c894-…</td></tr><tr><td>&quot;fde30130-2882-…</td><td>&quot;6ea31f9c-d4fa-…</td></tr><tr><td>&quot;fde30130-2882-…</td><td>&quot;ce4b8396-8061-…</td></tr><tr><td>&quot;fde30130-2882-…</td><td>&quot;224f17fd-74e2-…</td></tr></tbody></table></div>"
      ],
      "text/plain": [
       "shape: (2_275_900, 2)\n",
       "┌───────────────────────────────────┬───────────────────────────────────┐\n",
       "│ user_id                           ┆ artist_id                         │\n",
       "│ ---                               ┆ ---                               │\n",
       "│ str                               ┆ str                               │\n",
       "╞═══════════════════════════════════╪═══════════════════════════════════╡\n",
       "│ d705b538-1bd8-48a3-9dad-8941dee2… ┆ 69c71d72-7ed8-42c4-b9ec-c33976a3… │\n",
       "│ d705b538-1bd8-48a3-9dad-8941dee2… ┆ 30bf469f-9abd-4011-a210-ff19fee2… │\n",
       "│ d705b538-1bd8-48a3-9dad-8941dee2… ┆ a26c9335-2459-4c89-a00c-fdecbeb2… │\n",
       "│ d705b538-1bd8-48a3-9dad-8941dee2… ┆ 69c903b5-dff0-4ded-86e4-ea97ac4e… │\n",
       "│ …                                 ┆ …                                 │\n",
       "│ fde30130-2882-4950-8fd4-5483b4a6… ┆ ed437fe5-c894-4ddf-b2ce-d1f91988… │\n",
       "│ fde30130-2882-4950-8fd4-5483b4a6… ┆ 6ea31f9c-d4fa-42a7-a77a-de92a793… │\n",
       "│ fde30130-2882-4950-8fd4-5483b4a6… ┆ ce4b8396-8061-4225-a1ed-0528f1ca… │\n",
       "│ fde30130-2882-4950-8fd4-5483b4a6… ┆ 224f17fd-74e2-4d0b-93a7-63bd7af9… │\n",
       "└───────────────────────────────────┴───────────────────────────────────┘"
      ]
     },
     "execution_count": 2,
     "metadata": {},
     "output_type": "execute_result"
    }
   ],
   "source": [
    "data = pl.read_parquet('train.parquet')\n",
    "data"
   ]
  },
  {
   "cell_type": "markdown",
   "id": "c0187017",
   "metadata": {},
   "source": [
    "## Метрики\n",
    "\n",
    "В этом задании нашей задачей будем оптимизация метрик ndcg@20. Тем не менее, такая метрику сложно интерпретировать и поэтому вам также будет доступно значение метрики hitrate@20, с которой вы уже познакомились в прошлой домашке"
   ]
  },
  {
   "cell_type": "code",
   "execution_count": 3,
   "id": "efb0aaed",
   "metadata": {},
   "outputs": [],
   "source": [
    "TOP_K = 20\n",
    "\n",
    "\n",
    "def user_hitrate(y_relevant: List[str], y_recs: List[str], k: int = TOP_K) -> int:\n",
    "    return int(len(set(y_relevant).intersection(y_recs[:k])) > 0)\n",
    "\n",
    "def user_ndcg(y_rel: List[Any], y_rec: List[Any], k: int = 10) -> float:\n",
    "    \"\"\"\n",
    "    :param y_rel: relevant items\n",
    "    :param y_rec: recommended items\n",
    "    :param k: number of top recommended items\n",
    "    :return: ndcg metric for user recommendations\n",
    "    \"\"\"\n",
    "    dcg = sum([1. / np.log2(idx + 2) for idx, item in enumerate(y_rec[:k]) if item in y_rel])\n",
    "    idcg = sum([1. / np.log2(idx + 2) for idx, _ in enumerate(zip(y_rel, np.arange(k)))])\n",
    "    return dcg / idcg"
   ]
  },
  {
   "cell_type": "markdown",
   "id": "43bf0329",
   "metadata": {},
   "source": [
    "В этом датасете идентификаторы представлены в виде строк, но для работы с ними может быть проще сделать преобразование в числа (например, для алгоритмов матричной факторизации)"
   ]
  },
  {
   "cell_type": "code",
   "execution_count": 4,
   "id": "07829521",
   "metadata": {},
   "outputs": [],
   "source": [
    "user_mapping = {k: v for v, k in enumerate(data['user_id'].unique())}\n",
    "user_mapping_inverse = {k: v for v, k in user_mapping.items()}\n",
    "\n",
    "artist_mapping = {k: v for v, k in enumerate(data['artist_id'].unique())}\n",
    "artist_mapping_inverse = {k: v for v, k in artist_mapping.items()}"
   ]
  },
  {
   "cell_type": "code",
   "execution_count": 5,
   "id": "156ede3e",
   "metadata": {
    "scrolled": true
   },
   "outputs": [
    {
     "data": {
      "text/html": [
       "<div><style>\n",
       ".dataframe > thead > tr > th,\n",
       ".dataframe > tbody > tr > td {\n",
       "  text-align: right;\n",
       "}\n",
       "</style>\n",
       "<small>shape: (50_000, 3)</small><table border=\"1\" class=\"dataframe\"><thead><tr><th>user_id</th><th>train_item_ids</th><th>test_item_ids</th></tr><tr><td>i64</td><td>list[i64]</td><td>list[i64]</td></tr></thead><tbody><tr><td>756</td><td>[426, 61818, … 8207]</td><td>[52169, 46389, 22828]</td></tr><tr><td>30808</td><td>[3786, 43152, … 9217]</td><td>[2749, 27358, 16795]</td></tr><tr><td>33158</td><td>[42945, 64201, … 86454]</td><td>[64472, 84018, 3579]</td></tr><tr><td>25134</td><td>[86931, 10041, … 84018]</td><td>[88205, 62143, 13484]</td></tr><tr><td>39188</td><td>[31711, 53927, … 68013]</td><td>[50293, 79856, 115]</td></tr><tr><td>47304</td><td>[85041, 4616, … 27580]</td><td>[6261, 35180, 5579]</td></tr><tr><td>49328</td><td>[89114, 66966, … 53338]</td><td>[25677, 22715, 5443]</td></tr><tr><td>3044</td><td>[43817, 21957, … 86208]</td><td>[40085, 63778, 82886]</td></tr><tr><td>34362</td><td>[11703, 35921, … 58648]</td><td>[75968, 35243, 33621]</td></tr><tr><td>47888</td><td>[42208, 1494, … 9478]</td><td>[46998, 69395, 63879]</td></tr><tr><td>23222</td><td>[10524, 50334, … 68941]</td><td>[30228, 40379, 22215]</td></tr><tr><td>7448</td><td>[89726, 56746, … 42156]</td><td>[34845, 3542, 86568]</td></tr><tr><td>&hellip;</td><td>&hellip;</td><td>&hellip;</td></tr><tr><td>16171</td><td>[49129, 13621, … 46389]</td><td>[83626, 62661, 68013]</td></tr><tr><td>40375</td><td>[6485, 1342, … 1985]</td><td>[44928, 74764, 3874]</td></tr><tr><td>24865</td><td>[53571, 16795, … 66838]</td><td>[51619, 42487, 73862]</td></tr><tr><td>8899</td><td>[29428, 52299, … 87242]</td><td>[21338, 85766, 64959]</td></tr><tr><td>46827</td><td>[84234, 9890, … 7850]</td><td>[71249, 62241, 56401]</td></tr><tr><td>19421</td><td>[55587, 63186, … 54249]</td><td>[28387, 49498, 87944]</td></tr><tr><td>29247</td><td>[19263, 14768, … 43657]</td><td>[40855, 29549, 43132]</td></tr><tr><td>2355</td><td>[26153, 67166, … 6574]</td><td>[75493, 25374, 57731]</td></tr><tr><td>47823</td><td>[76190, 62215, … 71837]</td><td>[25566, 24031, 57453]</td></tr><tr><td>25</td><td>[54774, 14443, … 16168]</td><td>[23457, 19640, 50116]</td></tr><tr><td>25919</td><td>[73267, 13687, … 57312]</td><td>[6760, 70761, 62725]</td></tr><tr><td>31183</td><td>[74321, 29731, … 85787]</td><td>[28804, 58254, 73151]</td></tr></tbody></table></div>"
      ],
      "text/plain": [
       "shape: (50_000, 3)\n",
       "┌─────────┬─────────────────────────┬───────────────────────┐\n",
       "│ user_id ┆ train_item_ids          ┆ test_item_ids         │\n",
       "│ ---     ┆ ---                     ┆ ---                   │\n",
       "│ i64     ┆ list[i64]               ┆ list[i64]             │\n",
       "╞═════════╪═════════════════════════╪═══════════════════════╡\n",
       "│ 756     ┆ [426, 61818, … 8207]    ┆ [52169, 46389, 22828] │\n",
       "│ 30808   ┆ [3786, 43152, … 9217]   ┆ [2749, 27358, 16795]  │\n",
       "│ 33158   ┆ [42945, 64201, … 86454] ┆ [64472, 84018, 3579]  │\n",
       "│ 25134   ┆ [86931, 10041, … 84018] ┆ [88205, 62143, 13484] │\n",
       "│ …       ┆ …                       ┆ …                     │\n",
       "│ 47823   ┆ [76190, 62215, … 71837] ┆ [25566, 24031, 57453] │\n",
       "│ 25      ┆ [54774, 14443, … 16168] ┆ [23457, 19640, 50116] │\n",
       "│ 25919   ┆ [73267, 13687, … 57312] ┆ [6760, 70761, 62725]  │\n",
       "│ 31183   ┆ [74321, 29731, … 85787] ┆ [28804, 58254, 73151] │\n",
       "└─────────┴─────────────────────────┴───────────────────────┘"
      ]
     },
     "execution_count": 5,
     "metadata": {},
     "output_type": "execute_result"
    }
   ],
   "source": [
    "grouped_df_with_inds = (\n",
    "    data\n",
    "    .with_columns([\n",
    "        pl.col('user_id').apply(user_mapping.get),\n",
    "        pl.col('artist_id').apply(artist_mapping.get),\n",
    "    ])\n",
    "    # для каждого пользователя оставим последние 3 объекта в качестве тестовой выборки,\n",
    "    # а остальное будем использовать для тренировки\n",
    "    .groupby('user_id')\n",
    "    .agg([\n",
    "        pl.col('artist_id').apply(lambda x: x[:-3]).alias('train_item_ids'),\n",
    "        pl.col('artist_id').apply(lambda x: x[-3:]).alias('test_item_ids'),\n",
    "    ])\n",
    ")\n",
    "\n",
    "grouped_df_with_inds"
   ]
  },
  {
   "cell_type": "code",
   "execution_count": 6,
   "id": "36dea774",
   "metadata": {},
   "outputs": [
    {
     "name": "stdout",
     "output_type": "stream",
     "text": [
      "средняя длина сессии 42\n"
     ]
    }
   ],
   "source": [
    "median_seq_len = int(grouped_df_with_inds['train_item_ids'].apply(len).median())\n",
    "print(f\"средняя длина сессии {median_seq_len}\")"
   ]
  },
  {
   "cell_type": "code",
   "execution_count": 7,
   "id": "50c51673-2e74-481b-9447-bdb65c00908a",
   "metadata": {},
   "outputs": [
    {
     "name": "stdout",
     "output_type": "stream",
     "text": [
      "средняя длина сессии 116\n"
     ]
    }
   ],
   "source": [
    "max_seq_len = int(grouped_df_with_inds['train_item_ids'].apply(len).max())\n",
    "print(f\"средняя длина сессии {max_seq_len}\")"
   ]
  },
  {
   "cell_type": "code",
   "execution_count": 8,
   "id": "75887bf1-6456-4baf-a340-e3f13bb58a87",
   "metadata": {},
   "outputs": [
    {
     "name": "stdout",
     "output_type": "stream",
     "text": [
      "средняя длина сессии 116\n"
     ]
    }
   ],
   "source": [
    "min_seq_len = int(grouped_df_with_inds['train_item_ids'].apply(len).max())\n",
    "print(f\"средняя длина сессии {min_seq_len}\")"
   ]
  },
  {
   "cell_type": "code",
   "execution_count": 9,
   "id": "7cd5a463",
   "metadata": {},
   "outputs": [],
   "source": [
    "# соберем строчки для разреженной матрицы\n",
    "rows = []\n",
    "cols = []\n",
    "values = []\n",
    "for user_id, train_ids, _ in grouped_df_with_inds.rows():\n",
    "    rows.extend([user_id] * len(train_ids))\n",
    "    values.extend([1] * len(train_ids))\n",
    "    cols.extend(train_ids)\n",
    "\n",
    "user_item_data = sp.csr_matrix((values, (rows, cols)))"
   ]
  },
  {
   "cell_type": "code",
   "execution_count": 10,
   "id": "cd41d5da-f010-4227-8a18-62d3492e5a7e",
   "metadata": {},
   "outputs": [
    {
     "data": {
      "text/html": [
       "<div><style>\n",
       ".dataframe > thead > tr > th,\n",
       ".dataframe > tbody > tr > td {\n",
       "  text-align: right;\n",
       "}\n",
       "</style>\n",
       "<small>shape: (50_000, 2)</small><table border=\"1\" class=\"dataframe\"><thead><tr><th>user_id</th><th>hist_item_ids</th></tr><tr><td>i64</td><td>list[i64]</td></tr></thead><tbody><tr><td>7658</td><td>[84711, 31632, … 74233]</td></tr><tr><td>25424</td><td>[62215, 29293, … 17431]</td></tr><tr><td>39780</td><td>[18358, 20394, … 426]</td></tr><tr><td>37262</td><td>[18752, 51752, … 47748]</td></tr><tr><td>41694</td><td>[61995, 6262, … 13449]</td></tr><tr><td>11596</td><td>[89574, 81882, … 5424]</td></tr><tr><td>10550</td><td>[1346, 1933, … 24193]</td></tr><tr><td>41670</td><td>[64884, 3007, … 25192]</td></tr><tr><td>28034</td><td>[30323, 55684, … 7132]</td></tr><tr><td>44508</td><td>[12707, 38720, … 19071]</td></tr><tr><td>26380</td><td>[85320, 60703, … 32264]</td></tr><tr><td>11910</td><td>[80841, 82482, … 84660]</td></tr><tr><td>&hellip;</td><td>&hellip;</td></tr><tr><td>40793</td><td>[86997, 26269, … 89360]</td></tr><tr><td>18481</td><td>[85631, 35221, … 83004]</td></tr><tr><td>46861</td><td>[83562, 27358, … 12646]</td></tr><tr><td>42513</td><td>[41097, 26153, … 54240]</td></tr><tr><td>30547</td><td>[88949, 56804, … 9819]</td></tr><tr><td>44971</td><td>[24292, 24821, … 34179]</td></tr><tr><td>11493</td><td>[759, 28387, … 11781]</td></tr><tr><td>22937</td><td>[48020, 59141, … 49797]</td></tr><tr><td>35921</td><td>[22981, 55148, … 27384]</td></tr><tr><td>29493</td><td>[51828, 81377, … 26020]</td></tr><tr><td>47475</td><td>[48214, 11138, … 11343]</td></tr><tr><td>15419</td><td>[83947, 6396, … 26269]</td></tr></tbody></table></div>"
      ],
      "text/plain": [
       "shape: (50_000, 2)\n",
       "┌─────────┬─────────────────────────┐\n",
       "│ user_id ┆ hist_item_ids           │\n",
       "│ ---     ┆ ---                     │\n",
       "│ i64     ┆ list[i64]               │\n",
       "╞═════════╪═════════════════════════╡\n",
       "│ 7658    ┆ [84711, 31632, … 74233] │\n",
       "│ 25424   ┆ [62215, 29293, … 17431] │\n",
       "│ 39780   ┆ [18358, 20394, … 426]   │\n",
       "│ 37262   ┆ [18752, 51752, … 47748] │\n",
       "│ …       ┆ …                       │\n",
       "│ 35921   ┆ [22981, 55148, … 27384] │\n",
       "│ 29493   ┆ [51828, 81377, … 26020] │\n",
       "│ 47475   ┆ [48214, 11138, … 11343] │\n",
       "│ 15419   ┆ [83947, 6396, … 26269]  │\n",
       "└─────────┴─────────────────────────┘"
      ]
     },
     "execution_count": 10,
     "metadata": {},
     "output_type": "execute_result"
    }
   ],
   "source": [
    "grouped_df_for_sub = (\n",
    "    data\n",
    "    .with_columns([\n",
    "        pl.col('user_id').apply(user_mapping.get),\n",
    "        pl.col('artist_id').apply(artist_mapping.get),\n",
    "    ])\n",
    "    # для каждого пользователя оставим последние 3 объекта в качестве тестовой выборки,\n",
    "    # а остальное будем использовать для тренировки\n",
    "    .groupby('user_id')\n",
    "    .agg([\n",
    "        pl.col('artist_id').alias('hist_item_ids'),\n",
    "    ])\n",
    ")\n",
    "\n",
    "grouped_df_for_sub"
   ]
  },
  {
   "cell_type": "code",
   "execution_count": 11,
   "id": "d4c13bd3-0bc3-4529-8ba8-12753690511c",
   "metadata": {},
   "outputs": [],
   "source": [
    "# соберем строчки для разреженной матрицы для сабмишна\n",
    "rows = []\n",
    "cols = []\n",
    "values = []\n",
    "for user_id, train_ids in grouped_df_for_sub.rows():\n",
    "    rows.extend([user_id] * len(train_ids))\n",
    "    values.extend([1] * len(train_ids))\n",
    "    cols.extend(train_ids)\n",
    "\n",
    "full_user_item_data = sp.csr_matrix((values, (rows, cols)))"
   ]
  },
  {
   "cell_type": "markdown",
   "id": "e064a3aa",
   "metadata": {
    "jp-MarkdownHeadingCollapsed": true,
    "tags": []
   },
   "source": [
    "## Бейзлайны\n",
    "\n",
    "В качестве простого бейзлайна будем рекомендовать самый популярных артистов\n",
    "\n",
    "Мы хотим сначала провалидировать такое решение, а значит в качестве популярных артистов мы возьмем только тех, кто чаще встречается в `train_item_ids`"
   ]
  },
  {
   "cell_type": "code",
   "execution_count": 10,
   "id": "fa65a122",
   "metadata": {
    "scrolled": true
   },
   "outputs": [],
   "source": [
    "top_artists = (\n",
    "    grouped_df_with_inds\n",
    "    .select(pl.col('train_item_ids').alias('artist_id'))\n",
    "    .explode('artist_id')\n",
    "    .groupby('artist_id')\n",
    "    .count()\n",
    "    .sort('count', descending=True)\n",
    "    .head(TOP_K + median_seq_len)\n",
    ")['artist_id'].to_list()"
   ]
  },
  {
   "cell_type": "code",
   "execution_count": 11,
   "id": "2b39b15d",
   "metadata": {},
   "outputs": [
    {
     "name": "stdout",
     "output_type": "stream",
     "text": [
      "NDCG@20 = 0.01401, Hitrate@20 = 0.10248\n"
     ]
    }
   ],
   "source": [
    "ndcg_list = []\n",
    "hitrate_list = []\n",
    "\n",
    "for user_id, user_history, y_rel in grouped_df_with_inds.rows():\n",
    "    y_rec = top_artists.copy()\n",
    "    \n",
    "    ndcg_list.append(user_ndcg(y_rel, y_rec))\n",
    "    hitrate_list.append(user_hitrate(y_rel, y_rec))\n",
    "    \n",
    "print(f'NDCG@{TOP_K} = {np.mean(ndcg_list):.5f}, Hitrate@{TOP_K} = {np.mean(hitrate_list):.5f}')"
   ]
  },
  {
   "cell_type": "markdown",
   "id": "f30d3687",
   "metadata": {},
   "source": [
    "Не забываем про фильтрацию просмотренного (для разных доменов и подходов это не всегда улучши рекомендации, но в данном случае дало прирост)"
   ]
  },
  {
   "cell_type": "code",
   "execution_count": 12,
   "id": "900f8bcc",
   "metadata": {},
   "outputs": [
    {
     "name": "stdout",
     "output_type": "stream",
     "text": [
      "NDCG@20 = 0.01740, Hitrate@20 = 0.11684\n"
     ]
    }
   ],
   "source": [
    "ndcg_list = []\n",
    "hitrate_list = []\n",
    "\n",
    "for user_id, user_history, y_rel in grouped_df_with_inds.rows():\n",
    "    y_rec = [artist_id for artist_id in top_artists if artist_id not in user_history]\n",
    "    \n",
    "    ndcg_list.append(user_ndcg(y_rel, y_rec))\n",
    "    hitrate_list.append(user_hitrate(y_rel, y_rec))\n",
    "    \n",
    "print(f'NDCG@{TOP_K} = {np.mean(ndcg_list):.5f}, Hitrate@{TOP_K} = {np.mean(hitrate_list):.5f}')"
   ]
  },
  {
   "cell_type": "markdown",
   "id": "b7373ba7",
   "metadata": {
    "jp-MarkdownHeadingCollapsed": true,
    "tags": []
   },
   "source": [
    "## Построим файл с рекомендациями\n",
    "\n",
    "Для построения рекомендаций теперь можем учесть все возможные данные"
   ]
  },
  {
   "cell_type": "code",
   "execution_count": 13,
   "id": "32275e4a",
   "metadata": {},
   "outputs": [],
   "source": [
    "top_artists = (\n",
    "    data\n",
    "    .groupby('artist_id')\n",
    "    .count()\n",
    "    .sort('count', descending=True)\n",
    "    .head(TOP_K + median_seq_len)\n",
    ")['artist_id'].to_list()"
   ]
  },
  {
   "cell_type": "code",
   "execution_count": 14,
   "id": "8a3cb241",
   "metadata": {
    "scrolled": true
   },
   "outputs": [
    {
     "data": {
      "text/html": [
       "<div><style>\n",
       ".dataframe > thead > tr > th,\n",
       ".dataframe > tbody > tr > td {\n",
       "  text-align: right;\n",
       "}\n",
       "</style>\n",
       "<small>shape: (50_000, 2)</small><table border=\"1\" class=\"dataframe\"><thead><tr><th>user_id</th><th>y_rec</th></tr><tr><td>str</td><td>list[str]</td></tr></thead><tbody><tr><td>&quot;0444e715-665f-…</td><td>[&quot;5cd0ffb5-0cf2-4ecd-8c5b-ca2102e33198&quot;, &quot;12289298-d9dc-4b1d-bc27-16480829de75&quot;, … &quot;98e69a29-ee83-41f1-924e-08a50a32efdc&quot;]</td></tr><tr><td>&quot;973c3b33-0fcc-…</td><td>[&quot;5cd0ffb5-0cf2-4ecd-8c5b-ca2102e33198&quot;, &quot;12289298-d9dc-4b1d-bc27-16480829de75&quot;, … &quot;98e69a29-ee83-41f1-924e-08a50a32efdc&quot;]</td></tr><tr><td>&quot;8d7a9d61-db33-…</td><td>[&quot;5cd0ffb5-0cf2-4ecd-8c5b-ca2102e33198&quot;, &quot;12289298-d9dc-4b1d-bc27-16480829de75&quot;, … &quot;98e69a29-ee83-41f1-924e-08a50a32efdc&quot;]</td></tr><tr><td>&quot;ac74f8c7-6e45-…</td><td>[&quot;5cd0ffb5-0cf2-4ecd-8c5b-ca2102e33198&quot;, &quot;12289298-d9dc-4b1d-bc27-16480829de75&quot;, … &quot;98e69a29-ee83-41f1-924e-08a50a32efdc&quot;]</td></tr><tr><td>&quot;c28d106e-2b07-…</td><td>[&quot;5cd0ffb5-0cf2-4ecd-8c5b-ca2102e33198&quot;, &quot;12289298-d9dc-4b1d-bc27-16480829de75&quot;, … &quot;98e69a29-ee83-41f1-924e-08a50a32efdc&quot;]</td></tr><tr><td>&quot;ba7c87b2-7811-…</td><td>[&quot;5cd0ffb5-0cf2-4ecd-8c5b-ca2102e33198&quot;, &quot;12289298-d9dc-4b1d-bc27-16480829de75&quot;, … &quot;98e69a29-ee83-41f1-924e-08a50a32efdc&quot;]</td></tr><tr><td>&quot;9b5a4f0c-39f0-…</td><td>[&quot;5cd0ffb5-0cf2-4ecd-8c5b-ca2102e33198&quot;, &quot;12289298-d9dc-4b1d-bc27-16480829de75&quot;, … &quot;98e69a29-ee83-41f1-924e-08a50a32efdc&quot;]</td></tr><tr><td>&quot;8e8e2904-02b6-…</td><td>[&quot;5cd0ffb5-0cf2-4ecd-8c5b-ca2102e33198&quot;, &quot;12289298-d9dc-4b1d-bc27-16480829de75&quot;, … &quot;98e69a29-ee83-41f1-924e-08a50a32efdc&quot;]</td></tr><tr><td>&quot;12971653-1ed2-…</td><td>[&quot;5cd0ffb5-0cf2-4ecd-8c5b-ca2102e33198&quot;, &quot;12289298-d9dc-4b1d-bc27-16480829de75&quot;, … &quot;98e69a29-ee83-41f1-924e-08a50a32efdc&quot;]</td></tr><tr><td>&quot;1298ff82-e532-…</td><td>[&quot;5cd0ffb5-0cf2-4ecd-8c5b-ca2102e33198&quot;, &quot;12289298-d9dc-4b1d-bc27-16480829de75&quot;, … &quot;98e69a29-ee83-41f1-924e-08a50a32efdc&quot;]</td></tr><tr><td>&quot;a684dbbd-ba4e-…</td><td>[&quot;5cd0ffb5-0cf2-4ecd-8c5b-ca2102e33198&quot;, &quot;12289298-d9dc-4b1d-bc27-16480829de75&quot;, … &quot;98e69a29-ee83-41f1-924e-08a50a32efdc&quot;]</td></tr><tr><td>&quot;8e5497b4-d6bb-…</td><td>[&quot;5cd0ffb5-0cf2-4ecd-8c5b-ca2102e33198&quot;, &quot;12289298-d9dc-4b1d-bc27-16480829de75&quot;, … &quot;98e69a29-ee83-41f1-924e-08a50a32efdc&quot;]</td></tr><tr><td>&hellip;</td><td>&hellip;</td></tr><tr><td>&quot;8242e952-dae5-…</td><td>[&quot;5cd0ffb5-0cf2-4ecd-8c5b-ca2102e33198&quot;, &quot;12289298-d9dc-4b1d-bc27-16480829de75&quot;, … &quot;98e69a29-ee83-41f1-924e-08a50a32efdc&quot;]</td></tr><tr><td>&quot;e7eb5b45-6e7f-…</td><td>[&quot;5cd0ffb5-0cf2-4ecd-8c5b-ca2102e33198&quot;, &quot;12289298-d9dc-4b1d-bc27-16480829de75&quot;, … &quot;98e69a29-ee83-41f1-924e-08a50a32efdc&quot;]</td></tr><tr><td>&quot;55a6e41a-8acd-…</td><td>[&quot;5cd0ffb5-0cf2-4ecd-8c5b-ca2102e33198&quot;, &quot;12289298-d9dc-4b1d-bc27-16480829de75&quot;, … &quot;98e69a29-ee83-41f1-924e-08a50a32efdc&quot;]</td></tr><tr><td>&quot;3ccfe59f-0413-…</td><td>[&quot;5cd0ffb5-0cf2-4ecd-8c5b-ca2102e33198&quot;, &quot;12289298-d9dc-4b1d-bc27-16480829de75&quot;, … &quot;98e69a29-ee83-41f1-924e-08a50a32efdc&quot;]</td></tr><tr><td>&quot;6c829c18-e03a-…</td><td>[&quot;5cd0ffb5-0cf2-4ecd-8c5b-ca2102e33198&quot;, &quot;12289298-d9dc-4b1d-bc27-16480829de75&quot;, … &quot;98e69a29-ee83-41f1-924e-08a50a32efdc&quot;]</td></tr><tr><td>&quot;cdf6b0a6-0711-…</td><td>[&quot;5cd0ffb5-0cf2-4ecd-8c5b-ca2102e33198&quot;, &quot;12289298-d9dc-4b1d-bc27-16480829de75&quot;, … &quot;98e69a29-ee83-41f1-924e-08a50a32efdc&quot;]</td></tr><tr><td>&quot;bd03dd1c-f03b-…</td><td>[&quot;5cd0ffb5-0cf2-4ecd-8c5b-ca2102e33198&quot;, &quot;12289298-d9dc-4b1d-bc27-16480829de75&quot;, … &quot;98e69a29-ee83-41f1-924e-08a50a32efdc&quot;]</td></tr><tr><td>&quot;1b16efd0-af8a-…</td><td>[&quot;5cd0ffb5-0cf2-4ecd-8c5b-ca2102e33198&quot;, &quot;12289298-d9dc-4b1d-bc27-16480829de75&quot;, … &quot;98e69a29-ee83-41f1-924e-08a50a32efdc&quot;]</td></tr><tr><td>&quot;fb78ecb1-242b-…</td><td>[&quot;5cd0ffb5-0cf2-4ecd-8c5b-ca2102e33198&quot;, &quot;12289298-d9dc-4b1d-bc27-16480829de75&quot;, … &quot;98e69a29-ee83-41f1-924e-08a50a32efdc&quot;]</td></tr><tr><td>&quot;5a7a9c5e-5334-…</td><td>[&quot;5cd0ffb5-0cf2-4ecd-8c5b-ca2102e33198&quot;, &quot;12289298-d9dc-4b1d-bc27-16480829de75&quot;, … &quot;98e69a29-ee83-41f1-924e-08a50a32efdc&quot;]</td></tr><tr><td>&quot;c6a70460-aab3-…</td><td>[&quot;5cd0ffb5-0cf2-4ecd-8c5b-ca2102e33198&quot;, &quot;12289298-d9dc-4b1d-bc27-16480829de75&quot;, … &quot;98e69a29-ee83-41f1-924e-08a50a32efdc&quot;]</td></tr><tr><td>&quot;cb23810e-bd88-…</td><td>[&quot;5cd0ffb5-0cf2-4ecd-8c5b-ca2102e33198&quot;, &quot;12289298-d9dc-4b1d-bc27-16480829de75&quot;, … &quot;98e69a29-ee83-41f1-924e-08a50a32efdc&quot;]</td></tr></tbody></table></div>"
      ],
      "text/plain": [
       "shape: (50_000, 2)\n",
       "┌───────────────────────────────────┬───────────────────────────────────┐\n",
       "│ user_id                           ┆ y_rec                             │\n",
       "│ ---                               ┆ ---                               │\n",
       "│ str                               ┆ list[str]                         │\n",
       "╞═══════════════════════════════════╪═══════════════════════════════════╡\n",
       "│ 0444e715-665f-4578-a5de-2cf6b0c7… ┆ [\"5cd0ffb5-0cf2-4ecd-8c5b-ca2102… │\n",
       "│ 973c3b33-0fcc-4bf9-8e8c-b80086a1… ┆ [\"5cd0ffb5-0cf2-4ecd-8c5b-ca2102… │\n",
       "│ 8d7a9d61-db33-4f48-b88c-953b58e7… ┆ [\"5cd0ffb5-0cf2-4ecd-8c5b-ca2102… │\n",
       "│ ac74f8c7-6e45-48a0-a92f-912f23e1… ┆ [\"5cd0ffb5-0cf2-4ecd-8c5b-ca2102… │\n",
       "│ …                                 ┆ …                                 │\n",
       "│ fb78ecb1-242b-4311-9426-c855d64a… ┆ [\"5cd0ffb5-0cf2-4ecd-8c5b-ca2102… │\n",
       "│ 5a7a9c5e-5334-4692-80fe-02a974b6… ┆ [\"5cd0ffb5-0cf2-4ecd-8c5b-ca2102… │\n",
       "│ c6a70460-aab3-4aa4-8a24-54137002… ┆ [\"5cd0ffb5-0cf2-4ecd-8c5b-ca2102… │\n",
       "│ cb23810e-bd88-4646-9289-e74d33f5… ┆ [\"5cd0ffb5-0cf2-4ecd-8c5b-ca2102… │\n",
       "└───────────────────────────────────┴───────────────────────────────────┘"
      ]
     },
     "execution_count": 14,
     "metadata": {},
     "output_type": "execute_result"
    }
   ],
   "source": [
    "submission = []\n",
    "\n",
    "for user_id, user_history in data.groupby('user_id').agg(pl.col('artist_id')).rows():\n",
    "    y_rec = top_artists.copy()\n",
    "    \n",
    "    submission.append((user_id, y_rec))\n",
    "    \n",
    "submission = pl.DataFrame(submission, schema=('user_id', 'y_rec'))\n",
    "submission.write_parquet('sample_submission.parquet')\n",
    "submission"
   ]
  },
  {
   "cell_type": "markdown",
   "id": "824f7ac3",
   "metadata": {},
   "source": [
    "Не забывайте, что в файле с рекомендациями должны быть **исходные идентификаторы (строки)**, а не преобразованные в числа!"
   ]
  },
  {
   "cell_type": "markdown",
   "id": "c6922f3b-c12e-4642-ab21-6c61c91e7532",
   "metadata": {
    "tags": []
   },
   "source": [
    "## W2V"
   ]
  },
  {
   "cell_type": "code",
   "execution_count": 12,
   "id": "44bc9fdd-aebb-4d6b-a14d-78586053be61",
   "metadata": {},
   "outputs": [],
   "source": [
    "def evaluate_model(model, df = grouped_df_with_inds):\n",
    "    ndcg_list = []\n",
    "    hitrate_list = []\n",
    "    for user_id, user_history, y_rel in df.rows():  \n",
    "        model_preds = model.predict_output_word(\n",
    "                train_ids[:-model.window], topn=(TOP_K + len(user_history))\n",
    "            )\n",
    "    \n",
    "        if model_preds is None:\n",
    "            hitrate_list.append(0)\n",
    "            ndcg_list.append(0)\n",
    "            continue\n",
    "        y_rec = [artist_id[0] for artist_id in model_preds if artist_id not in user_history]\n",
    "        ndcg_list.append(user_ndcg(y_rel, y_rec))\n",
    "        hitrate_list.append(user_hitrate(y_rel, y_rec))  \n",
    "    return np.mean(ndcg_list), np.mean(hitrate_list)"
   ]
  },
  {
   "cell_type": "code",
   "execution_count": 13,
   "id": "c0aa367c-84a0-4955-aef0-a06559093ef8",
   "metadata": {},
   "outputs": [],
   "source": [
    "grouped_df_with_inds_sampled = grouped_df_with_inds.sample(1_000) "
   ]
  },
  {
   "cell_type": "code",
   "execution_count": null,
   "id": "06740ee1-31cf-49aa-9bab-7af165130f20",
   "metadata": {
    "tags": []
   },
   "outputs": [],
   "source": [
    "SEED = 42\n",
    "\n",
    "def set_seed(seed):\n",
    "    np.random.seed(seed)\n",
    "    random.seed(seed)\n",
    "\n",
    "def objective(trial):\n",
    "    sg = trial.suggest_categorical('sg', [0, 1])\n",
    "    window = trial.suggest_int('window', 1, 10)\n",
    "    ns_exponent = trial.suggest_float('ns_exponent', -3, 3)\n",
    "    negative = trial.suggest_int('negative', 3, 20)\n",
    "    min_count = trial.suggest_int('min_count', 0, 20)\n",
    "    vector_size = trial.suggest_categorical('vector_size', [16, 32, 64, 128])\n",
    "    \n",
    "    print({\n",
    "        'sg': sg,\n",
    "        'window_len': window,\n",
    "        'ns_exponent': ns_exponent,\n",
    "        'negative': negative,\n",
    "        'min_count': min_count,\n",
    "        'vector_size': vector_size,\n",
    "    })\n",
    "    \n",
    "    set_seed(SEED)\n",
    "    model = Word2Vec(\n",
    "        grouped_df_with_inds['train_item_ids'].to_list(),\n",
    "        window=window,\n",
    "        sg=sg,\n",
    "        hs=0,\n",
    "        min_count=min_count,\n",
    "        vector_size=vector_size,\n",
    "        negative=negative,\n",
    "        ns_exponent=ns_exponent,\n",
    "        seed=SEED,\n",
    "        epochs=10,\n",
    "    )\n",
    "    \n",
    "    mean_ndcg, mean_hitrate = evaluate_model(model, grouped_df_with_inds_sampled)\n",
    "    \n",
    "    \n",
    "    print(f'MAP@{TOP_K} = {mean_ndcg:.4f} Hitrate@{TOP_K} = {mean_hitrate:.4f}')\n",
    "    return mean_ndcg\n",
    "    \n",
    "    \n",
    "study = optuna.create_study(directions=('maximize',))\n",
    "study.optimize(objective, n_trials=40)\n",
    "\n",
    "study.best_params"
   ]
  },
  {
   "cell_type": "code",
   "execution_count": 29,
   "id": "3da11163-05e0-4461-b897-f6e0c7d7d6df",
   "metadata": {},
   "outputs": [
    {
     "name": "stdout",
     "output_type": "stream",
     "text": [
      "MAP@20 = 0.0007 Hitrate@20 = 0.0150\n"
     ]
    }
   ],
   "source": [
    "best_w2v = Word2Vec(\n",
    "    grouped_df_for_sub['hist_item_ids'].to_list(),\n",
    "    sg=0,\n",
    "    vector_size=32,\n",
    "    min_count=18,\n",
    "    epochs=30,\n",
    "    negative=17,\n",
    "    window=10,\n",
    "    ns_exponent=0.05,\n",
    "    seed=42,\n",
    "    hs=0\n",
    ")\n",
    "mean_ndcg, mean_hitrate = evaluate_model(best_w2v, grouped_df_with_inds_sampled)\n",
    "print(f'MAP@{TOP_K} = {mean_ndcg:.4f} Hitrate@{TOP_K} = {mean_hitrate:.4f}')"
   ]
  },
  {
   "cell_type": "code",
   "execution_count": 25,
   "id": "6b123a93-5bfb-4805-977b-7f548ab3d5f4",
   "metadata": {},
   "outputs": [
    {
     "name": "stderr",
     "output_type": "stream",
     "text": [
      "100%|██████████| 50000/50000 [03:16<00:00, 253.92it/s]\n"
     ]
    },
    {
     "data": {
      "text/html": [
       "<div><style>\n",
       ".dataframe > thead > tr > th,\n",
       ".dataframe > tbody > tr > td {\n",
       "  text-align: right;\n",
       "}\n",
       "</style>\n",
       "<small>shape: (50_000, 2)</small><table border=\"1\" class=\"dataframe\"><thead><tr><th>user_id</th><th>y_rec</th></tr><tr><td>str</td><td>list[str]</td></tr></thead><tbody><tr><td>&quot;713a1223-f289-…</td><td>[&quot;0f692d11-9a2a-4964-bfaa-3841b4d537cb&quot;, &quot;277c978f-65fd-4d35-9784-feed640f11b6&quot;, … &quot;1254fab8-02e2-44d2-b9dc-99427c4142eb&quot;]</td></tr><tr><td>&quot;b0a343b6-c7a5-…</td><td>[&quot;750b1eb3-0ca9-4876-9443-1b96c2169215&quot;, &quot;ed437fe5-c894-4ddf-b2ce-d1f91988e32d&quot;, … &quot;b62f62a6-4e33-4a42-91df-e7651374df00&quot;]</td></tr><tr><td>&quot;5fbfea6f-0c70-…</td><td>[&quot;693aefb0-cbaf-4163-8aff-72a22781f8fa&quot;, &quot;4e1063ab-2b1d-471d-aaa6-cbca88b3cf76&quot;, … &quot;c9ba26c2-62a4-4b48-a6d7-24e326932b43&quot;]</td></tr><tr><td>&quot;a2614007-ced2-…</td><td>[&quot;ae8e44f9-3b2a-4044-9e63-3d513b4f5cd9&quot;, &quot;101ceee2-3430-4b63-ac68-f576b9b6cd51&quot;, … &quot;5e0fa633-c2b1-48e6-b68b-843da0c9d648&quot;]</td></tr><tr><td>&quot;a9c2109f-2931-…</td><td>[&quot;a662889e-d41f-4acd-9712-a983e3c3d91d&quot;, &quot;e3682d95-ca4c-4749-8882-a3bdaaff0649&quot;, … &quot;67195fbe-c97a-4f9f-91bc-b1e8cca05364&quot;]</td></tr><tr><td>&quot;ffa7abbe-864f-…</td><td>[&quot;0f692d11-9a2a-4964-bfaa-3841b4d537cb&quot;, &quot;f3400a8e-d5b3-496a-bd7f-d60f3a0fd397&quot;, … &quot;3c2346ec-77d9-413f-9c0e-b389b15d93c5&quot;]</td></tr><tr><td>&quot;49be3592-56ff-…</td><td>[&quot;a26c9335-2459-4c89-a00c-fdecbeb2c8c4&quot;, &quot;69c71d72-7ed8-42c4-b9ec-c33976a310b9&quot;, … &quot;8586fa4d-5e83-4c53-be27-0efa58ae6499&quot;]</td></tr><tr><td>&quot;4372c259-eef6-…</td><td>[&quot;e7d5fa27-5258-4cd2-91e3-04059d8eb13c&quot;, &quot;f3400a8e-d5b3-496a-bd7f-d60f3a0fd397&quot;, … &quot;b6908c95-ed36-4bc1-bd0a-0ad196a2e387&quot;]</td></tr><tr><td>&quot;c9a7e0b0-9cdd-…</td><td>[&quot;e0d0391a-7454-4d3e-a690-950204ef59bf&quot;, &quot;a6cdae3d-16ae-430a-8716-b82f64ed758d&quot;, … &quot;4b4890ce-1e14-49ad-93f0-936446c3b812&quot;]</td></tr><tr><td>&quot;0363a944-4dc6-…</td><td>[&quot;c60fe0f5-2e52-45b6-bdb9-13b44f382ca5&quot;, &quot;94b8478a-913b-4560-a633-1cf4b086647a&quot;, … &quot;9b8a5964-fede-421a-bd5e-cb7ec011b1ae&quot;]</td></tr><tr><td>&quot;9ec9b200-0dd7-…</td><td>[&quot;6416822e-2bcc-4b85-aa27-c14b730ff762&quot;, &quot;a05ca366-58c4-4b7e-a30c-6a7ea1cb4c43&quot;, … &quot;774691a9-c488-411a-852b-9a33455176d8&quot;]</td></tr><tr><td>&quot;615719e1-5189-…</td><td>[&quot;f0c7d12c-a479-4d43-b786-51e6e28bad59&quot;, &quot;cc4f5447-3984-409f-862e-5f5fb6b9cda2&quot;, … &quot;ae8a04b1-c2d2-4c92-a3e5-97ad2b2147bb&quot;]</td></tr><tr><td>&hellip;</td><td>&hellip;</td></tr><tr><td>&quot;1204c6b3-6b9d-…</td><td>[&quot;a26c9335-2459-4c89-a00c-fdecbeb2c8c4&quot;, &quot;ce4b8396-8061-4225-a1ed-0528f1ca3d1a&quot;, … &quot;ea63c8fd-4e9d-4735-8f87-15c27cd98540&quot;]</td></tr><tr><td>&quot;b5a98891-53e6-…</td><td>[&quot;cb346b46-0f98-488e-951b-4c9b9c3a32b1&quot;, &quot;0747059a-22ad-41e2-8802-a34ebead09f8&quot;, … &quot;37a30443-ed91-4f3f-87a1-a78db865b5c3&quot;]</td></tr><tr><td>&quot;ee9d7669-6c0c-…</td><td>[&quot;cfb4c3a7-6e4d-4b13-b4e1-1159fce34c07&quot;, &quot;858d2c2a-b2ad-44fe-a0ed-1f228e81fe10&quot;, … &quot;2b5be6d8-bcdc-4ab4-8f5e-d52b742b15d1&quot;]</td></tr><tr><td>&quot;a7c04660-9181-…</td><td>[&quot;81237832-8a29-418d-ab54-331cf53d0957&quot;, &quot;ce4b8396-8061-4225-a1ed-0528f1ca3d1a&quot;, … &quot;418f51da-1b7b-4450-9e4e-4a235727b180&quot;]</td></tr><tr><td>&quot;9a73d6d9-8d09-…</td><td>[&quot;a26c9335-2459-4c89-a00c-fdecbeb2c8c4&quot;, &quot;69c71d72-7ed8-42c4-b9ec-c33976a310b9&quot;, … &quot;305a1203-f2cc-4ee8-8d71-ed95373a9502&quot;]</td></tr><tr><td>&quot;34618983-8ea0-…</td><td>[&quot;9152ec82-5f58-48cd-87fe-632dcc8dbab4&quot;, &quot;cfb4c3a7-6e4d-4b13-b4e1-1159fce34c07&quot;, … &quot;8f3212c3-e783-44de-b194-7f041d6e9572&quot;]</td></tr><tr><td>&quot;46f943ac-51f9-…</td><td>[&quot;aac223e7-b09e-4722-8f43-f0b37e2174f9&quot;, &quot;3a6df691-648d-467d-995e-eb06c53ea725&quot;, … &quot;2f8c23e0-2346-430c-9ec9-dd3c33424c6c&quot;]</td></tr><tr><td>&quot;7fc5b050-3463-…</td><td>[&quot;a662889e-d41f-4acd-9712-a983e3c3d91d&quot;, &quot;9e02860b-3bc2-4fda-9afa-ed3a513b12e8&quot;, … &quot;b5654eae-444d-4744-adca-69c925cdd700&quot;]</td></tr><tr><td>&quot;9cdfb774-a7e0-…</td><td>[&quot;6ef0a53a-6504-496e-8cc7-957847a7fd9a&quot;, &quot;a79bbe53-8155-45b0-88f7-251a49594003&quot;, … &quot;418f51da-1b7b-4450-9e4e-4a235727b180&quot;]</td></tr><tr><td>&quot;136e3ea8-a7f0-…</td><td>[&quot;d1947eb3-8fba-4084-a173-a514820ee4cc&quot;, &quot;40d5f4f7-3560-4638-a562-055013eee0d4&quot;, … &quot;62c59774-4d7d-4ad5-b46b-e5de9e0730da&quot;]</td></tr><tr><td>&quot;d978dd42-3d1e-…</td><td>[&quot;bbece410-239a-4b06-8f24-b6e8641cef83&quot;, &quot;f4768b9b-554b-48fb-9b27-b442da74befc&quot;, … &quot;70d644d8-c593-48df-8f73-ebd27a138d8e&quot;]</td></tr><tr><td>&quot;f29cb21a-a0f9-…</td><td>[&quot;34fdb610-b7a4-4d9c-a8da-957cca419e23&quot;, &quot;09072603-be68-44c4-9bcf-20cc5e5f49dc&quot;, … &quot;ecf21a6f-dd65-4b24-9fce-f21636c58fdb&quot;]</td></tr></tbody></table></div>"
      ],
      "text/plain": [
       "shape: (50_000, 2)\n",
       "┌───────────────────────────────────┬───────────────────────────────────┐\n",
       "│ user_id                           ┆ y_rec                             │\n",
       "│ ---                               ┆ ---                               │\n",
       "│ str                               ┆ list[str]                         │\n",
       "╞═══════════════════════════════════╪═══════════════════════════════════╡\n",
       "│ 713a1223-f289-42f8-9db4-8a4052c0… ┆ [\"0f692d11-9a2a-4964-bfaa-3841b4… │\n",
       "│ b0a343b6-c7a5-4342-8cd0-c36cb8bc… ┆ [\"750b1eb3-0ca9-4876-9443-1b96c2… │\n",
       "│ 5fbfea6f-0c70-4f42-9a92-8feabb25… ┆ [\"693aefb0-cbaf-4163-8aff-72a227… │\n",
       "│ a2614007-ced2-4e04-83ec-96d2f8b8… ┆ [\"ae8e44f9-3b2a-4044-9e63-3d513b… │\n",
       "│ …                                 ┆ …                                 │\n",
       "│ 9cdfb774-a7e0-46e0-a36d-6bec8989… ┆ [\"6ef0a53a-6504-496e-8cc7-957847… │\n",
       "│ 136e3ea8-a7f0-4448-9e2f-b8760e27… ┆ [\"d1947eb3-8fba-4084-a173-a51482… │\n",
       "│ d978dd42-3d1e-4815-9b38-23eed92e… ┆ [\"bbece410-239a-4b06-8f24-b6e864… │\n",
       "│ f29cb21a-a0f9-4dfb-973c-b0b16b9e… ┆ [\"34fdb610-b7a4-4d9c-a8da-957cca… │\n",
       "└───────────────────────────────────┴───────────────────────────────────┘"
      ]
     },
     "execution_count": 25,
     "metadata": {},
     "output_type": "execute_result"
    }
   ],
   "source": [
    "submission = []\n",
    "model = best_w2v\n",
    "for user_id, user_history in tqdm(grouped_df_for_sub.rows()):\n",
    "    model_preds = model.predict_output_word(\n",
    "                user_history, topn=(TOP_K + len(user_history))\n",
    "            )\n",
    "    \n",
    "    y_rec = [artist_mapping_inverse[artist_id[0]] for artist_id in model_preds if artist_id not in user_history]\n",
    "    \n",
    "    user_mapped = user_mapping_inverse[user_id]\n",
    "    submission.append((user_mapped, y_rec))\n",
    "    \n",
    "submission = pl.DataFrame(submission, schema=('user_id', 'y_rec'))\n",
    "submission.write_parquet('w2v_sample_submission.parquet')\n",
    "submission"
   ]
  },
  {
   "cell_type": "markdown",
   "id": "6eea9445-3186-408e-8224-e0dd2582c3bf",
   "metadata": {
    "tags": []
   },
   "source": [
    "#### ALS"
   ]
  },
  {
   "cell_type": "code",
   "execution_count": 26,
   "id": "2fda046c-5a0e-42ab-b458-810306ad1b83",
   "metadata": {},
   "outputs": [],
   "source": [
    "\n",
    "RANDOM_STATE = 42\n",
    "\n",
    "def set_seed():\n",
    "    random.seed(RANDOM_STATE)\n",
    "    np.random.seed(RANDOM_STATE)"
   ]
  },
  {
   "cell_type": "code",
   "execution_count": 27,
   "id": "97205fc7-130e-4987-8be2-ed0fe5243fd6",
   "metadata": {},
   "outputs": [],
   "source": [
    "def get_recommendations(user_embs: np.array, item_embs: np.array, k: int = TOP_K):\n",
    "    # строим индекс объектов\n",
    "    index = faiss.IndexFlatIP(item_embs.shape[1])\n",
    "    index.add(item_embs)\n",
    "\n",
    "    # строим рекомендации с помощью dot-product расстояния\n",
    "    # с запасом, чтобы после фильтрации просмотренных осталось как минимум TOP_K\n",
    "    return index.search(user_embs, TOP_K * 3)"
   ]
  },
  {
   "cell_type": "code",
   "execution_count": 28,
   "id": "77f79892-1f81-439b-b993-cc8c6e392590",
   "metadata": {},
   "outputs": [],
   "source": [
    "def evaluate_model(model, df):\n",
    "    # строим рекомендации в виде KNN алгоритма поверх эмбеддингов пользователей и артистов\n",
    "    _, recs = get_recommendations(\n",
    "        model.user_factors,\n",
    "        model.item_factors,\n",
    "        TOP_K + median_seq_len\n",
    "    )\n",
    "    \n",
    "    # будем отслеживать как ndcg, так и hitrate метрики\n",
    "    ndcg_list = []\n",
    "    hitrate_list = []\n",
    "    \n",
    "    for user_id, user_history, y_rel in df.select(\n",
    "        'user_id', 'train_item_ids', 'test_item_ids'\n",
    "    ).rows():\n",
    "        y_rec = [\n",
    "                item_id\n",
    "                # чтобы точно хватило рекомендаций, добавим еще топовых артистов в конец списка\n",
    "                for item_id in list(recs[user_id])\n",
    "                if item_id not in user_history\n",
    "            ]\n",
    "        hitrate_list.append(user_hitrate(y_rel, y_rec))\n",
    "        ndcg_list.append(user_ndcg(y_rel, y_rec))\n",
    "        \n",
    "    mean_ndcg = np.mean(ndcg_list)\n",
    "    mean_hitrate = np.mean(hitrate_list)\n",
    "    return mean_ndcg, mean_hitrate"
   ]
  },
  {
   "cell_type": "code",
   "execution_count": null,
   "id": "57f96d06-756e-4a07-926f-87dd6d9ace32",
   "metadata": {},
   "outputs": [
    {
     "name": "stderr",
     "output_type": "stream",
     "text": [
      "[I 2024-08-12 22:22:37,646] A new study created in memory with name: no-name-855a6342-d80c-4f13-a6f6-140f64d79ae7\n"
     ]
    },
    {
     "name": "stdout",
     "output_type": "stream",
     "text": [
      "{'factors': 57, 'iterations': 68, 'alpha': 3.5424363552369966, 'regularization': 0.08438954638083798}\n"
     ]
    },
    {
     "name": "stderr",
     "output_type": "stream",
     "text": [
      "100%|██████████| 68/68 [16:17<00:00, 14.38s/it]\n",
      "[I 2024-08-12 22:39:18,855] Trial 0 finished with value: 0.06330376932238622 and parameters: {'factors': 57, 'iterations': 68, 'alpha': 3.5424363552369966, 'regularization': 0.08438954638083798}. Best is trial 0 with value: 0.06330376932238622.\n"
     ]
    },
    {
     "name": "stdout",
     "output_type": "stream",
     "text": [
      "NDCG@20 = 0.06330376932238622, Hitrate@20 = 0.346\n",
      "{'factors': 81, 'iterations': 10, 'alpha': 0.38241970268979175, 'regularization': 0.09388649514745363}\n"
     ]
    },
    {
     "name": "stderr",
     "output_type": "stream",
     "text": [
      "100%|██████████| 10/10 [02:29<00:00, 14.91s/it]\n",
      "[I 2024-08-12 22:42:13,315] Trial 1 finished with value: 0.03926633485939325 and parameters: {'factors': 81, 'iterations': 10, 'alpha': 0.38241970268979175, 'regularization': 0.09388649514745363}. Best is trial 0 with value: 0.06330376932238622.\n"
     ]
    },
    {
     "name": "stdout",
     "output_type": "stream",
     "text": [
      "NDCG@20 = 0.03926633485939325, Hitrate@20 = 0.247\n",
      "{'factors': 17, 'iterations': 92, 'alpha': 0.6954211934201072, 'regularization': 0.002047605639633383}\n"
     ]
    },
    {
     "name": "stderr",
     "output_type": "stream",
     "text": [
      "100%|██████████| 92/92 [10:22<00:00,  6.77s/it]\n",
      "[I 2024-08-12 22:52:55,313] Trial 2 finished with value: 0.041756014839206115 and parameters: {'factors': 17, 'iterations': 92, 'alpha': 0.6954211934201072, 'regularization': 0.002047605639633383}. Best is trial 0 with value: 0.06330376932238622.\n"
     ]
    },
    {
     "name": "stdout",
     "output_type": "stream",
     "text": [
      "NDCG@20 = 0.041756014839206115, Hitrate@20 = 0.247\n",
      "{'factors': 119, 'iterations': 48, 'alpha': 3.5862085957756022, 'regularization': 0.0960049490259032}\n"
     ]
    },
    {
     "name": "stderr",
     "output_type": "stream",
     "text": [
      "100%|██████████| 48/48 [15:10<00:00, 18.97s/it]\n",
      "[I 2024-08-12 23:08:35,957] Trial 3 finished with value: 0.0638755979459333 and parameters: {'factors': 119, 'iterations': 48, 'alpha': 3.5862085957756022, 'regularization': 0.0960049490259032}. Best is trial 3 with value: 0.0638755979459333.\n"
     ]
    },
    {
     "name": "stdout",
     "output_type": "stream",
     "text": [
      "NDCG@20 = 0.0638755979459333, Hitrate@20 = 0.353\n",
      "{'factors': 26, 'iterations': 22, 'alpha': 1.666230408714568, 'regularization': 0.08667541424511797}\n"
     ]
    },
    {
     "name": "stderr",
     "output_type": "stream",
     "text": [
      "100%|██████████| 22/22 [02:52<00:00,  7.84s/it]\n",
      "[I 2024-08-12 23:11:48,539] Trial 4 finished with value: 0.05324983287982135 and parameters: {'factors': 26, 'iterations': 22, 'alpha': 1.666230408714568, 'regularization': 0.08667541424511797}. Best is trial 3 with value: 0.0638755979459333.\n"
     ]
    },
    {
     "name": "stdout",
     "output_type": "stream",
     "text": [
      "NDCG@20 = 0.05324983287982135, Hitrate@20 = 0.303\n",
      "{'factors': 68, 'iterations': 54, 'alpha': 4.418667990190787, 'regularization': 0.01606067706081465}\n"
     ]
    },
    {
     "name": "stderr",
     "output_type": "stream",
     "text": [
      "100%|██████████| 54/54 [10:23<00:00, 11.55s/it]\n",
      "[I 2024-08-12 23:22:37,110] Trial 5 finished with value: 0.06690879504157918 and parameters: {'factors': 68, 'iterations': 54, 'alpha': 4.418667990190787, 'regularization': 0.01606067706081465}. Best is trial 5 with value: 0.06690879504157918.\n"
     ]
    },
    {
     "name": "stdout",
     "output_type": "stream",
     "text": [
      "NDCG@20 = 0.06690879504157918, Hitrate@20 = 0.359\n",
      "{'factors': 92, 'iterations': 73, 'alpha': 1.9911581010196562, 'regularization': 0.09182906195638411}\n"
     ]
    },
    {
     "name": "stderr",
     "output_type": "stream",
     "text": [
      "100%|██████████| 73/73 [19:26<00:00, 15.98s/it]\n",
      "[I 2024-08-12 23:42:30,163] Trial 6 finished with value: 0.06050029654230965 and parameters: {'factors': 92, 'iterations': 73, 'alpha': 1.9911581010196562, 'regularization': 0.09182906195638411}. Best is trial 5 with value: 0.06690879504157918.\n"
     ]
    },
    {
     "name": "stdout",
     "output_type": "stream",
     "text": [
      "NDCG@20 = 0.06050029654230965, Hitrate@20 = 0.346\n",
      "{'factors': 18, 'iterations': 100, 'alpha': 1.1360723629745229, 'regularization': 0.05450445690822245}\n"
     ]
    },
    {
     "name": "stderr",
     "output_type": "stream",
     "text": [
      "100%|██████████| 100/100 [11:23<00:00,  6.83s/it]\n",
      "[I 2024-08-12 23:54:13,715] Trial 7 finished with value: 0.047772194868587504 and parameters: {'factors': 18, 'iterations': 100, 'alpha': 1.1360723629745229, 'regularization': 0.05450445690822245}. Best is trial 5 with value: 0.06690879504157918.\n"
     ]
    },
    {
     "name": "stdout",
     "output_type": "stream",
     "text": [
      "NDCG@20 = 0.047772194868587504, Hitrate@20 = 0.278\n",
      "{'factors': 102, 'iterations': 55, 'alpha': 0.38347828096244996, 'regularization': 0.08640738821618109}\n"
     ]
    },
    {
     "name": "stderr",
     "output_type": "stream",
     "text": [
      "100%|██████████| 55/55 [16:08<00:00, 17.60s/it]\n",
      "[I 2024-08-13 00:10:49,544] Trial 8 finished with value: 0.03766623738635565 and parameters: {'factors': 102, 'iterations': 55, 'alpha': 0.38347828096244996, 'regularization': 0.08640738821618109}. Best is trial 5 with value: 0.06690879504157918.\n"
     ]
    },
    {
     "name": "stdout",
     "output_type": "stream",
     "text": [
      "NDCG@20 = 0.03766623738635565, Hitrate@20 = 0.212\n",
      "{'factors': 49, 'iterations': 54, 'alpha': 0.27716156883349685, 'regularization': 0.08824373086734844}\n"
     ]
    },
    {
     "name": "stderr",
     "output_type": "stream",
     "text": [
      "100%|██████████| 54/54 [12:33<00:00, 13.95s/it]\n",
      "[I 2024-08-13 00:23:46,757] Trial 9 finished with value: 0.03804619652358699 and parameters: {'factors': 49, 'iterations': 54, 'alpha': 0.27716156883349685, 'regularization': 0.08824373086734844}. Best is trial 5 with value: 0.06690879504157918.\n"
     ]
    },
    {
     "name": "stdout",
     "output_type": "stream",
     "text": [
      "NDCG@20 = 0.03804619652358699, Hitrate@20 = 0.22\n",
      "{'factors': 42, 'iterations': 34, 'alpha': 4.744440222362728, 'regularization': 0.006010236210257692}\n"
     ]
    },
    {
     "name": "stderr",
     "output_type": "stream",
     "text": [
      "100%|██████████| 34/34 [06:52<00:00, 12.13s/it]\n",
      "[I 2024-08-13 00:31:01,477] Trial 10 finished with value: 0.062182033514756326 and parameters: {'factors': 42, 'iterations': 34, 'alpha': 4.744440222362728, 'regularization': 0.006010236210257692}. Best is trial 5 with value: 0.06690879504157918.\n"
     ]
    },
    {
     "name": "stdout",
     "output_type": "stream",
     "text": [
      "NDCG@20 = 0.062182033514756326, Hitrate@20 = 0.342\n",
      "{'factors': 122, 'iterations': 38, 'alpha': 3.4473786221405587, 'regularization': 0.027122121881937147}\n"
     ]
    },
    {
     "name": "stderr",
     "output_type": "stream",
     "text": [
      "100%|██████████| 38/38 [13:08<00:00, 20.76s/it]\n",
      "[I 2024-08-13 00:44:41,466] Trial 11 finished with value: 0.06531247580790345 and parameters: {'factors': 122, 'iterations': 38, 'alpha': 3.4473786221405587, 'regularization': 0.027122121881937147}. Best is trial 5 with value: 0.06690879504157918.\n"
     ]
    },
    {
     "name": "stdout",
     "output_type": "stream",
     "text": [
      "NDCG@20 = 0.06531247580790345, Hitrate@20 = 0.355\n",
      "{'factors': 128, 'iterations': 38, 'alpha': 4.797915829682014, 'regularization': 0.022531824345812516}\n"
     ]
    },
    {
     "name": "stderr",
     "output_type": "stream",
     "text": [
      "100%|██████████| 38/38 [10:44<00:00, 16.95s/it]\n",
      "[I 2024-08-13 00:55:57,953] Trial 12 finished with value: 0.06524316189501804 and parameters: {'factors': 128, 'iterations': 38, 'alpha': 4.797915829682014, 'regularization': 0.022531824345812516}. Best is trial 5 with value: 0.06690879504157918.\n"
     ]
    },
    {
     "name": "stdout",
     "output_type": "stream",
     "text": [
      "NDCG@20 = 0.06524316189501804, Hitrate@20 = 0.357\n",
      "{'factors': 74, 'iterations': 68, 'alpha': 3.2597491224851525, 'regularization': 0.027315314666303703}\n"
     ]
    },
    {
     "name": "stderr",
     "output_type": "stream",
     "text": [
      "100%|██████████| 68/68 [15:31<00:00, 13.70s/it]\n",
      "[I 2024-08-13 01:11:55,246] Trial 13 finished with value: 0.06389482274657038 and parameters: {'factors': 74, 'iterations': 68, 'alpha': 3.2597491224851525, 'regularization': 0.027315314666303703}. Best is trial 5 with value: 0.06690879504157918.\n"
     ]
    },
    {
     "name": "stdout",
     "output_type": "stream",
     "text": [
      "NDCG@20 = 0.06389482274657038, Hitrate@20 = 0.361\n",
      "{'factors': 106, 'iterations': 30, 'alpha': 4.17929210635546, 'regularization': 0.030950376772445956}\n"
     ]
    },
    {
     "name": "stderr",
     "output_type": "stream",
     "text": [
      "100%|██████████| 30/30 [08:52<00:00, 17.74s/it]\n",
      "[I 2024-08-13 01:21:15,447] Trial 14 finished with value: 0.06791989334015246 and parameters: {'factors': 106, 'iterations': 30, 'alpha': 4.17929210635546, 'regularization': 0.030950376772445956}. Best is trial 14 with value: 0.06791989334015246.\n"
     ]
    },
    {
     "name": "stdout",
     "output_type": "stream",
     "text": [
      "NDCG@20 = 0.06791989334015246, Hitrate@20 = 0.367\n",
      "{'factors': 100, 'iterations': 8, 'alpha': 4.148036621533336, 'regularization': 0.04288013023597671}\n"
     ]
    },
    {
     "name": "stderr",
     "output_type": "stream",
     "text": [
      "100%|██████████| 8/8 [01:55<00:00, 14.43s/it]\n",
      "[I 2024-08-13 01:23:37,743] Trial 15 finished with value: 0.06608140025333727 and parameters: {'factors': 100, 'iterations': 8, 'alpha': 4.148036621533336, 'regularization': 0.04288013023597671}. Best is trial 14 with value: 0.06791989334015246.\n"
     ]
    },
    {
     "name": "stdout",
     "output_type": "stream",
     "text": [
      "NDCG@20 = 0.06608140025333727, Hitrate@20 = 0.347\n",
      "{'factors': 67, 'iterations': 29, 'alpha': 2.7329435821447756, 'regularization': 0.016694777468894886}\n"
     ]
    },
    {
     "name": "stderr",
     "output_type": "stream",
     "text": [
      "100%|██████████| 29/29 [05:34<00:00, 11.54s/it]\n",
      "[I 2024-08-13 01:29:37,717] Trial 16 finished with value: 0.06349249402204303 and parameters: {'factors': 67, 'iterations': 29, 'alpha': 2.7329435821447756, 'regularization': 0.016694777468894886}. Best is trial 14 with value: 0.06791989334015246.\n"
     ]
    },
    {
     "name": "stdout",
     "output_type": "stream",
     "text": [
      "NDCG@20 = 0.06349249402204303, Hitrate@20 = 0.344\n",
      "{'factors': 89, 'iterations': 20, 'alpha': 4.277227363918833, 'regularization': 0.039441262930327056}\n"
     ]
    },
    {
     "name": "stderr",
     "output_type": "stream",
     "text": [
      "100%|██████████| 20/20 [05:58<00:00, 17.90s/it]\n",
      "[I 2024-08-13 01:36:02,660] Trial 17 finished with value: 0.06590262319955105 and parameters: {'factors': 89, 'iterations': 20, 'alpha': 4.277227363918833, 'regularization': 0.039441262930327056}. Best is trial 14 with value: 0.06791989334015246.\n"
     ]
    },
    {
     "name": "stdout",
     "output_type": "stream",
     "text": [
      "NDCG@20 = 0.06590262319955105, Hitrate@20 = 0.367\n",
      "{'factors': 62, 'iterations': 48, 'alpha': 4.978026986973774, 'regularization': 0.013004366338293771}\n"
     ]
    },
    {
     "name": "stderr",
     "output_type": "stream",
     "text": [
      "100%|██████████| 48/48 [11:37<00:00, 14.52s/it]\n",
      "[I 2024-08-13 01:48:02,801] Trial 18 finished with value: 0.06697815505112653 and parameters: {'factors': 62, 'iterations': 48, 'alpha': 4.978026986973774, 'regularization': 0.013004366338293771}. Best is trial 14 with value: 0.06791989334015246.\n"
     ]
    },
    {
     "name": "stdout",
     "output_type": "stream",
     "text": [
      "NDCG@20 = 0.06697815505112653, Hitrate@20 = 0.365\n",
      "{'factors': 35, 'iterations': 43, 'alpha': 4.871478494485655, 'regularization': 0.00955757921341882}\n"
     ]
    },
    {
     "name": "stderr",
     "output_type": "stream",
     "text": [
      "100%|██████████| 43/43 [06:05<00:00,  8.50s/it]\n",
      "[I 2024-08-13 01:54:28,859] Trial 19 finished with value: 0.06154546454959164 and parameters: {'factors': 35, 'iterations': 43, 'alpha': 4.871478494485655, 'regularization': 0.00955757921341882}. Best is trial 14 with value: 0.06791989334015246.\n"
     ]
    },
    {
     "name": "stdout",
     "output_type": "stream",
     "text": [
      "NDCG@20 = 0.06154546454959164, Hitrate@20 = 0.352\n",
      "{'factors': 58, 'iterations': 81, 'alpha': 3.9942623030181412, 'regularization': 0.0018217853167680244}\n"
     ]
    },
    {
     "name": "stderr",
     "output_type": "stream",
     "text": [
      "100%|██████████| 81/81 [18:43<00:00, 13.87s/it]\n",
      "[I 2024-08-13 02:13:35,046] Trial 20 finished with value: 0.06562423000562359 and parameters: {'factors': 58, 'iterations': 81, 'alpha': 3.9942623030181412, 'regularization': 0.0018217853167680244}. Best is trial 14 with value: 0.06791989334015246.\n"
     ]
    },
    {
     "name": "stdout",
     "output_type": "stream",
     "text": [
      "NDCG@20 = 0.06562423000562359, Hitrate@20 = 0.351\n",
      "{'factors': 67, 'iterations': 59, 'alpha': 4.972518462610493, 'regularization': 0.014246221516102109}\n"
     ]
    },
    {
     "name": "stderr",
     "output_type": "stream",
     "text": [
      "100%|██████████| 59/59 [11:08<00:00, 11.33s/it]\n",
      "[I 2024-08-13 02:25:07,119] Trial 21 finished with value: 0.0677818037969061 and parameters: {'factors': 67, 'iterations': 59, 'alpha': 4.972518462610493, 'regularization': 0.014246221516102109}. Best is trial 14 with value: 0.06791989334015246.\n"
     ]
    },
    {
     "name": "stdout",
     "output_type": "stream",
     "text": [
      "NDCG@20 = 0.0677818037969061, Hitrate@20 = 0.362\n",
      "{'factors': 107, 'iterations': 60, 'alpha': 4.790487331899216, 'regularization': 0.01794149953486915}\n"
     ]
    },
    {
     "name": "stderr",
     "output_type": "stream",
     "text": [
      "100%|██████████| 60/60 [17:10<00:00, 17.18s/it]\n",
      "[I 2024-08-13 02:42:45,750] Trial 22 finished with value: 0.06729728773843249 and parameters: {'factors': 107, 'iterations': 60, 'alpha': 4.790487331899216, 'regularization': 0.01794149953486915}. Best is trial 14 with value: 0.06791989334015246.\n"
     ]
    },
    {
     "name": "stdout",
     "output_type": "stream",
     "text": [
      "NDCG@20 = 0.06729728773843249, Hitrate@20 = 0.359\n",
      "{'factors': 111, 'iterations': 61, 'alpha': 4.490832982144006, 'regularization': 0.03246000536313355}\n"
     ]
    },
    {
     "name": "stderr",
     "output_type": "stream",
     "text": [
      " 69%|██████▉   | 42/61 [12:36<05:30, 17.41s/it]"
     ]
    }
   ],
   "source": [
    "def objective(trial):\n",
    "    factors = trial.suggest_int('factors', 8, 128)\n",
    "    iterations = trial.suggest_int('iterations', 5, 100)\n",
    "    alpha = trial.suggest_float('alpha', 0.1, 5.0)\n",
    "    regularization = trial.suggest_float('regularization', 1e-3, 1e-1)\n",
    "        \n",
    "    print({\n",
    "        'factors': factors,\n",
    "        'iterations': iterations,\n",
    "        'alpha': alpha,\n",
    "        'regularization': regularization,\n",
    "    })\n",
    "    \n",
    "    set_seed()\n",
    "    als_model = implicit.als.AlternatingLeastSquares(\n",
    "        factors=factors,\n",
    "        iterations=iterations,\n",
    "        random_state=RANDOM_STATE,\n",
    "        alpha=alpha,\n",
    "        regularization=regularization\n",
    "    )\n",
    "    als_model.fit(user_item_data)\n",
    "    \n",
    "    mean_ndcg, mean_hitrate = evaluate_model(als_model, grouped_df_with_inds_sampled)\n",
    "    print(f'NDCG@{TOP_K} = {mean_ndcg}, Hitrate@{TOP_K} = {mean_hitrate}')\n",
    "    return mean_ndcg\n",
    "    \n",
    "    \n",
    "study = optuna.create_study(directions=('maximize',))\n",
    "# тут запускается всего 5 итераций, что может быть очень мало для хороших результатов\n",
    "study.optimize(objective, n_trials=40)\n",
    "\n",
    "study.best_params"
   ]
  },
  {
   "cell_type": "code",
   "execution_count": 29,
   "id": "22c178b4-edb4-4699-be83-15f54595d765",
   "metadata": {},
   "outputs": [],
   "source": [
    "best_params = {'factors': 106, 'iterations': 30, 'alpha': 4.17929210635546, 'regularization': 0.030950376772445956}\n"
   ]
  },
  {
   "cell_type": "code",
   "execution_count": 30,
   "id": "ae07eec4-bf0b-4627-a97c-367534d33bcc",
   "metadata": {},
   "outputs": [
    {
     "name": "stderr",
     "output_type": "stream",
     "text": [
      "100%|██████████| 30/30 [10:46<00:00, 21.56s/it]\n"
     ]
    }
   ],
   "source": [
    "fin_als_model = implicit.als.AlternatingLeastSquares(\n",
    "        random_state=RANDOM_STATE,\n",
    "    **best_params\n",
    "    )\n",
    "fin_als_model.fit(full_user_item_data)"
   ]
  },
  {
   "cell_type": "code",
   "execution_count": 31,
   "id": "99ae8278-7331-49ee-87a4-afb8e3255f6d",
   "metadata": {},
   "outputs": [
    {
     "name": "stderr",
     "output_type": "stream",
     "text": [
      "100%|██████████| 50000/50000 [00:06<00:00, 7749.53it/s]\n"
     ]
    },
    {
     "data": {
      "text/html": [
       "<div><style>\n",
       ".dataframe > thead > tr > th,\n",
       ".dataframe > tbody > tr > td {\n",
       "  text-align: right;\n",
       "}\n",
       "</style>\n",
       "<small>shape: (50_000, 2)</small><table border=\"1\" class=\"dataframe\"><thead><tr><th>user_id</th><th>y_rec</th></tr><tr><td>str</td><td>list[str]</td></tr></thead><tbody><tr><td>&quot;713a1223-f289-…</td><td>[&quot;277c978f-65fd-4d35-9784-feed640f11b6&quot;, &quot;a040d9c1-5e56-462b-bc5b-6ab6cc5b2844&quot;, … &quot;ce9b8a75-3e4a-4cee-90ad-85eb28409070&quot;]</td></tr><tr><td>&quot;b0a343b6-c7a5-…</td><td>[&quot;ed437fe5-c894-4ddf-b2ce-d1f91988e32d&quot;, &quot;ae8e44f9-3b2a-4044-9e63-3d513b4f5cd9&quot;, … &quot;13145656-b46b-4dba-875f-9b6f7bf5d72e&quot;]</td></tr><tr><td>&quot;5fbfea6f-0c70-…</td><td>[&quot;4536ac75-4cc9-40d5-9cd3-0880fedd748c&quot;, &quot;299638ac-4f88-4a50-a05f-be46a60c49cd&quot;, … &quot;36b78ebe-ca4e-4a54-97e9-167e98f26f27&quot;]</td></tr><tr><td>&quot;a2614007-ced2-…</td><td>[&quot;d989225d-6423-4eaa-a3d7-c65c78dd43d3&quot;, &quot;5013361c-4240-442e-855e-19f0185aa442&quot;, … &quot;ab189245-1685-4f57-9c11-7ebcad118163&quot;]</td></tr><tr><td>&quot;a9c2109f-2931-…</td><td>[&quot;e3682d95-ca4c-4749-8882-a3bdaaff0649&quot;, &quot;bc6f0982-2adc-41ce-a02e-e82b4fad02a3&quot;, … &quot;ed6fe0ef-a143-40c2-a91a-1b1616af63d8&quot;]</td></tr><tr><td>&quot;ffa7abbe-864f-…</td><td>[&quot;79e81ed7-39fd-4046-a942-e3a0ded32039&quot;, &quot;0f692d11-9a2a-4964-bfaa-3841b4d537cb&quot;, … &quot;ebb32beb-22d5-404e-8b3d-c60370cc633c&quot;]</td></tr><tr><td>&quot;49be3592-56ff-…</td><td>[&quot;b6908c95-ed36-4bc1-bd0a-0ad196a2e387&quot;, &quot;87a7508f-415e-4080-8bff-8ff94cfec4a6&quot;, … &quot;392d5791-06c0-4eb5-8b8c-be660a1d634e&quot;]</td></tr><tr><td>&quot;4372c259-eef6-…</td><td>[&quot;ce4b8396-8061-4225-a1ed-0528f1ca3d1a&quot;, &quot;ef2c57a7-d053-496d-928c-160833e0bb13&quot;, … &quot;a8d46026-b06b-40b6-bd07-92592f81bbc7&quot;]</td></tr><tr><td>&quot;c9a7e0b0-9cdd-…</td><td>[&quot;8097f9bc-0641-463a-9295-f577bc852cbd&quot;, &quot;5013361c-4240-442e-855e-19f0185aa442&quot;, … &quot;226ac710-61d9-4083-8e31-41c354483c86&quot;]</td></tr><tr><td>&quot;0363a944-4dc6-…</td><td>[&quot;a6cdae3d-16ae-430a-8716-b82f64ed758d&quot;, &quot;fbd6e44d-d56a-45d5-bf6d-49ec4bef01b1&quot;, … &quot;1c50ce14-9b6a-47f1-af0f-11992de06535&quot;]</td></tr><tr><td>&quot;9ec9b200-0dd7-…</td><td>[&quot;a05ca366-58c4-4b7e-a30c-6a7ea1cb4c43&quot;, &quot;9e83e3a6-6b65-44f3-964d-e24b8516939d&quot;, … &quot;70d644d8-c593-48df-8f73-ebd27a138d8e&quot;]</td></tr><tr><td>&quot;615719e1-5189-…</td><td>[&quot;392d5791-06c0-4eb5-8b8c-be660a1d634e&quot;, &quot;cc4f5447-3984-409f-862e-5f5fb6b9cda2&quot;, … &quot;a6cdae3d-16ae-430a-8716-b82f64ed758d&quot;]</td></tr><tr><td>&hellip;</td><td>&hellip;</td></tr><tr><td>&quot;1204c6b3-6b9d-…</td><td>[&quot;87a7508f-415e-4080-8bff-8ff94cfec4a6&quot;, &quot;19cdee1f-2e3a-4731-a989-ec82787d1c46&quot;, … &quot;b92158af-c727-4045-bc34-3ca7d1c35adf&quot;]</td></tr><tr><td>&quot;b5a98891-53e6-…</td><td>[&quot;cb346b46-0f98-488e-951b-4c9b9c3a32b1&quot;, &quot;cca77b96-b014-4419-810e-b0954d1d8a4c&quot;, … &quot;1f5a1563-b169-4e16-973c-7258331c3c0a&quot;]</td></tr><tr><td>&quot;ee9d7669-6c0c-…</td><td>[&quot;8622c7db-b0db-4412-8a80-174308f7bcbd&quot;, &quot;a041df36-9025-4702-a791-df595bffc85b&quot;, … &quot;810f5ba7-be0b-49aa-b1ad-16254669709d&quot;]</td></tr><tr><td>&quot;a7c04660-9181-…</td><td>[&quot;743b56de-0260-4726-bfb8-48f56c035546&quot;, &quot;b92158af-c727-4045-bc34-3ca7d1c35adf&quot;, … &quot;4f62d1ca-2d7e-4d8b-9f59-1556d1a6ca5a&quot;]</td></tr><tr><td>&quot;9a73d6d9-8d09-…</td><td>[&quot;cc4d682c-339a-41ac-923f-0de13c5270d5&quot;, &quot;7e0a77d9-a8f8-4a60-ac5d-f771056f8306&quot;, … &quot;8315f252-3900-42b0-8140-5b8a46fe29e0&quot;]</td></tr><tr><td>&quot;34618983-8ea0-…</td><td>[&quot;2a11a347-05e3-4db0-ae89-df719c4cf5f6&quot;, &quot;cfb4c3a7-6e4d-4b13-b4e1-1159fce34c07&quot;, … &quot;1ca54366-2198-4079-a6c5-f030712fe9f3&quot;]</td></tr><tr><td>&quot;46f943ac-51f9-…</td><td>[&quot;70d644d8-c593-48df-8f73-ebd27a138d8e&quot;, &quot;c06e76e7-ea40-4980-a1de-e8b5001cfc47&quot;, … &quot;dcfe49fe-6664-45d4-ae02-66f714ca896f&quot;]</td></tr><tr><td>&quot;7fc5b050-3463-…</td><td>[&quot;50bf3bfe-4b58-4a6e-a193-ccc406a6f6d7&quot;, &quot;c06e76e7-ea40-4980-a1de-e8b5001cfc47&quot;, … &quot;42cee962-0f50-4728-b887-01cb7a207075&quot;]</td></tr><tr><td>&quot;9cdfb774-a7e0-…</td><td>[&quot;418f51da-1b7b-4450-9e4e-4a235727b180&quot;, &quot;e26caaeb-f385-46a8-807b-0f74b8a039e7&quot;, … &quot;19f39bc5-884d-4c2d-a1f5-6a8ca2ae0bec&quot;]</td></tr><tr><td>&quot;136e3ea8-a7f0-…</td><td>[&quot;7e0a77d9-a8f8-4a60-ac5d-f771056f8306&quot;, &quot;b9267758-27ce-4739-9406-6019fe217f96&quot;, … &quot;c65422b6-6896-49d7-9c83-72f12980a375&quot;]</td></tr><tr><td>&quot;d978dd42-3d1e-…</td><td>[&quot;24a08716-3e1d-49bd-bec7-8489350d43db&quot;, &quot;fc36ae57-20a3-43e0-940f-7d331426032e&quot;, … &quot;4ac260e6-090a-4c5b-aaec-b02237c6059a&quot;]</td></tr><tr><td>&quot;f29cb21a-a0f9-…</td><td>[&quot;1b73674e-1165-4cef-92c3-2828f067f255&quot;, &quot;c8841d2c-613a-40a7-89af-f7201f073c1d&quot;, … &quot;8ef39803-2c80-4bde-9ff8-bbd769bbb95c&quot;]</td></tr></tbody></table></div>"
      ],
      "text/plain": [
       "shape: (50_000, 2)\n",
       "┌───────────────────────────────────┬───────────────────────────────────┐\n",
       "│ user_id                           ┆ y_rec                             │\n",
       "│ ---                               ┆ ---                               │\n",
       "│ str                               ┆ list[str]                         │\n",
       "╞═══════════════════════════════════╪═══════════════════════════════════╡\n",
       "│ 713a1223-f289-42f8-9db4-8a4052c0… ┆ [\"277c978f-65fd-4d35-9784-feed64… │\n",
       "│ b0a343b6-c7a5-4342-8cd0-c36cb8bc… ┆ [\"ed437fe5-c894-4ddf-b2ce-d1f919… │\n",
       "│ 5fbfea6f-0c70-4f42-9a92-8feabb25… ┆ [\"4536ac75-4cc9-40d5-9cd3-0880fe… │\n",
       "│ a2614007-ced2-4e04-83ec-96d2f8b8… ┆ [\"d989225d-6423-4eaa-a3d7-c65c78… │\n",
       "│ …                                 ┆ …                                 │\n",
       "│ 9cdfb774-a7e0-46e0-a36d-6bec8989… ┆ [\"418f51da-1b7b-4450-9e4e-4a2357… │\n",
       "│ 136e3ea8-a7f0-4448-9e2f-b8760e27… ┆ [\"7e0a77d9-a8f8-4a60-ac5d-f77105… │\n",
       "│ d978dd42-3d1e-4815-9b38-23eed92e… ┆ [\"24a08716-3e1d-49bd-bec7-848935… │\n",
       "│ f29cb21a-a0f9-4dfb-973c-b0b16b9e… ┆ [\"1b73674e-1165-4cef-92c3-2828f0… │\n",
       "└───────────────────────────────────┴───────────────────────────────────┘"
      ]
     },
     "execution_count": 31,
     "metadata": {},
     "output_type": "execute_result"
    }
   ],
   "source": [
    "submission = []\n",
    "_, model_preds = get_recommendations(\n",
    "        fin_als_model.user_factors,\n",
    "        fin_als_model.item_factors,\n",
    "        TOP_K + median_seq_len\n",
    "    )\n",
    "for user_id, user_history in tqdm(grouped_df_for_sub.rows()):\n",
    "    y_rec = [artist_mapping_inverse[artist_id] for artist_id in list(model_preds[user_id]) if artist_id not in user_history]\n",
    "    user_mapped = user_mapping_inverse[user_id]\n",
    "    submission.append((user_mapped, y_rec))\n",
    "    \n",
    "submission = pl.DataFrame(submission, schema=('user_id', 'y_rec'))\n",
    "submission.write_parquet('als_sample_submission.parquet')\n",
    "submission"
   ]
  },
  {
   "cell_type": "markdown",
   "id": "6af82199-98c8-478c-82d1-a1038f4a305a",
   "metadata": {},
   "source": [
    "#### LFM"
   ]
  },
  {
   "cell_type": "code",
   "execution_count": 63,
   "id": "2d1a07d2-f653-4645-b422-6e44df35d814",
   "metadata": {},
   "outputs": [
    {
     "name": "stderr",
     "output_type": "stream",
     "text": [
      "Epoch: 100%|██████████| 100/100 [10:23<00:00,  6.23s/it]\n"
     ]
    },
    {
     "data": {
      "text/plain": [
       "(0.03379106941506322, 0.231)"
      ]
     },
     "execution_count": 63,
     "metadata": {},
     "output_type": "execute_result"
    }
   ],
   "source": [
    "lightfm_model = LightFM(    \n",
    "    no_components=45,\n",
    "    loss='warp',)\n",
    "lightfm_model.fit(user_item_data, epochs=100, verbose=True)\n",
    "evaluate_model(lightfm_model, grouped_df_with_inds_sampled\n",
    "    )"
   ]
  },
  {
   "cell_type": "code",
   "execution_count": 13,
   "id": "1a2db5f8-630f-4840-a97d-f28bf576e77a",
   "metadata": {},
   "outputs": [],
   "source": [
    "def get_recommendations(user_embs: np.array, item_embs: np.array, k: int = TOP_K):\n",
    "    # строим индекс объектов\n",
    "    index = faiss.IndexFlatIP(item_embs.shape[1])\n",
    "    index.add(item_embs)\n",
    "\n",
    "    # строим рекомендации с помощью dot-product расстояния\n",
    "    # с запасом, чтобы после фильтрации просмотренных осталось как минимум TOP_K\n",
    "    return index.search(user_embs, TOP_K * 3)"
   ]
  },
  {
   "cell_type": "code",
   "execution_count": 14,
   "id": "32ab8166-b32b-4b4e-ac09-05ee7f7222a1",
   "metadata": {},
   "outputs": [],
   "source": [
    "def evaluate_model(model, df):\n",
    "    # строим рекомендации в виде KNN алгоритма поверх эмбеддингов пользователей и артистов\n",
    "    _, recs = get_recommendations(\n",
    "        model.user_embeddings,\n",
    "        model.item_embeddings,\n",
    "        TOP_K + median_seq_len\n",
    "    )\n",
    "    \n",
    "    # будем отслеживать как ndcg, так и hitrate метрики\n",
    "    ndcg_list = []\n",
    "    hitrate_list = []\n",
    "    \n",
    "    for user_id, user_history, y_rel in df.select(\n",
    "        'user_id', 'train_item_ids', 'test_item_ids'\n",
    "    ).rows():\n",
    "        y_rec = [\n",
    "                item_id\n",
    "                # чтобы точно хватило рекомендаций, добавим еще топовых артистов в конец списка\n",
    "                for item_id in list(recs[user_id])\n",
    "                if item_id not in user_history\n",
    "            ]\n",
    "        hitrate_list.append(user_hitrate(y_rel, y_rec))\n",
    "        ndcg_list.append(user_ndcg(y_rel, y_rec))\n",
    "        \n",
    "    mean_ndcg = np.mean(ndcg_list)\n",
    "    mean_hitrate = np.mean(hitrate_list)\n",
    "    return mean_ndcg, mean_hitrate"
   ]
  },
  {
   "cell_type": "code",
   "execution_count": null,
   "id": "9c3e3d09-de67-4fa8-ac49-a4ce75047164",
   "metadata": {},
   "outputs": [],
   "source": [
    "def objective(trial):\n",
    "    no_components = trial.suggest_int('no_components', 8, 64)\n",
    "    epochs = trial.suggest_int('epochs', 5, 10)\n",
    "    alpha = trial.suggest_float('alpha', 0., 1e-3)\n",
    "        \n",
    "    print({\n",
    "        'no_components': no_components,\n",
    "        'alpha': alpha,\n",
    "    })\n",
    "    \n",
    "    set_seed()\n",
    "    try:\n",
    "        # модель может бросить исключение, если регуляризация слишком сильная\n",
    "        lightfm_model = LightFM(\n",
    "            no_components=no_components,\n",
    "            loss=\"warp\",\n",
    "            item_alpha=alpha,\n",
    "            user_alpha=alpha,\n",
    "            k=TOP_K,\n",
    "            random_state=RANDOM_STATE,\n",
    "        )\n",
    "        lightfm_model.fit(user_item_data, epochs=epochs, verbose=True)\n",
    "    except:\n",
    "        return None\n",
    "    \n",
    "    mean_hitrate = evaluate_model(lightfm_model, grouped_df_with_inds_sampled\n",
    "    )\n",
    "    print(f'Hitrate@{TOP_K} = {mean_hitrate}')\n",
    "    return mean_hitrate\n",
    "    \n",
    "\n",
    "study = optuna.create_study(directions=('maximize',))\n",
    "study.optimize(objective, n_trials=5)\n",
    "\n",
    "study.best_params"
   ]
  },
  {
   "cell_type": "code",
   "execution_count": 21,
   "id": "07661360-50e5-447a-a966-f3b74c93e65f",
   "metadata": {},
   "outputs": [
    {
     "name": "stderr",
     "output_type": "stream",
     "text": [
      "Epoch: 100%|██████████| 200/200 [27:24<00:00,  8.22s/it]\n"
     ]
    },
    {
     "data": {
      "text/plain": [
       "<lightfm.lightfm.LightFM at 0x7fe41bee92b0>"
      ]
     },
     "execution_count": 21,
     "metadata": {},
     "output_type": "execute_result"
    }
   ],
   "source": [
    "fin_lfm_model = LightFM(\n",
    "    random_state=42,\n",
    "        no_components=70,\n",
    "    loss='warp',\n",
    "    # k=TOP_K,\n",
    "    # **study.best_params\n",
    "    )\n",
    "fin_lfm_model.fit(full_user_item_data, epochs=200, verbose=True)\n"
   ]
  },
  {
   "cell_type": "code",
   "execution_count": 23,
   "id": "4eba084c-de8e-4393-b1f6-1f891e7d9e5f",
   "metadata": {},
   "outputs": [
    {
     "name": "stderr",
     "output_type": "stream",
     "text": [
      "100%|██████████| 50000/50000 [00:05<00:00, 8873.27it/s]\n"
     ]
    },
    {
     "data": {
      "text/html": [
       "<div><style>\n",
       ".dataframe > thead > tr > th,\n",
       ".dataframe > tbody > tr > td {\n",
       "  text-align: right;\n",
       "}\n",
       "</style>\n",
       "<small>shape: (50_000, 2)</small><table border=\"1\" class=\"dataframe\"><thead><tr><th>user_id</th><th>y_rec</th></tr><tr><td>str</td><td>list[str]</td></tr></thead><tbody><tr><td>&quot;ff5e5c2c-1537-…</td><td>[&quot;70e3a077-aaad-4465-b79e-6715737e2f04&quot;, &quot;7d66b5d1-3be2-46b7-920c-3e579aa8e9fd&quot;, … &quot;9f5d6343-cc6f-417c-91c5-226e8d261187&quot;]</td></tr><tr><td>&quot;fcfabec9-f501-…</td><td>[&quot;9ab3cad6-d492-4fa4-8683-c50756b51371&quot;, &quot;bd85ef81-6bc2-4d28-acfa-de354921b11f&quot;, … &quot;295bd604-37cd-4456-bb05-fe96966611e8&quot;]</td></tr><tr><td>&quot;60746760-f451-…</td><td>[&quot;400fbdf5-3f36-472b-a943-e52e9a2f6dec&quot;, &quot;0daff9a2-b902-4e64-a90c-8b5f0cb3d0b0&quot;, … &quot;f7cb238b-ba69-48ce-ae3f-333d3619d497&quot;]</td></tr><tr><td>&quot;1124f339-61f5-…</td><td>[&quot;f022290f-de4b-44be-b021-229d3eb5628a&quot;, &quot;c34aaa22-16bf-4c3e-8cba-f422ef193288&quot;, … &quot;5758feb5-5288-41b9-b586-70d343e391f3&quot;]</td></tr><tr><td>&quot;da08589a-9801-…</td><td>[&quot;5c346b00-1039-41b4-9639-7bdc29b8cf02&quot;, &quot;d2ea9497-3057-4ef8-909e-26a18cd6b6b8&quot;, … &quot;88a38c77-efca-4aa8-ac0c-6f344985f473&quot;]</td></tr><tr><td>&quot;c0ac9573-4b8e-…</td><td>[&quot;288e8dbe-182b-4b0a-a2da-03244077087e&quot;, &quot;77091edc-2cd2-4cef-84ff-7c9a5c87516e&quot;, … &quot;b2f8f6ff-9705-40d6-b954-e80aa6b2ddb4&quot;]</td></tr><tr><td>&quot;90394ff5-d454-…</td><td>[&quot;6dc62a0a-5226-494f-bedf-249bc30ecb4f&quot;, &quot;01943870-3d38-4d10-a16c-2efd44b7c249&quot;, … &quot;aecbacdc-bebc-47e0-bcd9-5e4a3708ff05&quot;]</td></tr><tr><td>&quot;58a2217b-7b2a-…</td><td>[&quot;08b167f8-231c-49a5-8d57-65a10f5f8d8d&quot;, &quot;9949924a-8d58-420d-af3c-bd444085f48a&quot;, … &quot;f0e56855-988a-4a99-8e06-1140d522097e&quot;]</td></tr><tr><td>&quot;1d55262a-bed9-…</td><td>[&quot;0d0013d0-9fa6-4984-8ef9-a59c3f6b6460&quot;, &quot;5cfeb0ed-c5ca-464b-9008-e95315dc6315&quot;, … &quot;758ad232-ed4f-41c3-82f2-55641caaad4e&quot;]</td></tr><tr><td>&quot;f4b7b9fa-8409-…</td><td>[&quot;92f2e07f-24b5-41bd-9d87-15c355cbba08&quot;, &quot;38779559-5271-4f7b-919c-71cd08bf33ef&quot;, … &quot;71c5c296-fe1f-46ea-a93b-3a7872e9976e&quot;]</td></tr><tr><td>&quot;24868ca7-e943-…</td><td>[&quot;4e9763f9-2f8d-4df1-ba66-960f4e71bef6&quot;, &quot;af1969e0-5472-4c3e-8b16-0ff9bcc5092e&quot;, … &quot;c1bf9e81-a451-4ee7-b6dd-1ab201168a08&quot;]</td></tr><tr><td>&quot;8bdf80ca-5292-…</td><td>[&quot;be1961ff-f0ec-4258-8a52-6206070f8335&quot;, &quot;383bf2fc-8563-4894-9814-b50c9e2ab9a5&quot;, … &quot;abab97b2-9da1-4787-a114-5d651021d28b&quot;]</td></tr><tr><td>&hellip;</td><td>&hellip;</td></tr><tr><td>&quot;bd293131-ff6f-…</td><td>[&quot;52d83783-7442-4b87-9507-faccd9bd0b2a&quot;, &quot;b0df1c39-068e-446d-8f0e-91652ee26843&quot;, … &quot;c89e1369-08e1-4192-a8ae-625d8bf78c0c&quot;]</td></tr><tr><td>&quot;381af1d1-0599-…</td><td>[&quot;b50cd91b-8b8b-41db-901c-368a77a8f7d2&quot;, &quot;9716186f-5518-4158-98fa-be86a800c8b7&quot;, … &quot;a3f5f356-a59e-4e95-8e2c-c40b7aad4041&quot;]</td></tr><tr><td>&quot;8d02c1b6-a141-…</td><td>[&quot;2dc6455b-fbdc-4a0c-8b3a-ed8bafa2433a&quot;, &quot;6322b727-e3e2-475c-83e8-ce909cbbd312&quot;, … &quot;db3e20a9-e995-4c1e-9d07-da1d15c37df7&quot;]</td></tr><tr><td>&quot;4f7b6253-1306-…</td><td>[&quot;58008f3b-eac3-4e16-86f3-fec97a985b23&quot;, &quot;df097b0b-7110-4beb-9bde-c44397933fa9&quot;, … &quot;0e841b12-bc51-4aaf-a3d5-ea3ae5084adc&quot;]</td></tr><tr><td>&quot;531a5d80-e533-…</td><td>[&quot;41e8ae28-495e-4ef0-92c8-3bd06661c017&quot;, &quot;fefc7478-2961-48a6-a033-9aac87a52661&quot;, … &quot;1e61dc44-df22-4af0-8625-48bc630633ca&quot;]</td></tr><tr><td>&quot;5ef3d06d-b10e-…</td><td>[&quot;2972c3bb-0784-4a43-bda1-bfd40d3564d1&quot;, &quot;465fd74c-3598-4e19-bd12-0c4975f47b48&quot;, … &quot;fc9cb664-137e-4e7a-8a2e-472052f98a7b&quot;]</td></tr><tr><td>&quot;54ae0bbc-2ef8-…</td><td>[&quot;43d7e05c-36be-4a37-b86e-4235caf8d58e&quot;, &quot;8209203e-8d5d-41e4-8622-165eb1fd0428&quot;, … &quot;0fd89328-b215-4303-9d7e-5b8eed89da61&quot;]</td></tr><tr><td>&quot;2f425583-206a-…</td><td>[&quot;eaa72629-4e8e-4201-974a-dd544a386b1e&quot;, &quot;f5091e35-e4a1-487b-8683-b7a9a486d093&quot;, … &quot;3e606900-a129-4763-9eb4-e2b923946f71&quot;]</td></tr><tr><td>&quot;52443b36-7862-…</td><td>[&quot;3bdc92cb-bf98-4c38-b29c-1b7f1a435004&quot;, &quot;9e1edc21-cd9b-4bb4-a7f4-bdb950a95278&quot;, … &quot;b229be31-d0a0-49e0-b752-0a5a3e1cfbe8&quot;]</td></tr><tr><td>&quot;cabdbc1d-140e-…</td><td>[&quot;9be6d16a-7a66-4822-a1fb-29d71b2640dc&quot;, &quot;749a11c7-d627-45a5-bc91-41c5a504df0f&quot;, … &quot;6b969917-5b76-4123-863b-e4663c216c40&quot;]</td></tr><tr><td>&quot;d6c3e841-7200-…</td><td>[&quot;79fa0307-4fc0-4785-a3fb-54ea8b300044&quot;, &quot;7f3df3d5-f25d-48d3-9b5a-b71c26705a47&quot;, … &quot;e26caaeb-f385-46a8-807b-0f74b8a039e7&quot;]</td></tr><tr><td>&quot;23c4d80b-ed08-…</td><td>[&quot;be4bdcf0-d3a9-4ba1-8dec-dd7cada38820&quot;, &quot;89085c12-8c43-4229-88f2-f014b58718d1&quot;, … &quot;63713dcd-7174-4132-8ca7-432929af050f&quot;]</td></tr></tbody></table></div>"
      ],
      "text/plain": [
       "shape: (50_000, 2)\n",
       "┌───────────────────────────────────┬───────────────────────────────────┐\n",
       "│ user_id                           ┆ y_rec                             │\n",
       "│ ---                               ┆ ---                               │\n",
       "│ str                               ┆ list[str]                         │\n",
       "╞═══════════════════════════════════╪═══════════════════════════════════╡\n",
       "│ ff5e5c2c-1537-4c27-9423-773a3dbe… ┆ [\"70e3a077-aaad-4465-b79e-671573… │\n",
       "│ fcfabec9-f501-492c-ba47-f0da2e0e… ┆ [\"9ab3cad6-d492-4fa4-8683-c50756… │\n",
       "│ 60746760-f451-432d-82dc-625fee8b… ┆ [\"400fbdf5-3f36-472b-a943-e52e9a… │\n",
       "│ 1124f339-61f5-46e6-b16d-270e8a42… ┆ [\"f022290f-de4b-44be-b021-229d3e… │\n",
       "│ …                                 ┆ …                                 │\n",
       "│ 52443b36-7862-43a2-ab23-e55ef6d0… ┆ [\"3bdc92cb-bf98-4c38-b29c-1b7f1a… │\n",
       "│ cabdbc1d-140e-4a05-8afb-b003526e… ┆ [\"9be6d16a-7a66-4822-a1fb-29d71b… │\n",
       "│ d6c3e841-7200-402b-8ee1-cd6ec89e… ┆ [\"79fa0307-4fc0-4785-a3fb-54ea8b… │\n",
       "│ 23c4d80b-ed08-46e9-97d0-bbef4c2b… ┆ [\"be4bdcf0-d3a9-4ba1-8dec-dd7cad… │\n",
       "└───────────────────────────────────┴───────────────────────────────────┘"
      ]
     },
     "execution_count": 23,
     "metadata": {},
     "output_type": "execute_result"
    }
   ],
   "source": [
    "submission = []\n",
    "_, model_preds = get_recommendations(\n",
    "        fin_lfm_model.user_embeddings,\n",
    "        fin_lfm_model.item_embeddings,\n",
    "        TOP_K + median_seq_len\n",
    "    )\n",
    "for user_id, user_history in tqdm(grouped_df_for_sub.rows()):\n",
    "    y_rec = [artist_mapping_inverse[artist_id] for artist_id in list(model_preds[user_id]) if artist_id not in user_history]\n",
    "    user_mapped = user_mapping_inverse[user_id]\n",
    "    submission.append((user_mapped, y_rec))\n",
    "    \n",
    "submission = pl.DataFrame(submission, schema=('user_id', 'y_rec'))\n",
    "submission.write_parquet('lfm_sample_submission.parquet')\n",
    "submission"
   ]
  },
  {
   "cell_type": "markdown",
   "id": "c1de40a6-9e62-4636-829d-e8a38a199cfe",
   "metadata": {},
   "source": [
    "##### Комбинирование"
   ]
  },
  {
   "cell_type": "code",
   "execution_count": 32,
   "id": "ae4f32ff-6e74-4956-a5f1-ab05e78c9e47",
   "metadata": {},
   "outputs": [],
   "source": [
    "w2v_preds = pl.read_parquet('w2v_sample_submission.parquet')\n",
    "als_preds = pl.read_parquet('als_sample_submission.parquet')\n",
    "lfm_preds = pl.read_parquet('lfm_sample_submission.parquet')"
   ]
  },
  {
   "cell_type": "code",
   "execution_count": 37,
   "id": "8e4abb6a-4863-4feb-ac07-412e3bd8d0ca",
   "metadata": {},
   "outputs": [
    {
     "name": "stdout",
     "output_type": "stream",
     "text": [
      "[0.14663103 0.68671504 0.16665393]\n"
     ]
    }
   ],
   "source": [
    "temperature = 40\n",
    "\n",
    "submissions = ['w2v', 'als', 'lfm']\n",
    "# веса получены по рузальтатам оценки в LMS\n",
    "submission_weights = np.array([0.0419,  0.0805,  0.0451])\n",
    "# в качестве итоговых весов используется softmax с температурой\n",
    "# чем выше температура, тем больше будет перекос в сторону сильного решения\n",
    "submission_weights = np.exp(submission_weights * temperature) / \\\n",
    "    np.exp(submission_weights * temperature).sum()\n",
    "print(submission_weights)\n",
    "\n",
    "submissions_df = [\n",
    "    (\n",
    "        pl.read_parquet(f'{submission}_sample_submission.parquet')\n",
    "        .with_columns([pl.col('y_rec').alias(f'{submission}_rec')])\n",
    "        .drop('y_rec')\n",
    "    )\n",
    "    for submission in submissions\n",
    "]"
   ]
  },
  {
   "cell_type": "code",
   "execution_count": 40,
   "id": "ecd67db2-cf79-4d74-a2fd-e1eca7623b89",
   "metadata": {},
   "outputs": [
    {
     "data": {
      "text/html": [
       "<div><style>\n",
       ".dataframe > thead > tr > th,\n",
       ".dataframe > tbody > tr > td {\n",
       "  text-align: right;\n",
       "}\n",
       "</style>\n",
       "<small>shape: (5, 4)</small><table border=\"1\" class=\"dataframe\"><thead><tr><th>user_id</th><th>w2v_rec</th><th>als_rec</th><th>lfm_rec</th></tr><tr><td>str</td><td>list[str]</td><td>list[str]</td><td>list[str]</td></tr></thead><tbody><tr><td>&quot;ff5e5c2c-1537-…</td><td>[&quot;9e809110-0e15-4d6d-97b8-7649a99d2bdd&quot;, &quot;9b8a5964-fede-421a-bd5e-cb7ec011b1ae&quot;, … &quot;7c5b4e7e-4929-4d34-a55b-e28e28a8ea3c&quot;]</td><td>[&quot;ecf1a315-88ef-474d-9976-113f4989bfb1&quot;, &quot;a20d6155-6010-4221-9a3d-ae629ab36033&quot;, … &quot;6f1b8a85-c127-40a6-84be-d659aefc99e8&quot;]</td><td>[&quot;70e3a077-aaad-4465-b79e-6715737e2f04&quot;, &quot;7d66b5d1-3be2-46b7-920c-3e579aa8e9fd&quot;, … &quot;9f5d6343-cc6f-417c-91c5-226e8d261187&quot;]</td></tr><tr><td>&quot;fcfabec9-f501-…</td><td>[&quot;148a5aca-2f10-4577-afe9-ca83e9e56bad&quot;, &quot;42cee962-0f50-4728-b887-01cb7a207075&quot;, … &quot;93bf07d3-5233-4270-a3c4-9815e9d786da&quot;]</td><td>[&quot;35a3b882-19ee-421c-8135-3bd7f7773b4c&quot;, &quot;4f0b2eeb-ae54-46d9-b5fa-6f4d315dbe6b&quot;, … &quot;f251e755-a8c7-424e-a5d6-a245d027c832&quot;]</td><td>[&quot;9ab3cad6-d492-4fa4-8683-c50756b51371&quot;, &quot;bd85ef81-6bc2-4d28-acfa-de354921b11f&quot;, … &quot;295bd604-37cd-4456-bb05-fe96966611e8&quot;]</td></tr><tr><td>&quot;60746760-f451-…</td><td>[&quot;400fbdf5-3f36-472b-a943-e52e9a2f6dec&quot;, &quot;abc5ae9c-edd7-4b10-9448-b28b5072ed87&quot;, … &quot;e76e1635-3220-4549-8d03-88fba0bd1ba0&quot;]</td><td>[&quot;400fbdf5-3f36-472b-a943-e52e9a2f6dec&quot;, &quot;858d2c2a-b2ad-44fe-a0ed-1f228e81fe10&quot;, … &quot;58d46cd3-89cb-4813-8e96-210e00ea44a1&quot;]</td><td>[&quot;400fbdf5-3f36-472b-a943-e52e9a2f6dec&quot;, &quot;0daff9a2-b902-4e64-a90c-8b5f0cb3d0b0&quot;, … &quot;f7cb238b-ba69-48ce-ae3f-333d3619d497&quot;]</td></tr><tr><td>&quot;1124f339-61f5-…</td><td>[&quot;da33b22a-7c7d-43b3-b23c-ea33e11acae5&quot;, &quot;f14d0a11-c600-44b5-8417-dc13d58f3d7d&quot;, … &quot;771bbc4a-aea7-4dff-8e07-956103bc7a7d&quot;]</td><td>[&quot;d9c0f58a-d2d4-4f51-945e-eeb93155fb32&quot;, &quot;42cee962-0f50-4728-b887-01cb7a207075&quot;, … &quot;04d1389c-ca3d-405c-9d49-621336239a0c&quot;]</td><td>[&quot;f022290f-de4b-44be-b021-229d3eb5628a&quot;, &quot;c34aaa22-16bf-4c3e-8cba-f422ef193288&quot;, … &quot;5758feb5-5288-41b9-b586-70d343e391f3&quot;]</td></tr><tr><td>&quot;da08589a-9801-…</td><td>[&quot;2027c6aa-3608-4db5-9c0c-79f74090c245&quot;, &quot;a20d6155-6010-4221-9a3d-ae629ab36033&quot;, … &quot;17aebad2-c1fe-47f9-a452-ea87ada80eff&quot;]</td><td>[&quot;a20d6155-6010-4221-9a3d-ae629ab36033&quot;, &quot;0e8c98f2-e72c-453c-b7f2-d8376a80cf2f&quot;, … &quot;734d6169-9de7-41cc-82c2-1bf5698caad2&quot;]</td><td>[&quot;5c346b00-1039-41b4-9639-7bdc29b8cf02&quot;, &quot;d2ea9497-3057-4ef8-909e-26a18cd6b6b8&quot;, … &quot;88a38c77-efca-4aa8-ac0c-6f344985f473&quot;]</td></tr></tbody></table></div>"
      ],
      "text/plain": [
       "shape: (5, 4)\n",
       "┌────────────────────────┬────────────────────────┬────────────────────────┬───────────────────────┐\n",
       "│ user_id                ┆ w2v_rec                ┆ als_rec                ┆ lfm_rec               │\n",
       "│ ---                    ┆ ---                    ┆ ---                    ┆ ---                   │\n",
       "│ str                    ┆ list[str]              ┆ list[str]              ┆ list[str]             │\n",
       "╞════════════════════════╪════════════════════════╪════════════════════════╪═══════════════════════╡\n",
       "│ ff5e5c2c-1537-4c27-942 ┆ [\"9e809110-0e15-4d6d-9 ┆ [\"ecf1a315-88ef-474d-9 ┆ [\"70e3a077-aaad-4465- │\n",
       "│ 3-773a3dbe…            ┆ 7b8-7649a9…            ┆ 976-113f49…            ┆ b79e-671573…          │\n",
       "│ fcfabec9-f501-492c-ba4 ┆ [\"148a5aca-2f10-4577-a ┆ [\"35a3b882-19ee-421c-8 ┆ [\"9ab3cad6-d492-4fa4- │\n",
       "│ 7-f0da2e0e…            ┆ fe9-ca83e9…            ┆ 135-3bd7f7…            ┆ 8683-c50756…          │\n",
       "│ 60746760-f451-432d-82d ┆ [\"400fbdf5-3f36-472b-a ┆ [\"400fbdf5-3f36-472b-a ┆ [\"400fbdf5-3f36-472b- │\n",
       "│ c-625fee8b…            ┆ 943-e52e9a…            ┆ 943-e52e9a…            ┆ a943-e52e9a…          │\n",
       "│ 1124f339-61f5-46e6-b16 ┆ [\"da33b22a-7c7d-43b3-b ┆ [\"d9c0f58a-d2d4-4f51-9 ┆ [\"f022290f-de4b-44be- │\n",
       "│ d-270e8a42…            ┆ 23c-ea33e1…            ┆ 45e-eeb931…            ┆ b021-229d3e…          │\n",
       "│ da08589a-9801-476b-b5a ┆ [\"2027c6aa-3608-4db5-9 ┆ [\"a20d6155-6010-4221-9 ┆ [\"5c346b00-1039-41b4- │\n",
       "│ d-23e5b489…            ┆ c0c-79f740…            ┆ a3d-ae629a…            ┆ 9639-7bdc29…          │\n",
       "└────────────────────────┴────────────────────────┴────────────────────────┴───────────────────────┘"
      ]
     },
     "execution_count": 40,
     "metadata": {},
     "output_type": "execute_result"
    }
   ],
   "source": [
    "joined_submission_df = submissions_df[0]\n",
    "for df in submissions_df[1:]:\n",
    "    joined_submission_df = joined_submission_df.join(df, 'user_id')\n",
    "joined_submission_df.head()"
   ]
  },
  {
   "cell_type": "code",
   "execution_count": 45,
   "id": "f3fb08bb-cd29-4922-99b7-3dd32ce180d3",
   "metadata": {},
   "outputs": [
    {
     "name": "stderr",
     "output_type": "stream",
     "text": [
      "100%|██████████| 50000/50000 [00:00<00:00, 1320117.59it/s]\n"
     ]
    }
   ],
   "source": [
    "for user_id, *submission_recs in tqdm(joined_submission_df.rows()):\n",
    "    submission_recs"
   ]
  },
  {
   "cell_type": "code",
   "execution_count": 49,
   "id": "b760178b-368d-42c1-a168-476829bb8e4a",
   "metadata": {},
   "outputs": [],
   "source": [
    "from collections import defaultdict"
   ]
  },
  {
   "cell_type": "code",
   "execution_count": 50,
   "id": "c5a83313-8729-4c6b-a3a6-5d62618e74bc",
   "metadata": {},
   "outputs": [
    {
     "name": "stderr",
     "output_type": "stream",
     "text": [
      "100%|██████████| 50000/50000 [00:23<00:00, 2133.38it/s]\n"
     ]
    },
    {
     "data": {
      "text/html": [
       "<div><style>\n",
       ".dataframe > thead > tr > th,\n",
       ".dataframe > tbody > tr > td {\n",
       "  text-align: right;\n",
       "}\n",
       "</style>\n",
       "<small>shape: (50_000, 2)</small><table border=\"1\" class=\"dataframe\"><thead><tr><th>user_id</th><th>y_rec</th></tr><tr><td>str</td><td>list[str]</td></tr></thead><tbody><tr><td>&quot;ff5e5c2c-1537-…</td><td>[&quot;ecf1a315-88ef-474d-9976-113f4989bfb1&quot;, &quot;a20d6155-6010-4221-9a3d-ae629ab36033&quot;, … &quot;1bf3b917-ebd7-407e-a36b-61f2a449b9d9&quot;]</td></tr><tr><td>&quot;fcfabec9-f501-…</td><td>[&quot;35a3b882-19ee-421c-8135-3bd7f7773b4c&quot;, &quot;4f0b2eeb-ae54-46d9-b5fa-6f4d315dbe6b&quot;, … &quot;0e5fe2f7-a00a-42e7-96e3-2e036eab84b8&quot;]</td></tr><tr><td>&quot;60746760-f451-…</td><td>[&quot;400fbdf5-3f36-472b-a943-e52e9a2f6dec&quot;, &quot;858d2c2a-b2ad-44fe-a0ed-1f228e81fe10&quot;, … &quot;4abe7731-7e74-4d86-80c8-bb43d832af3a&quot;]</td></tr><tr><td>&quot;1124f339-61f5-…</td><td>[&quot;d9c0f58a-d2d4-4f51-945e-eeb93155fb32&quot;, &quot;42cee962-0f50-4728-b887-01cb7a207075&quot;, … &quot;25c6813c-1a83-4479-9587-df9c4458ee49&quot;]</td></tr><tr><td>&quot;da08589a-9801-…</td><td>[&quot;a20d6155-6010-4221-9a3d-ae629ab36033&quot;, &quot;0e8c98f2-e72c-453c-b7f2-d8376a80cf2f&quot;, … &quot;e3d909e2-d1f6-4197-9a46-946ca9686de3&quot;]</td></tr><tr><td>&quot;c0ac9573-4b8e-…</td><td>[&quot;24a968fc-b05f-4079-9a70-471f30facca3&quot;, &quot;0f3684df-3b34-4324-b228-9eb2e53619b8&quot;, … &quot;ab189245-1685-4f57-9c11-7ebcad118163&quot;]</td></tr><tr><td>&quot;90394ff5-d454-…</td><td>[&quot;8868eefb-4f5b-4d3a-8e71-f3e0d2a71179&quot;, &quot;8ce3d372-83e6-4001-bb6e-840dbdcd891b&quot;, … &quot;7f207da8-3297-4f6b-938f-a7e3c87e4c10&quot;]</td></tr><tr><td>&quot;58a2217b-7b2a-…</td><td>[&quot;8412f042-a50b-4dbb-98e5-20421c068777&quot;, &quot;545b5b92-e96f-40d9-9c19-6f21c91861ae&quot;, … &quot;f00a572a-1dfa-404f-8614-f12659303b32&quot;]</td></tr><tr><td>&quot;1d55262a-bed9-…</td><td>[&quot;c4f88140-a914-4c43-9d51-ae2cc7488eab&quot;, &quot;5cfeb0ed-c5ca-464b-9008-e95315dc6315&quot;, … &quot;bd3d98d4-2b4b-4a7f-9daf-ce68f7a9a469&quot;]</td></tr><tr><td>&quot;f4b7b9fa-8409-…</td><td>[&quot;1d763d72-7915-46df-9924-5a8d8b3c5da6&quot;, &quot;3bcf5b33-5912-4666-be5e-cbae8d1d363a&quot;, … &quot;2e8fa39d-3770-4ea7-89f6-3430f8d61bab&quot;]</td></tr><tr><td>&quot;24868ca7-e943-…</td><td>[&quot;fdf581d0-fd24-465e-929f-9092418ed059&quot;, &quot;e031b3f5-ca77-4fbb-955a-760ebad3b8c1&quot;, … &quot;67195fbe-c97a-4f9f-91bc-b1e8cca05364&quot;]</td></tr><tr><td>&quot;8bdf80ca-5292-…</td><td>[&quot;2e8becfc-6b98-49bb-8e3a-91b52b46b868&quot;, &quot;3c2346ec-77d9-413f-9c0e-b389b15d93c5&quot;, … &quot;960fee5e-f623-4f6b-954c-c62a4518fd7d&quot;]</td></tr><tr><td>&hellip;</td><td>&hellip;</td></tr><tr><td>&quot;bd293131-ff6f-…</td><td>[&quot;a05ca366-58c4-4b7e-a30c-6a7ea1cb4c43&quot;, &quot;52d83783-7442-4b87-9507-faccd9bd0b2a&quot;, … &quot;c999f3d1-104c-4912-9cb4-620f20fa4532&quot;]</td></tr><tr><td>&quot;381af1d1-0599-…</td><td>[&quot;40039115-5037-4c5b-a80b-a7190571f4ab&quot;, &quot;224f17fd-74e2-4d0b-93a7-63bd7af9c01d&quot;, … &quot;999636eb-1fa8-4951-9588-126f23bc7ca8&quot;]</td></tr><tr><td>&quot;8d02c1b6-a141-…</td><td>[&quot;cca77b96-b014-4419-810e-b0954d1d8a4c&quot;, &quot;c8822a9f-f6f2-4025-ae84-8b7cd45c916f&quot;, … &quot;0f5cbd2c-0c2c-475c-9186-ed5853467089&quot;]</td></tr><tr><td>&quot;4f7b6253-1306-…</td><td>[&quot;310cdc9f-5ea4-4244-b4e8-f2943109c44f&quot;, &quot;d1947eb3-8fba-4084-a173-a514820ee4cc&quot;, … &quot;91787512-67d0-42f2-bc84-840be4db2b3e&quot;]</td></tr><tr><td>&quot;531a5d80-e533-…</td><td>[&quot;2027c6aa-3608-4db5-9c0c-79f74090c245&quot;, &quot;0ebd9e28-51f8-4c1d-a3a6-42fbaf08fc5a&quot;, … &quot;fde8045e-65aa-4088-9737-08070fa47111&quot;]</td></tr><tr><td>&quot;5ef3d06d-b10e-…</td><td>[&quot;b6908c95-ed36-4bc1-bd0a-0ad196a2e387&quot;, &quot;ee0f3f04-8fa0-46ad-b821-2a5ebf5ca6e9&quot;, … &quot;50bf3bfe-4b58-4a6e-a193-ccc406a6f6d7&quot;]</td></tr><tr><td>&quot;54ae0bbc-2ef8-…</td><td>[&quot;6c44d078-7254-4232-a8e9-2cffd9abeaf3&quot;, &quot;43d7e05c-36be-4a37-b86e-4235caf8d58e&quot;, … &quot;8b3f8a08-0007-4e28-919f-7ac591559773&quot;]</td></tr><tr><td>&quot;2f425583-206a-…</td><td>[&quot;5fd3c94c-5005-4261-a962-c3c39c28cdd4&quot;, &quot;52e591b1-653c-41ad-ba51-9154c0518586&quot;, … &quot;8586fa4d-5e83-4c53-be27-0efa58ae6499&quot;]</td></tr><tr><td>&quot;52443b36-7862-…</td><td>[&quot;5b24a1d0-20c9-4e45-a877-f55af5b1e551&quot;, &quot;40935cd9-6a41-43a5-ae7f-e52ea8fef183&quot;, … &quot;6bb6a525-eebe-4632-93e6-4e425180f4eb&quot;]</td></tr><tr><td>&quot;cabdbc1d-140e-…</td><td>[&quot;35a3b882-19ee-421c-8135-3bd7f7773b4c&quot;, &quot;224f17fd-74e2-4d0b-93a7-63bd7af9c01d&quot;, … &quot;ecf1a315-88ef-474d-9976-113f4989bfb1&quot;]</td></tr><tr><td>&quot;d6c3e841-7200-…</td><td>[&quot;1b1714b0-338f-4026-b92b-ee00db9a2483&quot;, &quot;8622c7db-b0db-4412-8a80-174308f7bcbd&quot;, … &quot;d15d0ca0-383c-4651-b043-21536f1baebb&quot;]</td></tr><tr><td>&quot;23c4d80b-ed08-…</td><td>[&quot;a26c9335-2459-4c89-a00c-fdecbeb2c8c4&quot;, &quot;42cee962-0f50-4728-b887-01cb7a207075&quot;, … &quot;600562be-ff0f-4864-be38-3d3889fad715&quot;]</td></tr></tbody></table></div>"
      ],
      "text/plain": [
       "shape: (50_000, 2)\n",
       "┌───────────────────────────────────┬───────────────────────────────────┐\n",
       "│ user_id                           ┆ y_rec                             │\n",
       "│ ---                               ┆ ---                               │\n",
       "│ str                               ┆ list[str]                         │\n",
       "╞═══════════════════════════════════╪═══════════════════════════════════╡\n",
       "│ ff5e5c2c-1537-4c27-9423-773a3dbe… ┆ [\"ecf1a315-88ef-474d-9976-113f49… │\n",
       "│ fcfabec9-f501-492c-ba47-f0da2e0e… ┆ [\"35a3b882-19ee-421c-8135-3bd7f7… │\n",
       "│ 60746760-f451-432d-82dc-625fee8b… ┆ [\"400fbdf5-3f36-472b-a943-e52e9a… │\n",
       "│ 1124f339-61f5-46e6-b16d-270e8a42… ┆ [\"d9c0f58a-d2d4-4f51-945e-eeb931… │\n",
       "│ …                                 ┆ …                                 │\n",
       "│ 52443b36-7862-43a2-ab23-e55ef6d0… ┆ [\"5b24a1d0-20c9-4e45-a877-f55af5… │\n",
       "│ cabdbc1d-140e-4a05-8afb-b003526e… ┆ [\"35a3b882-19ee-421c-8135-3bd7f7… │\n",
       "│ d6c3e841-7200-402b-8ee1-cd6ec89e… ┆ [\"1b1714b0-338f-4026-b92b-ee00db… │\n",
       "│ 23c4d80b-ed08-46e9-97d0-bbef4c2b… ┆ [\"a26c9335-2459-4c89-a00c-fdecbe… │\n",
       "└───────────────────────────────────┴───────────────────────────────────┘"
      ]
     },
     "execution_count": 50,
     "metadata": {},
     "output_type": "execute_result"
    }
   ],
   "source": [
    "submission = []\n",
    "for user_id, *submission_recs in tqdm(joined_submission_df.rows()):\n",
    "    item_id_weight = defaultdict(float)\n",
    "\n",
    "    for i, y_rec in enumerate(submission_recs):\n",
    "        for pos, item_id in enumerate(y_rec):\n",
    "            # в качестве веса используем вес позиции в метрике ndcg и метрику качества метода\n",
    "            item_id_weight[item_id] += submission_weights[i] * 1 / np.log2(pos + 2)\n",
    "\n",
    "    y_rec = [\n",
    "        item_id\n",
    "        for item_id, _ in sorted(item_id_weight.items(), key=lambda x: -x[1])\n",
    "    ][:TOP_K]\n",
    "    \n",
    "    submission.append((user_id, y_rec))\n",
    "    \n",
    "submission = pl.DataFrame(submission, schema=('user_id', 'y_rec'))\n",
    "submission.write_parquet('weighted_submission.parquet')\n",
    "submission"
   ]
  },
  {
   "cell_type": "code",
   "execution_count": null,
   "id": "0007a367-6939-4cb9-a2ca-599391418d87",
   "metadata": {},
   "outputs": [],
   "source": []
  }
 ],
 "metadata": {
  "kernelspec": {
   "display_name": "Python 3 (ipykernel)",
   "language": "python",
   "name": "python3"
  },
  "language_info": {
   "codemirror_mode": {
    "name": "ipython",
    "version": 3
   },
   "file_extension": ".py",
   "mimetype": "text/x-python",
   "name": "python",
   "nbconvert_exporter": "python",
   "pygments_lexer": "ipython3",
   "version": "3.8.10"
  }
 },
 "nbformat": 4,
 "nbformat_minor": 5
}
