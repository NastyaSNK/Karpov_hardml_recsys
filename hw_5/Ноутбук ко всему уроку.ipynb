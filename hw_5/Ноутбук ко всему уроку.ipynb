{
 "cells": [
  {
   "cell_type": "code",
   "execution_count": null,
   "id": "41a960cc",
   "metadata": {},
   "outputs": [],
   "source": [
    "# расскоментируйте код ниже, чтобы установить все зависимости\n",
    "!pip install -q \\\n",
    "    pyarrow==12.0.1 \\\n",
    "    polars==0.18.6 \\\n",
    "    pandas==2.0.3 \\\n",
    "    optuna==3.3.0 \\\n",
    "    tqdm==4.65.0 \\\n",
    "    numpy==1.24.3 \\\n",
    "    redis==4.6.0 \\\n",
    "    gensim==4.3.2 --user"
   ]
  },
  {
   "cell_type": "code",
   "execution_count": 3,
   "id": "a1764fbb",
   "metadata": {},
   "outputs": [],
   "source": [
    "# раскоментируйте код ниже, чтобы скачать данные\n",
    "# !wget -q https://files.grouplens.org/datasets/movielens/ml-100k.zip\n",
    "# !unzip -q ml-100k.zip"
   ]
  },
  {
   "cell_type": "code",
   "execution_count": 1,
   "id": "08656b16",
   "metadata": {},
   "outputs": [
    {
     "name": "stderr",
     "output_type": "stream",
     "text": [
      "/opt/conda/lib/python3.8/site-packages/tqdm/auto.py:21: TqdmWarning: IProgress not found. Please update jupyter and ipywidgets. See https://ipywidgets.readthedocs.io/en/stable/user_install.html\n",
      "  from .autonotebook import tqdm as notebook_tqdm\n"
     ]
    }
   ],
   "source": [
    "import uuid\n",
    "import redis\n",
    "import optuna\n",
    "import random\n",
    "\n",
    "import polars as pl\n",
    "import pandas as pd\n",
    "import numpy as np\n",
    "from tqdm import tqdm\n",
    "from gensim.models import Word2Vec\n",
    "\n",
    "from typing import List, Any"
   ]
  },
  {
   "cell_type": "code",
   "execution_count": 2,
   "id": "b51a51a3",
   "metadata": {
    "scrolled": true
   },
   "outputs": [
    {
     "data": {
      "text/html": [
       "<div><style>\n",
       ".dataframe > thead > tr > th,\n",
       ".dataframe > tbody > tr > td {\n",
       "  text-align: right;\n",
       "}\n",
       "</style>\n",
       "<small>shape: (55_375, 4)</small><table border=\"1\" class=\"dataframe\"><thead><tr><th>user_id</th><th>item_id</th><th>rating</th><th>timestamp</th></tr><tr><td>i64</td><td>i64</td><td>i64</td><td>i64</td></tr></thead><tbody><tr><td>298</td><td>474</td><td>4</td><td>884182806</td></tr><tr><td>253</td><td>465</td><td>5</td><td>891628467</td></tr><tr><td>286</td><td>1014</td><td>5</td><td>879781125</td></tr><tr><td>200</td><td>222</td><td>5</td><td>876042340</td></tr><tr><td>122</td><td>387</td><td>5</td><td>879270459</td></tr><tr><td>291</td><td>1042</td><td>4</td><td>874834944</td></tr><tr><td>119</td><td>392</td><td>4</td><td>886176814</td></tr><tr><td>167</td><td>486</td><td>4</td><td>892738452</td></tr><tr><td>299</td><td>144</td><td>4</td><td>877881320</td></tr><tr><td>308</td><td>1</td><td>4</td><td>887736532</td></tr><tr><td>38</td><td>95</td><td>5</td><td>892430094</td></tr><tr><td>63</td><td>277</td><td>4</td><td>875747401</td></tr><tr><td>&hellip;</td><td>&hellip;</td><td>&hellip;</td><td>&hellip;</td></tr><tr><td>429</td><td>199</td><td>5</td><td>882386006</td></tr><tr><td>897</td><td>369</td><td>4</td><td>879993713</td></tr><tr><td>936</td><td>287</td><td>4</td><td>886832419</td></tr><tr><td>821</td><td>151</td><td>4</td><td>874792889</td></tr><tr><td>113</td><td>975</td><td>5</td><td>875936424</td></tr><tr><td>864</td><td>685</td><td>4</td><td>888891900</td></tr><tr><td>617</td><td>582</td><td>4</td><td>883789294</td></tr><tr><td>421</td><td>498</td><td>4</td><td>892241344</td></tr><tr><td>495</td><td>1091</td><td>4</td><td>888637503</td></tr><tr><td>806</td><td>421</td><td>4</td><td>882388897</td></tr><tr><td>676</td><td>538</td><td>4</td><td>892685437</td></tr><tr><td>716</td><td>204</td><td>5</td><td>879795543</td></tr></tbody></table></div>"
      ],
      "text/plain": [
       "shape: (55_375, 4)\n",
       "┌─────────┬─────────┬────────┬───────────┐\n",
       "│ user_id ┆ item_id ┆ rating ┆ timestamp │\n",
       "│ ---     ┆ ---     ┆ ---    ┆ ---       │\n",
       "│ i64     ┆ i64     ┆ i64    ┆ i64       │\n",
       "╞═════════╪═════════╪════════╪═══════════╡\n",
       "│ 298     ┆ 474     ┆ 4      ┆ 884182806 │\n",
       "│ 253     ┆ 465     ┆ 5      ┆ 891628467 │\n",
       "│ 286     ┆ 1014    ┆ 5      ┆ 879781125 │\n",
       "│ 200     ┆ 222     ┆ 5      ┆ 876042340 │\n",
       "│ …       ┆ …       ┆ …      ┆ …         │\n",
       "│ 495     ┆ 1091    ┆ 4      ┆ 888637503 │\n",
       "│ 806     ┆ 421     ┆ 4      ┆ 882388897 │\n",
       "│ 676     ┆ 538     ┆ 4      ┆ 892685437 │\n",
       "│ 716     ┆ 204     ┆ 5      ┆ 879795543 │\n",
       "└─────────┴─────────┴────────┴───────────┘"
      ]
     },
     "execution_count": 2,
     "metadata": {},
     "output_type": "execute_result"
    }
   ],
   "source": [
    "ratings = pd.read_csv(\n",
    "    'ml-100k/u.data', sep='\\t',\n",
    "    names=['user_id', 'item_id', 'rating', 'timestamp']\n",
    ")\n",
    "ratings = pl.from_pandas(ratings).filter(pl.col('rating') >= 4)\n",
    "ratings"
   ]
  },
  {
   "cell_type": "code",
   "execution_count": 3,
   "id": "c35a23ae",
   "metadata": {
    "scrolled": true
   },
   "outputs": [
    {
     "data": {
      "text/html": [
       "<div><style>\n",
       ".dataframe > thead > tr > th,\n",
       ".dataframe > tbody > tr > td {\n",
       "  text-align: right;\n",
       "}\n",
       "</style>\n",
       "<small>shape: (942, 5)</small><table border=\"1\" class=\"dataframe\"><thead><tr><th>user_id</th><th>train_ids</th><th>train_ratings</th><th>test_ids</th><th>test_ratings</th></tr><tr><td>i64</td><td>list[i64]</td><td>list[i64]</td><td>list[i64]</td><td>list[i64]</td></tr></thead><tbody><tr><td>576</td><td>[280, 825, … 204]</td><td>[5, 4, … 4]</td><td>[1, 7, 100]</td><td>[4, 5, 4]</td></tr><tr><td>410</td><td>[286, 313, … 873]</td><td>[4, 5, … 4]</td><td>[690, 905, 272]</td><td>[4, 4, 4]</td></tr><tr><td>78</td><td>[255, 412, … 237]</td><td>[4, 4, … 5]</td><td>[880, 93, 411]</td><td>[5, 4, 4]</td></tr><tr><td>942</td><td>[117, 200, … 197]</td><td>[4, 4, … 5]</td><td>[945, 498, 259]</td><td>[5, 5, 4]</td></tr><tr><td>148</td><td>[408, 1, … 189]</td><td>[5, 4, … 4]</td><td>[173, 164, 194]</td><td>[5, 4, 5]</td></tr><tr><td>36</td><td>[339, 748, … 288]</td><td>[5, 4, … 4]</td><td>[1026, 878, 261]</td><td>[5, 5, 5]</td></tr><tr><td>244</td><td>[815, 265, … 56]</td><td>[4, 4, … 5]</td><td>[88, 735, 67]</td><td>[4, 5, 4]</td></tr><tr><td>854</td><td>[979, 475, … 705]</td><td>[4, 4, … 4]</td><td>[171, 508, 528]</td><td>[4, 4, 4]</td></tr><tr><td>138</td><td>[26, 484, … 474]</td><td>[5, 4, … 5]</td><td>[147, 742, 497]</td><td>[4, 4, 5]</td></tr><tr><td>222</td><td>[366, 750, … 685]</td><td>[4, 5, … 4]</td><td>[230, 223, 64]</td><td>[4, 4, 5]</td></tr><tr><td>188</td><td>[692, 143, … 50]</td><td>[5, 5, … 4]</td><td>[300, 176, 484]</td><td>[4, 4, 5]</td></tr><tr><td>392</td><td>[178, 333, … 269]</td><td>[5, 4, … 5]</td><td>[657, 174, 528]</td><td>[5, 5, 5]</td></tr><tr><td>&hellip;</td><td>&hellip;</td><td>&hellip;</td><td>&hellip;</td><td>&hellip;</td></tr><tr><td>291</td><td>[1042, 144, … 582]</td><td>[4, 5, … 4]</td><td>[562, 508, 573]</td><td>[4, 5, 4]</td></tr><tr><td>469</td><td>[513, 855, … 607]</td><td>[5, 4, … 5]</td><td>[238, 510, 487]</td><td>[4, 4, 5]</td></tr><tr><td>517</td><td>[300, 283, … 748]</td><td>[5, 4, … 4]</td><td>[1177, 181, 117]</td><td>[5, 4, 4]</td></tr><tr><td>303</td><td>[919, 69, … 116]</td><td>[4, 5, … 5]</td><td>[427, 191, 88]</td><td>[4, 5, 4]</td></tr><tr><td>721</td><td>[879, 403, … 1065]</td><td>[4, 4, … 5]</td><td>[153, 229, 161]</td><td>[4, 5, 5]</td></tr><tr><td>805</td><td>[715, 17, … 173]</td><td>[4, 4, … 4]</td><td>[153, 185, 128]</td><td>[4, 5, 5]</td></tr><tr><td>339</td><td>[132, 582, … 241]</td><td>[5, 4, … 4]</td><td>[480, 176, 212]</td><td>[5, 4, 4]</td></tr><tr><td>879</td><td>[237, 282, … 25]</td><td>[4, 4, … 4]</td><td>[121, 276, 111]</td><td>[4, 4, 4]</td></tr><tr><td>591</td><td>[1099, 191, … 4]</td><td>[5, 5, … 4]</td><td>[194, 856, 523]</td><td>[4, 4, 4]</td></tr><tr><td>643</td><td>[419, 671, … 79]</td><td>[4, 4, … 4]</td><td>[47, 655, 39]</td><td>[4, 4, 4]</td></tr><tr><td>917</td><td>[25, 471, … 285]</td><td>[4, 4, … 4]</td><td>[289, 9, 628]</td><td>[4, 5, 5]</td></tr><tr><td>9</td><td>[298, 691, … 201]</td><td>[5, 5, … 5]</td><td>[50, 7, 385]</td><td>[5, 4, 5]</td></tr></tbody></table></div>"
      ],
      "text/plain": [
       "shape: (942, 5)\n",
       "┌─────────┬───────────────────┬───────────────┬─────────────────┬──────────────┐\n",
       "│ user_id ┆ train_ids         ┆ train_ratings ┆ test_ids        ┆ test_ratings │\n",
       "│ ---     ┆ ---               ┆ ---           ┆ ---             ┆ ---          │\n",
       "│ i64     ┆ list[i64]         ┆ list[i64]     ┆ list[i64]       ┆ list[i64]    │\n",
       "╞═════════╪═══════════════════╪═══════════════╪═════════════════╪══════════════╡\n",
       "│ 576     ┆ [280, 825, … 204] ┆ [5, 4, … 4]   ┆ [1, 7, 100]     ┆ [4, 5, 4]    │\n",
       "│ 410     ┆ [286, 313, … 873] ┆ [4, 5, … 4]   ┆ [690, 905, 272] ┆ [4, 4, 4]    │\n",
       "│ 78      ┆ [255, 412, … 237] ┆ [4, 4, … 5]   ┆ [880, 93, 411]  ┆ [5, 4, 4]    │\n",
       "│ 942     ┆ [117, 200, … 197] ┆ [4, 4, … 5]   ┆ [945, 498, 259] ┆ [5, 5, 4]    │\n",
       "│ …       ┆ …                 ┆ …             ┆ …               ┆ …            │\n",
       "│ 591     ┆ [1099, 191, … 4]  ┆ [5, 5, … 4]   ┆ [194, 856, 523] ┆ [4, 4, 4]    │\n",
       "│ 643     ┆ [419, 671, … 79]  ┆ [4, 4, … 4]   ┆ [47, 655, 39]   ┆ [4, 4, 4]    │\n",
       "│ 917     ┆ [25, 471, … 285]  ┆ [4, 4, … 4]   ┆ [289, 9, 628]   ┆ [4, 5, 5]    │\n",
       "│ 9       ┆ [298, 691, … 201] ┆ [5, 5, … 5]   ┆ [50, 7, 385]    ┆ [5, 4, 5]    │\n",
       "└─────────┴───────────────────┴───────────────┴─────────────────┴──────────────┘"
      ]
     },
     "execution_count": 3,
     "metadata": {},
     "output_type": "execute_result"
    }
   ],
   "source": [
    "grouped_df = (\n",
    "    ratings\n",
    "    .groupby('user_id')\n",
    "    .agg([\n",
    "        pl.col('item_id').apply(lambda x: x[:-3]).alias('train_ids'),\n",
    "        pl.col('rating').apply(lambda x: x[:-3]).alias('train_ratings'),\n",
    "        pl.col('item_id').apply(lambda x: x[-3:]).alias('test_ids'),\n",
    "        pl.col('rating').apply(lambda x: x[-3:]).alias('test_ratings'),\n",
    "    ])\n",
    ")\n",
    "grouped_df"
   ]
  },
  {
   "cell_type": "code",
   "execution_count": 7,
   "id": "8c27f1de-bd22-4b77-b0e8-2a195ddcdf53",
   "metadata": {},
   "outputs": [
    {
     "data": {
      "text/plain": [
       "(942, 5)"
      ]
     },
     "execution_count": 7,
     "metadata": {},
     "output_type": "execute_result"
    }
   ],
   "source": [
    "grouped_df.shape"
   ]
  },
  {
   "cell_type": "code",
   "execution_count": 4,
   "id": "f58e8ab6",
   "metadata": {},
   "outputs": [],
   "source": [
    "TOP_K = 10\n",
    "\n",
    "\n",
    "def user_intersection(y_rel: List[Any], y_rec: List[Any], k: int = 10) -> int:\n",
    "    \"\"\"\n",
    "    :param y_rel: relevant items\n",
    "    :param y_rec: recommended items\n",
    "    :param k: number of top recommended items\n",
    "    :return: number of items in intersection of y_rel and y_rec (truncated to top-K)\n",
    "    \"\"\"\n",
    "    return len(set(y_rec[:k]).intersection(set(y_rel)))\n",
    "\n",
    "\n",
    "def user_hitrate(y_rel: List[Any], y_rec: List[Any], k: int = 10) -> int:\n",
    "    \"\"\"\n",
    "    :param y_rel: relevant items\n",
    "    :param y_rec: recommended items\n",
    "    :param k: number of top recommended items\n",
    "    :return: 1 if top-k recommendations contains at lease one relevant item\n",
    "    \"\"\"\n",
    "    return int(user_intersection(y_rel, y_rec, k) > 0)\n",
    "\n",
    "\n",
    "def user_precision(y_rel: List[Any], y_rec: List[Any], k: int = 10) -> float:\n",
    "    \"\"\"\n",
    "    :param y_rel: relevant items\n",
    "    :param y_rec: recommended items\n",
    "    :param k: number of top recommended items\n",
    "    :return: percentage of relevant items through recommendations\n",
    "    \"\"\"\n",
    "    return user_intersection(y_rel, y_rec, k) / k\n",
    "\n",
    "\n",
    "def user_ap(y_rel: List[Any], y_rec: List[Any], k: int = 10) -> float:\n",
    "    \"\"\"\n",
    "    :param y_rel: relevant items\n",
    "    :param y_rec: recommended items\n",
    "    :param k: number of top recommended items\n",
    "    :return: average precision metric for user recommendations\n",
    "    \"\"\"\n",
    "    return np.sum([\n",
    "        user_precision(y_rel, y_rec, idx + 1)\n",
    "        for idx, item in enumerate(y_rec[:k]) if item in y_rel\n",
    "    ]) / k"
   ]
  },
  {
   "cell_type": "markdown",
   "id": "e0910f0d",
   "metadata": {},
   "source": [
    "## Применим алгоритм w2v\n",
    "\n",
    "Внутри gensim написан эффективный метод `predict_output_word`, позволяющий получать следующие возможные токены (в нашем случае объекты для рекомендации), перед фильтрацией просмотренного попросим его сгенерировать на `len(train_ids)` токенов больше (в худшем случае, нам придется все отфильтровать)"
   ]
  },
  {
   "cell_type": "code",
   "execution_count": 5,
   "id": "ec98af4c",
   "metadata": {},
   "outputs": [
    {
     "name": "stdout",
     "output_type": "stream",
     "text": [
      "MAP@10 = 0.0025 Hitrate@10 = 0.0955\n"
     ]
    }
   ],
   "source": [
    "def evaluate_model(model):\n",
    "    ap_list = []\n",
    "    hitrate_list = []\n",
    "    for train_ids, y_rel in grouped_df.select('train_ids', 'test_ids').rows():\n",
    "        model_preds = model.predict_output_word(\n",
    "            train_ids, topn=(TOP_K + len(train_ids))\n",
    "        )\n",
    "        if model_preds is None:\n",
    "            hitrate_list.append(0)\n",
    "            continue\n",
    "\n",
    "        y_rec = [pred[0] for pred in model_preds if pred[0] not in train_ids]\n",
    "        ap_list.append(user_ap(y_rel, y_rec))\n",
    "        hitrate_list.append(user_hitrate(y_rel, y_rec))\n",
    "    return np.mean(ap_list), np.mean(hitrate_list)\n",
    "\n",
    "# обучим w2v с параметрами по умолчанию\n",
    "model = Word2Vec(grouped_df['train_ids'].to_list())\n",
    "mean_ap, mean_hitrate = evaluate_model(model)\n",
    "print(f'MAP@{TOP_K} = {mean_ap:.4f} Hitrate@{TOP_K} = {mean_hitrate:.4f}')"
   ]
  },
  {
   "cell_type": "markdown",
   "id": "354f00d4",
   "metadata": {},
   "source": [
    "## Подберем самые оптимальные гиперпараметры с помощью optuna\n",
    "\n",
    "Дла алгоритма [W2V](https://radimrehurek.com/gensim/models/word2vec.html#gensim.models.word2vec.Word2Vec) рассмотрим следующие параметры:\n",
    "\n",
    "- `sg` – 1, если использовать skip-gram, иначе cbow\n",
    "- `window` – размер окна для обучения алгоритма w2v\n",
    "- `ns_exponent` – степень популярности объектов, которая будет использована для negative sampling\n",
    "- `negative` – количество негативных примеров для сэмплирования\n",
    "- `min_count` – минимальное число взаимодействий, нужное для \n",
    "- `vector_size` – размерность эмбеддингов"
   ]
  },
  {
   "cell_type": "code",
   "execution_count": 6,
   "id": "5c4bf5e1",
   "metadata": {
    "scrolled": true
   },
   "outputs": [
    {
     "name": "stderr",
     "output_type": "stream",
     "text": [
      "[I 2024-08-12 05:21:36,433] A new study created in memory with name: no-name-68632159-90ba-4734-b620-0e8d6084a835\n"
     ]
    },
    {
     "name": "stdout",
     "output_type": "stream",
     "text": [
      "{'sg': 0, 'window_len': 4, 'ns_exponent': 1.9552955375092225, 'negative': 6, 'min_count': 19, 'vector_size': 64}\n"
     ]
    },
    {
     "name": "stderr",
     "output_type": "stream",
     "text": [
      "[I 2024-08-12 05:21:37,534] Trial 0 finished with value: 0.005803444782168187 and parameters: {'sg': 0, 'window': 4, 'ns_exponent': 1.9552955375092225, 'negative': 6, 'min_count': 19, 'vector_size': 64}. Best is trial 0 with value: 0.005803444782168187.\n"
     ]
    },
    {
     "name": "stdout",
     "output_type": "stream",
     "text": [
      "MAP@10 = 0.0058 Hitrate@10 = 0.1518\n",
      "{'sg': 1, 'window_len': 5, 'ns_exponent': -0.1403872646315225, 'negative': 16, 'min_count': 3, 'vector_size': 64}\n"
     ]
    },
    {
     "name": "stderr",
     "output_type": "stream",
     "text": [
      "[I 2024-08-12 05:21:42,113] Trial 1 finished with value: 0.029436845660249913 and parameters: {'sg': 1, 'window': 5, 'ns_exponent': -0.1403872646315225, 'negative': 16, 'min_count': 3, 'vector_size': 64}. Best is trial 1 with value: 0.029436845660249913.\n"
     ]
    },
    {
     "name": "stdout",
     "output_type": "stream",
     "text": [
      "MAP@10 = 0.0294 Hitrate@10 = 0.4798\n",
      "{'sg': 1, 'window_len': 9, 'ns_exponent': -2.0230699017216294, 'negative': 5, 'min_count': 5, 'vector_size': 64}\n"
     ]
    },
    {
     "name": "stderr",
     "output_type": "stream",
     "text": [
      "[W 2024-08-12 05:21:42,281] Trial 2 failed with parameters: {'sg': 1, 'window': 9, 'ns_exponent': -2.0230699017216294, 'negative': 5, 'min_count': 5, 'vector_size': 64} because of the following error: KeyboardInterrupt().\n",
      "Traceback (most recent call last):\n",
      "  File \"/home/karpov/.local/lib/python3.8/site-packages/optuna/study/_optimize.py\", line 200, in _run_trial\n",
      "    value_or_values = func(trial)\n",
      "  File \"/tmp/ipykernel_49/2471874407.py\", line 25, in objective\n",
      "    model = Word2Vec(\n",
      "  File \"/home/karpov/.local/lib/python3.8/site-packages/gensim/models/word2vec.py\", line 430, in __init__\n",
      "    self.train(\n",
      "  File \"/home/karpov/.local/lib/python3.8/site-packages/gensim/models/word2vec.py\", line 1073, in train\n",
      "    trained_word_count_epoch, raw_word_count_epoch, job_tally_epoch = self._train_epoch(\n",
      "  File \"/home/karpov/.local/lib/python3.8/site-packages/gensim/models/word2vec.py\", line 1434, in _train_epoch\n",
      "    trained_word_count, raw_word_count, job_tally = self._log_epoch_progress(\n",
      "  File \"/home/karpov/.local/lib/python3.8/site-packages/gensim/models/word2vec.py\", line 1289, in _log_epoch_progress\n",
      "    report = progress_queue.get()  # blocks if workers too slow\n",
      "  File \"/opt/conda/lib/python3.8/queue.py\", line 170, in get\n",
      "    self.not_empty.wait()\n",
      "  File \"/opt/conda/lib/python3.8/threading.py\", line 302, in wait\n",
      "    waiter.acquire()\n",
      "KeyboardInterrupt\n",
      "[W 2024-08-12 05:21:42,318] Trial 2 failed with value None.\n"
     ]
    },
    {
     "ename": "KeyboardInterrupt",
     "evalue": "",
     "output_type": "error",
     "traceback": [
      "\u001b[0;31m---------------------------------------------------------------------------\u001b[0m",
      "\u001b[0;31mKeyboardInterrupt\u001b[0m                         Traceback (most recent call last)",
      "Input \u001b[0;32mIn [6]\u001b[0m, in \u001b[0;36m<module>\u001b[0;34m\u001b[0m\n\u001b[1;32m     40\u001b[0m     \u001b[38;5;28;01mreturn\u001b[39;00m mean_ap\n\u001b[1;32m     43\u001b[0m study \u001b[38;5;241m=\u001b[39m optuna\u001b[38;5;241m.\u001b[39mcreate_study(directions\u001b[38;5;241m=\u001b[39m(\u001b[38;5;124m'\u001b[39m\u001b[38;5;124mmaximize\u001b[39m\u001b[38;5;124m'\u001b[39m,))\n\u001b[0;32m---> 44\u001b[0m \u001b[43mstudy\u001b[49m\u001b[38;5;241;43m.\u001b[39;49m\u001b[43moptimize\u001b[49m\u001b[43m(\u001b[49m\u001b[43mobjective\u001b[49m\u001b[43m,\u001b[49m\u001b[43m \u001b[49m\u001b[43mn_trials\u001b[49m\u001b[38;5;241;43m=\u001b[39;49m\u001b[38;5;241;43m100\u001b[39;49m\u001b[43m)\u001b[49m\n\u001b[1;32m     46\u001b[0m study\u001b[38;5;241m.\u001b[39mbest_params\n",
      "File \u001b[0;32m~/.local/lib/python3.8/site-packages/optuna/study/study.py:442\u001b[0m, in \u001b[0;36mStudy.optimize\u001b[0;34m(self, func, n_trials, timeout, n_jobs, catch, callbacks, gc_after_trial, show_progress_bar)\u001b[0m\n\u001b[1;32m    339\u001b[0m \u001b[38;5;28;01mdef\u001b[39;00m \u001b[38;5;21moptimize\u001b[39m(\n\u001b[1;32m    340\u001b[0m     \u001b[38;5;28mself\u001b[39m,\n\u001b[1;32m    341\u001b[0m     func: ObjectiveFuncType,\n\u001b[0;32m   (...)\u001b[0m\n\u001b[1;32m    348\u001b[0m     show_progress_bar: \u001b[38;5;28mbool\u001b[39m \u001b[38;5;241m=\u001b[39m \u001b[38;5;28;01mFalse\u001b[39;00m,\n\u001b[1;32m    349\u001b[0m ) \u001b[38;5;241m-\u001b[39m\u001b[38;5;241m>\u001b[39m \u001b[38;5;28;01mNone\u001b[39;00m:\n\u001b[1;32m    350\u001b[0m     \u001b[38;5;124;03m\"\"\"Optimize an objective function.\u001b[39;00m\n\u001b[1;32m    351\u001b[0m \n\u001b[1;32m    352\u001b[0m \u001b[38;5;124;03m    Optimization is done by choosing a suitable set of hyperparameter values from a given\u001b[39;00m\n\u001b[0;32m   (...)\u001b[0m\n\u001b[1;32m    440\u001b[0m \u001b[38;5;124;03m            If nested invocation of this method occurs.\u001b[39;00m\n\u001b[1;32m    441\u001b[0m \u001b[38;5;124;03m    \"\"\"\u001b[39;00m\n\u001b[0;32m--> 442\u001b[0m     \u001b[43m_optimize\u001b[49m\u001b[43m(\u001b[49m\n\u001b[1;32m    443\u001b[0m \u001b[43m        \u001b[49m\u001b[43mstudy\u001b[49m\u001b[38;5;241;43m=\u001b[39;49m\u001b[38;5;28;43mself\u001b[39;49m\u001b[43m,\u001b[49m\n\u001b[1;32m    444\u001b[0m \u001b[43m        \u001b[49m\u001b[43mfunc\u001b[49m\u001b[38;5;241;43m=\u001b[39;49m\u001b[43mfunc\u001b[49m\u001b[43m,\u001b[49m\n\u001b[1;32m    445\u001b[0m \u001b[43m        \u001b[49m\u001b[43mn_trials\u001b[49m\u001b[38;5;241;43m=\u001b[39;49m\u001b[43mn_trials\u001b[49m\u001b[43m,\u001b[49m\n\u001b[1;32m    446\u001b[0m \u001b[43m        \u001b[49m\u001b[43mtimeout\u001b[49m\u001b[38;5;241;43m=\u001b[39;49m\u001b[43mtimeout\u001b[49m\u001b[43m,\u001b[49m\n\u001b[1;32m    447\u001b[0m \u001b[43m        \u001b[49m\u001b[43mn_jobs\u001b[49m\u001b[38;5;241;43m=\u001b[39;49m\u001b[43mn_jobs\u001b[49m\u001b[43m,\u001b[49m\n\u001b[1;32m    448\u001b[0m \u001b[43m        \u001b[49m\u001b[43mcatch\u001b[49m\u001b[38;5;241;43m=\u001b[39;49m\u001b[38;5;28;43mtuple\u001b[39;49m\u001b[43m(\u001b[49m\u001b[43mcatch\u001b[49m\u001b[43m)\u001b[49m\u001b[43m \u001b[49m\u001b[38;5;28;43;01mif\u001b[39;49;00m\u001b[43m \u001b[49m\u001b[38;5;28;43misinstance\u001b[39;49m\u001b[43m(\u001b[49m\u001b[43mcatch\u001b[49m\u001b[43m,\u001b[49m\u001b[43m \u001b[49m\u001b[43mIterable\u001b[49m\u001b[43m)\u001b[49m\u001b[43m \u001b[49m\u001b[38;5;28;43;01melse\u001b[39;49;00m\u001b[43m \u001b[49m\u001b[43m(\u001b[49m\u001b[43mcatch\u001b[49m\u001b[43m,\u001b[49m\u001b[43m)\u001b[49m\u001b[43m,\u001b[49m\n\u001b[1;32m    449\u001b[0m \u001b[43m        \u001b[49m\u001b[43mcallbacks\u001b[49m\u001b[38;5;241;43m=\u001b[39;49m\u001b[43mcallbacks\u001b[49m\u001b[43m,\u001b[49m\n\u001b[1;32m    450\u001b[0m \u001b[43m        \u001b[49m\u001b[43mgc_after_trial\u001b[49m\u001b[38;5;241;43m=\u001b[39;49m\u001b[43mgc_after_trial\u001b[49m\u001b[43m,\u001b[49m\n\u001b[1;32m    451\u001b[0m \u001b[43m        \u001b[49m\u001b[43mshow_progress_bar\u001b[49m\u001b[38;5;241;43m=\u001b[39;49m\u001b[43mshow_progress_bar\u001b[49m\u001b[43m,\u001b[49m\n\u001b[1;32m    452\u001b[0m \u001b[43m    \u001b[49m\u001b[43m)\u001b[49m\n",
      "File \u001b[0;32m~/.local/lib/python3.8/site-packages/optuna/study/_optimize.py:66\u001b[0m, in \u001b[0;36m_optimize\u001b[0;34m(study, func, n_trials, timeout, n_jobs, catch, callbacks, gc_after_trial, show_progress_bar)\u001b[0m\n\u001b[1;32m     64\u001b[0m \u001b[38;5;28;01mtry\u001b[39;00m:\n\u001b[1;32m     65\u001b[0m     \u001b[38;5;28;01mif\u001b[39;00m n_jobs \u001b[38;5;241m==\u001b[39m \u001b[38;5;241m1\u001b[39m:\n\u001b[0;32m---> 66\u001b[0m         \u001b[43m_optimize_sequential\u001b[49m\u001b[43m(\u001b[49m\n\u001b[1;32m     67\u001b[0m \u001b[43m            \u001b[49m\u001b[43mstudy\u001b[49m\u001b[43m,\u001b[49m\n\u001b[1;32m     68\u001b[0m \u001b[43m            \u001b[49m\u001b[43mfunc\u001b[49m\u001b[43m,\u001b[49m\n\u001b[1;32m     69\u001b[0m \u001b[43m            \u001b[49m\u001b[43mn_trials\u001b[49m\u001b[43m,\u001b[49m\n\u001b[1;32m     70\u001b[0m \u001b[43m            \u001b[49m\u001b[43mtimeout\u001b[49m\u001b[43m,\u001b[49m\n\u001b[1;32m     71\u001b[0m \u001b[43m            \u001b[49m\u001b[43mcatch\u001b[49m\u001b[43m,\u001b[49m\n\u001b[1;32m     72\u001b[0m \u001b[43m            \u001b[49m\u001b[43mcallbacks\u001b[49m\u001b[43m,\u001b[49m\n\u001b[1;32m     73\u001b[0m \u001b[43m            \u001b[49m\u001b[43mgc_after_trial\u001b[49m\u001b[43m,\u001b[49m\n\u001b[1;32m     74\u001b[0m \u001b[43m            \u001b[49m\u001b[43mreseed_sampler_rng\u001b[49m\u001b[38;5;241;43m=\u001b[39;49m\u001b[38;5;28;43;01mFalse\u001b[39;49;00m\u001b[43m,\u001b[49m\n\u001b[1;32m     75\u001b[0m \u001b[43m            \u001b[49m\u001b[43mtime_start\u001b[49m\u001b[38;5;241;43m=\u001b[39;49m\u001b[38;5;28;43;01mNone\u001b[39;49;00m\u001b[43m,\u001b[49m\n\u001b[1;32m     76\u001b[0m \u001b[43m            \u001b[49m\u001b[43mprogress_bar\u001b[49m\u001b[38;5;241;43m=\u001b[39;49m\u001b[43mprogress_bar\u001b[49m\u001b[43m,\u001b[49m\n\u001b[1;32m     77\u001b[0m \u001b[43m        \u001b[49m\u001b[43m)\u001b[49m\n\u001b[1;32m     78\u001b[0m     \u001b[38;5;28;01melse\u001b[39;00m:\n\u001b[1;32m     79\u001b[0m         \u001b[38;5;28;01mif\u001b[39;00m n_jobs \u001b[38;5;241m==\u001b[39m \u001b[38;5;241m-\u001b[39m\u001b[38;5;241m1\u001b[39m:\n",
      "File \u001b[0;32m~/.local/lib/python3.8/site-packages/optuna/study/_optimize.py:163\u001b[0m, in \u001b[0;36m_optimize_sequential\u001b[0;34m(study, func, n_trials, timeout, catch, callbacks, gc_after_trial, reseed_sampler_rng, time_start, progress_bar)\u001b[0m\n\u001b[1;32m    160\u001b[0m         \u001b[38;5;28;01mbreak\u001b[39;00m\n\u001b[1;32m    162\u001b[0m \u001b[38;5;28;01mtry\u001b[39;00m:\n\u001b[0;32m--> 163\u001b[0m     frozen_trial \u001b[38;5;241m=\u001b[39m \u001b[43m_run_trial\u001b[49m\u001b[43m(\u001b[49m\u001b[43mstudy\u001b[49m\u001b[43m,\u001b[49m\u001b[43m \u001b[49m\u001b[43mfunc\u001b[49m\u001b[43m,\u001b[49m\u001b[43m \u001b[49m\u001b[43mcatch\u001b[49m\u001b[43m)\u001b[49m\n\u001b[1;32m    164\u001b[0m \u001b[38;5;28;01mfinally\u001b[39;00m:\n\u001b[1;32m    165\u001b[0m     \u001b[38;5;66;03m# The following line mitigates memory problems that can be occurred in some\u001b[39;00m\n\u001b[1;32m    166\u001b[0m     \u001b[38;5;66;03m# environments (e.g., services that use computing containers such as GitHub Actions).\u001b[39;00m\n\u001b[1;32m    167\u001b[0m     \u001b[38;5;66;03m# Please refer to the following PR for further details:\u001b[39;00m\n\u001b[1;32m    168\u001b[0m     \u001b[38;5;66;03m# https://github.com/optuna/optuna/pull/325.\u001b[39;00m\n\u001b[1;32m    169\u001b[0m     \u001b[38;5;28;01mif\u001b[39;00m gc_after_trial:\n",
      "File \u001b[0;32m~/.local/lib/python3.8/site-packages/optuna/study/_optimize.py:251\u001b[0m, in \u001b[0;36m_run_trial\u001b[0;34m(study, func, catch)\u001b[0m\n\u001b[1;32m    244\u001b[0m         \u001b[38;5;28;01massert\u001b[39;00m \u001b[38;5;28;01mFalse\u001b[39;00m, \u001b[38;5;124m\"\u001b[39m\u001b[38;5;124mShould not reach.\u001b[39m\u001b[38;5;124m\"\u001b[39m\n\u001b[1;32m    246\u001b[0m \u001b[38;5;28;01mif\u001b[39;00m (\n\u001b[1;32m    247\u001b[0m     frozen_trial\u001b[38;5;241m.\u001b[39mstate \u001b[38;5;241m==\u001b[39m TrialState\u001b[38;5;241m.\u001b[39mFAIL\n\u001b[1;32m    248\u001b[0m     \u001b[38;5;129;01mand\u001b[39;00m func_err \u001b[38;5;129;01mis\u001b[39;00m \u001b[38;5;129;01mnot\u001b[39;00m \u001b[38;5;28;01mNone\u001b[39;00m\n\u001b[1;32m    249\u001b[0m     \u001b[38;5;129;01mand\u001b[39;00m \u001b[38;5;129;01mnot\u001b[39;00m \u001b[38;5;28misinstance\u001b[39m(func_err, catch)\n\u001b[1;32m    250\u001b[0m ):\n\u001b[0;32m--> 251\u001b[0m     \u001b[38;5;28;01mraise\u001b[39;00m func_err\n\u001b[1;32m    252\u001b[0m \u001b[38;5;28;01mreturn\u001b[39;00m frozen_trial\n",
      "File \u001b[0;32m~/.local/lib/python3.8/site-packages/optuna/study/_optimize.py:200\u001b[0m, in \u001b[0;36m_run_trial\u001b[0;34m(study, func, catch)\u001b[0m\n\u001b[1;32m    198\u001b[0m \u001b[38;5;28;01mwith\u001b[39;00m get_heartbeat_thread(trial\u001b[38;5;241m.\u001b[39m_trial_id, study\u001b[38;5;241m.\u001b[39m_storage):\n\u001b[1;32m    199\u001b[0m     \u001b[38;5;28;01mtry\u001b[39;00m:\n\u001b[0;32m--> 200\u001b[0m         value_or_values \u001b[38;5;241m=\u001b[39m \u001b[43mfunc\u001b[49m\u001b[43m(\u001b[49m\u001b[43mtrial\u001b[49m\u001b[43m)\u001b[49m\n\u001b[1;32m    201\u001b[0m     \u001b[38;5;28;01mexcept\u001b[39;00m exceptions\u001b[38;5;241m.\u001b[39mTrialPruned \u001b[38;5;28;01mas\u001b[39;00m e:\n\u001b[1;32m    202\u001b[0m         \u001b[38;5;66;03m# TODO(mamu): Handle multi-objective cases.\u001b[39;00m\n\u001b[1;32m    203\u001b[0m         state \u001b[38;5;241m=\u001b[39m TrialState\u001b[38;5;241m.\u001b[39mPRUNED\n",
      "Input \u001b[0;32mIn [6]\u001b[0m, in \u001b[0;36mobjective\u001b[0;34m(trial)\u001b[0m\n\u001b[1;32m     15\u001b[0m \u001b[38;5;28mprint\u001b[39m({\n\u001b[1;32m     16\u001b[0m     \u001b[38;5;124m'\u001b[39m\u001b[38;5;124msg\u001b[39m\u001b[38;5;124m'\u001b[39m: sg,\n\u001b[1;32m     17\u001b[0m     \u001b[38;5;124m'\u001b[39m\u001b[38;5;124mwindow_len\u001b[39m\u001b[38;5;124m'\u001b[39m: window,\n\u001b[0;32m   (...)\u001b[0m\n\u001b[1;32m     21\u001b[0m     \u001b[38;5;124m'\u001b[39m\u001b[38;5;124mvector_size\u001b[39m\u001b[38;5;124m'\u001b[39m: vector_size,\n\u001b[1;32m     22\u001b[0m })\n\u001b[1;32m     24\u001b[0m set_seed(SEED)\n\u001b[0;32m---> 25\u001b[0m model \u001b[38;5;241m=\u001b[39m \u001b[43mWord2Vec\u001b[49m\u001b[43m(\u001b[49m\n\u001b[1;32m     26\u001b[0m \u001b[43m    \u001b[49m\u001b[43mgrouped_df\u001b[49m\u001b[43m[\u001b[49m\u001b[38;5;124;43m'\u001b[39;49m\u001b[38;5;124;43mtrain_ids\u001b[39;49m\u001b[38;5;124;43m'\u001b[39;49m\u001b[43m]\u001b[49m\u001b[38;5;241;43m.\u001b[39;49m\u001b[43mto_list\u001b[49m\u001b[43m(\u001b[49m\u001b[43m)\u001b[49m\u001b[43m,\u001b[49m\n\u001b[1;32m     27\u001b[0m \u001b[43m    \u001b[49m\u001b[43mwindow\u001b[49m\u001b[38;5;241;43m=\u001b[39;49m\u001b[43mwindow\u001b[49m\u001b[43m,\u001b[49m\n\u001b[1;32m     28\u001b[0m \u001b[43m    \u001b[49m\u001b[43msg\u001b[49m\u001b[38;5;241;43m=\u001b[39;49m\u001b[43msg\u001b[49m\u001b[43m,\u001b[49m\n\u001b[1;32m     29\u001b[0m \u001b[43m    \u001b[49m\u001b[43mhs\u001b[49m\u001b[38;5;241;43m=\u001b[39;49m\u001b[38;5;241;43m0\u001b[39;49m\u001b[43m,\u001b[49m\n\u001b[1;32m     30\u001b[0m \u001b[43m    \u001b[49m\u001b[43mmin_count\u001b[49m\u001b[38;5;241;43m=\u001b[39;49m\u001b[43mmin_count\u001b[49m\u001b[43m,\u001b[49m\n\u001b[1;32m     31\u001b[0m \u001b[43m    \u001b[49m\u001b[43mvector_size\u001b[49m\u001b[38;5;241;43m=\u001b[39;49m\u001b[43mvector_size\u001b[49m\u001b[43m,\u001b[49m\n\u001b[1;32m     32\u001b[0m \u001b[43m    \u001b[49m\u001b[43mnegative\u001b[49m\u001b[38;5;241;43m=\u001b[39;49m\u001b[43mnegative\u001b[49m\u001b[43m,\u001b[49m\n\u001b[1;32m     33\u001b[0m \u001b[43m    \u001b[49m\u001b[43mns_exponent\u001b[49m\u001b[38;5;241;43m=\u001b[39;49m\u001b[43mns_exponent\u001b[49m\u001b[43m,\u001b[49m\n\u001b[1;32m     34\u001b[0m \u001b[43m    \u001b[49m\u001b[43mseed\u001b[49m\u001b[38;5;241;43m=\u001b[39;49m\u001b[43mSEED\u001b[49m\u001b[43m,\u001b[49m\n\u001b[1;32m     35\u001b[0m \u001b[43m    \u001b[49m\u001b[43mepochs\u001b[49m\u001b[38;5;241;43m=\u001b[39;49m\u001b[38;5;241;43m10\u001b[39;49m\u001b[43m,\u001b[49m\n\u001b[1;32m     36\u001b[0m \u001b[43m\u001b[49m\u001b[43m)\u001b[49m\n\u001b[1;32m     38\u001b[0m mean_ap, mean_hitrate \u001b[38;5;241m=\u001b[39m evaluate_model(model)\n\u001b[1;32m     39\u001b[0m \u001b[38;5;28mprint\u001b[39m(\u001b[38;5;124mf\u001b[39m\u001b[38;5;124m'\u001b[39m\u001b[38;5;124mMAP@\u001b[39m\u001b[38;5;132;01m{\u001b[39;00mTOP_K\u001b[38;5;132;01m}\u001b[39;00m\u001b[38;5;124m = \u001b[39m\u001b[38;5;132;01m{\u001b[39;00mmean_ap\u001b[38;5;132;01m:\u001b[39;00m\u001b[38;5;124m.4f\u001b[39m\u001b[38;5;132;01m}\u001b[39;00m\u001b[38;5;124m Hitrate@\u001b[39m\u001b[38;5;132;01m{\u001b[39;00mTOP_K\u001b[38;5;132;01m}\u001b[39;00m\u001b[38;5;124m = \u001b[39m\u001b[38;5;132;01m{\u001b[39;00mmean_hitrate\u001b[38;5;132;01m:\u001b[39;00m\u001b[38;5;124m.4f\u001b[39m\u001b[38;5;132;01m}\u001b[39;00m\u001b[38;5;124m'\u001b[39m)\n",
      "File \u001b[0;32m~/.local/lib/python3.8/site-packages/gensim/models/word2vec.py:430\u001b[0m, in \u001b[0;36mWord2Vec.__init__\u001b[0;34m(self, sentences, corpus_file, vector_size, alpha, window, min_count, max_vocab_size, sample, seed, workers, min_alpha, sg, hs, negative, ns_exponent, cbow_mean, hashfxn, epochs, null_word, trim_rule, sorted_vocab, batch_words, compute_loss, callbacks, comment, max_final_vocab, shrink_windows)\u001b[0m\n\u001b[1;32m    428\u001b[0m     \u001b[38;5;28mself\u001b[39m\u001b[38;5;241m.\u001b[39m_check_corpus_sanity(corpus_iterable\u001b[38;5;241m=\u001b[39mcorpus_iterable, corpus_file\u001b[38;5;241m=\u001b[39mcorpus_file, passes\u001b[38;5;241m=\u001b[39m(epochs \u001b[38;5;241m+\u001b[39m \u001b[38;5;241m1\u001b[39m))\n\u001b[1;32m    429\u001b[0m     \u001b[38;5;28mself\u001b[39m\u001b[38;5;241m.\u001b[39mbuild_vocab(corpus_iterable\u001b[38;5;241m=\u001b[39mcorpus_iterable, corpus_file\u001b[38;5;241m=\u001b[39mcorpus_file, trim_rule\u001b[38;5;241m=\u001b[39mtrim_rule)\n\u001b[0;32m--> 430\u001b[0m     \u001b[38;5;28;43mself\u001b[39;49m\u001b[38;5;241;43m.\u001b[39;49m\u001b[43mtrain\u001b[49m\u001b[43m(\u001b[49m\n\u001b[1;32m    431\u001b[0m \u001b[43m        \u001b[49m\u001b[43mcorpus_iterable\u001b[49m\u001b[38;5;241;43m=\u001b[39;49m\u001b[43mcorpus_iterable\u001b[49m\u001b[43m,\u001b[49m\u001b[43m \u001b[49m\u001b[43mcorpus_file\u001b[49m\u001b[38;5;241;43m=\u001b[39;49m\u001b[43mcorpus_file\u001b[49m\u001b[43m,\u001b[49m\u001b[43m \u001b[49m\u001b[43mtotal_examples\u001b[49m\u001b[38;5;241;43m=\u001b[39;49m\u001b[38;5;28;43mself\u001b[39;49m\u001b[38;5;241;43m.\u001b[39;49m\u001b[43mcorpus_count\u001b[49m\u001b[43m,\u001b[49m\n\u001b[1;32m    432\u001b[0m \u001b[43m        \u001b[49m\u001b[43mtotal_words\u001b[49m\u001b[38;5;241;43m=\u001b[39;49m\u001b[38;5;28;43mself\u001b[39;49m\u001b[38;5;241;43m.\u001b[39;49m\u001b[43mcorpus_total_words\u001b[49m\u001b[43m,\u001b[49m\u001b[43m \u001b[49m\u001b[43mepochs\u001b[49m\u001b[38;5;241;43m=\u001b[39;49m\u001b[38;5;28;43mself\u001b[39;49m\u001b[38;5;241;43m.\u001b[39;49m\u001b[43mepochs\u001b[49m\u001b[43m,\u001b[49m\u001b[43m \u001b[49m\u001b[43mstart_alpha\u001b[49m\u001b[38;5;241;43m=\u001b[39;49m\u001b[38;5;28;43mself\u001b[39;49m\u001b[38;5;241;43m.\u001b[39;49m\u001b[43malpha\u001b[49m\u001b[43m,\u001b[49m\n\u001b[1;32m    433\u001b[0m \u001b[43m        \u001b[49m\u001b[43mend_alpha\u001b[49m\u001b[38;5;241;43m=\u001b[39;49m\u001b[38;5;28;43mself\u001b[39;49m\u001b[38;5;241;43m.\u001b[39;49m\u001b[43mmin_alpha\u001b[49m\u001b[43m,\u001b[49m\u001b[43m \u001b[49m\u001b[43mcompute_loss\u001b[49m\u001b[38;5;241;43m=\u001b[39;49m\u001b[38;5;28;43mself\u001b[39;49m\u001b[38;5;241;43m.\u001b[39;49m\u001b[43mcompute_loss\u001b[49m\u001b[43m,\u001b[49m\u001b[43m \u001b[49m\u001b[43mcallbacks\u001b[49m\u001b[38;5;241;43m=\u001b[39;49m\u001b[43mcallbacks\u001b[49m\u001b[43m)\u001b[49m\n\u001b[1;32m    434\u001b[0m \u001b[38;5;28;01melse\u001b[39;00m:\n\u001b[1;32m    435\u001b[0m     \u001b[38;5;28;01mif\u001b[39;00m trim_rule \u001b[38;5;129;01mis\u001b[39;00m \u001b[38;5;129;01mnot\u001b[39;00m \u001b[38;5;28;01mNone\u001b[39;00m:\n",
      "File \u001b[0;32m~/.local/lib/python3.8/site-packages/gensim/models/word2vec.py:1073\u001b[0m, in \u001b[0;36mWord2Vec.train\u001b[0;34m(self, corpus_iterable, corpus_file, total_examples, total_words, epochs, start_alpha, end_alpha, word_count, queue_factor, report_delay, compute_loss, callbacks, **kwargs)\u001b[0m\n\u001b[1;32m   1070\u001b[0m     callback\u001b[38;5;241m.\u001b[39mon_epoch_begin(\u001b[38;5;28mself\u001b[39m)\n\u001b[1;32m   1072\u001b[0m \u001b[38;5;28;01mif\u001b[39;00m corpus_iterable \u001b[38;5;129;01mis\u001b[39;00m \u001b[38;5;129;01mnot\u001b[39;00m \u001b[38;5;28;01mNone\u001b[39;00m:\n\u001b[0;32m-> 1073\u001b[0m     trained_word_count_epoch, raw_word_count_epoch, job_tally_epoch \u001b[38;5;241m=\u001b[39m \u001b[38;5;28;43mself\u001b[39;49m\u001b[38;5;241;43m.\u001b[39;49m\u001b[43m_train_epoch\u001b[49m\u001b[43m(\u001b[49m\n\u001b[1;32m   1074\u001b[0m \u001b[43m        \u001b[49m\u001b[43mcorpus_iterable\u001b[49m\u001b[43m,\u001b[49m\u001b[43m \u001b[49m\u001b[43mcur_epoch\u001b[49m\u001b[38;5;241;43m=\u001b[39;49m\u001b[43mcur_epoch\u001b[49m\u001b[43m,\u001b[49m\u001b[43m \u001b[49m\u001b[43mtotal_examples\u001b[49m\u001b[38;5;241;43m=\u001b[39;49m\u001b[43mtotal_examples\u001b[49m\u001b[43m,\u001b[49m\n\u001b[1;32m   1075\u001b[0m \u001b[43m        \u001b[49m\u001b[43mtotal_words\u001b[49m\u001b[38;5;241;43m=\u001b[39;49m\u001b[43mtotal_words\u001b[49m\u001b[43m,\u001b[49m\u001b[43m \u001b[49m\u001b[43mqueue_factor\u001b[49m\u001b[38;5;241;43m=\u001b[39;49m\u001b[43mqueue_factor\u001b[49m\u001b[43m,\u001b[49m\u001b[43m \u001b[49m\u001b[43mreport_delay\u001b[49m\u001b[38;5;241;43m=\u001b[39;49m\u001b[43mreport_delay\u001b[49m\u001b[43m,\u001b[49m\n\u001b[1;32m   1076\u001b[0m \u001b[43m        \u001b[49m\u001b[43mcallbacks\u001b[49m\u001b[38;5;241;43m=\u001b[39;49m\u001b[43mcallbacks\u001b[49m\u001b[43m,\u001b[49m\u001b[43m \u001b[49m\u001b[38;5;241;43m*\u001b[39;49m\u001b[38;5;241;43m*\u001b[39;49m\u001b[43mkwargs\u001b[49m\u001b[43m)\u001b[49m\n\u001b[1;32m   1077\u001b[0m \u001b[38;5;28;01melse\u001b[39;00m:\n\u001b[1;32m   1078\u001b[0m     trained_word_count_epoch, raw_word_count_epoch, job_tally_epoch \u001b[38;5;241m=\u001b[39m \u001b[38;5;28mself\u001b[39m\u001b[38;5;241m.\u001b[39m_train_epoch_corpusfile(\n\u001b[1;32m   1079\u001b[0m         corpus_file, cur_epoch\u001b[38;5;241m=\u001b[39mcur_epoch, total_examples\u001b[38;5;241m=\u001b[39mtotal_examples, total_words\u001b[38;5;241m=\u001b[39mtotal_words,\n\u001b[1;32m   1080\u001b[0m         callbacks\u001b[38;5;241m=\u001b[39mcallbacks, \u001b[38;5;241m*\u001b[39m\u001b[38;5;241m*\u001b[39mkwargs)\n",
      "File \u001b[0;32m~/.local/lib/python3.8/site-packages/gensim/models/word2vec.py:1434\u001b[0m, in \u001b[0;36mWord2Vec._train_epoch\u001b[0;34m(self, data_iterable, cur_epoch, total_examples, total_words, queue_factor, report_delay, callbacks)\u001b[0m\n\u001b[1;32m   1431\u001b[0m     thread\u001b[38;5;241m.\u001b[39mdaemon \u001b[38;5;241m=\u001b[39m \u001b[38;5;28;01mTrue\u001b[39;00m  \u001b[38;5;66;03m# make interrupting the process with ctrl+c easier\u001b[39;00m\n\u001b[1;32m   1432\u001b[0m     thread\u001b[38;5;241m.\u001b[39mstart()\n\u001b[0;32m-> 1434\u001b[0m trained_word_count, raw_word_count, job_tally \u001b[38;5;241m=\u001b[39m \u001b[38;5;28;43mself\u001b[39;49m\u001b[38;5;241;43m.\u001b[39;49m\u001b[43m_log_epoch_progress\u001b[49m\u001b[43m(\u001b[49m\n\u001b[1;32m   1435\u001b[0m \u001b[43m    \u001b[49m\u001b[43mprogress_queue\u001b[49m\u001b[43m,\u001b[49m\u001b[43m \u001b[49m\u001b[43mjob_queue\u001b[49m\u001b[43m,\u001b[49m\u001b[43m \u001b[49m\u001b[43mcur_epoch\u001b[49m\u001b[38;5;241;43m=\u001b[39;49m\u001b[43mcur_epoch\u001b[49m\u001b[43m,\u001b[49m\u001b[43m \u001b[49m\u001b[43mtotal_examples\u001b[49m\u001b[38;5;241;43m=\u001b[39;49m\u001b[43mtotal_examples\u001b[49m\u001b[43m,\u001b[49m\n\u001b[1;32m   1436\u001b[0m \u001b[43m    \u001b[49m\u001b[43mtotal_words\u001b[49m\u001b[38;5;241;43m=\u001b[39;49m\u001b[43mtotal_words\u001b[49m\u001b[43m,\u001b[49m\u001b[43m \u001b[49m\u001b[43mreport_delay\u001b[49m\u001b[38;5;241;43m=\u001b[39;49m\u001b[43mreport_delay\u001b[49m\u001b[43m,\u001b[49m\u001b[43m \u001b[49m\u001b[43mis_corpus_file_mode\u001b[49m\u001b[38;5;241;43m=\u001b[39;49m\u001b[38;5;28;43;01mFalse\u001b[39;49;00m\u001b[43m,\u001b[49m\n\u001b[1;32m   1437\u001b[0m \u001b[43m\u001b[49m\u001b[43m)\u001b[49m\n\u001b[1;32m   1439\u001b[0m \u001b[38;5;28;01mreturn\u001b[39;00m trained_word_count, raw_word_count, job_tally\n",
      "File \u001b[0;32m~/.local/lib/python3.8/site-packages/gensim/models/word2vec.py:1289\u001b[0m, in \u001b[0;36mWord2Vec._log_epoch_progress\u001b[0;34m(self, progress_queue, job_queue, cur_epoch, total_examples, total_words, report_delay, is_corpus_file_mode)\u001b[0m\n\u001b[1;32m   1286\u001b[0m unfinished_worker_count \u001b[38;5;241m=\u001b[39m \u001b[38;5;28mself\u001b[39m\u001b[38;5;241m.\u001b[39mworkers\n\u001b[1;32m   1288\u001b[0m \u001b[38;5;28;01mwhile\u001b[39;00m unfinished_worker_count \u001b[38;5;241m>\u001b[39m \u001b[38;5;241m0\u001b[39m:\n\u001b[0;32m-> 1289\u001b[0m     report \u001b[38;5;241m=\u001b[39m \u001b[43mprogress_queue\u001b[49m\u001b[38;5;241;43m.\u001b[39;49m\u001b[43mget\u001b[49m\u001b[43m(\u001b[49m\u001b[43m)\u001b[49m  \u001b[38;5;66;03m# blocks if workers too slow\u001b[39;00m\n\u001b[1;32m   1290\u001b[0m     \u001b[38;5;28;01mif\u001b[39;00m report \u001b[38;5;129;01mis\u001b[39;00m \u001b[38;5;28;01mNone\u001b[39;00m:  \u001b[38;5;66;03m# a thread reporting that it finished\u001b[39;00m\n\u001b[1;32m   1291\u001b[0m         unfinished_worker_count \u001b[38;5;241m-\u001b[39m\u001b[38;5;241m=\u001b[39m \u001b[38;5;241m1\u001b[39m\n",
      "File \u001b[0;32m/opt/conda/lib/python3.8/queue.py:170\u001b[0m, in \u001b[0;36mQueue.get\u001b[0;34m(self, block, timeout)\u001b[0m\n\u001b[1;32m    168\u001b[0m \u001b[38;5;28;01melif\u001b[39;00m timeout \u001b[38;5;129;01mis\u001b[39;00m \u001b[38;5;28;01mNone\u001b[39;00m:\n\u001b[1;32m    169\u001b[0m     \u001b[38;5;28;01mwhile\u001b[39;00m \u001b[38;5;129;01mnot\u001b[39;00m \u001b[38;5;28mself\u001b[39m\u001b[38;5;241m.\u001b[39m_qsize():\n\u001b[0;32m--> 170\u001b[0m         \u001b[38;5;28;43mself\u001b[39;49m\u001b[38;5;241;43m.\u001b[39;49m\u001b[43mnot_empty\u001b[49m\u001b[38;5;241;43m.\u001b[39;49m\u001b[43mwait\u001b[49m\u001b[43m(\u001b[49m\u001b[43m)\u001b[49m\n\u001b[1;32m    171\u001b[0m \u001b[38;5;28;01melif\u001b[39;00m timeout \u001b[38;5;241m<\u001b[39m \u001b[38;5;241m0\u001b[39m:\n\u001b[1;32m    172\u001b[0m     \u001b[38;5;28;01mraise\u001b[39;00m \u001b[38;5;167;01mValueError\u001b[39;00m(\u001b[38;5;124m\"\u001b[39m\u001b[38;5;124m'\u001b[39m\u001b[38;5;124mtimeout\u001b[39m\u001b[38;5;124m'\u001b[39m\u001b[38;5;124m must be a non-negative number\u001b[39m\u001b[38;5;124m\"\u001b[39m)\n",
      "File \u001b[0;32m/opt/conda/lib/python3.8/threading.py:302\u001b[0m, in \u001b[0;36mCondition.wait\u001b[0;34m(self, timeout)\u001b[0m\n\u001b[1;32m    300\u001b[0m \u001b[38;5;28;01mtry\u001b[39;00m:    \u001b[38;5;66;03m# restore state no matter what (e.g., KeyboardInterrupt)\u001b[39;00m\n\u001b[1;32m    301\u001b[0m     \u001b[38;5;28;01mif\u001b[39;00m timeout \u001b[38;5;129;01mis\u001b[39;00m \u001b[38;5;28;01mNone\u001b[39;00m:\n\u001b[0;32m--> 302\u001b[0m         \u001b[43mwaiter\u001b[49m\u001b[38;5;241;43m.\u001b[39;49m\u001b[43macquire\u001b[49m\u001b[43m(\u001b[49m\u001b[43m)\u001b[49m\n\u001b[1;32m    303\u001b[0m         gotit \u001b[38;5;241m=\u001b[39m \u001b[38;5;28;01mTrue\u001b[39;00m\n\u001b[1;32m    304\u001b[0m     \u001b[38;5;28;01melse\u001b[39;00m:\n",
      "\u001b[0;31mKeyboardInterrupt\u001b[0m: "
     ]
    }
   ],
   "source": [
    "SEED = 42\n",
    "\n",
    "def set_seed(seed):\n",
    "    np.random.seed(seed)\n",
    "    random.seed(seed)\n",
    "\n",
    "def objective(trial):\n",
    "    sg = trial.suggest_categorical('sg', [0, 1])\n",
    "    window = trial.suggest_int('window', 1, 10)\n",
    "    ns_exponent = trial.suggest_float('ns_exponent', -3, 3)\n",
    "    negative = trial.suggest_int('negative', 3, 20)\n",
    "    min_count = trial.suggest_int('min_count', 0, 20)\n",
    "    vector_size = trial.suggest_categorical('vector_size', [16, 32, 64, 128])\n",
    "    \n",
    "    print({\n",
    "        'sg': sg,\n",
    "        'window_len': window,\n",
    "        'ns_exponent': ns_exponent,\n",
    "        'negative': negative,\n",
    "        'min_count': min_count,\n",
    "        'vector_size': vector_size,\n",
    "    })\n",
    "    \n",
    "    set_seed(SEED)\n",
    "    model = Word2Vec(\n",
    "        grouped_df['train_ids'].to_list(),\n",
    "        window=window,\n",
    "        sg=sg,\n",
    "        hs=0,\n",
    "        min_count=min_count,\n",
    "        vector_size=vector_size,\n",
    "        negative=negative,\n",
    "        ns_exponent=ns_exponent,\n",
    "        seed=SEED,\n",
    "        epochs=10,\n",
    "    )\n",
    "    \n",
    "    mean_ap, mean_hitrate = evaluate_model(model)\n",
    "    print(f'MAP@{TOP_K} = {mean_ap:.4f} Hitrate@{TOP_K} = {mean_hitrate:.4f}')\n",
    "    return mean_ap\n",
    "    \n",
    "    \n",
    "study = optuna.create_study(directions=('maximize',))\n",
    "study.optimize(objective, n_trials=100)\n",
    "\n",
    "study.best_params"
   ]
  },
  {
   "cell_type": "code",
   "execution_count": 7,
   "id": "07832c88",
   "metadata": {},
   "outputs": [
    {
     "name": "stdout",
     "output_type": "stream",
     "text": [
      "MAP@10 = 0.0365 Hitrate@10 = 0.5722\n"
     ]
    }
   ],
   "source": [
    "set_seed(SEED)\n",
    "model = Word2Vec(\n",
    "    grouped_df['train_ids'].to_list(),\n",
    "    **study.best_params,\n",
    "    hs=0,\n",
    "    seed=SEED,\n",
    "    epochs=50\n",
    ")\n",
    "\n",
    "hitrate_list = []\n",
    "for train_ids, y_rel in grouped_df.select('train_ids', 'test_ids').rows():\n",
    "    model_preds = model.predict_output_word(train_ids, topn=(TOP_K + len(train_ids)))\n",
    "    if model_preds is None:\n",
    "        hitrate_list.append(0)\n",
    "        continue\n",
    "        \n",
    "    y_rec = [pred[0] for pred in model_preds if pred[0] not in train_ids]\n",
    "    hitrate_list.append(user_hitrate(y_rel, y_rec))\n",
    "\n",
    "mean_ap, mean_hitrate = evaluate_model(model)\n",
    "print(f'MAP@{TOP_K} = {mean_ap:.4f} Hitrate@{TOP_K} = {mean_hitrate:.4f}')"
   ]
  },
  {
   "cell_type": "markdown",
   "id": "a0919e08",
   "metadata": {},
   "source": [
    "## Сохраним рекомендации в redis"
   ]
  },
  {
   "cell_type": "markdown",
   "id": "ae695a38",
   "metadata": {},
   "source": [
    "В реальных системах в качестве идентификаторов скорее всего будет использоваться uuid, тогда как при обучении удобно использовать представление в виде целых чисел.\n",
    "\n",
    "Одним из вариантов работы с идентификаторами является создание словарей `user_ids_mapping` и `user_ids_inverse_mapping`, где первый делает преобразование _uuid -> int_, а второй _int -> uuid_.\n",
    "\n",
    "Давайте просимулируем реальную рекомендательную систему и загрузим рекомендации в **redis**."
   ]
  },
  {
   "cell_type": "code",
   "execution_count": 13,
   "id": "31253774",
   "metadata": {
    "scrolled": true
   },
   "outputs": [],
   "source": [
    "user_ids_inverse_mapping = {k: uuid.uuid4() for k in ratings['user_id'].unique()}\n",
    "item_ids_inverse_mapping = {k: uuid.uuid4() for k in ratings['item_id'].unique()}"
   ]
  },
  {
   "cell_type": "code",
   "execution_count": 9,
   "id": "b6dab58c",
   "metadata": {
    "scrolled": true
   },
   "outputs": [],
   "source": [
    "# если redis запущен в том же окружении, то можно использовать localhost\n",
    "# иначе, измените host на ip-адресс сервера с запущенным redis\n",
    "r = redis.Redis(host='37.27.29.69', db=0)\n",
    "used_memory_before = r.info('memory')['used_memory']"
   ]
  },
  {
   "cell_type": "code",
   "execution_count": 15,
   "id": "4e7c6adb",
   "metadata": {
    "scrolled": true
   },
   "outputs": [],
   "source": [
    "TOP_K = 100  # сохраним топ-100 рекомендаций\n",
    "\n",
    "for user_id, train_ids in grouped_df.select('user_id', 'train_ids').rows():\n",
    "    model_preds = model.predict_output_word(train_ids, topn=(TOP_K + len(train_ids)))\n",
    "    if model_preds is None:\n",
    "        continue\n",
    "        \n",
    "    y_rec = [pred[0] for pred in model_preds if pred[0] not in train_ids]\n",
    "    r.rpush(\n",
    "        str(user_ids_inverse_mapping[user_id]),\n",
    "        *[str(item_ids_inverse_mapping[item_id]) for item_id in y_rec]\n",
    "    )"
   ]
  },
  {
   "cell_type": "code",
   "execution_count": 19,
   "id": "da36979b",
   "metadata": {
    "scrolled": true
   },
   "outputs": [
    {
     "data": {
      "text/plain": [
       "[b'd66f57b2-c87b-45bb-90a0-c2d1b5040f26',\n",
       " b'c3a6c010-6b66-4566-b7c5-6ebe7ab7c8b7',\n",
       " b'cc6fea8e-776e-440c-bbc7-626e034e526b',\n",
       " b'a711a5ab-efba-4741-8520-bf47f4cb590a',\n",
       " b'907e8acb-c6a3-49d4-b9d4-a55436f75c2b',\n",
       " b'77125e09-c107-4f97-bae5-ac50eafba737',\n",
       " b'6d15b989-b23e-4ab3-9928-46ef67d1877a',\n",
       " b'c66d8d8d-c3df-4738-9784-41de40187ebe',\n",
       " b'bd65a674-c4f5-488b-b51a-93ba760d79e4',\n",
       " b'69fd47ab-2bbb-47c4-b982-9105a76d7158',\n",
       " b'422921a1-cc82-4dae-a25b-8b3d151a6a94',\n",
       " b'4b90cfe1-e489-43bb-a8b2-3ef4f9cc34e7',\n",
       " b'691e7c31-fef3-42f3-bc4e-902ab95a9641',\n",
       " b'718120bb-3a58-4bdb-b564-229db0334f44',\n",
       " b'3f9a0dd5-eec3-4ad0-b91d-43c3873bf3bc',\n",
       " b'c3761ddd-0f0d-426c-ab77-e5044169703f',\n",
       " b'feed0f1c-a9e9-4ace-8556-64c52a77f5b6',\n",
       " b'a3271137-2a83-43da-875b-f36f5e1c40eb',\n",
       " b'3905cd08-7431-4b45-af8f-5cf18928ce27',\n",
       " b'682fa1f6-2895-4f80-94eb-2c1a625bc630',\n",
       " b'8d625430-0abf-498d-a6c7-1e3b028cbf10',\n",
       " b'1555968f-15cc-4c05-8ab8-bea3bc065cb5',\n",
       " b'a706f553-00fe-4c1a-9306-59acc7db4863',\n",
       " b'f84289ed-cea5-47e6-b5ba-5a59b302f311',\n",
       " b'110af102-ba42-4f42-bd59-1711674c9443',\n",
       " b'28950636-1665-4511-a9ba-1aa73728f552',\n",
       " b'8eaba98f-dfa1-4a50-92b0-99c060a9ed44',\n",
       " b'ec7bd55c-9ca9-4ab4-b498-6a401c703d94',\n",
       " b'18870cc6-c84c-498a-aa6a-779e6179570e',\n",
       " b'ef9ee729-be9f-4877-996e-c960843e5e6a',\n",
       " b'668cdd95-6bde-42c6-8912-987457983316',\n",
       " b'd3d5d792-8c10-4095-b3f6-ab3f8ed2f25f',\n",
       " b'b0c5c32d-8cbe-4783-95ad-52c1622958ac',\n",
       " b'74884ca2-a5e4-4eec-a0ae-d994cd149cf0',\n",
       " b'c8ca9d8a-5485-4d5a-b407-7b5aea36e3e6',\n",
       " b'8644484b-4c1c-40c2-8ab8-1ff8e91c4942',\n",
       " b'f86e5b92-ba0f-44b9-b454-a49375769f7f',\n",
       " b'7032b2f9-fb0d-4e80-9aad-bc4329e7e7bb',\n",
       " b'e8d206b9-bd3e-4005-bc30-fbd7ceb2f75f',\n",
       " b'e5abcbf7-f7f1-4ab5-8b68-bf7de01e3abb',\n",
       " b'3178942a-7e42-4716-9add-5c2fd954afa3',\n",
       " b'7908e376-a1b7-4846-b608-cce94a581521',\n",
       " b'847bfc52-7d35-4508-9a6e-a1c1a77f9594',\n",
       " b'83a258ad-572f-45e7-9ad2-7f3bb4b2ec1b',\n",
       " b'79094d91-01eb-4568-a8cb-306dd12a39b1',\n",
       " b'b6e98063-a812-48df-949a-566d14795fe9',\n",
       " b'e68dc3ce-1243-4237-bd13-743f534449a6',\n",
       " b'67143aba-b3f7-4e03-9ecf-1458b951fbdf',\n",
       " b'8ee391c8-4f34-474d-8492-bcd736dcf9bb',\n",
       " b'3ca6cdc2-9751-4b74-b752-337f59ab9121',\n",
       " b'1150943a-e87d-4f8e-8e52-5f173dc034d5',\n",
       " b'9bb23530-f4fd-483a-a40c-9741e99d48a3',\n",
       " b'2b993dd1-3cf4-409b-bec5-1bc773e31b9b',\n",
       " b'6712cf70-0795-4650-9474-5613b58abfe8',\n",
       " b'47b667e4-efd5-4d13-abe1-57ac611fc3b0',\n",
       " b'daea2a94-a6c8-4ba8-a1e1-3f58816efb75',\n",
       " b'51810e58-fc28-4a33-a9c5-23db3edccc9b',\n",
       " b'd425d7ab-a669-4a10-9753-1488f126f703',\n",
       " b'6c1410ef-b9d5-4f1c-9d74-db8e08fc26df',\n",
       " b'68eb5fcb-0ab5-49dd-b341-af2850e5a6cd',\n",
       " b'363b74a0-d34d-468e-b36c-f3351249d54f',\n",
       " b'302bf484-6a71-490b-82ad-540388f5627d',\n",
       " b'91e24e0c-05b5-4591-bc88-ecf7c606a629',\n",
       " b'0caa2dcf-72d3-4b3d-b2f6-11779323a38e',\n",
       " b'f750fe91-d849-408f-9b66-12bab0de27f4',\n",
       " b'f102e0df-7d7e-4df7-98f3-4e6abc9b7119',\n",
       " b'dc2132f0-ab00-4464-9b05-e99b0598b077',\n",
       " b'408a655f-bebd-46e3-ab13-722c251e35fb',\n",
       " b'ff9b55b1-6711-46d7-9d80-fe3b5116eb7c',\n",
       " b'bd98df2b-b73a-46a0-b94f-e604f322522f',\n",
       " b'40886029-62dc-48c4-ae9f-346184320b01',\n",
       " b'8d287b66-7981-4905-a14e-0c2f531718a7',\n",
       " b'6e6073df-0861-4b77-9ece-b07015ca278a',\n",
       " b'a9376fa2-6e0b-448d-b666-14bf85774039',\n",
       " b'13ab06f1-ac52-4ec7-ab80-aebb935e47cc',\n",
       " b'b3f18e26-b095-4dcc-9e1d-0eacbca4d714',\n",
       " b'2e7066e5-700a-4da4-bb52-2ec3d716d2a0',\n",
       " b'f7943ee9-3f9c-4db9-bf15-64ab1a31053f',\n",
       " b'27fb902d-3f89-4e54-9991-13c11d9d5578',\n",
       " b'0468920b-b23e-43dd-bd16-c011dd2adb6c',\n",
       " b'a9ec5cb3-518c-4419-ac9e-6e04699bda75',\n",
       " b'f20f6168-4c41-44f6-9b6b-3a4d68b94ee3',\n",
       " b'f5fa9487-1458-4351-b73d-66ba6ffba56a',\n",
       " b'89974031-e0d8-41cf-917b-abe5da073302',\n",
       " b'dc66045e-9de2-4d51-aa7c-6b5b2ee9d19f',\n",
       " b'53dba355-19f3-492e-b07e-c044a8e52700',\n",
       " b'786e2efd-570c-4e05-83b5-55be88560d60',\n",
       " b'6f54afe5-bf05-4d74-a8aa-d7af4ea11d2a',\n",
       " b'1592ea20-001f-4c35-a9ea-58d097b5ea55',\n",
       " b'dd8f2243-b037-4755-adf1-5628058d00ca',\n",
       " b'c08c6907-c1c9-4f19-ba3d-f6e9797df668',\n",
       " b'f004f8fa-b295-4f18-8991-eb69e68b3f70',\n",
       " b'236a0fb3-c734-4ec4-9c1b-13e725f5dcd4',\n",
       " b'dfaafd33-1bac-4ffb-abc8-9610b58eaaaf',\n",
       " b'3e76e1a8-b811-41c8-ae38-9b5ae83b8107',\n",
       " b'2e71f4fb-45d8-408d-9b42-e7508e20210c',\n",
       " b'084ec567-d78c-483f-ad80-88d0ca14faa1',\n",
       " b'35a2c0da-0308-46cc-aa87-22be82953462',\n",
       " b'55669c87-1461-4726-815b-23d86a9a4c79',\n",
       " b'f292a8c4-8aae-4809-8dae-a42cab4c3639',\n",
       " b'e135e208-5d5c-440f-a8db-754b0a9b1c04']"
      ]
     },
     "execution_count": 19,
     "metadata": {},
     "output_type": "execute_result"
    }
   ],
   "source": [
    "# прочитаем сохраненные рекомендации по ключу user_id\n",
    "r.lrange(str(user_ids_inverse_mapping[1]), 0, TOP_K)"
   ]
  },
  {
   "cell_type": "code",
   "execution_count": 20,
   "id": "9b3213b1",
   "metadata": {},
   "outputs": [
    {
     "data": {
      "text/plain": [
       "4770528"
      ]
     },
     "execution_count": 20,
     "metadata": {},
     "output_type": "execute_result"
    }
   ],
   "source": [
    "r.info('memory')['used_memory'] - used_memory_before"
   ]
  },
  {
   "cell_type": "markdown",
   "id": "ce0024ea",
   "metadata": {},
   "source": [
    "Потратили около 5Мб на сохранение рекомендаций"
   ]
  },
  {
   "cell_type": "code",
   "execution_count": 22,
   "id": "3bc77bd5",
   "metadata": {},
   "outputs": [],
   "source": [
    "r = redis.Redis(host='37.27.29.69', db=1)\n",
    "used_memory_before = r.info('memory')['used_memory']"
   ]
  },
  {
   "cell_type": "code",
   "execution_count": 25,
   "id": "6a2574db",
   "metadata": {},
   "outputs": [],
   "source": [
    "TOP_K = 100  # сохраним топ-100 рекомендаций\n",
    "\n",
    "for user_id, train_ids in grouped_df.select('user_id', 'train_ids').rows():\n",
    "    model_preds = model.predict_output_word(train_ids, topn=(TOP_K + len(train_ids)))\n",
    "    if model_preds is None:\n",
    "        continue\n",
    "        \n",
    "    y_rec = [pred[0] for pred in model_preds if pred[0] not in train_ids]\n",
    "    r.rpush(\n",
    "        user_ids_inverse_mapping[user_id].bytes,\n",
    "        *[item_ids_inverse_mapping[item_id].bytes for item_id in y_rec]\n",
    "    )"
   ]
  },
  {
   "cell_type": "code",
   "execution_count": 26,
   "id": "9bca08cb",
   "metadata": {
    "scrolled": true
   },
   "outputs": [
    {
     "data": {
      "text/plain": [
       "[UUID('d66f57b2-c87b-45bb-90a0-c2d1b5040f26'),\n",
       " UUID('c3a6c010-6b66-4566-b7c5-6ebe7ab7c8b7'),\n",
       " UUID('cc6fea8e-776e-440c-bbc7-626e034e526b'),\n",
       " UUID('a711a5ab-efba-4741-8520-bf47f4cb590a'),\n",
       " UUID('907e8acb-c6a3-49d4-b9d4-a55436f75c2b'),\n",
       " UUID('77125e09-c107-4f97-bae5-ac50eafba737'),\n",
       " UUID('6d15b989-b23e-4ab3-9928-46ef67d1877a'),\n",
       " UUID('c66d8d8d-c3df-4738-9784-41de40187ebe'),\n",
       " UUID('bd65a674-c4f5-488b-b51a-93ba760d79e4'),\n",
       " UUID('69fd47ab-2bbb-47c4-b982-9105a76d7158'),\n",
       " UUID('422921a1-cc82-4dae-a25b-8b3d151a6a94'),\n",
       " UUID('4b90cfe1-e489-43bb-a8b2-3ef4f9cc34e7'),\n",
       " UUID('691e7c31-fef3-42f3-bc4e-902ab95a9641'),\n",
       " UUID('718120bb-3a58-4bdb-b564-229db0334f44'),\n",
       " UUID('3f9a0dd5-eec3-4ad0-b91d-43c3873bf3bc'),\n",
       " UUID('c3761ddd-0f0d-426c-ab77-e5044169703f'),\n",
       " UUID('feed0f1c-a9e9-4ace-8556-64c52a77f5b6'),\n",
       " UUID('a3271137-2a83-43da-875b-f36f5e1c40eb'),\n",
       " UUID('3905cd08-7431-4b45-af8f-5cf18928ce27'),\n",
       " UUID('682fa1f6-2895-4f80-94eb-2c1a625bc630'),\n",
       " UUID('8d625430-0abf-498d-a6c7-1e3b028cbf10'),\n",
       " UUID('1555968f-15cc-4c05-8ab8-bea3bc065cb5'),\n",
       " UUID('a706f553-00fe-4c1a-9306-59acc7db4863'),\n",
       " UUID('f84289ed-cea5-47e6-b5ba-5a59b302f311'),\n",
       " UUID('110af102-ba42-4f42-bd59-1711674c9443'),\n",
       " UUID('28950636-1665-4511-a9ba-1aa73728f552'),\n",
       " UUID('8eaba98f-dfa1-4a50-92b0-99c060a9ed44'),\n",
       " UUID('ec7bd55c-9ca9-4ab4-b498-6a401c703d94'),\n",
       " UUID('18870cc6-c84c-498a-aa6a-779e6179570e'),\n",
       " UUID('ef9ee729-be9f-4877-996e-c960843e5e6a'),\n",
       " UUID('668cdd95-6bde-42c6-8912-987457983316'),\n",
       " UUID('d3d5d792-8c10-4095-b3f6-ab3f8ed2f25f'),\n",
       " UUID('b0c5c32d-8cbe-4783-95ad-52c1622958ac'),\n",
       " UUID('74884ca2-a5e4-4eec-a0ae-d994cd149cf0'),\n",
       " UUID('c8ca9d8a-5485-4d5a-b407-7b5aea36e3e6'),\n",
       " UUID('8644484b-4c1c-40c2-8ab8-1ff8e91c4942'),\n",
       " UUID('f86e5b92-ba0f-44b9-b454-a49375769f7f'),\n",
       " UUID('7032b2f9-fb0d-4e80-9aad-bc4329e7e7bb'),\n",
       " UUID('e8d206b9-bd3e-4005-bc30-fbd7ceb2f75f'),\n",
       " UUID('e5abcbf7-f7f1-4ab5-8b68-bf7de01e3abb'),\n",
       " UUID('3178942a-7e42-4716-9add-5c2fd954afa3'),\n",
       " UUID('7908e376-a1b7-4846-b608-cce94a581521'),\n",
       " UUID('847bfc52-7d35-4508-9a6e-a1c1a77f9594'),\n",
       " UUID('83a258ad-572f-45e7-9ad2-7f3bb4b2ec1b'),\n",
       " UUID('79094d91-01eb-4568-a8cb-306dd12a39b1'),\n",
       " UUID('b6e98063-a812-48df-949a-566d14795fe9'),\n",
       " UUID('e68dc3ce-1243-4237-bd13-743f534449a6'),\n",
       " UUID('67143aba-b3f7-4e03-9ecf-1458b951fbdf'),\n",
       " UUID('8ee391c8-4f34-474d-8492-bcd736dcf9bb'),\n",
       " UUID('3ca6cdc2-9751-4b74-b752-337f59ab9121'),\n",
       " UUID('1150943a-e87d-4f8e-8e52-5f173dc034d5'),\n",
       " UUID('9bb23530-f4fd-483a-a40c-9741e99d48a3'),\n",
       " UUID('2b993dd1-3cf4-409b-bec5-1bc773e31b9b'),\n",
       " UUID('6712cf70-0795-4650-9474-5613b58abfe8'),\n",
       " UUID('47b667e4-efd5-4d13-abe1-57ac611fc3b0'),\n",
       " UUID('daea2a94-a6c8-4ba8-a1e1-3f58816efb75'),\n",
       " UUID('51810e58-fc28-4a33-a9c5-23db3edccc9b'),\n",
       " UUID('d425d7ab-a669-4a10-9753-1488f126f703'),\n",
       " UUID('6c1410ef-b9d5-4f1c-9d74-db8e08fc26df'),\n",
       " UUID('68eb5fcb-0ab5-49dd-b341-af2850e5a6cd'),\n",
       " UUID('363b74a0-d34d-468e-b36c-f3351249d54f'),\n",
       " UUID('302bf484-6a71-490b-82ad-540388f5627d'),\n",
       " UUID('91e24e0c-05b5-4591-bc88-ecf7c606a629'),\n",
       " UUID('0caa2dcf-72d3-4b3d-b2f6-11779323a38e'),\n",
       " UUID('f750fe91-d849-408f-9b66-12bab0de27f4'),\n",
       " UUID('f102e0df-7d7e-4df7-98f3-4e6abc9b7119'),\n",
       " UUID('dc2132f0-ab00-4464-9b05-e99b0598b077'),\n",
       " UUID('408a655f-bebd-46e3-ab13-722c251e35fb'),\n",
       " UUID('ff9b55b1-6711-46d7-9d80-fe3b5116eb7c'),\n",
       " UUID('bd98df2b-b73a-46a0-b94f-e604f322522f'),\n",
       " UUID('40886029-62dc-48c4-ae9f-346184320b01'),\n",
       " UUID('8d287b66-7981-4905-a14e-0c2f531718a7'),\n",
       " UUID('6e6073df-0861-4b77-9ece-b07015ca278a'),\n",
       " UUID('a9376fa2-6e0b-448d-b666-14bf85774039'),\n",
       " UUID('13ab06f1-ac52-4ec7-ab80-aebb935e47cc'),\n",
       " UUID('b3f18e26-b095-4dcc-9e1d-0eacbca4d714'),\n",
       " UUID('2e7066e5-700a-4da4-bb52-2ec3d716d2a0'),\n",
       " UUID('f7943ee9-3f9c-4db9-bf15-64ab1a31053f'),\n",
       " UUID('27fb902d-3f89-4e54-9991-13c11d9d5578'),\n",
       " UUID('0468920b-b23e-43dd-bd16-c011dd2adb6c'),\n",
       " UUID('a9ec5cb3-518c-4419-ac9e-6e04699bda75'),\n",
       " UUID('f20f6168-4c41-44f6-9b6b-3a4d68b94ee3'),\n",
       " UUID('f5fa9487-1458-4351-b73d-66ba6ffba56a'),\n",
       " UUID('89974031-e0d8-41cf-917b-abe5da073302'),\n",
       " UUID('dc66045e-9de2-4d51-aa7c-6b5b2ee9d19f'),\n",
       " UUID('53dba355-19f3-492e-b07e-c044a8e52700'),\n",
       " UUID('786e2efd-570c-4e05-83b5-55be88560d60'),\n",
       " UUID('6f54afe5-bf05-4d74-a8aa-d7af4ea11d2a'),\n",
       " UUID('1592ea20-001f-4c35-a9ea-58d097b5ea55'),\n",
       " UUID('dd8f2243-b037-4755-adf1-5628058d00ca'),\n",
       " UUID('c08c6907-c1c9-4f19-ba3d-f6e9797df668'),\n",
       " UUID('f004f8fa-b295-4f18-8991-eb69e68b3f70'),\n",
       " UUID('236a0fb3-c734-4ec4-9c1b-13e725f5dcd4'),\n",
       " UUID('dfaafd33-1bac-4ffb-abc8-9610b58eaaaf'),\n",
       " UUID('3e76e1a8-b811-41c8-ae38-9b5ae83b8107'),\n",
       " UUID('2e71f4fb-45d8-408d-9b42-e7508e20210c'),\n",
       " UUID('084ec567-d78c-483f-ad80-88d0ca14faa1'),\n",
       " UUID('35a2c0da-0308-46cc-aa87-22be82953462'),\n",
       " UUID('55669c87-1461-4726-815b-23d86a9a4c79'),\n",
       " UUID('f292a8c4-8aae-4809-8dae-a42cab4c3639'),\n",
       " UUID('e135e208-5d5c-440f-a8db-754b0a9b1c04')]"
      ]
     },
     "execution_count": 26,
     "metadata": {},
     "output_type": "execute_result"
    }
   ],
   "source": [
    "# прочитаем сохраненные рекомендации по ключу user_id\n",
    "# для этого сначала преобразуем user_uuid в байты, а затем байты в item_uuid\n",
    "[\n",
    "    uuid.UUID(bytes=item_id_bytes, version=4)\n",
    "    for item_id_bytes in r.lrange(user_ids_inverse_mapping[1].bytes, 0, TOP_K)\n",
    "]"
   ]
  },
  {
   "cell_type": "code",
   "execution_count": 27,
   "id": "5484b62e",
   "metadata": {},
   "outputs": [
    {
     "data": {
      "text/plain": [
       "2271040"
      ]
     },
     "execution_count": 27,
     "metadata": {},
     "output_type": "execute_result"
    }
   ],
   "source": [
    "r.info('memory')['used_memory'] - used_memory_before"
   ]
  },
  {
   "cell_type": "markdown",
   "id": "296e8b47",
   "metadata": {},
   "source": [
    "Потратили в 2 раза меньше памяти для сохранения рекомендаций 🎉🎉"
   ]
  }
 ],
 "metadata": {
  "kernelspec": {
   "display_name": "Python 3 (ipykernel)",
   "language": "python",
   "name": "python3"
  },
  "language_info": {
   "codemirror_mode": {
    "name": "ipython",
    "version": 3
   },
   "file_extension": ".py",
   "mimetype": "text/x-python",
   "name": "python",
   "nbconvert_exporter": "python",
   "pygments_lexer": "ipython3",
   "version": "3.8.10"
  }
 },
 "nbformat": 4,
 "nbformat_minor": 5
}
